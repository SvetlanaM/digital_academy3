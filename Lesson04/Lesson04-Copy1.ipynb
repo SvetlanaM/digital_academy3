{
 "cells": [
  {
   "cell_type": "markdown",
   "metadata": {},
   "source": [
    "<h2>Vizualizácie dát v Pythone</h2>\n",
    "\n",
    "<p>Jedným z krokov v oblasti dátovej analýzy je vizualizácia dát. Dá sa povedať, jedna z najdôležitešjích častí, kedy je možné výsledky našej práce prezentovať a zistiť v dátach súvislosti a chyby ľahšie, rýchlejšie a zrozumitelnejšie.</p>\n",
    "\n",
    "<p>V Pythone je možné dáta vizualizovať pomocou viacerých knižníc. Najvyužívanejšie sú:</p>\n",
    "<ul>\n",
    "    <li><a href=\"https://matplotlib.org/\">Matplotlib</a></li>\n",
    "    <li><a href=\"https://bokeh.pydata.org/en/latest/\">Bokeh</a></li>\n",
    "    <li><a href=\"https://seaborn.pydata.org/\">Seaborn</a></li>\n",
    "</ul>\n",
    "\n",
    "<p>Všetky vyššie uvedené knižnice majú detailne popísanú dokumentáciu, mnoho príkladov a ukážok práce s nimi, podporujú 3D vizaulizácie. </p>"
   ]
  },
  {
   "cell_type": "markdown",
   "metadata": {},
   "source": [
    "<img src=\"https://cdn-images-1.medium.com/max/1600/1*nN5-hITqzDlhelSJ2W9x5g.gif\" />"
   ]
  },
  {
   "cell_type": "markdown",
   "metadata": {},
   "source": [
    "<img src=\"https://cdn-images-1.medium.com/max/1600/1*6Jht1TYTXk_uTc5ShW8pXw.gif\" />"
   ]
  },
  {
   "cell_type": "markdown",
   "metadata": {},
   "source": [
    "<img src=\"https://raw.githubusercontent.com/cldougl/plot_images/add_r_img/anim.gif\" />"
   ]
  },
  {
   "cell_type": "markdown",
   "metadata": {},
   "source": [
    "<img src=\"http://www.cs171.org/2016/assets/material/lab7/cs171-choropleth-2.gif?raw=true\" />"
   ]
  },
  {
   "cell_type": "code",
   "execution_count": null,
   "metadata": {},
   "outputs": [],
   "source": []
  },
  {
   "cell_type": "code",
   "execution_count": null,
   "metadata": {},
   "outputs": [],
   "source": []
  },
  {
   "cell_type": "code",
   "execution_count": null,
   "metadata": {},
   "outputs": [],
   "source": []
  },
  {
   "cell_type": "markdown",
   "metadata": {},
   "source": [
    "<h2>Vizualizácie v Matplotlibe</h2>\n",
    "\n",
    "<p><code>Matplotlib</code> je vizualizačná knižnica. Je podporovaná všetkými operačnými systémami a umožňuje nám vygenerovať výstupy v rôznych formátoch.</p>"
   ]
  },
  {
   "cell_type": "code",
   "execution_count": null,
   "metadata": {},
   "outputs": [],
   "source": []
  },
  {
   "cell_type": "markdown",
   "metadata": {},
   "source": [
    "<p>Nastavenie štýlu pre grafy. Je možné vybrať si buď z defaultných štýlov, alebo si naprogramovať vlastný - https://matplotlib.org/gallery/style_sheets/style_sheets_reference.html</p>"
   ]
  },
  {
   "cell_type": "code",
   "execution_count": null,
   "metadata": {},
   "outputs": [],
   "source": []
  },
  {
   "cell_type": "code",
   "execution_count": null,
   "metadata": {},
   "outputs": [],
   "source": []
  },
  {
   "cell_type": "markdown",
   "metadata": {},
   "source": [
    "<h2>Vykreslovanie grafov</h2>\n",
    "\n",
    "<p>Grafy je možné vykreslovať viacerými spôsobmi. Ak nepoužívame jupyter notebook, je možné využívať príkaz <code>show()</code>, ktorý sa o vykreslenie grafu postará. Ak však pracujeme v jupyter notebooku, môžeme pomocou príkazu nižšie vykresliť grafy priamo v notebooku.</p>"
   ]
  },
  {
   "cell_type": "code",
   "execution_count": null,
   "metadata": {},
   "outputs": [],
   "source": []
  },
  {
   "cell_type": "code",
   "execution_count": null,
   "metadata": {},
   "outputs": [],
   "source": []
  },
  {
   "cell_type": "code",
   "execution_count": null,
   "metadata": {},
   "outputs": [],
   "source": []
  },
  {
   "cell_type": "code",
   "execution_count": null,
   "metadata": {},
   "outputs": [],
   "source": []
  },
  {
   "cell_type": "code",
   "execution_count": null,
   "metadata": {},
   "outputs": [],
   "source": []
  },
  {
   "cell_type": "code",
   "execution_count": null,
   "metadata": {},
   "outputs": [],
   "source": []
  },
  {
   "cell_type": "code",
   "execution_count": null,
   "metadata": {},
   "outputs": [],
   "source": []
  },
  {
   "cell_type": "markdown",
   "metadata": {},
   "source": [
    "<h2>Úloha</h2>\n",
    "\n",
    "<ul>\n",
    "    <li>Do premennej <b>cancelled</b> uložte všetky dáta z dátového setu <b>providersDf</b>, ktoré sú v stave <b>Stornováno</b></li>\n",
    "    <li>Do premennej <b>cancelled_count</b> zrátajte počet výskytov daného providera v sete <b>cancelled</b> cez <code>groupby</code></li>\n",
    "</ul>"
   ]
  },
  {
   "cell_type": "code",
   "execution_count": null,
   "metadata": {},
   "outputs": [],
   "source": []
  },
  {
   "cell_type": "code",
   "execution_count": null,
   "metadata": {},
   "outputs": [],
   "source": []
  },
  {
   "cell_type": "code",
   "execution_count": null,
   "metadata": {},
   "outputs": [],
   "source": []
  },
  {
   "cell_type": "code",
   "execution_count": null,
   "metadata": {},
   "outputs": [],
   "source": []
  },
  {
   "cell_type": "code",
   "execution_count": null,
   "metadata": {},
   "outputs": [],
   "source": []
  },
  {
   "cell_type": "code",
   "execution_count": null,
   "metadata": {},
   "outputs": [],
   "source": []
  },
  {
   "cell_type": "code",
   "execution_count": null,
   "metadata": {},
   "outputs": [],
   "source": []
  },
  {
   "cell_type": "code",
   "execution_count": null,
   "metadata": {},
   "outputs": [],
   "source": []
  },
  {
   "cell_type": "code",
   "execution_count": null,
   "metadata": {},
   "outputs": [],
   "source": []
  },
  {
   "cell_type": "code",
   "execution_count": null,
   "metadata": {},
   "outputs": [],
   "source": []
  },
  {
   "cell_type": "markdown",
   "metadata": {},
   "source": [
    "<h2>Farba a štýly</h2>\n",
    "\n",
    "<p>Grafy si môžeme upraviť podľa toho, ako nám vyhovuje. Ak chceme definovať farbu používame atribút <code>color</code>. Farbu je možné definovať viacerými spôsobmi:</p>\n",
    "<ul>  \n",
    "    <li>plt.plot(color='blue') - meno farby</li>\n",
    "    <li>plt.plot(color='#FFDD44') - hex kod</li>\n",
    "    <li>plt.plot(color=(1.0,0.2,0.3)) - rgb kod</li>\n",
    "    <li>plt.plot(color='chartreuse') - <a href=\"https://www.w3schools.com/colors/colors_names.asp\">HTML nazov farby</a></li>\n",
    "</ul>\n",
    "\n",
    "<p>Taktiež si môžeme vybrať štýl čiary pomocou atribútu <code>linestyle</code> a je možné si vybrať z viacerých možností:</p>\n",
    "<ul> \n",
    "    <li>plt.plot(linestyle='solid')</li>\n",
    "    <li>plt.plot(linestyle='dashed')</li>\n",
    "    <li>plt.plot(linestyle='dashdot')</li>\n",
    "    <li>plt.plot(linestyle='dotted')</li>\n",
    "</ul>"
   ]
  },
  {
   "cell_type": "code",
   "execution_count": null,
   "metadata": {},
   "outputs": [],
   "source": []
  },
  {
   "cell_type": "code",
   "execution_count": null,
   "metadata": {},
   "outputs": [],
   "source": []
  },
  {
   "cell_type": "markdown",
   "metadata": {},
   "source": [
    "<h2>Nastavenie osí</h2>\n",
    "\n",
    "<p>Osi x a y je možné nastaviť pomocou <code>axis()</code>. Táto metóda nám umožňuje definovať limity pre x a y osi, alebo nastaviť správanie automaticky.</p>"
   ]
  },
  {
   "cell_type": "code",
   "execution_count": null,
   "metadata": {},
   "outputs": [],
   "source": []
  },
  {
   "cell_type": "code",
   "execution_count": null,
   "metadata": {},
   "outputs": [],
   "source": []
  },
  {
   "cell_type": "code",
   "execution_count": null,
   "metadata": {},
   "outputs": [],
   "source": []
  },
  {
   "cell_type": "markdown",
   "metadata": {},
   "source": [
    "<h2>Popisky ku grafom</h2>\n",
    "\n",
    "<p>Rovnako ako graf , alebo aj viac dôležité sú popisky ako <b>názov grafu</b>, <b>označenie osí</b> a <b>legendy</b>. V Matplotlibe je možné nastaviť:</p>\n",
    "\n",
    "<ul>\n",
    "    <li>názov grafu pomocou title - <code>plt.title(\"Moj graf\")</code></li>\n",
    "    <li>názov x osi pomocou xlabel - <code>plt.xlabel(\"X os\")</code></li>\n",
    "    <li>názov z osi pomocou ylabel - <code>plt.ylabel(\"Y os\")</code></li>\n",
    "    <li>legenda pomocou <code>plt.legend()</code></li>\n",
    "    <li>súradnice osi x pomocou <code>plt.xlim(0,10)</code></li>\n",
    "    <li>súradnice osi y pomocou <code>plt.ylim(1,10)</code></li>\n",
    "</ul>"
   ]
  },
  {
   "cell_type": "code",
   "execution_count": null,
   "metadata": {},
   "outputs": [],
   "source": []
  },
  {
   "cell_type": "markdown",
   "metadata": {},
   "source": [
    "<h2>Úprava legendy grafu</h2>\n",
    "\n",
    "<p>V <code>Matplotlibe</code> je veľa možností, akými môžeme upraviť legendu.</p>\n",
    "\n",
    "<ul>\n",
    "    <li><code>plt.legend(loc='upper left')</code> - poloha legendy</li>\n",
    "    <li><code>plt.legend(ncol=2)</code> - počet stĺpcov legendy</li>\n",
    "    <li><code>plt.legend(fancybox=True, framealpha=1, shadow=True, borderpad=1)</code> - nastavenie zaoblenia, transparentného režimu a paddingu okolo textu</li>\n",
    "    <li><code>plt.legend(lines[:2], ['first', 'second'])</code> - definovanie iba vybraných prvkov tvoriacich legendu</li>\n",
    "</ul>"
   ]
  },
  {
   "cell_type": "code",
   "execution_count": null,
   "metadata": {},
   "outputs": [],
   "source": []
  },
  {
   "cell_type": "code",
   "execution_count": null,
   "metadata": {},
   "outputs": [],
   "source": []
  },
  {
   "cell_type": "markdown",
   "metadata": {},
   "source": [
    "<h2>Vlastné štýly</h2>\n",
    "\n",
    "<p>Vytvorenie sivého pozadia</p>\n",
    "<code>ax = plt.axes(facecolor='#E6E6E6')<br />\n",
    "ax.set_axisbelow(True)</code>\n",
    "\n",
    "<p>Biele celé čiary grafu</p><br />\n",
    "<code>plt.grid(color='w', linestyle='solid')</code>\n",
    "\n",
    "<p>Skrytie vrchných a pravých labelov</p>\n",
    "<code>ax.xaxis.tick_bottom()</code><br />\n",
    "<code>ax.yaxis.tick_left()</code>"
   ]
  },
  {
   "cell_type": "code",
   "execution_count": null,
   "metadata": {},
   "outputs": [],
   "source": []
  },
  {
   "cell_type": "code",
   "execution_count": null,
   "metadata": {},
   "outputs": [],
   "source": []
  },
  {
   "cell_type": "code",
   "execution_count": null,
   "metadata": {},
   "outputs": [],
   "source": []
  },
  {
   "cell_type": "code",
   "execution_count": null,
   "metadata": {},
   "outputs": [],
   "source": []
  },
  {
   "cell_type": "code",
   "execution_count": null,
   "metadata": {},
   "outputs": [],
   "source": []
  },
  {
   "cell_type": "code",
   "execution_count": null,
   "metadata": {},
   "outputs": [],
   "source": []
  },
  {
   "cell_type": "code",
   "execution_count": null,
   "metadata": {},
   "outputs": [],
   "source": []
  },
  {
   "cell_type": "markdown",
   "metadata": {},
   "source": [
    "<h2>Úlohy</h2>\n",
    "\n",
    "<ul>\n",
    "    <li>Skúste v grafe vyššie zmeniť area na line a vykreslite výsledok</li>\n",
    "    <li>Skúste v grafe vyššie zmeniť area na bar a vykreslite výsledok</li>\n",
    "    <li>Skúste v kóde prepísať W na D a zobrate si výsledok <br />\n",
    "        <code>cx = delivered2.groupby([pd.Grouper(key='date', freq='W'), 'provider'])\n",
    "              group1 = cx.size().unstack('provider', fill_value=0)\n",
    "              group1.head()</code></li>\n",
    "</ul>"
   ]
  },
  {
   "cell_type": "code",
   "execution_count": null,
   "metadata": {},
   "outputs": [],
   "source": []
  },
  {
   "cell_type": "code",
   "execution_count": null,
   "metadata": {},
   "outputs": [],
   "source": []
  },
  {
   "cell_type": "code",
   "execution_count": null,
   "metadata": {},
   "outputs": [],
   "source": []
  },
  {
   "cell_type": "code",
   "execution_count": null,
   "metadata": {},
   "outputs": [],
   "source": []
  },
  {
   "cell_type": "code",
   "execution_count": null,
   "metadata": {},
   "outputs": [],
   "source": []
  },
  {
   "cell_type": "code",
   "execution_count": null,
   "metadata": {},
   "outputs": [],
   "source": []
  },
  {
   "cell_type": "code",
   "execution_count": null,
   "metadata": {},
   "outputs": [],
   "source": []
  },
  {
   "cell_type": "markdown",
   "metadata": {},
   "source": [
    "<h2>Úloha</h2>\n",
    "\n",
    "<ul>\n",
    "    <li>Z dátového setu <b>providersDf</b> vytvorte boxplot v dňoch podľa mapped_status hodnôt. Rátajte iba s hodnotami Doručeno, Stornováno a Nezadane.</li>\n",
    "        </ul>"
   ]
  },
  {
   "cell_type": "code",
   "execution_count": null,
   "metadata": {},
   "outputs": [],
   "source": []
  },
  {
   "cell_type": "code",
   "execution_count": null,
   "metadata": {},
   "outputs": [],
   "source": []
  }
 ],
 "metadata": {
  "kernelspec": {
   "display_name": "Python 3",
   "language": "python",
   "name": "python3"
  },
  "language_info": {
   "codemirror_mode": {
    "name": "ipython",
    "version": 3
   },
   "file_extension": ".py",
   "mimetype": "text/x-python",
   "name": "python",
   "nbconvert_exporter": "python",
   "pygments_lexer": "ipython3",
   "version": "3.6.0"
  }
 },
 "nbformat": 4,
 "nbformat_minor": 2
}
