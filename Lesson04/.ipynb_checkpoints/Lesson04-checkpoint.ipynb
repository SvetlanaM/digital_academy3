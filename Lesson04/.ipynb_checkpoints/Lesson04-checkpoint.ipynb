{
 "cells": [
  {
   "cell_type": "markdown",
   "metadata": {},
   "source": [
    "<h2>Vizualizácie dát v Pythone</h2>\n",
    "\n",
    "<p>Jedným z krokov v oblasti dátovej analýzy je vizualizácia dát. Dá sa povedať, jedna z najdôležitešjích častí, kedy je možné výsledky našej práce prezentovať a zistiť v dátach súvislosti a chyby ľahšie, rýchlejšie a zrozumitelnejšie.</p>\n",
    "\n",
    "<p>V Pythone je možné dáta vizualizovať pomocou viacerých knižníc. Najvyužívanejšie sú:</p>\n",
    "<ul>\n",
    "    <li><a href=\"https://matplotlib.org/\">Matplotlib</a></li>\n",
    "    <li><a href=\"https://bokeh.pydata.org/en/latest/\">Bokeh</a></li>\n",
    "    <li><a href=\"https://seaborn.pydata.org/\">Seaborn</a></li>\n",
    "</ul>\n",
    "\n",
    "<p>Všetky vyššie uvedené knižnice majú detailne popísanú dokumentáciu, mnoho príkladov a ukážok práce s nimi, podporujú 3D vizaulizácie. </p>"
   ]
  },
  {
   "cell_type": "markdown",
   "metadata": {},
   "source": [
    "<img src=\"https://cdn-images-1.medium.com/max/1600/1*nN5-hITqzDlhelSJ2W9x5g.gif\" />"
   ]
  },
  {
   "cell_type": "markdown",
   "metadata": {},
   "source": [
    "<img src=\"https://cdn-images-1.medium.com/max/1600/1*6Jht1TYTXk_uTc5ShW8pXw.gif\" />"
   ]
  },
  {
   "cell_type": "markdown",
   "metadata": {},
   "source": [
    "<img src=\"https://raw.githubusercontent.com/cldougl/plot_images/add_r_img/anim.gif\" />"
   ]
  },
  {
   "cell_type": "markdown",
   "metadata": {},
   "source": [
    "<img src=\"http://www.cs171.org/2016/assets/material/lab7/cs171-choropleth-2.gif?raw=true\" />"
   ]
  },
  {
   "cell_type": "code",
   "execution_count": 3,
   "metadata": {},
   "outputs": [],
   "source": [
    "import pandas as pd\n",
    "import numpy as np"
   ]
  },
  {
   "cell_type": "code",
   "execution_count": 4,
   "metadata": {},
   "outputs": [],
   "source": [
    "providersDf = pd.read_csv('../csv/providers_update.csv', encoding='utf-8')"
   ]
  },
  {
   "cell_type": "code",
   "execution_count": 5,
   "metadata": {},
   "outputs": [
    {
     "data": {
      "text/html": [
       "<div>\n",
       "<style scoped>\n",
       "    .dataframe tbody tr th:only-of-type {\n",
       "        vertical-align: middle;\n",
       "    }\n",
       "\n",
       "    .dataframe tbody tr th {\n",
       "        vertical-align: top;\n",
       "    }\n",
       "\n",
       "    .dataframe thead th {\n",
       "        text-align: right;\n",
       "    }\n",
       "</style>\n",
       "<table border=\"1\" class=\"dataframe\">\n",
       "  <thead>\n",
       "    <tr style=\"text-align: right;\">\n",
       "      <th></th>\n",
       "      <th>tracking_id</th>\n",
       "      <th>date</th>\n",
       "      <th>status</th>\n",
       "      <th>mapped_status</th>\n",
       "      <th>provider</th>\n",
       "      <th>day</th>\n",
       "      <th>month</th>\n",
       "      <th>delivery_d1</th>\n",
       "      <th>status_length</th>\n",
       "    </tr>\n",
       "  </thead>\n",
       "  <tbody>\n",
       "    <tr>\n",
       "      <th>0</th>\n",
       "      <td>1882077</td>\n",
       "      <td>2018-04-30 07:14:00</td>\n",
       "      <td>Řádně podaná zásilka - do rozhodné doby</td>\n",
       "      <td>Převzato dopravcem</td>\n",
       "      <td>ČESKÁ POŠTA</td>\n",
       "      <td>30</td>\n",
       "      <td>4</td>\n",
       "      <td>2018-05-01 07:14:00</td>\n",
       "      <td>39</td>\n",
       "    </tr>\n",
       "    <tr>\n",
       "      <th>1</th>\n",
       "      <td>1882076</td>\n",
       "      <td>2018-04-30 06:52:00</td>\n",
       "      <td>Pořízeno na pochůzku</td>\n",
       "      <td>Na cestě k příjemci</td>\n",
       "      <td>ČESKÁ POŠTA</td>\n",
       "      <td>30</td>\n",
       "      <td>4</td>\n",
       "      <td>2018-05-01 06:52:00</td>\n",
       "      <td>20</td>\n",
       "    </tr>\n",
       "    <tr>\n",
       "      <th>2</th>\n",
       "      <td>1882075</td>\n",
       "      <td>2018-04-30 06:52:00</td>\n",
       "      <td>Uloženo na poště</td>\n",
       "      <td>Na cestě k příjemci</td>\n",
       "      <td>ČESKÁ POŠTA</td>\n",
       "      <td>30</td>\n",
       "      <td>4</td>\n",
       "      <td>2018-05-01 06:52:00</td>\n",
       "      <td>16</td>\n",
       "    </tr>\n",
       "    <tr>\n",
       "      <th>3</th>\n",
       "      <td>1882075</td>\n",
       "      <td>2018-04-30 06:58:00</td>\n",
       "      <td>Uloženo na poště</td>\n",
       "      <td>Na cestě k příjemci</td>\n",
       "      <td>ČESKÁ POŠTA</td>\n",
       "      <td>30</td>\n",
       "      <td>4</td>\n",
       "      <td>2018-05-01 06:58:00</td>\n",
       "      <td>16</td>\n",
       "    </tr>\n",
       "    <tr>\n",
       "      <th>4</th>\n",
       "      <td>1882075</td>\n",
       "      <td>2018-04-30 07:14:00</td>\n",
       "      <td>Řádně podaná zásilka - do rozhodné doby</td>\n",
       "      <td>Převzato dopravcem</td>\n",
       "      <td>ČESKÁ POŠTA</td>\n",
       "      <td>30</td>\n",
       "      <td>4</td>\n",
       "      <td>2018-05-01 07:14:00</td>\n",
       "      <td>39</td>\n",
       "    </tr>\n",
       "  </tbody>\n",
       "</table>\n",
       "</div>"
      ],
      "text/plain": [
       "   tracking_id                 date                                   status  \\\n",
       "0      1882077  2018-04-30 07:14:00  Řádně podaná zásilka - do rozhodné doby   \n",
       "1      1882076  2018-04-30 06:52:00                     Pořízeno na pochůzku   \n",
       "2      1882075  2018-04-30 06:52:00                         Uloženo na poště   \n",
       "3      1882075  2018-04-30 06:58:00                         Uloženo na poště   \n",
       "4      1882075  2018-04-30 07:14:00  Řádně podaná zásilka - do rozhodné doby   \n",
       "\n",
       "         mapped_status     provider  day  month          delivery_d1  \\\n",
       "0   Převzato dopravcem  ČESKÁ POŠTA   30      4  2018-05-01 07:14:00   \n",
       "1  Na cestě k příjemci  ČESKÁ POŠTA   30      4  2018-05-01 06:52:00   \n",
       "2  Na cestě k příjemci  ČESKÁ POŠTA   30      4  2018-05-01 06:52:00   \n",
       "3  Na cestě k příjemci  ČESKÁ POŠTA   30      4  2018-05-01 06:58:00   \n",
       "4   Převzato dopravcem  ČESKÁ POŠTA   30      4  2018-05-01 07:14:00   \n",
       "\n",
       "   status_length  \n",
       "0             39  \n",
       "1             20  \n",
       "2             16  \n",
       "3             16  \n",
       "4             39  "
      ]
     },
     "execution_count": 5,
     "metadata": {},
     "output_type": "execute_result"
    }
   ],
   "source": [
    "providersDf.head()"
   ]
  },
  {
   "cell_type": "markdown",
   "metadata": {},
   "source": [
    "<h2>Vizualizácie v Matplotlibe</h2>\n",
    "\n",
    "<p><code>Matplotlib</code> je vizualizačná knižnica. Je podporovaná všetkými operačnými systémami a umožňuje nám vygenerovať výstupy v rôznych formátoch.</p>"
   ]
  },
  {
   "cell_type": "code",
   "execution_count": 6,
   "metadata": {},
   "outputs": [],
   "source": [
    "import matplotlib as mpl\n",
    "import matplotlib.pyplot as plt\n",
    "import matplotlib.cm as cm"
   ]
  },
  {
   "cell_type": "markdown",
   "metadata": {},
   "source": [
    "<p>Nastavenie štýlu pre grafy. Je možné vybrať si buď z defaultných štýlov, alebo si naprogramovať vlastný - https://matplotlib.org/gallery/style_sheets/style_sheets_reference.html</p>"
   ]
  },
  {
   "cell_type": "code",
   "execution_count": 7,
   "metadata": {},
   "outputs": [
    {
     "data": {
      "text/plain": [
       "['_classic_test',\n",
       " 'bmh',\n",
       " 'classic',\n",
       " 'dark_background',\n",
       " 'fast',\n",
       " 'fivethirtyeight',\n",
       " 'ggplot',\n",
       " 'grayscale',\n",
       " 'seaborn-bright',\n",
       " 'seaborn-colorblind',\n",
       " 'seaborn-dark-palette',\n",
       " 'seaborn-dark',\n",
       " 'seaborn-darkgrid',\n",
       " 'seaborn-deep',\n",
       " 'seaborn-muted',\n",
       " 'seaborn-notebook',\n",
       " 'seaborn-paper',\n",
       " 'seaborn-pastel',\n",
       " 'seaborn-poster',\n",
       " 'seaborn-talk',\n",
       " 'seaborn-ticks',\n",
       " 'seaborn-white',\n",
       " 'seaborn-whitegrid',\n",
       " 'seaborn',\n",
       " 'Solarize_Light2']"
      ]
     },
     "execution_count": 7,
     "metadata": {},
     "output_type": "execute_result"
    }
   ],
   "source": [
    "plt.style.available"
   ]
  },
  {
   "cell_type": "code",
   "execution_count": 8,
   "metadata": {},
   "outputs": [],
   "source": [
    "plt.style.use('seaborn-dark-palette')"
   ]
  },
  {
   "cell_type": "markdown",
   "metadata": {},
   "source": [
    "<h2>Vykreslovanie grafov</h2>\n",
    "\n",
    "<p>Grafy je možné vykreslovať viacerými spôsobmi. Ak nepoužívame jupyter notebook, je možné využívať príkaz <code>show()</code>, ktorý sa o vykreslenie grafu postará. Ak však pracujeme v jupyter notebooku, môžeme pomocou príkazu nižšie vykresliť grafy priamo v notebooku.</p>"
   ]
  },
  {
   "cell_type": "code",
   "execution_count": 9,
   "metadata": {},
   "outputs": [],
   "source": [
    "%matplotlib inline"
   ]
  },
  {
   "cell_type": "code",
   "execution_count": 10,
   "metadata": {},
   "outputs": [
    {
     "data": {
      "text/html": [
       "<div>\n",
       "<style scoped>\n",
       "    .dataframe tbody tr th:only-of-type {\n",
       "        vertical-align: middle;\n",
       "    }\n",
       "\n",
       "    .dataframe tbody tr th {\n",
       "        vertical-align: top;\n",
       "    }\n",
       "\n",
       "    .dataframe thead th {\n",
       "        text-align: right;\n",
       "    }\n",
       "</style>\n",
       "<table border=\"1\" class=\"dataframe\">\n",
       "  <thead>\n",
       "    <tr style=\"text-align: right;\">\n",
       "      <th></th>\n",
       "      <th>tracking_id</th>\n",
       "      <th>date</th>\n",
       "      <th>status</th>\n",
       "      <th>mapped_status</th>\n",
       "      <th>provider</th>\n",
       "      <th>day</th>\n",
       "      <th>month</th>\n",
       "      <th>delivery_d1</th>\n",
       "      <th>status_length</th>\n",
       "    </tr>\n",
       "  </thead>\n",
       "  <tbody>\n",
       "    <tr>\n",
       "      <th>14</th>\n",
       "      <td>1882069</td>\n",
       "      <td>2018-04-30 10:32:00</td>\n",
       "      <td>Doručena</td>\n",
       "      <td>Doručeno</td>\n",
       "      <td>ČESKÁ POŠTA</td>\n",
       "      <td>30</td>\n",
       "      <td>4</td>\n",
       "      <td>2018-05-01 10:32:00</td>\n",
       "      <td>8</td>\n",
       "    </tr>\n",
       "    <tr>\n",
       "      <th>27</th>\n",
       "      <td>1882062</td>\n",
       "      <td>2018-04-30 10:41:00</td>\n",
       "      <td>Doručena</td>\n",
       "      <td>Doručeno</td>\n",
       "      <td>ČESKÁ POŠTA</td>\n",
       "      <td>30</td>\n",
       "      <td>4</td>\n",
       "      <td>2018-05-01 10:41:00</td>\n",
       "      <td>8</td>\n",
       "    </tr>\n",
       "    <tr>\n",
       "      <th>68</th>\n",
       "      <td>1881635</td>\n",
       "      <td>2018-04-30 10:07:00</td>\n",
       "      <td>Doručena</td>\n",
       "      <td>Doručeno</td>\n",
       "      <td>ČESKÁ POŠTA</td>\n",
       "      <td>30</td>\n",
       "      <td>4</td>\n",
       "      <td>2018-05-01 10:07:00</td>\n",
       "      <td>8</td>\n",
       "    </tr>\n",
       "    <tr>\n",
       "      <th>81</th>\n",
       "      <td>1881631</td>\n",
       "      <td>2018-04-30 11:22:00</td>\n",
       "      <td>Doručena</td>\n",
       "      <td>Doručeno</td>\n",
       "      <td>ČESKÁ POŠTA</td>\n",
       "      <td>30</td>\n",
       "      <td>4</td>\n",
       "      <td>2018-05-01 11:22:00</td>\n",
       "      <td>8</td>\n",
       "    </tr>\n",
       "    <tr>\n",
       "      <th>1128</th>\n",
       "      <td>1877604</td>\n",
       "      <td>2018-04-30 09:10:00</td>\n",
       "      <td>Doručena</td>\n",
       "      <td>Doručeno</td>\n",
       "      <td>ČESKÁ POŠTA</td>\n",
       "      <td>30</td>\n",
       "      <td>4</td>\n",
       "      <td>2018-05-01 09:10:00</td>\n",
       "      <td>8</td>\n",
       "    </tr>\n",
       "  </tbody>\n",
       "</table>\n",
       "</div>"
      ],
      "text/plain": [
       "      tracking_id                 date    status mapped_status     provider  \\\n",
       "14        1882069  2018-04-30 10:32:00  Doručena      Doručeno  ČESKÁ POŠTA   \n",
       "27        1882062  2018-04-30 10:41:00  Doručena      Doručeno  ČESKÁ POŠTA   \n",
       "68        1881635  2018-04-30 10:07:00  Doručena      Doručeno  ČESKÁ POŠTA   \n",
       "81        1881631  2018-04-30 11:22:00  Doručena      Doručeno  ČESKÁ POŠTA   \n",
       "1128      1877604  2018-04-30 09:10:00  Doručena      Doručeno  ČESKÁ POŠTA   \n",
       "\n",
       "      day  month          delivery_d1  status_length  \n",
       "14     30      4  2018-05-01 10:32:00              8  \n",
       "27     30      4  2018-05-01 10:41:00              8  \n",
       "68     30      4  2018-05-01 10:07:00              8  \n",
       "81     30      4  2018-05-01 11:22:00              8  \n",
       "1128   30      4  2018-05-01 09:10:00              8  "
      ]
     },
     "execution_count": 10,
     "metadata": {},
     "output_type": "execute_result"
    }
   ],
   "source": [
    "\"\"\"\n",
    "Iba doručené zásielky\n",
    "\"\"\"\n",
    "delivered = providersDf[providersDf[\"mapped_status\"] == \"Doručeno\"]\n",
    "delivered.head()"
   ]
  },
  {
   "cell_type": "code",
   "execution_count": 11,
   "metadata": {},
   "outputs": [
    {
     "data": {
      "text/plain": [
       "(139821, 9)"
      ]
     },
     "execution_count": 11,
     "metadata": {},
     "output_type": "execute_result"
    }
   ],
   "source": [
    "delivered.shape"
   ]
  },
  {
   "cell_type": "code",
   "execution_count": 12,
   "metadata": {},
   "outputs": [],
   "source": [
    "most_common_provider = delivered[\"provider\"].groupby([delivered[\"provider\"]]).count().sort_values(ascending=False) "
   ]
  },
  {
   "cell_type": "code",
   "execution_count": 13,
   "metadata": {},
   "outputs": [
    {
     "data": {
      "text/plain": [
       "provider\n",
       "PPL            104144\n",
       "ČESKÁ POŠTA     30583\n",
       "GEIS             5094\n",
       "Name: provider, dtype: int64"
      ]
     },
     "execution_count": 13,
     "metadata": {},
     "output_type": "execute_result"
    }
   ],
   "source": [
    "most_common_provider"
   ]
  },
  {
   "cell_type": "code",
   "execution_count": 14,
   "metadata": {},
   "outputs": [],
   "source": [
    "\"\"\"\n",
    "https://matplotlib.org/users/colormaps.html\n",
    "\"\"\"\n",
    "type_colors = cm.summer(np.linspace(1, 0, len(most_common_provider)))"
   ]
  },
  {
   "cell_type": "code",
   "execution_count": 15,
   "metadata": {},
   "outputs": [
    {
     "data": {
      "image/png": "[encoded data removed]",
      "text/plain": [
       "<matplotlib.figure.Figure at 0x116677438>"
      ]
     },
     "metadata": {},
     "output_type": "display_data"
    }
   ],
   "source": [
    "ax = most_common_provider.plot.bar(color=type_colors, title='Most common providers', figsize=(10,5), edgecolor = \"none\")\n",
    "ax.legend()\n",
    "for p in ax.patches:\n",
    "    ax.annotate(str(p.get_height()), (p.get_x(), p.get_height()+2500))"
   ]
  },
  {
   "cell_type": "markdown",
   "metadata": {},
   "source": [
    "<h2>Úloha</h2>\n",
    "\n",
    "<ul>\n",
    "    <li>Do premennej <b>cancelled</b> uložte všetky dáta z dátového setu <b>providersDf</b>, ktoré sú v stave <b>Stornováno</b></li>\n",
    "    <li>Do premennej <b>cancelled_count</b> zrátajte počet výskytov daného providera v sete <b>cancelled</b> cez <code>groupby</code></li>\n",
    "</ul>"
   ]
  },
  {
   "cell_type": "code",
   "execution_count": 16,
   "metadata": {},
   "outputs": [],
   "source": [
    "cancelled = providersDf[providersDf[\"mapped_status\"] == \"Stornováno\"] "
   ]
  },
  {
   "cell_type": "code",
   "execution_count": 17,
   "metadata": {},
   "outputs": [],
   "source": [
    "cancelled_count = cancelled[\"provider\"].groupby([cancelled[\"provider\"]]).count()"
   ]
  },
  {
   "cell_type": "code",
   "execution_count": 18,
   "metadata": {},
   "outputs": [
    {
     "data": {
      "text/plain": [
       "provider\n",
       "GEIS            199\n",
       "PPL            2945\n",
       "ČESKÁ POŠTA    2113\n",
       "Name: provider, dtype: int64"
      ]
     },
     "execution_count": 18,
     "metadata": {},
     "output_type": "execute_result"
    }
   ],
   "source": [
    "cancelled_count"
   ]
  },
  {
   "cell_type": "code",
   "execution_count": 19,
   "metadata": {},
   "outputs": [
    {
     "data": {
      "text/plain": [
       "pandas.core.series.Series"
      ]
     },
     "execution_count": 19,
     "metadata": {},
     "output_type": "execute_result"
    }
   ],
   "source": [
    "type(cancelled_count)"
   ]
  },
  {
   "cell_type": "code",
   "execution_count": 20,
   "metadata": {},
   "outputs": [],
   "source": [
    "cancelled_count = cancelled_count.to_frame()"
   ]
  },
  {
   "cell_type": "code",
   "execution_count": 21,
   "metadata": {},
   "outputs": [
    {
     "data": {
      "text/plain": [
       "pandas.core.frame.DataFrame"
      ]
     },
     "execution_count": 21,
     "metadata": {},
     "output_type": "execute_result"
    }
   ],
   "source": [
    "type(cancelled_count)"
   ]
  },
  {
   "cell_type": "code",
   "execution_count": 22,
   "metadata": {},
   "outputs": [
    {
     "data": {
      "text/html": [
       "<div>\n",
       "<style scoped>\n",
       "    .dataframe tbody tr th:only-of-type {\n",
       "        vertical-align: middle;\n",
       "    }\n",
       "\n",
       "    .dataframe tbody tr th {\n",
       "        vertical-align: top;\n",
       "    }\n",
       "\n",
       "    .dataframe thead th {\n",
       "        text-align: right;\n",
       "    }\n",
       "</style>\n",
       "<table border=\"1\" class=\"dataframe\">\n",
       "  <thead>\n",
       "    <tr style=\"text-align: right;\">\n",
       "      <th></th>\n",
       "      <th>provider</th>\n",
       "    </tr>\n",
       "    <tr>\n",
       "      <th>provider</th>\n",
       "      <th></th>\n",
       "    </tr>\n",
       "  </thead>\n",
       "  <tbody>\n",
       "    <tr>\n",
       "      <th>GEIS</th>\n",
       "      <td>199</td>\n",
       "    </tr>\n",
       "    <tr>\n",
       "      <th>PPL</th>\n",
       "      <td>2945</td>\n",
       "    </tr>\n",
       "    <tr>\n",
       "      <th>ČESKÁ POŠTA</th>\n",
       "      <td>2113</td>\n",
       "    </tr>\n",
       "  </tbody>\n",
       "</table>\n",
       "</div>"
      ],
      "text/plain": [
       "             provider\n",
       "provider             \n",
       "GEIS              199\n",
       "PPL              2945\n",
       "ČESKÁ POŠTA      2113"
      ]
     },
     "execution_count": 22,
     "metadata": {},
     "output_type": "execute_result"
    }
   ],
   "source": [
    "cancelled_count"
   ]
  },
  {
   "cell_type": "code",
   "execution_count": 23,
   "metadata": {},
   "outputs": [],
   "source": [
    "cancelled_count = cancelled_count.rename(columns = {'provider' : 'number'})"
   ]
  },
  {
   "cell_type": "code",
   "execution_count": 24,
   "metadata": {},
   "outputs": [
    {
     "data": {
      "text/html": [
       "<div>\n",
       "<style scoped>\n",
       "    .dataframe tbody tr th:only-of-type {\n",
       "        vertical-align: middle;\n",
       "    }\n",
       "\n",
       "    .dataframe tbody tr th {\n",
       "        vertical-align: top;\n",
       "    }\n",
       "\n",
       "    .dataframe thead th {\n",
       "        text-align: right;\n",
       "    }\n",
       "</style>\n",
       "<table border=\"1\" class=\"dataframe\">\n",
       "  <thead>\n",
       "    <tr style=\"text-align: right;\">\n",
       "      <th></th>\n",
       "      <th>number</th>\n",
       "    </tr>\n",
       "    <tr>\n",
       "      <th>provider</th>\n",
       "      <th></th>\n",
       "    </tr>\n",
       "  </thead>\n",
       "  <tbody>\n",
       "    <tr>\n",
       "      <th>GEIS</th>\n",
       "      <td>199</td>\n",
       "    </tr>\n",
       "    <tr>\n",
       "      <th>PPL</th>\n",
       "      <td>2945</td>\n",
       "    </tr>\n",
       "    <tr>\n",
       "      <th>ČESKÁ POŠTA</th>\n",
       "      <td>2113</td>\n",
       "    </tr>\n",
       "  </tbody>\n",
       "</table>\n",
       "</div>"
      ],
      "text/plain": [
       "             number\n",
       "provider           \n",
       "GEIS            199\n",
       "PPL            2945\n",
       "ČESKÁ POŠTA    2113"
      ]
     },
     "execution_count": 24,
     "metadata": {},
     "output_type": "execute_result"
    }
   ],
   "source": [
    "cancelled_count"
   ]
  },
  {
   "cell_type": "code",
   "execution_count": 25,
   "metadata": {},
   "outputs": [
    {
     "data": {
      "image/png": "[encoded data removed]",
      "text/plain": [
       "<matplotlib.figure.Figure at 0x11665c6d8>"
      ]
     },
     "metadata": {},
     "output_type": "display_data"
    }
   ],
   "source": [
    "\"\"\"\n",
    "Ukážka pie chartu. Poznámka: Neodporúčam používať v praxi pri vizualizáciách, kým to nie je nutné\n",
    "\"\"\"\n",
    "providerpie = plt.pie(cancelled_count, labels=cancelled_count.index,\n",
    "                                    autopct='%.0f%%',\n",
    "                                    shadow=False) "
   ]
  },
  {
   "cell_type": "markdown",
   "metadata": {},
   "source": [
    "<h2>Farba a štýly</h2>\n",
    "\n",
    "<p>Grafy si môžeme upraviť podľa toho, ako nám vyhovuje. Ak chceme definovať farbu používame atribút <code>color</code>. Farbu je možné definovať viacerými spôsobmi:</p>\n",
    "<ul>  \n",
    "    <li>plt.plot(color='blue') - meno farby</li>\n",
    "    <li>plt.plot(color='#FFDD44') - hex kod</li>\n",
    "    <li>plt.plot(color=(1.0,0.2,0.3)) - rgb kod</li>\n",
    "    <li>plt.plot(color='chartreuse') - <a href=\"https://www.w3schools.com/colors/colors_names.asp\">HTML nazov farby</a></li>\n",
    "</ul>\n",
    "\n",
    "<p>Taktiež si môžeme vybrať štýl čiary pomocou atribútu <code>linestyle</code> a je možné si vybrať z viacerých možností:</p>\n",
    "<ul> \n",
    "    <li>plt.plot(linestyle='solid')</li>\n",
    "    <li>plt.plot(linestyle='dashed')</li>\n",
    "    <li>plt.plot(linestyle='dashdot')</li>\n",
    "    <li>plt.plot(linestyle='dotted')</li>\n",
    "</ul>"
   ]
  },
  {
   "cell_type": "code",
   "execution_count": 26,
   "metadata": {},
   "outputs": [
    {
     "data": {
      "text/plain": [
       "[<matplotlib.lines.Line2D at 0x11642d198>]"
      ]
     },
     "execution_count": 26,
     "metadata": {},
     "output_type": "execute_result"
    },
    {
     "data": {
      "image/png": "[encoded data removed]",
      "text/plain": [
       "<matplotlib.figure.Figure at 0x113e31f98>"
      ]
     },
     "metadata": {},
     "output_type": "display_data"
    }
   ],
   "source": [
    "plt.plot(most_common_provider, linestyle='dotted')"
   ]
  },
  {
   "cell_type": "code",
   "execution_count": 27,
   "metadata": {},
   "outputs": [
    {
     "data": {
      "text/plain": [
       "[<matplotlib.lines.Line2D at 0x113f2a3c8>]"
      ]
     },
     "execution_count": 27,
     "metadata": {},
     "output_type": "execute_result"
    },
    {
     "data": {
      "image/png": "[encoded data removed]",
      "text/plain": [
       "<matplotlib.figure.Figure at 0x113ecc5f8>"
      ]
     },
     "metadata": {},
     "output_type": "display_data"
    }
   ],
   "source": [
    "plt.plot(most_common_provider, color='DeepPink')"
   ]
  },
  {
   "cell_type": "markdown",
   "metadata": {},
   "source": [
    "<h2>Nastavenie osí</h2>\n",
    "\n",
    "<p>Osi x a y je možné nastaviť pomocou <code>axis()</code>. Táto metóda nám umožňuje definovať limity pre x a y osi, alebo nastaviť správanie automaticky.</p>"
   ]
  },
  {
   "cell_type": "code",
   "execution_count": 28,
   "metadata": {},
   "outputs": [
    {
     "data": {
      "text/plain": [
       "(-0.05500000000000001,\n",
       " 0.05500000000000001,\n",
       " -0.05500000000000001,\n",
       " 0.05500000000000001)"
      ]
     },
     "execution_count": 28,
     "metadata": {},
     "output_type": "execute_result"
    },
    {
     "data": {
      "image/png": "[encoded data removed]",
      "text/plain": [
       "<matplotlib.figure.Figure at 0x113f1c588>"
      ]
     },
     "metadata": {},
     "output_type": "display_data"
    }
   ],
   "source": [
    "plt.axis('tight')"
   ]
  },
  {
   "cell_type": "code",
   "execution_count": 29,
   "metadata": {},
   "outputs": [
    {
     "data": {
      "text/plain": [
       "(-0.05500000000000001,\n",
       " 0.05500000000000001,\n",
       " -0.05500000000000001,\n",
       " 0.05500000000000001)"
      ]
     },
     "execution_count": 29,
     "metadata": {},
     "output_type": "execute_result"
    },
    {
     "data": {
      "image/png": "[encoded data removed]",
      "text/plain": [
       "<matplotlib.figure.Figure at 0x1168c2828>"
      ]
     },
     "metadata": {},
     "output_type": "display_data"
    }
   ],
   "source": [
    "plt.axis('equal')"
   ]
  },
  {
   "cell_type": "code",
   "execution_count": 30,
   "metadata": {},
   "outputs": [
    {
     "data": {
      "text/plain": [
       "[5, 10, 0, 20]"
      ]
     },
     "execution_count": 30,
     "metadata": {},
     "output_type": "execute_result"
    },
    {
     "data": {
      "image/png": "[encoded data removed]",
      "text/plain": [
       "<matplotlib.figure.Figure at 0x11691c5c0>"
      ]
     },
     "metadata": {},
     "output_type": "display_data"
    }
   ],
   "source": [
    "plt.axis([5, 10, 0, 20])"
   ]
  },
  {
   "cell_type": "markdown",
   "metadata": {},
   "source": [
    "<h2>Popisky ku grafom</h2>\n",
    "\n",
    "<p>Rovnako ako graf , alebo aj viac dôležité sú popisky ako <b>názov grafu</b>, <b>označenie osí</b> a <b>legendy</b>. V Matplotlibe je možné nastaviť:</p>\n",
    "\n",
    "<ul>\n",
    "    <li>názov grafu pomocou title - <code>plt.title(\"Moj graf\")</code></li>\n",
    "    <li>názov x osi pomocou xlabel - <code>plt.xlabel(\"X os\")</code></li>\n",
    "    <li>názov z osi pomocou ylabel - <code>plt.ylabel(\"Y os\")</code></li>\n",
    "    <li>legenda pomocou <code>plt.legend()</code></li>\n",
    "    <li>súradnice osi x pomocou <code>plt.xlim(0,10)</code></li>\n",
    "    <li>súradnice osi y pomocou <code>plt.ylim(1,10)</code></li>\n",
    "</ul>"
   ]
  },
  {
   "cell_type": "code",
   "execution_count": 31,
   "metadata": {},
   "outputs": [
    {
     "data": {
      "text/plain": [
       "<matplotlib.legend.Legend at 0x116cd4f60>"
      ]
     },
     "execution_count": 31,
     "metadata": {},
     "output_type": "execute_result"
    },
    {
     "data": {
      "image/png": "[encoded data removed]",
      "text/plain": [
       "<matplotlib.figure.Figure at 0x116be4080>"
      ]
     },
     "metadata": {},
     "output_type": "display_data"
    }
   ],
   "source": [
    "plt.plot(most_common_provider, linestyle='dotted')\n",
    "plt.title(\"Moj graf\")\n",
    "plt.xlabel('Provideri')\n",
    "plt.ylabel('Pocet zasielok')\n",
    "plt.legend()"
   ]
  },
  {
   "cell_type": "markdown",
   "metadata": {},
   "source": [
    "<h2>Úprava legendy grafu</h2>\n",
    "\n",
    "<p>V <code>Matplotlibe</code> je veľa možností, akými môžeme upraviť legendu.</p>\n",
    "\n",
    "<ul>\n",
    "    <li><code>plt.legend(loc='upper left')</code> - poloha legendy</li>\n",
    "    <li><code>plt.legend(ncol=2)</code> - počet stĺpcov legendy</li>\n",
    "    <li><code>plt.legend(fancybox=True, framealpha=1, shadow=True, borderpad=1)</code> - nastavenie zaoblenia, transparentného režimu a paddingu okolo textu</li>\n",
    "    <li><code>plt.legend(lines[:2], ['first', 'second'])</code> - definovanie iba vybraných prvkov tvoriacich legendu</li>\n",
    "</ul>"
   ]
  },
  {
   "cell_type": "code",
   "execution_count": 32,
   "metadata": {},
   "outputs": [
    {
     "data": {
      "text/plain": [
       "Index(['PPL', 'ČESKÁ POŠTA', 'GEIS'], dtype='object', name='provider')"
      ]
     },
     "execution_count": 32,
     "metadata": {},
     "output_type": "execute_result"
    }
   ],
   "source": [
    "most_common_provider.index"
   ]
  },
  {
   "cell_type": "code",
   "execution_count": 33,
   "metadata": {},
   "outputs": [
    {
     "data": {
      "text/plain": [
       "<matplotlib.legend.Legend at 0x116becdd8>"
      ]
     },
     "execution_count": 33,
     "metadata": {},
     "output_type": "execute_result"
    },
    {
     "data": {
      "image/png": "[encoded data removed]",
      "text/plain": [
       "<matplotlib.figure.Figure at 0x116bec0b8>"
      ]
     },
     "metadata": {},
     "output_type": "display_data"
    }
   ],
   "source": [
    "plt.plot(most_common_provider, linestyle='dotted')\n",
    "plt.legend(loc='upper left')"
   ]
  },
  {
   "cell_type": "markdown",
   "metadata": {},
   "source": [
    "<h2>Vlastné štýly</h2>\n",
    "\n",
    "<p>Vytvorenie sivého pozadia</p>\n",
    "<code>ax = plt.axes(facecolor='#E6E6E6')<br />\n",
    "ax.set_axisbelow(True)</code>\n",
    "\n",
    "<p>Biele celé čiary grafu</p><br />\n",
    "<code>plt.grid(color='w', linestyle='solid')</code>\n",
    "\n",
    "<p>Skrytie vrchných a pravých labelov</p>\n",
    "<code>ax.xaxis.tick_bottom()</code><br />\n",
    "<code>ax.yaxis.tick_left()</code>"
   ]
  },
  {
   "cell_type": "code",
   "execution_count": 34,
   "metadata": {},
   "outputs": [
    {
     "data": {
      "text/plain": [
       "[<matplotlib.lines.Line2D at 0x116fc19b0>]"
      ]
     },
     "execution_count": 34,
     "metadata": {},
     "output_type": "execute_result"
    },
    {
     "data": {
      "image/png": "[encoded data removed]",
      "text/plain": [
       "<matplotlib.figure.Figure at 0x116cf3b38>"
      ]
     },
     "metadata": {},
     "output_type": "display_data"
    }
   ],
   "source": [
    "plt.axes(facecolor='#F5FFFA')\n",
    "plt.plot(most_common_provider, linestyle='solid', color='#191970')"
   ]
  },
  {
   "cell_type": "code",
   "execution_count": 35,
   "metadata": {},
   "outputs": [
    {
     "name": "stderr",
     "output_type": "stream",
     "text": [
      "/anaconda3/lib/python3.6/site-packages/ipykernel_launcher.py:1: SettingWithCopyWarning: \n",
      "A value is trying to be set on a copy of a slice from a DataFrame.\n",
      "Try using .loc[row_indexer,col_indexer] = value instead\n",
      "\n",
      "See the caveats in the documentation: http://pandas.pydata.org/pandas-docs/stable/indexing.html#indexing-view-versus-copy\n",
      "  \"\"\"Entry point for launching an IPython kernel.\n"
     ]
    }
   ],
   "source": [
    "delivered[\"date\"] = pd.to_datetime(delivered[\"date\"])"
   ]
  },
  {
   "cell_type": "code",
   "execution_count": 36,
   "metadata": {},
   "outputs": [],
   "source": [
    "delivered2 = delivered[(delivered[\"provider\"].isin(['PPL', 'ČESKÁ POŠTA'])) & (delivered[\"month\"] == 4)]"
   ]
  },
  {
   "cell_type": "code",
   "execution_count": 37,
   "metadata": {},
   "outputs": [
    {
     "data": {
      "text/html": [
       "<div>\n",
       "<style scoped>\n",
       "    .dataframe tbody tr th:only-of-type {\n",
       "        vertical-align: middle;\n",
       "    }\n",
       "\n",
       "    .dataframe tbody tr th {\n",
       "        vertical-align: top;\n",
       "    }\n",
       "\n",
       "    .dataframe thead th {\n",
       "        text-align: right;\n",
       "    }\n",
       "</style>\n",
       "<table border=\"1\" class=\"dataframe\">\n",
       "  <thead>\n",
       "    <tr style=\"text-align: right;\">\n",
       "      <th></th>\n",
       "      <th>tracking_id</th>\n",
       "      <th>date</th>\n",
       "      <th>status</th>\n",
       "      <th>mapped_status</th>\n",
       "      <th>provider</th>\n",
       "      <th>day</th>\n",
       "      <th>month</th>\n",
       "      <th>delivery_d1</th>\n",
       "      <th>status_length</th>\n",
       "    </tr>\n",
       "  </thead>\n",
       "  <tbody>\n",
       "    <tr>\n",
       "      <th>14</th>\n",
       "      <td>1882069</td>\n",
       "      <td>2018-04-30 10:32:00</td>\n",
       "      <td>Doručena</td>\n",
       "      <td>Doručeno</td>\n",
       "      <td>ČESKÁ POŠTA</td>\n",
       "      <td>30</td>\n",
       "      <td>4</td>\n",
       "      <td>2018-05-01 10:32:00</td>\n",
       "      <td>8</td>\n",
       "    </tr>\n",
       "    <tr>\n",
       "      <th>27</th>\n",
       "      <td>1882062</td>\n",
       "      <td>2018-04-30 10:41:00</td>\n",
       "      <td>Doručena</td>\n",
       "      <td>Doručeno</td>\n",
       "      <td>ČESKÁ POŠTA</td>\n",
       "      <td>30</td>\n",
       "      <td>4</td>\n",
       "      <td>2018-05-01 10:41:00</td>\n",
       "      <td>8</td>\n",
       "    </tr>\n",
       "    <tr>\n",
       "      <th>68</th>\n",
       "      <td>1881635</td>\n",
       "      <td>2018-04-30 10:07:00</td>\n",
       "      <td>Doručena</td>\n",
       "      <td>Doručeno</td>\n",
       "      <td>ČESKÁ POŠTA</td>\n",
       "      <td>30</td>\n",
       "      <td>4</td>\n",
       "      <td>2018-05-01 10:07:00</td>\n",
       "      <td>8</td>\n",
       "    </tr>\n",
       "    <tr>\n",
       "      <th>81</th>\n",
       "      <td>1881631</td>\n",
       "      <td>2018-04-30 11:22:00</td>\n",
       "      <td>Doručena</td>\n",
       "      <td>Doručeno</td>\n",
       "      <td>ČESKÁ POŠTA</td>\n",
       "      <td>30</td>\n",
       "      <td>4</td>\n",
       "      <td>2018-05-01 11:22:00</td>\n",
       "      <td>8</td>\n",
       "    </tr>\n",
       "    <tr>\n",
       "      <th>1128</th>\n",
       "      <td>1877604</td>\n",
       "      <td>2018-04-30 09:10:00</td>\n",
       "      <td>Doručena</td>\n",
       "      <td>Doručeno</td>\n",
       "      <td>ČESKÁ POŠTA</td>\n",
       "      <td>30</td>\n",
       "      <td>4</td>\n",
       "      <td>2018-05-01 09:10:00</td>\n",
       "      <td>8</td>\n",
       "    </tr>\n",
       "  </tbody>\n",
       "</table>\n",
       "</div>"
      ],
      "text/plain": [
       "      tracking_id                date    status mapped_status     provider  \\\n",
       "14        1882069 2018-04-30 10:32:00  Doručena      Doručeno  ČESKÁ POŠTA   \n",
       "27        1882062 2018-04-30 10:41:00  Doručena      Doručeno  ČESKÁ POŠTA   \n",
       "68        1881635 2018-04-30 10:07:00  Doručena      Doručeno  ČESKÁ POŠTA   \n",
       "81        1881631 2018-04-30 11:22:00  Doručena      Doručeno  ČESKÁ POŠTA   \n",
       "1128      1877604 2018-04-30 09:10:00  Doručena      Doručeno  ČESKÁ POŠTA   \n",
       "\n",
       "      day  month          delivery_d1  status_length  \n",
       "14     30      4  2018-05-01 10:32:00              8  \n",
       "27     30      4  2018-05-01 10:41:00              8  \n",
       "68     30      4  2018-05-01 10:07:00              8  \n",
       "81     30      4  2018-05-01 11:22:00              8  \n",
       "1128   30      4  2018-05-01 09:10:00              8  "
      ]
     },
     "execution_count": 37,
     "metadata": {},
     "output_type": "execute_result"
    }
   ],
   "source": [
    "delivered2.head()"
   ]
  },
  {
   "cell_type": "code",
   "execution_count": 38,
   "metadata": {},
   "outputs": [],
   "source": [
    "cx = delivered2.groupby([pd.Grouper(key='date', freq='W'), 'provider'])"
   ]
  },
  {
   "cell_type": "code",
   "execution_count": 39,
   "metadata": {},
   "outputs": [
    {
     "data": {
      "text/html": [
       "<div>\n",
       "<style scoped>\n",
       "    .dataframe tbody tr th:only-of-type {\n",
       "        vertical-align: middle;\n",
       "    }\n",
       "\n",
       "    .dataframe tbody tr th {\n",
       "        vertical-align: top;\n",
       "    }\n",
       "\n",
       "    .dataframe thead th {\n",
       "        text-align: right;\n",
       "    }\n",
       "</style>\n",
       "<table border=\"1\" class=\"dataframe\">\n",
       "  <thead>\n",
       "    <tr style=\"text-align: right;\">\n",
       "      <th>provider</th>\n",
       "      <th>PPL</th>\n",
       "      <th>ČESKÁ POŠTA</th>\n",
       "    </tr>\n",
       "    <tr>\n",
       "      <th>date</th>\n",
       "      <th></th>\n",
       "      <th></th>\n",
       "    </tr>\n",
       "  </thead>\n",
       "  <tbody>\n",
       "    <tr>\n",
       "      <th>2018-04-01</th>\n",
       "      <td>1</td>\n",
       "      <td>0</td>\n",
       "    </tr>\n",
       "    <tr>\n",
       "      <th>2018-04-08</th>\n",
       "      <td>12174</td>\n",
       "      <td>3394</td>\n",
       "    </tr>\n",
       "    <tr>\n",
       "      <th>2018-04-15</th>\n",
       "      <td>13814</td>\n",
       "      <td>3773</td>\n",
       "    </tr>\n",
       "    <tr>\n",
       "      <th>2018-04-22</th>\n",
       "      <td>14539</td>\n",
       "      <td>4148</td>\n",
       "    </tr>\n",
       "    <tr>\n",
       "      <th>2018-04-29</th>\n",
       "      <td>9404</td>\n",
       "      <td>3753</td>\n",
       "    </tr>\n",
       "    <tr>\n",
       "      <th>2018-05-06</th>\n",
       "      <td>152</td>\n",
       "      <td>207</td>\n",
       "    </tr>\n",
       "  </tbody>\n",
       "</table>\n",
       "</div>"
      ],
      "text/plain": [
       "provider      PPL  ČESKÁ POŠTA\n",
       "date                          \n",
       "2018-04-01      1            0\n",
       "2018-04-08  12174         3394\n",
       "2018-04-15  13814         3773\n",
       "2018-04-22  14539         4148\n",
       "2018-04-29   9404         3753\n",
       "2018-05-06    152          207"
      ]
     },
     "execution_count": 39,
     "metadata": {},
     "output_type": "execute_result"
    }
   ],
   "source": [
    "group = cx.size().unstack('provider', fill_value=0)\n",
    "group"
   ]
  },
  {
   "cell_type": "code",
   "execution_count": 40,
   "metadata": {},
   "outputs": [
    {
     "data": {
      "text/plain": [
       "Text(0,0.5,'Nb. deliveries')"
      ]
     },
     "execution_count": 40,
     "metadata": {},
     "output_type": "execute_result"
    },
    {
     "data": {
      "image/png": "[encoded data removed]",
      "text/plain": [
       "<matplotlib.figure.Figure at 0x116c07278>"
      ]
     },
     "metadata": {},
     "output_type": "display_data"
    }
   ],
   "source": [
    "my_plot = group.plot(kind='area', figsize=(10,5), \n",
    "        title='Delivered by provider', \n",
    "        color=['#DA70D6', '#EEE8AA'], \n",
    "        linestyle='solid')\n",
    "my_plot.legend(loc='upper left')\n",
    "my_plot.set_xlabel('Weeks')\n",
    "my_plot.set_ylabel('Nb. deliveries')"
   ]
  },
  {
   "cell_type": "markdown",
   "metadata": {},
   "source": [
    "<h2>Úlohy</h2>\n",
    "\n",
    "<ul>\n",
    "    <li>Skúste v grafe vyššie zmeniť area na line a vykreslite výsledok</li>\n",
    "    <li>Skúste v grafe vyššie zmeniť area na bar a vykreslite výsledok</li>\n",
    "    <li>Skúste v kóde prepísať W na D a zobrate si výsledok <br />\n",
    "        <code>cx = delivered2.groupby([pd.Grouper(key='date', freq='W'), 'provider'])\n",
    "              group1 = cx.size().unstack('provider', fill_value=0)\n",
    "              group1.head()</code></li>\n",
    "</ul>"
   ]
  },
  {
   "cell_type": "code",
   "execution_count": 41,
   "metadata": {},
   "outputs": [
    {
     "data": {
      "text/plain": [
       "Text(0,0.5,'Nb. deliveries')"
      ]
     },
     "execution_count": 41,
     "metadata": {},
     "output_type": "execute_result"
    },
    {
     "data": {
      "image/png": "[encoded data removed]",
      "text/plain": [
       "<matplotlib.figure.Figure at 0x1168b94a8>"
      ]
     },
     "metadata": {},
     "output_type": "display_data"
    }
   ],
   "source": [
    "my_plot1 = group.plot(kind='line', figsize=(10,5), \n",
    "        title='Delivered by provider', \n",
    "        color=['#DA70D6', '#EEE8AA'], \n",
    "        linestyle='solid')\n",
    "my_plot1.legend(loc='upper left')\n",
    "my_plot1.set_xlabel('Weeks')\n",
    "my_plot1.set_ylabel('Nb. deliveries')"
   ]
  },
  {
   "cell_type": "code",
   "execution_count": 42,
   "metadata": {},
   "outputs": [
    {
     "data": {
      "text/plain": [
       "Text(0,0.5,'Nb. deliveries')"
      ]
     },
     "execution_count": 42,
     "metadata": {},
     "output_type": "execute_result"
    },
    {
     "data": {
      "image/png": "[encoded data removed]",
      "text/plain": [
       "<matplotlib.figure.Figure at 0x116f07390>"
      ]
     },
     "metadata": {},
     "output_type": "display_data"
    }
   ],
   "source": [
    "my_plot2 = group.plot(kind='bar', figsize=(10,5), \n",
    "        title='Delivered by provider', \n",
    "        color=['#DA70D6', '#EEE8AA'], \n",
    "        linestyle='solid')\n",
    "my_plot2.legend(loc='upper left')\n",
    "my_plot2.set_xlabel('Weeks')\n",
    "my_plot2.set_ylabel('Nb. deliveries')"
   ]
  },
  {
   "cell_type": "code",
   "execution_count": 43,
   "metadata": {},
   "outputs": [
    {
     "data": {
      "text/html": [
       "<div>\n",
       "<style scoped>\n",
       "    .dataframe tbody tr th:only-of-type {\n",
       "        vertical-align: middle;\n",
       "    }\n",
       "\n",
       "    .dataframe tbody tr th {\n",
       "        vertical-align: top;\n",
       "    }\n",
       "\n",
       "    .dataframe thead th {\n",
       "        text-align: right;\n",
       "    }\n",
       "</style>\n",
       "<table border=\"1\" class=\"dataframe\">\n",
       "  <thead>\n",
       "    <tr style=\"text-align: right;\">\n",
       "      <th>provider</th>\n",
       "      <th>PPL</th>\n",
       "      <th>ČESKÁ POŠTA</th>\n",
       "    </tr>\n",
       "    <tr>\n",
       "      <th>date</th>\n",
       "      <th></th>\n",
       "      <th></th>\n",
       "    </tr>\n",
       "  </thead>\n",
       "  <tbody>\n",
       "    <tr>\n",
       "      <th>2018-04-01</th>\n",
       "      <td>1</td>\n",
       "      <td>0</td>\n",
       "    </tr>\n",
       "    <tr>\n",
       "      <th>2018-04-02</th>\n",
       "      <td>2</td>\n",
       "      <td>0</td>\n",
       "    </tr>\n",
       "    <tr>\n",
       "      <th>2018-04-03</th>\n",
       "      <td>2160</td>\n",
       "      <td>605</td>\n",
       "    </tr>\n",
       "    <tr>\n",
       "      <th>2018-04-04</th>\n",
       "      <td>4026</td>\n",
       "      <td>869</td>\n",
       "    </tr>\n",
       "    <tr>\n",
       "      <th>2018-04-05</th>\n",
       "      <td>2989</td>\n",
       "      <td>885</td>\n",
       "    </tr>\n",
       "  </tbody>\n",
       "</table>\n",
       "</div>"
      ],
      "text/plain": [
       "provider     PPL  ČESKÁ POŠTA\n",
       "date                         \n",
       "2018-04-01     1            0\n",
       "2018-04-02     2            0\n",
       "2018-04-03  2160          605\n",
       "2018-04-04  4026          869\n",
       "2018-04-05  2989          885"
      ]
     },
     "execution_count": 43,
     "metadata": {},
     "output_type": "execute_result"
    }
   ],
   "source": [
    "cx = delivered2.groupby([pd.Grouper(key='date', freq='D'), 'provider'])\n",
    "group1 = cx.size().unstack('provider', fill_value=0)\n",
    "group1.head()"
   ]
  },
  {
   "cell_type": "code",
   "execution_count": 44,
   "metadata": {},
   "outputs": [
    {
     "data": {
      "text/html": [
       "<div>\n",
       "<style scoped>\n",
       "    .dataframe tbody tr th:only-of-type {\n",
       "        vertical-align: middle;\n",
       "    }\n",
       "\n",
       "    .dataframe tbody tr th {\n",
       "        vertical-align: top;\n",
       "    }\n",
       "\n",
       "    .dataframe thead th {\n",
       "        text-align: right;\n",
       "    }\n",
       "</style>\n",
       "<table border=\"1\" class=\"dataframe\">\n",
       "  <thead>\n",
       "    <tr style=\"text-align: right;\">\n",
       "      <th>mapped_status</th>\n",
       "      <th>Doručeno</th>\n",
       "    </tr>\n",
       "    <tr>\n",
       "      <th>date</th>\n",
       "      <th></th>\n",
       "    </tr>\n",
       "  </thead>\n",
       "  <tbody>\n",
       "    <tr>\n",
       "      <th>2018-04-03 06:00:00</th>\n",
       "      <td>1</td>\n",
       "    </tr>\n",
       "    <tr>\n",
       "      <th>2018-04-03 07:00:00</th>\n",
       "      <td>28</td>\n",
       "    </tr>\n",
       "    <tr>\n",
       "      <th>2018-04-03 08:00:00</th>\n",
       "      <td>194</td>\n",
       "    </tr>\n",
       "    <tr>\n",
       "      <th>2018-04-03 09:00:00</th>\n",
       "      <td>402</td>\n",
       "    </tr>\n",
       "    <tr>\n",
       "      <th>2018-04-03 10:00:00</th>\n",
       "      <td>511</td>\n",
       "    </tr>\n",
       "    <tr>\n",
       "      <th>2018-04-03 11:00:00</th>\n",
       "      <td>465</td>\n",
       "    </tr>\n",
       "    <tr>\n",
       "      <th>2018-04-03 12:00:00</th>\n",
       "      <td>324</td>\n",
       "    </tr>\n",
       "    <tr>\n",
       "      <th>2018-04-03 13:00:00</th>\n",
       "      <td>256</td>\n",
       "    </tr>\n",
       "    <tr>\n",
       "      <th>2018-04-03 14:00:00</th>\n",
       "      <td>202</td>\n",
       "    </tr>\n",
       "    <tr>\n",
       "      <th>2018-04-03 15:00:00</th>\n",
       "      <td>157</td>\n",
       "    </tr>\n",
       "    <tr>\n",
       "      <th>2018-04-03 16:00:00</th>\n",
       "      <td>115</td>\n",
       "    </tr>\n",
       "    <tr>\n",
       "      <th>2018-04-03 17:00:00</th>\n",
       "      <td>76</td>\n",
       "    </tr>\n",
       "    <tr>\n",
       "      <th>2018-04-03 18:00:00</th>\n",
       "      <td>17</td>\n",
       "    </tr>\n",
       "    <tr>\n",
       "      <th>2018-04-03 19:00:00</th>\n",
       "      <td>13</td>\n",
       "    </tr>\n",
       "    <tr>\n",
       "      <th>2018-04-03 20:00:00</th>\n",
       "      <td>4</td>\n",
       "    </tr>\n",
       "  </tbody>\n",
       "</table>\n",
       "</div>"
      ],
      "text/plain": [
       "mapped_status        Doručeno\n",
       "date                         \n",
       "2018-04-03 06:00:00         1\n",
       "2018-04-03 07:00:00        28\n",
       "2018-04-03 08:00:00       194\n",
       "2018-04-03 09:00:00       402\n",
       "2018-04-03 10:00:00       511\n",
       "2018-04-03 11:00:00       465\n",
       "2018-04-03 12:00:00       324\n",
       "2018-04-03 13:00:00       256\n",
       "2018-04-03 14:00:00       202\n",
       "2018-04-03 15:00:00       157\n",
       "2018-04-03 16:00:00       115\n",
       "2018-04-03 17:00:00        76\n",
       "2018-04-03 18:00:00        17\n",
       "2018-04-03 19:00:00        13\n",
       "2018-04-03 20:00:00         4"
      ]
     },
     "execution_count": 44,
     "metadata": {},
     "output_type": "execute_result"
    }
   ],
   "source": [
    "cx = delivered2.groupby([pd.Grouper(key='date', freq='h'), 'mapped_status'])\n",
    "group2 = cx.size().unstack('mapped_status', fill_value=0)\n",
    "group2.loc[\"2018-04-03\"]"
   ]
  },
  {
   "cell_type": "code",
   "execution_count": 45,
   "metadata": {},
   "outputs": [
    {
     "data": {
      "text/html": [
       "<div>\n",
       "<style scoped>\n",
       "    .dataframe tbody tr th:only-of-type {\n",
       "        vertical-align: middle;\n",
       "    }\n",
       "\n",
       "    .dataframe tbody tr th {\n",
       "        vertical-align: top;\n",
       "    }\n",
       "\n",
       "    .dataframe thead th {\n",
       "        text-align: right;\n",
       "    }\n",
       "</style>\n",
       "<table border=\"1\" class=\"dataframe\">\n",
       "  <thead>\n",
       "    <tr style=\"text-align: right;\">\n",
       "      <th>provider</th>\n",
       "      <th>PPL</th>\n",
       "      <th>ČESKÁ POŠTA</th>\n",
       "    </tr>\n",
       "    <tr>\n",
       "      <th>date</th>\n",
       "      <th></th>\n",
       "      <th></th>\n",
       "    </tr>\n",
       "  </thead>\n",
       "  <tbody>\n",
       "    <tr>\n",
       "      <th>2018-04-30</th>\n",
       "      <td>50084</td>\n",
       "      <td>15275</td>\n",
       "    </tr>\n",
       "  </tbody>\n",
       "</table>\n",
       "</div>"
      ],
      "text/plain": [
       "provider      PPL  ČESKÁ POŠTA\n",
       "date                          \n",
       "2018-04-30  50084        15275"
      ]
     },
     "execution_count": 45,
     "metadata": {},
     "output_type": "execute_result"
    }
   ],
   "source": [
    "cx = delivered2.groupby([pd.Grouper(key='date', freq='M'), 'provider'])\n",
    "group2 = cx.size().unstack('provider', fill_value=0)\n",
    "group2.head()"
   ]
  },
  {
   "cell_type": "code",
   "execution_count": 46,
   "metadata": {},
   "outputs": [
    {
     "data": {
      "text/plain": [
       "<matplotlib.axes._subplots.AxesSubplot at 0x116c40cc0>"
      ]
     },
     "execution_count": 46,
     "metadata": {},
     "output_type": "execute_result"
    },
    {
     "data": {
      "image/png": "[encoded data removed]",
      "text/plain": [
       "<matplotlib.figure.Figure at 0x116bf9be0>"
      ]
     },
     "metadata": {},
     "output_type": "display_data"
    }
   ],
   "source": [
    "providersDf['day'].plot.hist(bins=100)"
   ]
  },
  {
   "cell_type": "code",
   "execution_count": 47,
   "metadata": {},
   "outputs": [
    {
     "data": {
      "text/plain": [
       "<matplotlib.axes._subplots.AxesSubplot at 0x1145f2b00>"
      ]
     },
     "execution_count": 47,
     "metadata": {},
     "output_type": "execute_result"
    },
    {
     "data": {
      "image/png": "[encoded data removed]",
      "text/plain": [
       "<matplotlib.figure.Figure at 0x112d3b080>"
      ]
     },
     "metadata": {},
     "output_type": "display_data"
    }
   ],
   "source": [
    "delivered[delivered['provider'].isin(['PPL', 'GEIS'])].boxplot(column='day', by='provider')"
   ]
  },
  {
   "cell_type": "markdown",
   "metadata": {},
   "source": [
    "<h2>Úloha</h2>\n",
    "\n",
    "<ul>\n",
    "    <li>Z dátového setu <b>providersDf</b> vytvorte boxplot v dňoch podľa mapped_status hodnôt. Rátajte iba s hodnotami Doručeno, Stornováno a Nezadane.</li>\n",
    "        </ul>"
   ]
  },
  {
   "cell_type": "code",
   "execution_count": 48,
   "metadata": {},
   "outputs": [
    {
     "data": {
      "text/plain": [
       "<matplotlib.axes._subplots.AxesSubplot at 0x11469d240>"
      ]
     },
     "execution_count": 48,
     "metadata": {},
     "output_type": "execute_result"
    },
    {
     "data": {
      "image/png": "[encoded data removed]",
      "text/plain": [
       "<matplotlib.figure.Figure at 0x11471eb70>"
      ]
     },
     "metadata": {},
     "output_type": "display_data"
    }
   ],
   "source": [
    "providersDf[providersDf[\"mapped_status\"].isin(['Doručeno', 'Stornováno', 'Nezadane'])] \\\n",
    "                                               .boxplot(column='day', by='mapped_status')"
   ]
  }
 ],
 "metadata": {
  "kernelspec": {
   "display_name": "Python 3",
   "language": "python",
   "name": "python3"
  },
  "language_info": {
   "codemirror_mode": {
    "name": "ipython",
    "version": 3
   },
   "file_extension": ".py",
   "mimetype": "text/x-python",
   "name": "python",
   "nbconvert_exporter": "python",
   "pygments_lexer": "ipython3",
   "version": "3.6.0"
  }
 },
 "nbformat": 4,
 "nbformat_minor": 2
}
