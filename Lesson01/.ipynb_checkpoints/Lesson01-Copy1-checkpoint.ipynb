{
 "cells": [
  {
   "cell_type": "markdown",
   "metadata": {},
   "source": [
    "<h1>Úvod do dátovej analýzy v Pythone</h1>"
   ]
  },
  {
   "cell_type": "markdown",
   "metadata": {},
   "source": [
    "<h2>Čo je dátová analýza?</h2>\n",
    "\n",
    "<p>Tento pojem je pomerne ťažké definovať. Pod dátovou analýzou sa skrýva viacero rolí a činností a nie vždy sú vykonávané jednou osobou. Patria sem napríklad činnosti:</p>\n",
    "\n",
    "<ul>\n",
    "    <li>analýza dát</li>\n",
    "    <li>čistenie dát</li>\n",
    "    <li>transformácia dát</li>\n",
    "    <li>vizualizácia dát</li>\n",
    "    <li>návrh dátovej architektúry</li>\n",
    "    <li>machine learning</li>\n",
    "    <li>dátové modelovanie</li>\n",
    "    <li>....</li>\n",
    "</ul>\n",
    "\n",
    "<img src=\"https://static1.squarespace.com/static/538cea80e4b00f1fad490c1b/t/55e9ffa0e4b068f2cc1e4670/1441398688916/\" />"
   ]
  },
  {
   "cell_type": "markdown",
   "metadata": {},
   "source": [
    "<h2>Prečo Python?</h2>\n",
    "\n",
    "<p>Pri práci s dátami si môžeme vybrať rôzny programovací jazyk, no najčastejšie sa používa buď <strong>Python</strong> alebo <strong>R</strong>. Výber závisí od viacerých faktorov:</p>\n",
    "\n",
    "<ul>\n",
    "    <li>use case, na ktorom pracujeme</li>\n",
    "    <li>dáta, s akými pracujeme</li>\n",
    "    <li>tím, v ktorom pracujeme</li>\n",
    "    <li>technológie vybranej firmy/projektu a ich možnosti</li>\n",
    "    <li>dodatočné knižnice/moduly vybraného jazyka</li>\n",
    "    <li>objem dát, s akými pracujeme</li>\n",
    "    <li>dostupné nástroje na prácu s dátami</li>\n",
    "    <li>...</li>\n",
    "</ul>\n",
    "\n",
    "<img src=\"https://uploads-ssl.webflow.com/589e47d231ee752554896f1f/5a74c89d437134000158c460_pd-infographic-python-r.svg\" />\n",
    "\n",
    "<p>Python nám umožňuje pracovať s veľkými dátovými setmi, vizualizovať dáta pomocou rôznych knižníc/modulov, podporuje mnoho machine learning knižníc/modulov.</p>\n",
    "\n",
    "<h3>Ukážky prác s dátami v Pythone</h3>\n",
    "\n",
    "\n"
   ]
  },
  {
   "cell_type": "markdown",
   "metadata": {},
   "source": [
    "<ul>\n",
    "    <li>http://nbviewer.jupyter.org/github/justmarkham/DAT4/blob/master/notebooks/08_linear_regression.ipynb</li>\n",
    "    <li>http://nbviewer.jupyter.org/github/xun-tang/pyladies_jupyter_demo/blob/master/Predict_Review_Five_Star_Rating.ipynb</li>\n",
    "    <li>http://nbviewer.jupyter.org/gist/msund/7ac1203ded66fe8134cc</li>\n",
    "    <li>http://nbviewer.jupyter.org/gist/jhemann/4569783</li>\n",
    "</ul>"
   ]
  },
  {
   "cell_type": "markdown",
   "metadata": {},
   "source": [
    "<h2>Čo je Jupyter notebook?</h2>\n",
    "\n",
    "<p>Jupyter notebook je interaktívny nástroj umožňujúci priamo vizualizovať výsledky spracovania nášho kódu. V kontexte práce s dátami je možné sa priamo na dáta pozrieť, vypísať hodnoty bez nutnosti printu. Uchováva históriu našej práce prostredníctvom [in] - vstupné hodnoty [out] - výsledkov našich programov. Umožňuje embedovať rôzne dodatočné prvky ako mapy, videá, podporuje html formátovanie, webové stránky a vizualizácie.</p>\n",
    "\n",
    "<p>S Jupyteru je možné priamo výsledky našej práce publikovať online, previesť do Python kódu a skopírovať do nášho obľúbeného editora. Je potrebné si uvedomiť, že beží iba lokálne v našom počítači vo webovom prehliadači.</p>\n",
    "\n",
    "<h2>Prečo je dobré ho používať?</h2>\n",
    "<p>Využívanie Jupyter notebooku má mnoho výhod, najmä pri práci v oblasti dátovej analýzy:</p>\n",
    "<ul>\n",
    "    <li>Priamo zobrazenie dát, s ktorými pracujeme - nie je nutné sa prepínať do externých excelov, csv súborov, databáz,...</li>\n",
    "    <li>Možnosť vidieť výsledky spracovania kódu priamo v prehliadači bez nutnosti spúšťania kódu cez konzolu/terminál a zároveň sú výsledky uložené v histórii a dostupné aj po znovuotvorení Jupyter notebooku</li>\n",
    "    <li>Možnosť priamych vizualizácií</li>\n",
    "    <li>Využívaný nástroj medzi dátovými analytikmi pracujúcimi v Pythone/inom jazyku, pravdepodobne väčšina Vašich kolegov tento nástroj bude používať a pošle vám v ňom svoju prácu</li>\n",
    "    <li>Možnosť publikácie výsledkov priamo online</li>\n",
    "    <li>Je zadarmo dostupný</li>\n",
    "    <li> ...</li>\n",
    "</ul>"
   ]
  },
  {
   "cell_type": "markdown",
   "metadata": {},
   "source": [
    "<h2>Je dobré vedieť</h2>\n",
    "\n",
    "<ul>\n",
    "    <li>Vypísanie všetkých dostupných príkazov a skratiek k nim cez <code>Cmd/Ctrl + Shift + P</code></li>\n",
    "    <li>Spustiť kód bloku programu vo vybranej bunky príkazom Run</li>\n",
    "    <li>Môžeme sa prepnúť navrchu medzi Markdown, Code</li>\n",
    "    <li>Môžeme zastaviť vykonávanie príkazu cez Stop</li>\n",
    "    <li>Môžeme spustiť beh všetkých príkazov naraz</li>\n",
    "    <li>Môžeme si vypísať nápovedu cez .</li>\n",
    "    <li>Môžeme si vypísať help k danej funkcii/metóde</li>\n",
    "    <li>Môžeme cez tabulátor dopĺňať existujúce premenné, funkcie, metódy</li>\n",
    "</ul>"
   ]
  },
  {
   "cell_type": "code",
   "execution_count": 2,
   "metadata": {},
   "outputs": [],
   "source": [
    "print?"
   ]
  },
  {
   "cell_type": "code",
   "execution_count": 3,
   "metadata": {},
   "outputs": [
    {
     "name": "stdout",
     "output_type": "stream",
     "text": [
      "\n"
     ]
    }
   ],
   "source": [
    "print()"
   ]
  },
  {
   "cell_type": "markdown",
   "metadata": {},
   "source": [
    "<h2>Čo je Pandas?</h2>\n",
    "\n",
    "<p>Pandas je modul/knižnica Pythonu slúžiaca na prácu s dátami v Pythone. Umožňuje nám pracovať s dátami v ucelenej štruktúre, podobnej relačným databázam. Umožňuje spracovať veľké množstvo dát pomerne rýchlo, vyhodnocovať dáta, čistiť dáta vďaka mnohým zabudovaným a pripraveným funkciám, ktoré šetria dátovému analytikovi mnoho času, ktorý zameria efektívnejšie na data analýzu, ako na programovanie v Pythone.</p>\n",
    "\n",
    "<h6>Je potrebné si uvedomiť, že pri práci s Pandasom je dôležité naučiť sa funkcie/metódy, ktoré poskytuje a ako ich uplatniť nad dátovým setom, s ktorým pracujeme. Nejde priamo o programovanie, aké poznáte z Pythonu, o to programovanie sa postarali už tvorcovia Pandasu a všetko potrebné zabudovali do danej knižnice/modulu</h6>"
   ]
  },
  {
   "cell_type": "code",
   "execution_count": 4,
   "metadata": {},
   "outputs": [
    {
     "data": {
      "text/plain": [
       "\"Ukážka v Pythone<br />\\nimport csv\\n\\nif __name__ == '__main__':\\n    file_name = 'teams'\\n    with open(file_name + '.csv', 'r') as infile:\\n        reader = csv.reader(infile)\\n        new_header = next(reader, None)\\n        for row in reader:\\n            row = [row[0], row[1], row[2]]\\n            print (row)\\n\\n\""
      ]
     },
     "execution_count": 4,
     "metadata": {},
     "output_type": "execute_result"
    }
   ],
   "source": [
    "\"\"\"Ukážka v Pythone<br />\n",
    "import csv\n",
    "\n",
    "if __name__ == '__main__':\n",
    "    file_name = 'teams'\n",
    "    with open(file_name + '.csv', 'r') as infile:\n",
    "        reader = csv.reader(infile)\n",
    "        new_header = next(reader, None)\n",
    "        for row in reader:\n",
    "            row = [row[0], row[1], row[2]]\n",
    "            print (row)\n",
    "\n",
    "\"\"\""
   ]
  },
  {
   "cell_type": "code",
   "execution_count": 5,
   "metadata": {},
   "outputs": [
    {
     "data": {
      "text/plain": [
       "\" Ukážka v Pandase\\ndf = pd.read_csv('teams.csv', encoding='utf-8')\\ndf[['1', '2', '3']]\\n\""
      ]
     },
     "execution_count": 5,
     "metadata": {},
     "output_type": "execute_result"
    }
   ],
   "source": [
    "\"\"\" Ukážka v Pandase\n",
    "df = pd.read_csv('teams.csv', encoding='utf-8')\n",
    "df[['1', '2', '3']]\n",
    "\"\"\""
   ]
  },
  {
   "cell_type": "markdown",
   "metadata": {},
   "source": [
    "<h2>Začiatok práce s Pandasom</h2>\n",
    "\n",
    "<ol>\n",
    "    <li>Ako každý Python modul, je potrebné ho nainštalovať, aby sme ho mohli používať. V anaconde, by mal byť Pandas preddefinovane nainštalovaný.</li>\n",
    "    <li>Po nainštalovaní je potrebné si ho importovať do nášho projektu. Importovaním pandasu môžeme používať všetky jeho hotové funkcie a metódy, ktoré pre nás pripravili</li>\n",
    "</ol>"
   ]
  },
  {
   "cell_type": "markdown",
   "metadata": {},
   "source": [
    "<h2>Import</h2>"
   ]
  },
  {
   "cell_type": "code",
   "execution_count": 6,
   "metadata": {},
   "outputs": [],
   "source": [
    "#Import celého pandas modulu, kde sme si vytvorili alias pd, pre možnosť pristupovať k príkazom cez skratku pd.\n",
    "#namiest pandas.\n"
   ]
  },
  {
   "cell_type": "markdown",
   "metadata": {},
   "source": [
    "<p>Keď máme pandas importnutý je potrebné si do projektu nahrať dáta, nad ktorými chceme pracovať, robiť dátovú analýzu. V pandase je možné pracovať s dátami rôznych dátových formátov, či už je to excel, textový súbor, csv, json a podobne.</p>\n",
    "\n",
    "<p>Ukážky otvorenia dát v rôznych formátoch.</p>"
   ]
  },
  {
   "cell_type": "markdown",
   "metadata": {},
   "source": [
    "<h5>Načíta dáta z CSV súboru</h5>\n",
    "pd.read_csv(filename)\n",
    "\n",
    "<h5>Načíta dáta z Excel súboru</h5>\n",
    "pd.read_excel(filename) \n",
    "\n",
    "<h5>Načíta dáta z SQL tabuľky/databázy</h5>\n",
    "pd.read_sql(query, connection_object)\n",
    "\n",
    "<h5>Načíta dáta z JSONU z webu</h5>\n",
    "pd.read_json(json_string)\n",
    "\n",
    "<h5>Načíta dáta z URL adresy</h5>\n",
    "pd.read_html(url) "
   ]
  },
  {
   "cell_type": "code",
   "execution_count": null,
   "metadata": {},
   "outputs": [],
   "source": []
  },
  {
   "cell_type": "markdown",
   "metadata": {},
   "source": [
    "My budeme pracovať na hodinách s formátom CSV. Jedná sa o najvyužívanejší formát pri práci s dátami, mnoho exportov z JSONu z rôznych nástrojov, alebo z databáz je vo formáte CSV.\n",
    "\n",
    "<h2>Predstavenie dátového setu</h2>\n",
    "\n",
    "<p>Budeme pracovať s dátovým setom obsahujúcim informácie o Pokémonoch. Pracovať budeme s hodnotami:</p>\n",
    "<ul>\n",
    "    <li>ID pokémona</li>\n",
    "    <li>Meno pokémona</li>\n",
    "    <li>Typ (hlavný) pokémona</li>\n",
    "    <li>Typ (vedľajší) pokémona</li>\n",
    "    <li>Celková sila</li>\n",
    "    <li>Útok</li>\n",
    "    <li>HP </li>\n",
    "    <li>Obrana</li>\n",
    "    <li>Rýchlosť</li>\n",
    "    <li>Generácia</li>\n",
    "    <li>Je legendárny</li>\n",
    "</ul>\n",
    "\n",
    "<img src=\"https://cdn.vox-cdn.com/thumbor/s_HqWQZ-SI1MqQwV1eXvtgBwnGc=/0x0:578x327/1200x800/filters:focal(243x118:335x210)/cdn.vox-cdn.com/uploads/chorus_image/image/56976933/halloween_2017_169.0.jpg\" />"
   ]
  },
  {
   "cell_type": "code",
   "execution_count": 7,
   "metadata": {},
   "outputs": [],
   "source": [
    "#Načítanie dát z CSV súboru\n"
   ]
  },
  {
   "cell_type": "markdown",
   "metadata": {},
   "source": [
    "<h2>Čo je DateFrame?</h2>\n",
    "\n",
    "<p>DateFrame je v pandase tabuľková dátová štruktúra (založená na podobnom princípe ako napríklad usporiadanie dát v Exceli alebo v databáze), obsahujúca dáta zoradené v stĺpcoch. Každý stĺpec má rôzny dátový typ. Dátovym typom je napríklad číslo, desatiné číslo, text, pravdivostná hodnota (True/False) a iné. Pod každým stĺpcom sú dáta zobrazované v riadkoch v danom dátovom type</p>\n",
    "\n",
    "<img src=\"https://www.tutorialspoint.com/python_pandas/images/structure_table.jpg\" />"
   ]
  },
  {
   "cell_type": "markdown",
   "metadata": {},
   "source": [
    "<h2>Základný výpis dát</h2>\n",
    "\n",
    "<p>Dáta sú v tejto chvíli uložené v premennej s názvom <code>pokemonDf</code>. Ak sa na ne chceme pozrieť, môžeme použiť nasledujúce spôsoby:</p>"
   ]
  },
  {
   "cell_type": "code",
   "execution_count": 8,
   "metadata": {},
   "outputs": [],
   "source": [
    "#Vypíše všetky dáta, ktoré sa načítali z CSV súboru. Ak je dát viac zobrazia sa medzi nimi ... \n"
   ]
  },
  {
   "cell_type": "code",
   "execution_count": null,
   "metadata": {},
   "outputs": [],
   "source": []
  },
  {
   "cell_type": "code",
   "execution_count": 9,
   "metadata": {},
   "outputs": [],
   "source": [
    "#Vypíše počet riadkov a stĺpcov dátového setu\n"
   ]
  },
  {
   "cell_type": "code",
   "execution_count": null,
   "metadata": {},
   "outputs": [],
   "source": []
  },
  {
   "cell_type": "code",
   "execution_count": 10,
   "metadata": {},
   "outputs": [],
   "source": [
    "#Vypíše defaultne prvých 5 riadkov dátového setu\n"
   ]
  },
  {
   "cell_type": "code",
   "execution_count": 11,
   "metadata": {},
   "outputs": [],
   "source": [
    "#Vypíše defaultne posledných 5 riadkov dátového setu\n"
   ]
  },
  {
   "cell_type": "code",
   "execution_count": 12,
   "metadata": {},
   "outputs": [],
   "source": [
    "#Vypíše prvných n riadkov, napríklad 3\n"
   ]
  },
  {
   "cell_type": "code",
   "execution_count": 13,
   "metadata": {},
   "outputs": [],
   "source": [
    "#Vypíše posledných n riadkov, napríklad 3\n"
   ]
  },
  {
   "cell_type": "code",
   "execution_count": 14,
   "metadata": {},
   "outputs": [],
   "source": [
    "#Vypíše nám ku každému stĺpcu jeho názov, dátovy typ, či obsahuje nulové hodnoty a počet riadkov - vyplnených hodnôt\n"
   ]
  },
  {
   "cell_type": "markdown",
   "metadata": {},
   "source": [
    "<h2>Úlohy:</h2>\n",
    "<ol>\n",
    "    <li>Vypíš prvých 7 riadkov z dátového setu pokemonDf</li>\n",
    "    <li>Vypíš posledné 2 riadky z dátového setu pokemonDf</li>\n",
    "</ol>"
   ]
  },
  {
   "cell_type": "code",
   "execution_count": 15,
   "metadata": {},
   "outputs": [],
   "source": [
    "#1\n"
   ]
  },
  {
   "cell_type": "code",
   "execution_count": 16,
   "metadata": {},
   "outputs": [],
   "source": [
    "#2\n"
   ]
  },
  {
   "cell_type": "markdown",
   "metadata": {},
   "source": [
    "<h2>Výpis dát a pristupovanie k hodnotám/dátam</h2>\n",
    "\n",
    "<p>K dátam a ich hodnotám môžeme v pandase pristupovať rôznymi spôsobmi. Ukážeme si najvyužívanejšie z nich a rozdiely medzi nimi</p>\n",
    "\n",
    "<img src=\"https://www.learntowish.com/wp-content/uploads/2017/09/string-slicing.png\" />"
   ]
  },
  {
   "cell_type": "markdown",
   "metadata": {},
   "source": [
    "<h3>Práca so stĺpcami</h3>"
   ]
  },
  {
   "cell_type": "code",
   "execution_count": null,
   "metadata": {},
   "outputs": [],
   "source": []
  },
  {
   "cell_type": "code",
   "execution_count": null,
   "metadata": {},
   "outputs": [],
   "source": []
  },
  {
   "cell_type": "code",
   "execution_count": null,
   "metadata": {},
   "outputs": [],
   "source": []
  },
  {
   "cell_type": "markdown",
   "metadata": {},
   "source": [
    "<h2>Úlohy:</h2>\n",
    "<ol>\n",
    "    <li>Vypíš prvé 3 riadky zo stĺpca Type 1 z dátového setu pokemonDf prostredníctvom []</li>\n",
    "    <li>Vypíš posledné 2 riadky zo stĺpca Type 2 dátového setu pokemonDf prostredníctvom .</li>\n",
    "</ol>"
   ]
  },
  {
   "cell_type": "code",
   "execution_count": 17,
   "metadata": {},
   "outputs": [],
   "source": [
    "#1\n"
   ]
  },
  {
   "cell_type": "code",
   "execution_count": 18,
   "metadata": {},
   "outputs": [],
   "source": [
    "#2\n"
   ]
  },
  {
   "cell_type": "markdown",
   "metadata": {},
   "source": [
    "<h3>Práca s riadkami</h3>"
   ]
  },
  {
   "cell_type": "code",
   "execution_count": null,
   "metadata": {},
   "outputs": [],
   "source": []
  },
  {
   "cell_type": "code",
   "execution_count": null,
   "metadata": {},
   "outputs": [],
   "source": []
  },
  {
   "cell_type": "code",
   "execution_count": null,
   "metadata": {},
   "outputs": [],
   "source": []
  },
  {
   "cell_type": "markdown",
   "metadata": {},
   "source": [
    "<h2>Úlohy:</h2>\n",
    "<ol>\n",
    "    <li>Vypíš všetky hodnoty od indexu 790 až po posledný z dátového setu pokemonDf</li>\n",
    "    <li>Vypíš posledných 10 riadkov z dátového setu pokemonDf bez použitia tail()</li>\n",
    "    <li>Vypíš prvé 4 riadky, z dátového setu pokemonDf bez použitia head()</li>\n",
    "</ol>"
   ]
  },
  {
   "cell_type": "code",
   "execution_count": 19,
   "metadata": {},
   "outputs": [],
   "source": [
    "#1\n"
   ]
  },
  {
   "cell_type": "code",
   "execution_count": 20,
   "metadata": {},
   "outputs": [],
   "source": [
    "#2\n"
   ]
  },
  {
   "cell_type": "code",
   "execution_count": 21,
   "metadata": {},
   "outputs": [],
   "source": [
    "#3\n"
   ]
  },
  {
   "cell_type": "markdown",
   "metadata": {},
   "source": [
    "<h3>Práca s .loc()</h3>"
   ]
  },
  {
   "cell_type": "code",
   "execution_count": null,
   "metadata": {},
   "outputs": [],
   "source": []
  },
  {
   "cell_type": "code",
   "execution_count": null,
   "metadata": {},
   "outputs": [],
   "source": []
  },
  {
   "cell_type": "code",
   "execution_count": null,
   "metadata": {},
   "outputs": [],
   "source": []
  },
  {
   "cell_type": "code",
   "execution_count": null,
   "metadata": {},
   "outputs": [],
   "source": []
  },
  {
   "cell_type": "code",
   "execution_count": null,
   "metadata": {},
   "outputs": [],
   "source": []
  },
  {
   "cell_type": "code",
   "execution_count": null,
   "metadata": {},
   "outputs": [],
   "source": []
  },
  {
   "cell_type": "markdown",
   "metadata": {},
   "source": [
    "<h3>Práca s .iloc()</h3>"
   ]
  },
  {
   "cell_type": "code",
   "execution_count": null,
   "metadata": {},
   "outputs": [],
   "source": []
  },
  {
   "cell_type": "code",
   "execution_count": null,
   "metadata": {},
   "outputs": [],
   "source": []
  },
  {
   "cell_type": "code",
   "execution_count": null,
   "metadata": {},
   "outputs": [],
   "source": []
  },
  {
   "cell_type": "markdown",
   "metadata": {},
   "source": [
    "<h2>Úlohy:</h2>\n",
    "<ol>\n",
    "    <li>Vypíš prvých 7 riadkov a prvé 3 stĺpce z dátového setu pokemonDf</li>\n",
    "    <li>Vypíš riadky po label 4 od labelu 1 pomocou .loc</li>\n",
    "    <li>Vypíš prvé 3 riadky pomocou metódy .iloc</li>\n",
    "</ol>"
   ]
  },
  {
   "cell_type": "code",
   "execution_count": 22,
   "metadata": {},
   "outputs": [],
   "source": [
    "#1\n"
   ]
  },
  {
   "cell_type": "code",
   "execution_count": 23,
   "metadata": {},
   "outputs": [],
   "source": [
    "#2\n"
   ]
  },
  {
   "cell_type": "code",
   "execution_count": 24,
   "metadata": {},
   "outputs": [],
   "source": [
    "#3\n"
   ]
  },
  {
   "cell_type": "code",
   "execution_count": null,
   "metadata": {},
   "outputs": [],
   "source": []
  },
  {
   "cell_type": "markdown",
   "metadata": {},
   "source": [
    "<h2>Úlohy:</h2>\n",
    "<ol>\n",
    "    <li>Vypíš prvých 5 pokémonov, ktorí majú HP vyššiu ako 60</li>\n",
    "</ol>"
   ]
  },
  {
   "cell_type": "code",
   "execution_count": 25,
   "metadata": {},
   "outputs": [],
   "source": [
    "#1\n"
   ]
  },
  {
   "cell_type": "markdown",
   "metadata": {},
   "source": [
    "<h3>Práca s .values</h3>"
   ]
  },
  {
   "cell_type": "code",
   "execution_count": null,
   "metadata": {},
   "outputs": [],
   "source": []
  },
  {
   "cell_type": "code",
   "execution_count": null,
   "metadata": {},
   "outputs": [],
   "source": []
  },
  {
   "cell_type": "code",
   "execution_count": null,
   "metadata": {},
   "outputs": [],
   "source": []
  },
  {
   "cell_type": "code",
   "execution_count": null,
   "metadata": {},
   "outputs": [],
   "source": []
  },
  {
   "cell_type": "code",
   "execution_count": null,
   "metadata": {},
   "outputs": [],
   "source": []
  },
  {
   "cell_type": "markdown",
   "metadata": {},
   "source": [
    "<h2>Export dát</h2>\n",
    "\n",
    "<p>Rovnako ako dáta z rôznych formátov importujeme, v pandase je možné ich exportovať. Na export dát využívame podľa dátového typu tieto príkazy:</p>"
   ]
  },
  {
   "cell_type": "markdown",
   "metadata": {},
   "source": [
    "<h5>Export dát do CSV súboru</h5>\n",
    "df.to_csv(filename)\n",
    "\n",
    "<h5>Export dát do excel súboru</h5>\n",
    "df.to_excel(filename)\n",
    "\n",
    "<h5>Export dát do SQL tabuľky</h5>\n",
    "df.to_sql(table_name, connection_object)\n",
    "\n",
    "<h5>Export dát do JSONu</h5>\n",
    "df.to_json(filename)"
   ]
  },
  {
   "cell_type": "code",
   "execution_count": null,
   "metadata": {},
   "outputs": [],
   "source": []
  },
  {
   "cell_type": "code",
   "execution_count": null,
   "metadata": {},
   "outputs": [],
   "source": []
  },
  {
   "cell_type": "code",
   "execution_count": null,
   "metadata": {},
   "outputs": [],
   "source": []
  },
  {
   "cell_type": "code",
   "execution_count": null,
   "metadata": {},
   "outputs": [],
   "source": []
  },
  {
   "cell_type": "code",
   "execution_count": null,
   "metadata": {},
   "outputs": [],
   "source": []
  }
 ],
 "metadata": {
  "kernelspec": {
   "display_name": "Python 3",
   "language": "python",
   "name": "python3"
  },
  "language_info": {
   "codemirror_mode": {
    "name": "ipython",
    "version": 3
   },
   "file_extension": ".py",
   "mimetype": "text/x-python",
   "name": "python",
   "nbconvert_exporter": "python",
   "pygments_lexer": "ipython3",
   "version": "3.6.4"
  }
 },
 "nbformat": 4,
 "nbformat_minor": 2
}
