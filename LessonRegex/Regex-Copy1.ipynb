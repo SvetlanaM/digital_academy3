{
 "cells": [
  {
   "cell_type": "markdown",
   "metadata": {},
   "source": [
    "<h1>Regulárne výrazy - Regexy</h1>\n",
    "\n",
    "<p>Pri práci s dátami alebo obecne s textovými reťazcami v Pythone, môžeme naraziť na rôzne situácie, kedy nám nebudú postačovať základné Python metódy a funkcie ako <code>split()</code>, <code>join()</code>, <code>find()</code>, <code>index()</code>, <code>replace()</code> a podobne.</p>\n",
    "\n",
    "<h2>CTRL+F</h2>\n",
    "<p>Každý z nás už isto vyhľadával informácie pomocou príkazu <code>CTRL+F</code>. Regulárne výrazy nám umožňujú vyhľadávať na rovnakom princípe, s tým rozdielom, že je možné si definovať <b>\"pattern\"</b>, podľa ktorého hľadáme v texte.</p>"
   ]
  },
  {
   "cell_type": "markdown",
   "metadata": {},
   "source": [
    "<h2>Príklady využitia regexov</h2>\n",
    "\n",
    "<p>Využitie regexov nemá medze a je možné ich využívať v rozličných odvetviach na rôzne use casy, napríklad:</p>\n",
    "\n",
    "<ul>\n",
    "    <li>scrapovanie dát z webových stránok</li>\n",
    "    <li>čistenie štruktúrovaných/neštruktúrovaných dát</li>\n",
    "    <li>vyhľadávanie</li>\n",
    "    <li>vývoj webových/mobilných aplikácií (emaily, telefónne čísla, heslá, ip adresy)</li>\n",
    "    <li>úprava súborov a formátovania</li>\n",
    "    <li>machine learning</li>\n",
    "    <li>textová analýza</li>\n",
    "    <li>...</li>\n",
    "</ul>"
   ]
  },
  {
   "cell_type": "markdown",
   "metadata": {},
   "source": [
    "<h2>Štruktúrované vs. neštruktúrované dáta</h2>\n",
    "\n",
    "<img src=\"http://www.plus2net.com/php_tutorial/images/pdf-student-table.jpg\" />\n",
    "<img src=\"https://i.stack.imgur.com/2yRyh.png\" />"
   ]
  },
  {
   "cell_type": "markdown",
   "metadata": {},
   "source": [
    "<h2>Práca s regexami v Pythone</h2>\n",
    "\n",
    "<p>V Pythone je možné pracovať s regexami pomocou modulu s názvom <code>re</code>, ktorý obsahuje všetky potrebné funkcie a metódy na prácu. V prvom kroku, si muísme modul importnúť, aby sme jeho a dané funkcie a metódy mohli používať v našom kóde. Modul re je súčasťou Pythonu, nie je potrebné inštalovať žiadne dodatočné knižnice/moduly.</p>"
   ]
  },
  {
   "cell_type": "code",
   "execution_count": 1,
   "metadata": {},
   "outputs": [],
   "source": [
    "#Import modulu s nazvom re\n",
    "import re"
   ]
  },
  {
   "cell_type": "markdown",
   "metadata": {},
   "source": [
    "<table style=\"width: 720px\"><thead><tr>\n",
    "\t\t<td>Sekvence</td>\n",
    "\t\t<td>Význam</td>\n",
    "\t</tr></thead><tbody>\n",
    "\t<tr>\n",
    "\t\t<td>\\t</td>\n",
    "\t\t<td>tabulátor</td>\n",
    "\t</tr>\n",
    "\t<tr>\n",
    "\t\t<td>\\n</td>\n",
    "\t\t<td>nový řádek</td>\n",
    "\t</tr>\n",
    "<tr>\n",
    "\t\t<td>\\b</td>\n",
    "\t\t<td>začátek nebo konec slova</td>\n",
    "\t</tr>\n",
    "<tr>\n",
    "\t\t<td>\\B</td>\n",
    "\t\t<td>místo, které není na začátku ani na konci slova</td>\n",
    "\t</tr>\n",
    "<tr>\n",
    "\t\t<td>\\d</td>\n",
    "\t\t<td>číslice</td>\n",
    "\t</tr>\n",
    "<tr>\n",
    "\t\t<td>\\D</td>\n",
    "\t\t<td>libovolný znak, který není číslicí</td>\n",
    "\t</tr>\n",
    "\n",
    "<tr>\n",
    "\t\t<td>\\w</td>\n",
    "\t\t<td>libovolné písmeno, číslice včetně podtržítka</td>\n",
    "\t</tr>\n",
    "<tr>\n",
    "\t\t<td>\\W</td>\n",
    "\t\t<td>libovolný znak, který není písmeno, číslice včetně podtržítka</td>\n",
    "\t</tr>\n",
    "<tr>\n",
    "\t\t<td>\\\\</td>\n",
    "\t\t<td>zpětné lomítko</td>\n",
    "\t</tr>\n",
    "<tr>\n",
    "\t\t<td>\\s</td>\n",
    "\t\t<td>neviditelný znak (tabulátor, nový řádek…)</td>\n",
    "\t</tr>\n",
    "<tr>\n",
    "\t\t<td>\\S</td>\n",
    "\t\t<td>znak, který není neviditelný znak</td>\n",
    "\t</tr>\n",
    "    \n",
    "    <tr>\n",
    "\t\t<td>^</td>\n",
    "\t\t<td>začiatok reťazca</td>\n",
    "\t</tr>\n",
    "    \n",
    "    <tr>\n",
    "\t\t<td>$</td>\n",
    "\t\t<td>koniec reťazca</td>\n",
    "\t</tr>\n",
    "\n",
    "</tbody></table>"
   ]
  },
  {
   "cell_type": "markdown",
   "metadata": {},
   "source": [
    "<h2>Príklad: Telefónne čísla</h2>"
   ]
  },
  {
   "cell_type": "markdown",
   "metadata": {},
   "source": [
    "<p>Jedným z pomerne často vyskytujúcich sa use casov je práca s telefónnymi číslami. Telefónne čísla (pracujeme s dátami v rámci Česka a Slovenska) môžu byť v nasledujúcich formátoch:</p>\n",
    "\n",
    "<ul>\n",
    "    <li>123456789</li>\n",
    "    <li>+420123456789</li>\n",
    "    <li>00420123456789</li>\n",
    "    <li>0905123456789</li>\n",
    "    <li>+421905123456789</li>\n",
    "    <li>...</li>\n",
    "</ul>"
   ]
  },
  {
   "cell_type": "code",
   "execution_count": 2,
   "metadata": {},
   "outputs": [],
   "source": [
    "#Vytvorime si pattern pre najdenie telefonnych cisel a ulozime si ho do premennej s nazvom phone_regex\n",
    "phone_regex = re.compile(r'\\d\\d\\d\\d\\d\\d\\d\\d\\d')"
   ]
  },
  {
   "cell_type": "markdown",
   "metadata": {},
   "source": [
    "<code>re.compile</code> má na starosti prevod patternu na regex objekt, ktorý môže byť nájdený pomocou metódy <code>search()</code> alebo <code>match()</code>"
   ]
  },
  {
   "cell_type": "markdown",
   "metadata": {},
   "source": [
    "<p>Prefix <code>r'</code> znamená, že pracujeme s <b>raw string</b> = je ignorované escapovanie znakov. Viď ukážka nižšie.</p>"
   ]
  },
  {
   "cell_type": "code",
   "execution_count": 3,
   "metadata": {},
   "outputs": [
    {
     "name": "stdout",
     "output_type": "stream",
     "text": [
      "Ahoj \n",
      "Svet\n"
     ]
    }
   ],
   "source": [
    "print('Ahoj \\nSvet')"
   ]
  },
  {
   "cell_type": "code",
   "execution_count": 4,
   "metadata": {},
   "outputs": [
    {
     "name": "stdout",
     "output_type": "stream",
     "text": [
      "Ahoj \\nSvet\n"
     ]
    }
   ],
   "source": [
    "print(r'Ahoj \\nSvet')"
   ]
  },
  {
   "cell_type": "markdown",
   "metadata": {},
   "source": [
    "<h2>Search()</h2>\n",
    "<p>V tejto chvíli vyhľadávame nad textom pomocou search(), ktorý vráti buď:</p>\n",
    "<ul>\n",
    "    <li><code>None</code> - ak nenájde žiadnu zhodu</li>\n",
    "    <li><code>Match objekt</code> - ak nájde zhodu (1 alebo viac)</li>\n",
    "</ul>\n",
    "\n",
    "<p>Search() hľadá vždy prvý výskyt</p>"
   ]
  },
  {
   "cell_type": "code",
   "execution_count": 5,
   "metadata": {},
   "outputs": [],
   "source": [
    "#Do premennej my_number si ulozime vysledky vratene metodou search() nad telefonnym cislom\n",
    "my_number = phone_regex.search('My number is 123456789')"
   ]
  },
  {
   "cell_type": "code",
   "execution_count": 6,
   "metadata": {},
   "outputs": [
    {
     "data": {
      "text/plain": [
       "<_sre.SRE_Match object; span=(13, 22), match='123456789'>"
      ]
     },
     "execution_count": 6,
     "metadata": {},
     "output_type": "execute_result"
    }
   ],
   "source": [
    "my_number"
   ]
  },
  {
   "cell_type": "markdown",
   "metadata": {},
   "source": [
    "<h2>Match()</h2>\n",
    "<p>Match objekt obsahuje v sebe už nájdené výsledky (1 alebo viac), ktorý obsahuje metódu <code>group()</code>, pomocou ktorej si výsledky vypíšeme.</p>"
   ]
  },
  {
   "cell_type": "code",
   "execution_count": 16,
   "metadata": {},
   "outputs": [
    {
     "name": "stdout",
     "output_type": "stream",
     "text": [
      "Phone number found: 420123456789\n"
     ]
    }
   ],
   "source": [
    "print('Phone number found: ' + my_number.group())"
   ]
  },
  {
   "cell_type": "markdown",
   "metadata": {},
   "source": [
    "<h2>Zgrupovanie cez zátvorky</h2>\n",
    "<p>Taktiež môžeme hľadaný výraz zgrupiť cez <code>(\\d\\d\\d)(\\d\\d\\d\\d\\d\\d)</code>, čo nám umožní vybrať výsledky iba z vybranej skupiny.</p>"
   ]
  },
  {
   "cell_type": "code",
   "execution_count": 11,
   "metadata": {},
   "outputs": [],
   "source": [
    "phone_regex = re.compile(r'(\\d\\d\\d)(\\d\\d\\d\\d\\d\\d\\d\\d\\d)')"
   ]
  },
  {
   "cell_type": "code",
   "execution_count": 12,
   "metadata": {},
   "outputs": [],
   "source": [
    "my_number = phone_regex.search('My number is: 420123456789')"
   ]
  },
  {
   "cell_type": "code",
   "execution_count": 13,
   "metadata": {},
   "outputs": [
    {
     "data": {
      "text/plain": [
       "<_sre.SRE_Match object; span=(14, 26), match='420123456789'>"
      ]
     },
     "execution_count": 13,
     "metadata": {},
     "output_type": "execute_result"
    }
   ],
   "source": [
    "my_number"
   ]
  },
  {
   "cell_type": "code",
   "execution_count": 14,
   "metadata": {},
   "outputs": [
    {
     "data": {
      "text/plain": [
       "('420', '123456789')"
      ]
     },
     "execution_count": 14,
     "metadata": {},
     "output_type": "execute_result"
    }
   ],
   "source": [
    "#Vypis vsetkych skupin ako tuple\n",
    "my_number.groups()"
   ]
  },
  {
   "cell_type": "code",
   "execution_count": 17,
   "metadata": {},
   "outputs": [],
   "source": [
    "prefix, number = my_number.groups()"
   ]
  },
  {
   "cell_type": "code",
   "execution_count": 18,
   "metadata": {},
   "outputs": [
    {
     "name": "stdout",
     "output_type": "stream",
     "text": [
      "Prefix is:  420 \n",
      "Number is:  123456789\n"
     ]
    }
   ],
   "source": [
    "print('Prefix is: ', prefix, '\\n''Number is: ', number)"
   ]
  },
  {
   "cell_type": "code",
   "execution_count": 19,
   "metadata": {},
   "outputs": [
    {
     "data": {
      "text/plain": [
       "'420123456789'"
      ]
     },
     "execution_count": 19,
     "metadata": {},
     "output_type": "execute_result"
    }
   ],
   "source": [
    "#Vypis oboch skupin\n",
    "my_number.group()"
   ]
  },
  {
   "cell_type": "code",
   "execution_count": 20,
   "metadata": {},
   "outputs": [
    {
     "data": {
      "text/plain": [
       "'420123456789'"
      ]
     },
     "execution_count": 20,
     "metadata": {},
     "output_type": "execute_result"
    }
   ],
   "source": [
    "#Alebo cez group bez 0\n",
    "my_number.group(0)"
   ]
  },
  {
   "cell_type": "code",
   "execution_count": 21,
   "metadata": {},
   "outputs": [
    {
     "data": {
      "text/plain": [
       "'420'"
      ]
     },
     "execution_count": 21,
     "metadata": {},
     "output_type": "execute_result"
    }
   ],
   "source": [
    "#Vypis prvej skupiny - prva zatvorka\n",
    "my_number.group(1)"
   ]
  },
  {
   "cell_type": "code",
   "execution_count": 22,
   "metadata": {},
   "outputs": [
    {
     "data": {
      "text/plain": [
       "'123456789'"
      ]
     },
     "execution_count": 22,
     "metadata": {},
     "output_type": "execute_result"
    }
   ],
   "source": [
    "#Vypis druhej skupiny - druha zatvorka\n",
    "my_number.group(2)"
   ]
  },
  {
   "cell_type": "markdown",
   "metadata": {},
   "source": [
    "<h2>Výber jednej alebo druhej podmienky</h2>\n",
    "\n",
    "<p>Rovnako ako v programovaní pri skladaní podmienok, je možné aj pri písaní patternu pre regex využívať OR - <code>|</code> - ktorý nám vráti buď prvú alebo druhú nájdenú zhodu (alebo n-tú, podľa počtu | v patterne). Vždy vracia prvý nájdený výsledok</p>"
   ]
  },
  {
   "cell_type": "code",
   "execution_count": 24,
   "metadata": {},
   "outputs": [],
   "source": [
    "phone_regex = re.compile(r'\\d\\d\\d|\\d')"
   ]
  },
  {
   "cell_type": "code",
   "execution_count": 25,
   "metadata": {},
   "outputs": [],
   "source": [
    "my_number = phone_regex.search('My number is 123456789')"
   ]
  },
  {
   "cell_type": "code",
   "execution_count": 30,
   "metadata": {},
   "outputs": [
    {
     "data": {
      "text/plain": [
       "'123'"
      ]
     },
     "execution_count": 30,
     "metadata": {},
     "output_type": "execute_result"
    }
   ],
   "source": [
    "my_number.group()"
   ]
  },
  {
   "cell_type": "markdown",
   "metadata": {},
   "source": [
    "<h2>Úlohy</h2>\n",
    "\n",
    "<ul>\n",
    "    <li>Do premennej <b>faculty</b> vložte regex pattern, ktorý bude hľadať fakultu <b>Chrabromil alebo Slizolin</b> pomocou <code>re.compile</code></li>\n",
    "    <li>Použite <code>search()</code> metódu nad textom <i>\"Klobuk sa pýta. Si Chrabromil alebo Slizolin?\".</i>Výsledok uložte do premennej <b>f</b>.</li>\n",
    "    <li>Vypíšte si cez <code>group()</code> výsledky</li>\n",
    "</ul>"
   ]
  },
  {
   "cell_type": "code",
   "execution_count": 31,
   "metadata": {},
   "outputs": [],
   "source": [
    "#1\n",
    "faculty = re.compile(r'Chrabromil|Slizolin')"
   ]
  },
  {
   "cell_type": "code",
   "execution_count": 36,
   "metadata": {},
   "outputs": [
    {
     "data": {
      "text/plain": [
       "'Slizolin'"
      ]
     },
     "execution_count": 36,
     "metadata": {},
     "output_type": "execute_result"
    }
   ],
   "source": [
    "#2\n",
    "faculty.search('Klobuk sa pýta. Si Slizolin alebo Chrabromil?').group()"
   ]
  },
  {
   "cell_type": "code",
   "execution_count": 35,
   "metadata": {},
   "outputs": [
    {
     "data": {
      "text/plain": [
       "'Slizolin'"
      ]
     },
     "execution_count": 35,
     "metadata": {},
     "output_type": "execute_result"
    }
   ],
   "source": [
    "#3\n",
    "f.group()"
   ]
  },
  {
   "cell_type": "markdown",
   "metadata": {},
   "source": [
    "<h2>Úlohy</h2>\n",
    "\n",
    "<ul>\n",
    "    <li>Skúste v texte prehodiť Chrabromil a Slizon naopak. - Klobuk sa pýta. Si Slizolin alebo Chrabromil?</li>\n",
    "</ul>"
   ]
  },
  {
   "cell_type": "code",
   "execution_count": null,
   "metadata": {},
   "outputs": [],
   "source": []
  },
  {
   "cell_type": "code",
   "execution_count": 37,
   "metadata": {},
   "outputs": [],
   "source": [
    "chrabromil = re.compile(r'Chrabromilský (klobúk|meč|kabát)')"
   ]
  },
  {
   "cell_type": "code",
   "execution_count": 38,
   "metadata": {},
   "outputs": [],
   "source": [
    "mo = chrabromil.search('Harry dostal na Vianoce Chrabromilský meč.')"
   ]
  },
  {
   "cell_type": "code",
   "execution_count": 39,
   "metadata": {},
   "outputs": [
    {
     "data": {
      "text/plain": [
       "'Chrabromilský meč'"
      ]
     },
     "execution_count": 39,
     "metadata": {},
     "output_type": "execute_result"
    }
   ],
   "source": [
    "mo.group()"
   ]
  },
  {
   "cell_type": "markdown",
   "metadata": {},
   "source": [
    "<h2>?, *, +</h2>\n",
    "\n",
    "<p>Pri práci s regexami môžeme definovať, či je hľadaný výraz povinný alebo nepovinný prostredníctvom operátorov:</p>\n",
    "\n",
    "<ul>\n",
    "    <li><code>?</code> - 0 - 1 zhôd (výraz sa tam môže nachádzať alebo nemusí)</li>\n",
    "    <li><code>\\*</code> - 0 - n zhôd (výraz sa tam môže nachádzať ľubovoľnom počte, alebo vôbec)</li>\n",
    "    <li><code>\\+</code> - 1 - n zhôd (výraz sa tam nachádza aspoň 1x alebo v ľubovoľnom počte)</li>\n",
    "</ul>"
   ]
  },
  {
   "cell_type": "code",
   "execution_count": 56,
   "metadata": {},
   "outputs": [],
   "source": [
    "#Ukazka 0 az 1\n",
    "chrabromil = re.compile(r'Chrabromilský (klobúk|(super)+meč|kabát)')"
   ]
  },
  {
   "cell_type": "code",
   "execution_count": 59,
   "metadata": {},
   "outputs": [],
   "source": [
    "mo = chrabromil.search('Harry dostal na Vianoce Chrabromilský supermeč.')"
   ]
  },
  {
   "cell_type": "code",
   "execution_count": 60,
   "metadata": {},
   "outputs": [
    {
     "data": {
      "text/plain": [
       "'Chrabromilský supermeč'"
      ]
     },
     "execution_count": 60,
     "metadata": {},
     "output_type": "execute_result"
    }
   ],
   "source": [
    "mo.group()"
   ]
  },
  {
   "cell_type": "code",
   "execution_count": null,
   "metadata": {},
   "outputs": [],
   "source": []
  },
  {
   "cell_type": "code",
   "execution_count": null,
   "metadata": {},
   "outputs": [],
   "source": []
  },
  {
   "cell_type": "code",
   "execution_count": 13,
   "metadata": {},
   "outputs": [],
   "source": [
    "#Ukazka 0 az N\n"
   ]
  },
  {
   "cell_type": "code",
   "execution_count": null,
   "metadata": {},
   "outputs": [],
   "source": []
  },
  {
   "cell_type": "code",
   "execution_count": null,
   "metadata": {},
   "outputs": [],
   "source": []
  },
  {
   "cell_type": "code",
   "execution_count": 14,
   "metadata": {},
   "outputs": [],
   "source": [
    "#Ukazka 1 az N\n"
   ]
  },
  {
   "cell_type": "code",
   "execution_count": null,
   "metadata": {},
   "outputs": [],
   "source": []
  },
  {
   "cell_type": "code",
   "execution_count": null,
   "metadata": {},
   "outputs": [],
   "source": []
  },
  {
   "cell_type": "markdown",
   "metadata": {},
   "source": [
    "<h2>Úlohy</h2>\n",
    "\n",
    "<ul>\n",
    "    <li>Do premennej <b>cool_regex</b> napíšte pattern, ktorý nájde vo vete slovo <b>cool</b>, bez ohľadu na to koľko krát sa tam môže vyskytnúť písmeno o. </li>\n",
    "    <li>Otestuj správnosť nad textovým výrazom <i>'Toto je cool'</i></li>\n",
    "    <li>Otestuj správnosť nad textovým výrazom <i>'Toto je cooooool'</i></li>\n",
    "</ul>"
   ]
  },
  {
   "cell_type": "code",
   "execution_count": 61,
   "metadata": {},
   "outputs": [],
   "source": [
    "cool_regex = re.compile(r'co*l')"
   ]
  },
  {
   "cell_type": "code",
   "execution_count": 63,
   "metadata": {},
   "outputs": [
    {
     "data": {
      "text/plain": [
       "'cooooool'"
      ]
     },
     "execution_count": 63,
     "metadata": {},
     "output_type": "execute_result"
    }
   ],
   "source": [
    "cool_regex.search('Toto je cooooool').group()"
   ]
  },
  {
   "cell_type": "markdown",
   "metadata": {},
   "source": [
    "<h2>Konkrétny počet hodnôt</h2>\n",
    "\n",
    "<p>Ak chceme vybrať konkrétny počet výskytu danej hodnoty, môžeme použiť <code>{počet</code>}.</p>"
   ]
  },
  {
   "cell_type": "code",
   "execution_count": 64,
   "metadata": {},
   "outputs": [],
   "source": [
    "phone_regex = re.compile(r'\\d\\d\\d\\d\\d')"
   ]
  },
  {
   "cell_type": "code",
   "execution_count": 65,
   "metadata": {},
   "outputs": [],
   "source": [
    "phone_regex = re.compile(r'\\d{9}')"
   ]
  },
  {
   "cell_type": "code",
   "execution_count": 68,
   "metadata": {},
   "outputs": [],
   "source": [
    "my_number = phone_regex.search('My number is: 123456789')"
   ]
  },
  {
   "cell_type": "code",
   "execution_count": 70,
   "metadata": {},
   "outputs": [
    {
     "data": {
      "text/plain": [
       "'123456789'"
      ]
     },
     "execution_count": 70,
     "metadata": {},
     "output_type": "execute_result"
    }
   ],
   "source": [
    "my_number.group()"
   ]
  },
  {
   "cell_type": "code",
   "execution_count": 71,
   "metadata": {},
   "outputs": [],
   "source": [
    "phone_regex = re.compile(r'\\d{3,9}')"
   ]
  },
  {
   "cell_type": "code",
   "execution_count": 72,
   "metadata": {},
   "outputs": [],
   "source": [
    "my_number = phone_regex.search('My number is: 123456')"
   ]
  },
  {
   "cell_type": "code",
   "execution_count": 73,
   "metadata": {},
   "outputs": [
    {
     "data": {
      "text/plain": [
       "'123456'"
      ]
     },
     "execution_count": 73,
     "metadata": {},
     "output_type": "execute_result"
    }
   ],
   "source": [
    "my_number.group()"
   ]
  },
  {
   "cell_type": "markdown",
   "metadata": {},
   "source": [
    "<h2>Úlohy</h2>\n",
    "\n",
    "<ul>\n",
    "    <li>Do premennej <b>find_r</b> ulož pattern, ktorý nájde výraz, obsahujúci viac ako 3 znaky. Pre viac ako je {pocet,}.</li>\n",
    "    <li>Použi pattern nad textovým výrazom 'Hr, Harry Potter nám utiekol s tekvicou.'</li>\n",
    "</ul>"
   ]
  },
  {
   "cell_type": "code",
   "execution_count": 74,
   "metadata": {},
   "outputs": [],
   "source": [
    "find_r = re.compile(r'\\w{3,}')"
   ]
  },
  {
   "cell_type": "code",
   "execution_count": 76,
   "metadata": {},
   "outputs": [
    {
     "data": {
      "text/plain": [
       "'Harry'"
      ]
     },
     "execution_count": 76,
     "metadata": {},
     "output_type": "execute_result"
    }
   ],
   "source": [
    "find_r.search('Hr, Harry Potter nám utiekol s tekvicou.').group()"
   ]
  },
  {
   "cell_type": "markdown",
   "metadata": {},
   "source": [
    "<h2>Findall()</h2>\n",
    "\n",
    "<p>Kým <code>search()</code> metóda vracia prvú nájdenú zhodu, <code>findall()</code> vracia všetky nájdené zhody nad hľadaným textom.</p>"
   ]
  },
  {
   "cell_type": "code",
   "execution_count": 77,
   "metadata": {},
   "outputs": [],
   "source": [
    "phone_regex = re.compile(r'\\d{3,9}')"
   ]
  },
  {
   "cell_type": "code",
   "execution_count": 78,
   "metadata": {},
   "outputs": [],
   "source": [
    "my_numbers = phone_regex.findall('My home number is 123456. My work number is 12345678')"
   ]
  },
  {
   "cell_type": "code",
   "execution_count": 81,
   "metadata": {},
   "outputs": [
    {
     "data": {
      "text/plain": [
       "['123456', '12345678']"
      ]
     },
     "execution_count": 81,
     "metadata": {},
     "output_type": "execute_result"
    }
   ],
   "source": [
    "my_numbers"
   ]
  },
  {
   "cell_type": "markdown",
   "metadata": {},
   "source": [
    "<h2>Úlohy</h2>\n",
    "\n",
    "<ul>\n",
    "    <li>Vytvorte si premennú s názvom find_stars a uložte do nej pattern, ktorý nájde všetky zhody obsahujúce v sebe -</li>\n",
    "    <li>Pattern otestujte nad výrazom \"Stars, stars, ---stars---\"</li>\n",
    "</ul>"
   ]
  },
  {
   "cell_type": "code",
   "execution_count": 82,
   "metadata": {},
   "outputs": [],
   "source": [
    "#konkretny znak pomocou [-]\n",
    "find_stars = re.compile(r'[-]+')"
   ]
  },
  {
   "cell_type": "code",
   "execution_count": 83,
   "metadata": {},
   "outputs": [
    {
     "data": {
      "text/plain": [
       "['---', '---']"
      ]
     },
     "execution_count": 83,
     "metadata": {},
     "output_type": "execute_result"
    }
   ],
   "source": [
    "find_stars.findall('Stars, stars, ---stars---')"
   ]
  },
  {
   "cell_type": "markdown",
   "metadata": {},
   "source": [
    "<h2>Vytuningovanie</h2>"
   ]
  },
  {
   "cell_type": "code",
   "execution_count": 87,
   "metadata": {},
   "outputs": [],
   "source": [
    "phone_regex2 = re.compile(r'[+]?\\d*')"
   ]
  },
  {
   "cell_type": "code",
   "execution_count": 90,
   "metadata": {},
   "outputs": [],
   "source": [
    "my_number = phone_regex2.search('420123456789')"
   ]
  },
  {
   "cell_type": "code",
   "execution_count": 91,
   "metadata": {},
   "outputs": [
    {
     "data": {
      "text/plain": [
       "'420123456789'"
      ]
     },
     "execution_count": 91,
     "metadata": {},
     "output_type": "execute_result"
    }
   ],
   "source": [
    "my_number.group()"
   ]
  },
  {
   "cell_type": "code",
   "execution_count": 92,
   "metadata": {},
   "outputs": [],
   "source": [
    "phone_regex3 = re.compile(r'[+|00]?\\d{2}[0|1]?\\d*')"
   ]
  },
  {
   "cell_type": "code",
   "execution_count": 93,
   "metadata": {},
   "outputs": [],
   "source": [
    "my_numbers = phone_regex3.findall('+42012345678, +421987654321, 00421123456, 12345678, ahoj')"
   ]
  },
  {
   "cell_type": "code",
   "execution_count": 94,
   "metadata": {},
   "outputs": [
    {
     "data": {
      "text/plain": [
       "['+42012345678', '+421987654321', '00421123456', '12345678']"
      ]
     },
     "execution_count": 94,
     "metadata": {},
     "output_type": "execute_result"
    }
   ],
   "source": [
    "my_numbers"
   ]
  },
  {
   "cell_type": "code",
   "execution_count": null,
   "metadata": {},
   "outputs": [],
   "source": []
  },
  {
   "cell_type": "code",
   "execution_count": null,
   "metadata": {},
   "outputs": [],
   "source": []
  },
  {
   "cell_type": "markdown",
   "metadata": {},
   "source": [
    "<h2>Začiatok a koniec reťazca</h2>"
   ]
  },
  {
   "cell_type": "code",
   "execution_count": 98,
   "metadata": {},
   "outputs": [],
   "source": [
    "phone_regex4 = re.compile(r'[+]?\\d{2}[0|1]?\\d*$')"
   ]
  },
  {
   "cell_type": "code",
   "execution_count": 101,
   "metadata": {},
   "outputs": [],
   "source": [
    "\n",
    "my_numbers = phone_regex4.findall('+42012345678, +421987654321, 00421123456, 12345678, ahoj, +421987654321')"
   ]
  },
  {
   "cell_type": "code",
   "execution_count": 102,
   "metadata": {},
   "outputs": [
    {
     "data": {
      "text/plain": [
       "['+421987654321']"
      ]
     },
     "execution_count": 102,
     "metadata": {},
     "output_type": "execute_result"
    }
   ],
   "source": [
    "my_numbers"
   ]
  },
  {
   "cell_type": "code",
   "execution_count": null,
   "metadata": {},
   "outputs": [],
   "source": []
  },
  {
   "cell_type": "code",
   "execution_count": null,
   "metadata": {},
   "outputs": [],
   "source": []
  },
  {
   "cell_type": "code",
   "execution_count": null,
   "metadata": {},
   "outputs": [],
   "source": []
  },
  {
   "cell_type": "markdown",
   "metadata": {},
   "source": [
    "<h2>Case sensitive</h2>\n",
    "\n",
    "<p>Regexy sú defaultne case sensitive - rozlišujú malé a veľké písmená. Ak chceme ignorovať toto pravidlo, je potrebné nastaviť <code>re.IGNORECASE</code>.</p>"
   ]
  },
  {
   "cell_type": "code",
   "execution_count": 103,
   "metadata": {},
   "outputs": [],
   "source": [
    "chrabromil = re.compile(r'Chrabromilský (klobúk|kabát)', re.IGNORECASE)"
   ]
  },
  {
   "cell_type": "code",
   "execution_count": 104,
   "metadata": {},
   "outputs": [],
   "source": [
    "mo = chrabromil.search('Harry dostal na Vianoce CHRABROMILSKý kabát.')"
   ]
  },
  {
   "cell_type": "code",
   "execution_count": 105,
   "metadata": {},
   "outputs": [
    {
     "data": {
      "text/plain": [
       "'CHRABROMILSKý kabát'"
      ]
     },
     "execution_count": 105,
     "metadata": {},
     "output_type": "execute_result"
    }
   ],
   "source": [
    "mo.group()"
   ]
  },
  {
   "cell_type": "code",
   "execution_count": 106,
   "metadata": {},
   "outputs": [],
   "source": [
    "foo_regex = re.compile(r'fo*?')"
   ]
  },
  {
   "cell_type": "code",
   "execution_count": 107,
   "metadata": {},
   "outputs": [
    {
     "data": {
      "text/plain": [
       "['f']"
      ]
     },
     "execution_count": 107,
     "metadata": {},
     "output_type": "execute_result"
    }
   ],
   "source": [
    "foo_regex.findall('foo')"
   ]
  },
  {
   "cell_type": "code",
   "execution_count": 108,
   "metadata": {},
   "outputs": [],
   "source": [
    "foo_regex = re.compile(r'fo*')"
   ]
  },
  {
   "cell_type": "code",
   "execution_count": 109,
   "metadata": {},
   "outputs": [
    {
     "data": {
      "text/plain": [
       "['foo']"
      ]
     },
     "execution_count": 109,
     "metadata": {},
     "output_type": "execute_result"
    }
   ],
   "source": [
    "foo_regex.findall('foo')"
   ]
  },
  {
   "cell_type": "code",
   "execution_count": 112,
   "metadata": {},
   "outputs": [],
   "source": [
    "import urllib"
   ]
  },
  {
   "cell_type": "code",
   "execution_count": 115,
   "metadata": {},
   "outputs": [],
   "source": [
    "import urllib.request\n",
    "with urllib.request.urlopen('http://python.org/') as response:\n",
    "   html = response.read()"
   ]
  },
  {
   "cell_type": "code",
   "execution_count": 126,
   "metadata": {},
   "outputs": [],
   "source": [
    "nadpisy = re.findall(r'<h(\\d)>(.*?)</h\\d>',\\\n",
    "str(html))"
   ]
  },
  {
   "cell_type": "code",
   "execution_count": 127,
   "metadata": {},
   "outputs": [
    {
     "data": {
      "text/plain": [
       "[('1', 'Functions Defined'),\n",
       " ('1', 'Compound Data Types'),\n",
       " ('1', 'Intuitive Interpretation'),\n",
       " ('1', 'Quick &amp; Easy to Learn'),\n",
       " ('1', 'All the Flow You&rsquo;d Expect')]"
      ]
     },
     "execution_count": 127,
     "metadata": {},
     "output_type": "execute_result"
    }
   ],
   "source": [
    "nadpisy"
   ]
  },
  {
   "cell_type": "markdown",
   "metadata": {},
   "source": [
    "<h2>Escapovanie znakov</h2>\n",
    "\n",
    "<p>Escapovanie sa robí pomocou <code>\\</code>. Je potrebné najmä preto, aby sme vedeli odlíšiť v texte operátory ako ., ?, *, prípadne iné znaky, ako úvodzovky.</p>"
   ]
  },
  {
   "cell_type": "markdown",
   "metadata": {},
   "source": [
    "<p>Príklad: Nájdite v texte všetky možné desatiné čísla na 1 alebo 2 desatiné miesta oddelene bodkou.</p>"
   ]
  },
  {
   "cell_type": "code",
   "execution_count": 134,
   "metadata": {},
   "outputs": [],
   "source": [
    "number_regex = re.compile(r'[0-9]+\\.{1}\\d{1,2}')"
   ]
  },
  {
   "cell_type": "code",
   "execution_count": 135,
   "metadata": {},
   "outputs": [],
   "source": [
    "numbers = number_regex.findall('123.11, 122.1, 123, 0.21')"
   ]
  },
  {
   "cell_type": "code",
   "execution_count": 136,
   "metadata": {},
   "outputs": [
    {
     "data": {
      "text/plain": [
       "['123.11', '122.1', '0.21']"
      ]
     },
     "execution_count": 136,
     "metadata": {},
     "output_type": "execute_result"
    }
   ],
   "source": [
    "numbers"
   ]
  },
  {
   "cell_type": "markdown",
   "metadata": {},
   "source": [
    "<h2>sub()</h2>\n",
    "\n",
    "<p>Keď chceme priamo nájdený pattern nahradiť za iný pattern, výraz, môžeme použiť <code>sub()</code>, kde prvou hodnotou je pattern , cim nahradzujeme a vstupné dáta.</p>"
   ]
  },
  {
   "cell_type": "code",
   "execution_count": 137,
   "metadata": {},
   "outputs": [],
   "source": [
    "text1 = '***//Python Excercies// - 12'"
   ]
  },
  {
   "cell_type": "code",
   "execution_count": 139,
   "metadata": {},
   "outputs": [],
   "source": [
    "pattern = re.compile('[\\W+]')"
   ]
  },
  {
   "cell_type": "code",
   "execution_count": 142,
   "metadata": {},
   "outputs": [
    {
     "data": {
      "text/plain": [
       "'PythonExcercies12'"
      ]
     },
     "execution_count": 142,
     "metadata": {},
     "output_type": "execute_result"
    }
   ],
   "source": [
    "pattern.sub('', text1)"
   ]
  },
  {
   "cell_type": "code",
   "execution_count": 143,
   "metadata": {},
   "outputs": [
    {
     "data": {
      "text/plain": [
       "'Ahoj Svet'"
      ]
     },
     "execution_count": 143,
     "metadata": {},
     "output_type": "execute_result"
    }
   ],
   "source": [
    "regex = re.compile(r'\\s+')\n",
    "text = 'Ahoj   Svet'\n",
    "regex.sub(' ', text)"
   ]
  },
  {
   "cell_type": "code",
   "execution_count": 145,
   "metadata": {},
   "outputs": [
    {
     "data": {
      "text/plain": [
       "['jan']"
      ]
     },
     "execution_count": 145,
     "metadata": {},
     "output_type": "execute_result"
    }
   ],
   "source": [
    "text = '01, jan 2018'\n",
    "re.findall('[a-zA-Z]+', text)"
   ]
  },
  {
   "cell_type": "markdown",
   "metadata": {},
   "source": [
    "<h1>Úloha</h1>\n",
    "\n",
    "<ul>\n",
    "    <li>Vypíšte z premennej text iba číselené hodnoty.</li>\n",
    "</ul>"
   ]
  },
  {
   "cell_type": "code",
   "execution_count": 146,
   "metadata": {},
   "outputs": [
    {
     "data": {
      "text/plain": [
       "['01', '2018']"
      ]
     },
     "execution_count": 146,
     "metadata": {},
     "output_type": "execute_result"
    }
   ],
   "source": [
    "re.findall('[0-9]+', text)"
   ]
  },
  {
   "cell_type": "markdown",
   "metadata": {},
   "source": [
    "<h2>Úlohy</h2>\n",
    "\n",
    "<ul>\n",
    "    <li>Z emailov \"zuck26@facebook.com, page33@google.com, jeff42@amazon.com\" vyparsujte cez regexy nasledujúci vystup uvedený nižšie.</li>\n",
    "</ul>"
   ]
  },
  {
   "cell_type": "code",
   "execution_count": 15,
   "metadata": {},
   "outputs": [],
   "source": [
    "emails = \"zuck26@facebook.com, page33@google.com, jeff42@amazon.com\"\n",
    "\n",
    "desired_output = [('zuck26', 'facebook', 'com'),\n",
    " ('page33', 'google', 'com'),\n",
    " ('jeff42', 'amazon', 'com')]"
   ]
  },
  {
   "cell_type": "code",
   "execution_count": null,
   "metadata": {},
   "outputs": [],
   "source": []
  },
  {
   "cell_type": "markdown",
   "metadata": {},
   "source": [
    "<h2>Úloha</h2>\n",
    "<ul>\n",
    "    <li>Vypíšte všetky slová, začínajúce na h alebo H z textu \"Hi, Harry, this is great. From hermiona\"</li>\n",
    "</ul>"
   ]
  },
  {
   "cell_type": "code",
   "execution_count": 147,
   "metadata": {},
   "outputs": [],
   "source": [
    "text = 'Hi, Harry, this is great. From hermiona'"
   ]
  },
  {
   "cell_type": "code",
   "execution_count": 149,
   "metadata": {},
   "outputs": [
    {
     "data": {
      "text/plain": [
       "['Hi', 'Harry', 'hermiona']"
      ]
     },
     "execution_count": 149,
     "metadata": {},
     "output_type": "execute_result"
    }
   ],
   "source": [
    "re.findall(r'\\bh\\w+', text, flags=re.IGNORECASE)"
   ]
  },
  {
   "cell_type": "code",
   "execution_count": null,
   "metadata": {},
   "outputs": [],
   "source": []
  },
  {
   "cell_type": "code",
   "execution_count": null,
   "metadata": {},
   "outputs": [],
   "source": []
  },
  {
   "cell_type": "code",
   "execution_count": null,
   "metadata": {},
   "outputs": [],
   "source": []
  },
  {
   "cell_type": "code",
   "execution_count": null,
   "metadata": {},
   "outputs": [],
   "source": []
  },
  {
   "cell_type": "code",
   "execution_count": null,
   "metadata": {},
   "outputs": [],
   "source": []
  }
 ],
 "metadata": {
  "kernelspec": {
   "display_name": "Python 3",
   "language": "python",
   "name": "python3"
  },
  "language_info": {
   "codemirror_mode": {
    "name": "ipython",
    "version": 3
   },
   "file_extension": ".py",
   "mimetype": "text/x-python",
   "name": "python",
   "nbconvert_exporter": "python",
   "pygments_lexer": "ipython3",
   "version": "3.6.4"
  }
 },
 "nbformat": 4,
 "nbformat_minor": 2
}
