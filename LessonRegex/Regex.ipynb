{
 "cells": [
  {
   "cell_type": "markdown",
   "metadata": {},
   "source": [
    "<h1>Regulárne výrazy - Regexy</h1>\n",
    "\n",
    "<p>Pri práci s dátami alebo obecne s textovými reťazcami v Pythone, môžeme naraziť na rôzne situácie, kedy nám nebudú postačovať základné Python metódy a funkcie ako <code>split()</code>, <code>join()</code>, <code>find()</code>, <code>index()</code>, <code>replace()</code> a podobne.</p>\n",
    "\n",
    "<h2>CTRL+F</h2>\n",
    "<p>Každý z nás už isto vyhľadával informácie pomocou príkazu <code>CTRL+F</code>. Regulárne výrazy nám umožňujú vyhľadávať na rovnakom princípe, s tým rozdielom, že je možné si definovať <b>\"pattern\"</b>, podľa ktorého hľadáme v texte.</p>"
   ]
  },
  {
   "cell_type": "markdown",
   "metadata": {},
   "source": [
    "<h2>Príklady využitia regexov</h2>\n",
    "\n",
    "<p>Využitie regexov nemá medze a je možné ich využívať v rozličných odvetviach na rôzne use casy, napríklad:</p>\n",
    "\n",
    "<ul>\n",
    "    <li>scrapovanie dát z webových stránok</li>\n",
    "    <li>čistenie štruktúrovaných/neštruktúrovaných dát</li>\n",
    "    <li>vyhľadávanie</li>\n",
    "    <li>vývoj webových/mobilných aplikácií (emaily, telefónne čísla, heslá, ip adresy)</li>\n",
    "    <li>úprava súborov a formátovania</li>\n",
    "    <li>machine learning</li>\n",
    "    <li>textová analýza</li>\n",
    "    <li>...</li>\n",
    "</ul>"
   ]
  },
  {
   "cell_type": "markdown",
   "metadata": {},
   "source": [
    "<h2>Štruktúrované vs. neštruktúrované dáta</h2>\n",
    "\n",
    "<img src=\"http://www.plus2net.com/php_tutorial/images/pdf-student-table.jpg\" />\n",
    "<img src=\"https://i.stack.imgur.com/2yRyh.png\" />"
   ]
  },
  {
   "cell_type": "markdown",
   "metadata": {},
   "source": [
    "<h2>Práca s regexami v Pythone</h2>\n",
    "\n",
    "<p>V Pythone je možné pracovať s regexami pomocou modulu s názvom <code>re</code>, ktorý obsahuje všetky potrebné funkcie a metódy na prácu. V prvom kroku, si muísme modul importnúť, aby sme jeho a dané funkcie a metódy mohli používať v našom kóde. Modul re je súčasťou Pythonu, nie je potrebné inštalovať žiadne dodatočné knižnice/moduly.</p>"
   ]
  },
  {
   "cell_type": "code",
   "execution_count": 912,
   "metadata": {},
   "outputs": [],
   "source": [
    "\n",
    "import re"
   ]
  },
  {
   "cell_type": "markdown",
   "metadata": {},
   "source": [
    "<table style=\"width: 720px\"><thead><tr>\n",
    "\t\t<td>Sekvence</td>\n",
    "\t\t<td>Význam</td>\n",
    "\t</tr></thead><tbody>\n",
    "\t<tr>\n",
    "\t\t<td>\\t</td>\n",
    "\t\t<td>tabulátor</td>\n",
    "\t</tr>\n",
    "\t<tr>\n",
    "\t\t<td>\\n</td>\n",
    "\t\t<td>nový řádek</td>\n",
    "\t</tr>\n",
    "<tr>\n",
    "\t\t<td>\\b</td>\n",
    "\t\t<td>začátek nebo konec slova</td>\n",
    "\t</tr>\n",
    "<tr>\n",
    "\t\t<td>\\B</td>\n",
    "\t\t<td>místo, které není na začátku ani na konci slova</td>\n",
    "\t</tr>\n",
    "<tr>\n",
    "\t\t<td>\\d</td>\n",
    "\t\t<td>číslice</td>\n",
    "\t</tr>\n",
    "<tr>\n",
    "\t\t<td>\\D</td>\n",
    "\t\t<td>libovolný znak, který není číslicí</td>\n",
    "\t</tr>\n",
    "\n",
    "<tr>\n",
    "\t\t<td>\\w</td>\n",
    "\t\t<td>libovolné písmeno, číslice včetně podtržítka</td>\n",
    "\t</tr>\n",
    "<tr>\n",
    "\t\t<td>\\W</td>\n",
    "\t\t<td>libovolný znak, který není písmeno, číslice včetně podtržítka</td>\n",
    "\t</tr>\n",
    "<tr>\n",
    "\t\t<td>\\\\</td>\n",
    "\t\t<td>zpětné lomítko</td>\n",
    "\t</tr>\n",
    "<tr>\n",
    "\t\t<td>\\s</td>\n",
    "\t\t<td>neviditelný znak (tabulátor, nový řádek…)</td>\n",
    "\t</tr>\n",
    "<tr>\n",
    "\t\t<td>\\S</td>\n",
    "\t\t<td>znak, který není neviditelný znak</td>\n",
    "\t</tr>\n",
    "    \n",
    "    <tr>\n",
    "\t\t<td>^</td>\n",
    "\t\t<td>začiatok reťazca</td>\n",
    "\t</tr>\n",
    "    \n",
    "    <tr>\n",
    "\t\t<td>$</td>\n",
    "\t\t<td>koniec reťazca</td>\n",
    "\t</tr>\n",
    "\n",
    "</tbody></table>"
   ]
  },
  {
   "cell_type": "markdown",
   "metadata": {},
   "source": [
    "<h2>Príklad: Telefónne čísla</h2>"
   ]
  },
  {
   "cell_type": "markdown",
   "metadata": {},
   "source": [
    "<p>Jedným z pomerne často vyskytujúcich sa use casov je práca s telefónnymi číslami. Telefónne čísla (pracujeme s dátami v rámci Česka a Slovenska) môžu byť v nasledujúcich formátoch:</p>\n",
    "\n",
    "<ul>\n",
    "    <li>123456789</li>\n",
    "    <li>+420123456789</li>\n",
    "    <li>00420123456789</li>\n",
    "    <li>0905123456789</li>\n",
    "    <li>+421905123456789</li>\n",
    "    <li>...</li>\n",
    "</ul>"
   ]
  },
  {
   "cell_type": "code",
   "execution_count": 913,
   "metadata": {},
   "outputs": [],
   "source": [
    "phone_regex = re.compile(r'\\d\\d\\d\\d\\d\\d\\d\\d\\d')"
   ]
  },
  {
   "cell_type": "markdown",
   "metadata": {},
   "source": [
    "<code>re.compile</code> má na starosti prevod patternu na regex objekt, ktorý môže byť nájdený pomocou metódy <code>search()</code> alebo <code>match()</code>"
   ]
  },
  {
   "cell_type": "markdown",
   "metadata": {},
   "source": [
    "<p>Prefix <code>r'</code> znamená, že pracujeme s <b>raw string</b> = je ignorované escapovanie znakov. Viď ukážka nižšie.</p>"
   ]
  },
  {
   "cell_type": "code",
   "execution_count": 634,
   "metadata": {},
   "outputs": [
    {
     "name": "stdout",
     "output_type": "stream",
     "text": [
      "Ahoj \n",
      "Svet\n"
     ]
    }
   ],
   "source": [
    "print('Ahoj \\nSvet')"
   ]
  },
  {
   "cell_type": "code",
   "execution_count": 635,
   "metadata": {},
   "outputs": [
    {
     "name": "stdout",
     "output_type": "stream",
     "text": [
      "Ahoj \\nSvet\n"
     ]
    }
   ],
   "source": [
    "print(r'Ahoj \\nSvet')"
   ]
  },
  {
   "cell_type": "markdown",
   "metadata": {},
   "source": [
    "<h2>Search()</h2>\n",
    "<p>V tejto chvíli vyhľadávame nad textom pomocou search(), ktorý vráti buď:</p>\n",
    "<ul>\n",
    "    <li><code>None</code> - ak nenájde žiadnu zhodu</li>\n",
    "    <li><code>Match objekt</code> - ak nájde zhodu (1 alebo viac)</li>\n",
    "</ul>\n",
    "\n",
    "<p>Search() hľadá vždy prvý výskyt</p>"
   ]
  },
  {
   "cell_type": "code",
   "execution_count": 914,
   "metadata": {},
   "outputs": [],
   "source": [
    "my_number = phone_regex.search('My number is 123456789.')"
   ]
  },
  {
   "cell_type": "code",
   "execution_count": 637,
   "metadata": {},
   "outputs": [
    {
     "data": {
      "text/plain": [
       "<_sre.SRE_Match object; span=(13, 22), match='123456789'>"
      ]
     },
     "execution_count": 637,
     "metadata": {},
     "output_type": "execute_result"
    }
   ],
   "source": [
    "my_number"
   ]
  },
  {
   "cell_type": "markdown",
   "metadata": {},
   "source": [
    "<h2>Match()</h2>\n",
    "<p>Match objekt obsahuje v sebe už nájdené výsledky (1 alebo viac), ktorý obsahuje metódu <code>group()</code>, pomocou ktorej si výsledky vypíšeme.</p>"
   ]
  },
  {
   "cell_type": "code",
   "execution_count": 638,
   "metadata": {},
   "outputs": [
    {
     "name": "stdout",
     "output_type": "stream",
     "text": [
      "Phone number found: 123456789\n"
     ]
    }
   ],
   "source": [
    "print('Phone number found: ' + my_number.group())"
   ]
  },
  {
   "cell_type": "markdown",
   "metadata": {},
   "source": [
    "<h2>Zgrupovanie cez zátvorky</h2>\n",
    "<p>Taktiež môžeme hľadaný výraz zgrupiť cez <code>(\\d\\d\\d)(\\d\\d\\d\\d\\d\\d)</code>, čo nám umožní vybrať výsledky iba z vybranej skupiny.</p>"
   ]
  },
  {
   "cell_type": "code",
   "execution_count": 640,
   "metadata": {},
   "outputs": [],
   "source": [
    "phone_regex = re.compile(r'(\\d\\d\\d)(\\d\\d\\d\\d\\d\\d\\d\\d\\d)')"
   ]
  },
  {
   "cell_type": "code",
   "execution_count": 641,
   "metadata": {},
   "outputs": [],
   "source": [
    "my_number = phone_regex.search('My number is 420123456789.')"
   ]
  },
  {
   "cell_type": "code",
   "execution_count": 642,
   "metadata": {},
   "outputs": [
    {
     "data": {
      "text/plain": [
       "<_sre.SRE_Match object; span=(13, 25), match='420123456789'>"
      ]
     },
     "execution_count": 642,
     "metadata": {},
     "output_type": "execute_result"
    }
   ],
   "source": [
    "my_number"
   ]
  },
  {
   "cell_type": "code",
   "execution_count": 915,
   "metadata": {},
   "outputs": [
    {
     "data": {
      "text/plain": [
       "()"
      ]
     },
     "execution_count": 915,
     "metadata": {},
     "output_type": "execute_result"
    }
   ],
   "source": [
    "my_number.groups()"
   ]
  },
  {
   "cell_type": "code",
   "execution_count": 644,
   "metadata": {},
   "outputs": [],
   "source": [
    "prefix, number = my_number.groups()"
   ]
  },
  {
   "cell_type": "code",
   "execution_count": 645,
   "metadata": {},
   "outputs": [
    {
     "name": "stdout",
     "output_type": "stream",
     "text": [
      "Prefix is: 420 \n",
      "Number is: 123456789\n"
     ]
    }
   ],
   "source": [
    "print('Prefix is:', prefix,'\\n''Number is:', number)"
   ]
  },
  {
   "cell_type": "code",
   "execution_count": 916,
   "metadata": {},
   "outputs": [
    {
     "data": {
      "text/plain": [
       "'123456789'"
      ]
     },
     "execution_count": 916,
     "metadata": {},
     "output_type": "execute_result"
    }
   ],
   "source": [
    "my_number.group(0)"
   ]
  },
  {
   "cell_type": "code",
   "execution_count": 917,
   "metadata": {},
   "outputs": [
    {
     "data": {
      "text/plain": [
       "'123456789'"
      ]
     },
     "execution_count": 917,
     "metadata": {},
     "output_type": "execute_result"
    }
   ],
   "source": [
    "my_number.group()"
   ]
  },
  {
   "cell_type": "code",
   "execution_count": 918,
   "metadata": {},
   "outputs": [
    {
     "ename": "IndexError",
     "evalue": "no such group",
     "output_type": "error",
     "traceback": [
      "\u001b[0;31m---------------------------------------------------------------------------\u001b[0m",
      "\u001b[0;31mIndexError\u001b[0m                                Traceback (most recent call last)",
      "\u001b[0;32m<ipython-input-918-7a0c5fb444b6>\u001b[0m in \u001b[0;36m<module>\u001b[0;34m()\u001b[0m\n\u001b[0;32m----> 1\u001b[0;31m \u001b[0mmy_number\u001b[0m\u001b[0;34m.\u001b[0m\u001b[0mgroup\u001b[0m\u001b[0;34m(\u001b[0m\u001b[0;36m1\u001b[0m\u001b[0;34m)\u001b[0m\u001b[0;34m\u001b[0m\u001b[0m\n\u001b[0m",
      "\u001b[0;31mIndexError\u001b[0m: no such group"
     ]
    }
   ],
   "source": [
    "my_number.group(1)"
   ]
  },
  {
   "cell_type": "code",
   "execution_count": 649,
   "metadata": {},
   "outputs": [
    {
     "data": {
      "text/plain": [
       "'123456789'"
      ]
     },
     "execution_count": 649,
     "metadata": {},
     "output_type": "execute_result"
    }
   ],
   "source": [
    "my_number.group(2)"
   ]
  },
  {
   "cell_type": "markdown",
   "metadata": {},
   "source": [
    "<h2>Výber jednej alebo druhej podmienky</h2>\n",
    "\n",
    "<p>Rovnako ako v programovaní pri skladaní podmienok, je možné aj pri písaní patternu pre regex využívať OR - <code>|</code> - ktorý nám vráti buď prvú alebo druhú nájdenú zhodu (alebo n-tú, podľa počtu | v patterne). Vždy vracia prvý nájdený výsledok</p>"
   ]
  },
  {
   "cell_type": "code",
   "execution_count": 650,
   "metadata": {},
   "outputs": [],
   "source": [
    "phone_regex = re.compile(r'\\d\\d\\d|\\d')"
   ]
  },
  {
   "cell_type": "code",
   "execution_count": 651,
   "metadata": {},
   "outputs": [],
   "source": [
    "my_number = phone_regex.search('My number is 123456789.')"
   ]
  },
  {
   "cell_type": "code",
   "execution_count": 652,
   "metadata": {},
   "outputs": [
    {
     "data": {
      "text/plain": [
       "'123'"
      ]
     },
     "execution_count": 652,
     "metadata": {},
     "output_type": "execute_result"
    }
   ],
   "source": [
    "my_number.group()"
   ]
  },
  {
   "cell_type": "markdown",
   "metadata": {},
   "source": [
    "<h2>Úlohy</h2>\n",
    "\n",
    "<ul>\n",
    "    <li>Do premennej <b>faculty</b> vložte regex pattern, ktorý bude hľadať fakultu <b>Chrabromil alebo Slizolin</b> pomocou <code>re.compile</code></li>\n",
    "    <li>Použite <code>search()</code> metódu nad textom <i>\"Klobuk sa pýta. Si Chrabromil alebo Slizolin?\".</i>Výsledok uložte do premennej <b>f</b>.</li>\n",
    "    <li>Vypíšte si cez <code>group()</code> výsledky</li>\n",
    "</ul>"
   ]
  },
  {
   "cell_type": "code",
   "execution_count": 653,
   "metadata": {},
   "outputs": [],
   "source": [
    "\n",
    "faculty = re.compile (r'Chrabromil|Slizolin')"
   ]
  },
  {
   "cell_type": "code",
   "execution_count": 654,
   "metadata": {},
   "outputs": [],
   "source": [
    "\n",
    "f = faculty.search('Klobuk sa pýta. Si Chrabromil alebo Slizolin?')"
   ]
  },
  {
   "cell_type": "code",
   "execution_count": 655,
   "metadata": {},
   "outputs": [
    {
     "data": {
      "text/plain": [
       "'Chrabromil'"
      ]
     },
     "execution_count": 655,
     "metadata": {},
     "output_type": "execute_result"
    }
   ],
   "source": [
    "\n",
    "f.group()"
   ]
  },
  {
   "cell_type": "markdown",
   "metadata": {},
   "source": [
    "<h2>Úlohy</h2>\n",
    "\n",
    "<ul>\n",
    "    <li>Skúste v texte prehodiť Chrabromil a Slizon naopak. - Klobuk sa pýta. Si Slizolin alebo Chrabromil?</li>\n",
    "</ul>"
   ]
  },
  {
   "cell_type": "code",
   "execution_count": 656,
   "metadata": {},
   "outputs": [],
   "source": [
    "f = faculty.search('Klobuk sa pýta. Si Slizolin alebo Chrabromil?')"
   ]
  },
  {
   "cell_type": "code",
   "execution_count": 657,
   "metadata": {},
   "outputs": [
    {
     "data": {
      "text/plain": [
       "'Slizolin'"
      ]
     },
     "execution_count": 657,
     "metadata": {},
     "output_type": "execute_result"
    }
   ],
   "source": [
    "f.group()"
   ]
  },
  {
   "cell_type": "code",
   "execution_count": 658,
   "metadata": {},
   "outputs": [],
   "source": [
    "chrabromil = re.compile(r'Chrabromilský (klobúk|meč|kabát)')\n",
    "mo = chrabromil.search('Harry dostal na Vianoce Chrabromilský meč.')"
   ]
  },
  {
   "cell_type": "code",
   "execution_count": 659,
   "metadata": {},
   "outputs": [
    {
     "data": {
      "text/plain": [
       "'Chrabromilský meč'"
      ]
     },
     "execution_count": 659,
     "metadata": {},
     "output_type": "execute_result"
    }
   ],
   "source": [
    "mo.group()"
   ]
  },
  {
   "cell_type": "markdown",
   "metadata": {},
   "source": [
    "<h2>?, *, +</h2>\n",
    "\n",
    "<p>Pri práci s regexami môžeme definovať, či je hľadaný výraz povinný alebo nepovinný prostredníctvom operátorov:</p>\n",
    "\n",
    "<ul>\n",
    "    <li><code>?</code> - 0 - 1 zhôd (výraz sa tam môže nachádzať alebo nemusí)</li>\n",
    "    <li><code>\\*</code> - 0 - n zhôd (výraz sa tam môže nachádzať ľubovoľnom počte, alebo vôbec)</li>\n",
    "    <li><code>\\+</code> - 1 - n zhôd (výraz sa tam nachádza aspoň 1x alebo v ľubovoľnom počte)</li>\n",
    "</ul>"
   ]
  },
  {
   "cell_type": "code",
   "execution_count": 683,
   "metadata": {},
   "outputs": [],
   "source": [
    "\n",
    "chrabromil = re.compile(r'Chrabromilský (klobúk|(super)?meč|kabát)')"
   ]
  },
  {
   "cell_type": "code",
   "execution_count": 684,
   "metadata": {},
   "outputs": [],
   "source": [
    "mo = chrabromil.search('Harry dostal na Vianoce Chrabromilský meč.')"
   ]
  },
  {
   "cell_type": "code",
   "execution_count": 685,
   "metadata": {},
   "outputs": [
    {
     "data": {
      "text/plain": [
       "'Chrabromilský meč'"
      ]
     },
     "execution_count": 685,
     "metadata": {},
     "output_type": "execute_result"
    }
   ],
   "source": [
    "mo.group()"
   ]
  },
  {
   "cell_type": "code",
   "execution_count": 686,
   "metadata": {},
   "outputs": [],
   "source": [
    "mo = chrabromil.search('Harry dostal na Vianoce Chrabromilský supermeč.')"
   ]
  },
  {
   "cell_type": "code",
   "execution_count": 687,
   "metadata": {},
   "outputs": [
    {
     "data": {
      "text/plain": [
       "'Chrabromilský supermeč'"
      ]
     },
     "execution_count": 687,
     "metadata": {},
     "output_type": "execute_result"
    }
   ],
   "source": [
    "mo.group()"
   ]
  },
  {
   "cell_type": "code",
   "execution_count": 667,
   "metadata": {},
   "outputs": [],
   "source": [
    "\n",
    "chrabromil = re.compile(r'Chrabromilský (klobúk|(super)*meč|kabát)')"
   ]
  },
  {
   "cell_type": "code",
   "execution_count": 674,
   "metadata": {},
   "outputs": [],
   "source": [
    "mo = chrabromil.search('Harry dostal na Vianoce Chrabromilský supersupersupermeč.')"
   ]
  },
  {
   "cell_type": "code",
   "execution_count": 675,
   "metadata": {},
   "outputs": [
    {
     "data": {
      "text/plain": [
       "'Chrabromilský supersupersupermeč'"
      ]
     },
     "execution_count": 675,
     "metadata": {},
     "output_type": "execute_result"
    }
   ],
   "source": [
    "mo.group()"
   ]
  },
  {
   "cell_type": "code",
   "execution_count": 676,
   "metadata": {},
   "outputs": [],
   "source": [
    "\n",
    "chrabromil = re.compile(r'Chrabromilský (klobúk|(super)+meč|kabát)')"
   ]
  },
  {
   "cell_type": "code",
   "execution_count": 681,
   "metadata": {},
   "outputs": [],
   "source": [
    "mo = chrabromil.search('Harry dostal na Vianoce Chrabromilský supersupersupermeč.')"
   ]
  },
  {
   "cell_type": "code",
   "execution_count": 682,
   "metadata": {},
   "outputs": [
    {
     "data": {
      "text/plain": [
       "'Chrabromilský supersupersupermeč'"
      ]
     },
     "execution_count": 682,
     "metadata": {},
     "output_type": "execute_result"
    }
   ],
   "source": [
    "mo.group()"
   ]
  },
  {
   "cell_type": "markdown",
   "metadata": {},
   "source": [
    "<h2>Úlohy</h2>\n",
    "\n",
    "<ul>\n",
    "    <li>Do premennej <b>cool_regex</b> napíšte pattern, ktorý nájde vo vete slovo <b>cool</b>, bez ohľadu na to koľko krát sa tam môže vyskytnúť písmeno o. </li>\n",
    "    <li>Otestuj správnosť nad textovým výrazom <i>'Toto je cool'</i></li>\n",
    "    <li>Otestuj správnosť nad textovým výrazom <i>'Toto je cooooool'</i></li>\n",
    "</ul>"
   ]
  },
  {
   "cell_type": "code",
   "execution_count": 688,
   "metadata": {},
   "outputs": [],
   "source": [
    "cool_regex = re.compile('co*l')"
   ]
  },
  {
   "cell_type": "code",
   "execution_count": 690,
   "metadata": {},
   "outputs": [
    {
     "data": {
      "text/plain": [
       "'cooooool'"
      ]
     },
     "execution_count": 690,
     "metadata": {},
     "output_type": "execute_result"
    }
   ],
   "source": [
    "cool_regex.search('Toto je cooooool').group()"
   ]
  },
  {
   "cell_type": "markdown",
   "metadata": {},
   "source": [
    "<h2>Konkrétny počet hodnôt</h2>\n",
    "\n",
    "<p>Ak chceme vybrať konkrétny počet výskytu danej hodnoty, môžeme použiť <code>{počet</code>}.</p>"
   ]
  },
  {
   "cell_type": "code",
   "execution_count": 691,
   "metadata": {},
   "outputs": [],
   "source": [
    "phone_regex = re.compile(r'\\d\\d\\d\\d\\d\\d\\d\\d\\d')"
   ]
  },
  {
   "cell_type": "code",
   "execution_count": 692,
   "metadata": {},
   "outputs": [],
   "source": [
    "phone_regex1 = re.compile(r'\\d{9}')"
   ]
  },
  {
   "cell_type": "code",
   "execution_count": 693,
   "metadata": {},
   "outputs": [],
   "source": [
    "my_number = phone_regex1.search('My number is 123456789.')"
   ]
  },
  {
   "cell_type": "code",
   "execution_count": 694,
   "metadata": {},
   "outputs": [
    {
     "data": {
      "text/plain": [
       "'123456789'"
      ]
     },
     "execution_count": 694,
     "metadata": {},
     "output_type": "execute_result"
    }
   ],
   "source": [
    "my_number.group()"
   ]
  },
  {
   "cell_type": "code",
   "execution_count": 695,
   "metadata": {},
   "outputs": [],
   "source": [
    "phone_regex2 = re.compile(r'\\d{3,9}')"
   ]
  },
  {
   "cell_type": "code",
   "execution_count": 696,
   "metadata": {},
   "outputs": [],
   "source": [
    "my_number = phone_regex2.search('My number is 123456.')"
   ]
  },
  {
   "cell_type": "code",
   "execution_count": 697,
   "metadata": {},
   "outputs": [
    {
     "data": {
      "text/plain": [
       "'123456'"
      ]
     },
     "execution_count": 697,
     "metadata": {},
     "output_type": "execute_result"
    }
   ],
   "source": [
    "my_number.group()"
   ]
  },
  {
   "cell_type": "markdown",
   "metadata": {},
   "source": [
    "<h2>Úlohy</h2>\n",
    "\n",
    "<ul>\n",
    "    <li>Do premennej <b>find_r</b> ulož pattern, ktorý nájde výraz, obsahujúci viac ako 3 znaky. Pre viac ako je {pocet,}.</li>\n",
    "    <li>Použi pattern nad textovým výrazom 'Hr, Harry Potter nám utiekol s tekvicou.'</li>\n",
    "</ul>"
   ]
  },
  {
   "cell_type": "code",
   "execution_count": 736,
   "metadata": {},
   "outputs": [],
   "source": [
    "find_r = re.compile('\\w{3,}')"
   ]
  },
  {
   "cell_type": "code",
   "execution_count": 737,
   "metadata": {},
   "outputs": [
    {
     "data": {
      "text/plain": [
       "'Harry'"
      ]
     },
     "execution_count": 737,
     "metadata": {},
     "output_type": "execute_result"
    }
   ],
   "source": [
    "find_r.search('Hr, Harry Potter nám utiekol s tekvicou.').group()"
   ]
  },
  {
   "cell_type": "markdown",
   "metadata": {},
   "source": [
    "<h2>Findall()</h2>\n",
    "\n",
    "<p>Kým <code>search()</code> metóda vracia prvú nájdenú zhodu, <code>findall()</code> vracia všetky nájdené zhody nad hľadaným textom.</p>"
   ]
  },
  {
   "cell_type": "code",
   "execution_count": 738,
   "metadata": {},
   "outputs": [],
   "source": [
    "phone_regex2 = re.compile(r'\\d{3,9}')"
   ]
  },
  {
   "cell_type": "code",
   "execution_count": 739,
   "metadata": {},
   "outputs": [],
   "source": [
    "my_numbers = phone_regex2.findall('My home number is 123456. My work number is 987654321')"
   ]
  },
  {
   "cell_type": "code",
   "execution_count": 742,
   "metadata": {},
   "outputs": [
    {
     "data": {
      "text/plain": [
       "['123456', '987654321']"
      ]
     },
     "execution_count": 742,
     "metadata": {},
     "output_type": "execute_result"
    }
   ],
   "source": [
    "my_numbers"
   ]
  },
  {
   "cell_type": "markdown",
   "metadata": {},
   "source": [
    "<h2>Úlohy</h2>\n",
    "\n",
    "<ul>\n",
    "    <li>Vytvorte si premennú s názvom find_stars a uložte do nej pattern, ktorý nájde všetky zhody obsahujúce v sebe -</li>\n",
    "    <li>Pattern otestujte nad výrazom \"Stars, stars, ---stars---\"</li>\n",
    "</ul>"
   ]
  },
  {
   "cell_type": "code",
   "execution_count": 766,
   "metadata": {},
   "outputs": [
    {
     "data": {
      "text/plain": [
       "['---', '---']"
      ]
     },
     "execution_count": 766,
     "metadata": {},
     "output_type": "execute_result"
    }
   ],
   "source": [
    "find_stars = re.compile(r'[-]+')\n",
    "find_stars.findall(\"Stars, stars, ---stars---\")"
   ]
  },
  {
   "cell_type": "markdown",
   "metadata": {},
   "source": [
    "<h2>Vytuningovanie</h2>"
   ]
  },
  {
   "cell_type": "code",
   "execution_count": 743,
   "metadata": {},
   "outputs": [],
   "source": [
    "phone_regex2 = re.compile(r'[+]?\\d*')"
   ]
  },
  {
   "cell_type": "code",
   "execution_count": 744,
   "metadata": {},
   "outputs": [],
   "source": [
    "my_numbers = phone_regex2.search('+420987654321')"
   ]
  },
  {
   "cell_type": "code",
   "execution_count": 745,
   "metadata": {},
   "outputs": [
    {
     "data": {
      "text/plain": [
       "'+420987654321'"
      ]
     },
     "execution_count": 745,
     "metadata": {},
     "output_type": "execute_result"
    }
   ],
   "source": [
    "my_numbers.group()"
   ]
  },
  {
   "cell_type": "code",
   "execution_count": 746,
   "metadata": {},
   "outputs": [],
   "source": [
    "my_numbers = phone_regex2.search('987654321')"
   ]
  },
  {
   "cell_type": "code",
   "execution_count": 747,
   "metadata": {},
   "outputs": [
    {
     "data": {
      "text/plain": [
       "'987654321'"
      ]
     },
     "execution_count": 747,
     "metadata": {},
     "output_type": "execute_result"
    }
   ],
   "source": [
    "my_numbers.group()"
   ]
  },
  {
   "cell_type": "code",
   "execution_count": 754,
   "metadata": {},
   "outputs": [],
   "source": [
    "phone_regex3 = re.compile(r'[+|00]?\\d{2}[0|1]?\\d*')"
   ]
  },
  {
   "cell_type": "code",
   "execution_count": 755,
   "metadata": {},
   "outputs": [],
   "source": [
    "my_numbers = phone_regex3.findall('+420987654321, +421987654321, 0042198765432112349876, 123456789, ahoj')"
   ]
  },
  {
   "cell_type": "code",
   "execution_count": 756,
   "metadata": {},
   "outputs": [
    {
     "data": {
      "text/plain": [
       "['+420987654321', '+421987654321', '0042198765432112349876', '123456789']"
      ]
     },
     "execution_count": 756,
     "metadata": {},
     "output_type": "execute_result"
    }
   ],
   "source": [
    "my_numbers"
   ]
  },
  {
   "cell_type": "markdown",
   "metadata": {},
   "source": [
    "<h2>Začiatok a koniec reťazca</h2>"
   ]
  },
  {
   "cell_type": "code",
   "execution_count": 757,
   "metadata": {},
   "outputs": [],
   "source": [
    "\n",
    "phone_regex4 = re.compile(r'^[+]?\\d{2}[0|1]?\\d*')"
   ]
  },
  {
   "cell_type": "code",
   "execution_count": 758,
   "metadata": {},
   "outputs": [],
   "source": [
    "my_numbers = phone_regex4.findall('+420987654321, +421987654321, 12349876, 123456789, ahoj')"
   ]
  },
  {
   "cell_type": "code",
   "execution_count": 759,
   "metadata": {},
   "outputs": [
    {
     "data": {
      "text/plain": [
       "['+420987654321']"
      ]
     },
     "execution_count": 759,
     "metadata": {},
     "output_type": "execute_result"
    }
   ],
   "source": [
    "my_numbers"
   ]
  },
  {
   "cell_type": "code",
   "execution_count": 760,
   "metadata": {},
   "outputs": [],
   "source": [
    "\n",
    "phone_regex5 = re.compile(r'[+]?\\d{2}[0|1]?\\d*$')"
   ]
  },
  {
   "cell_type": "code",
   "execution_count": 761,
   "metadata": {},
   "outputs": [],
   "source": [
    "my_numbers = phone_regex5.findall('+420987654321, +421987654321, 12349876, ahoj, 123456789')"
   ]
  },
  {
   "cell_type": "code",
   "execution_count": 776,
   "metadata": {},
   "outputs": [
    {
     "data": {
      "text/plain": [
       "['123456789']"
      ]
     },
     "execution_count": 776,
     "metadata": {},
     "output_type": "execute_result"
    }
   ],
   "source": [
    "my_numbers"
   ]
  },
  {
   "cell_type": "markdown",
   "metadata": {},
   "source": [
    "<h2>Case sensitive</h2>\n",
    "\n",
    "<p>Regexy sú defaultne case sensitive - rozlišujú malé a veľké písmená. Ak chceme ignorovať toto pravidlo, je potrebné nastaviť <code>re.IGNORECASE</code>.</p>"
   ]
  },
  {
   "cell_type": "code",
   "execution_count": 789,
   "metadata": {},
   "outputs": [],
   "source": [
    "chrabromil = re.compile(r'Chrabromilský (klobúk|(super)?meč|kabát)', re.IGNORECASE)"
   ]
  },
  {
   "cell_type": "code",
   "execution_count": 790,
   "metadata": {},
   "outputs": [],
   "source": [
    "mo = chrabromil.search('Harry dostal na Vianoce CHRABROMILSKý Supermeč.')"
   ]
  },
  {
   "cell_type": "code",
   "execution_count": 791,
   "metadata": {},
   "outputs": [
    {
     "data": {
      "text/plain": [
       "'CHRABROMILSKý Supermeč'"
      ]
     },
     "execution_count": 791,
     "metadata": {},
     "output_type": "execute_result"
    }
   ],
   "source": [
    "mo.group()"
   ]
  },
  {
   "cell_type": "code",
   "execution_count": 792,
   "metadata": {},
   "outputs": [],
   "source": [
    "chrabromil = re.compile(r'[á, ý, ú]')"
   ]
  },
  {
   "cell_type": "code",
   "execution_count": 793,
   "metadata": {},
   "outputs": [],
   "source": [
    "mo = chrabromil.findall('Harry dostal na Vianoce CHRABROMILSKý Supermeč.')"
   ]
  },
  {
   "cell_type": "code",
   "execution_count": 794,
   "metadata": {},
   "outputs": [
    {
     "data": {
      "text/plain": [
       "[' ', ' ', ' ', ' ', 'ý', ' ']"
      ]
     },
     "execution_count": 794,
     "metadata": {},
     "output_type": "execute_result"
    }
   ],
   "source": [
    "mo"
   ]
  },
  {
   "cell_type": "code",
   "execution_count": 798,
   "metadata": {},
   "outputs": [],
   "source": [
    "chrabromil = re.compile(r'[b-d]', re.IGNORECASE)"
   ]
  },
  {
   "cell_type": "code",
   "execution_count": 799,
   "metadata": {},
   "outputs": [],
   "source": [
    "mo = chrabromil.findall('Harry dostal na Vianoce CHRABROMILSKý Supermeč.')"
   ]
  },
  {
   "cell_type": "code",
   "execution_count": 800,
   "metadata": {},
   "outputs": [
    {
     "data": {
      "text/plain": [
       "['d', 'c', 'C', 'B']"
      ]
     },
     "execution_count": 800,
     "metadata": {},
     "output_type": "execute_result"
    }
   ],
   "source": [
    "mo"
   ]
  },
  {
   "cell_type": "code",
   "execution_count": 828,
   "metadata": {},
   "outputs": [],
   "source": [
    "foo_regex = re.compile(r'fo*?')"
   ]
  },
  {
   "cell_type": "code",
   "execution_count": 829,
   "metadata": {},
   "outputs": [
    {
     "data": {
      "text/plain": [
       "['f']"
      ]
     },
     "execution_count": 829,
     "metadata": {},
     "output_type": "execute_result"
    }
   ],
   "source": [
    "foo_regex.findall('foo')"
   ]
  },
  {
   "cell_type": "markdown",
   "metadata": {},
   "source": [
    "<h2>Escapovanie znakov</h2>\n",
    "\n",
    "<p>Escapovanie sa robí pomocou <code>\\</code>. Je potrebné najmä preto, aby sme vedeli odlíšiť v texte operátory ako ., ?, *, prípadne iné znaky, ako úvodzovky.</p>"
   ]
  },
  {
   "cell_type": "markdown",
   "metadata": {},
   "source": [
    "<p>Príklad: Nájdite v texte všetky možné desatiné čísla na 1 alebo 2 desatiné miesta oddelene bodkou.</p>"
   ]
  },
  {
   "cell_type": "code",
   "execution_count": 830,
   "metadata": {},
   "outputs": [],
   "source": [
    "number_regex = re.compile(r'[0-9]+\\.{1}\\d{1,2}')"
   ]
  },
  {
   "cell_type": "code",
   "execution_count": 831,
   "metadata": {},
   "outputs": [],
   "source": [
    "numbers = number_regex.findall('123.11, 123.1, 123, 0.21')"
   ]
  },
  {
   "cell_type": "code",
   "execution_count": 832,
   "metadata": {},
   "outputs": [
    {
     "data": {
      "text/plain": [
       "['123.11', '123.1', '0.21']"
      ]
     },
     "execution_count": 832,
     "metadata": {},
     "output_type": "execute_result"
    }
   ],
   "source": [
    "numbers"
   ]
  },
  {
   "cell_type": "markdown",
   "metadata": {},
   "source": [
    "<h2>sub()</h2>\n",
    "\n",
    "<p>Keď chceme priamo nájdený pattern nahradiť za iný pattern, výraz, môžeme použiť <code>sub()</code>, kde prvou hodnotou je pattern , cim nahradzujeme a vstupné dáta.</p>"
   ]
  },
  {
   "cell_type": "code",
   "execution_count": 833,
   "metadata": {},
   "outputs": [
    {
     "data": {
      "text/plain": [
       "'PythonExercises12'"
      ]
     },
     "execution_count": 833,
     "metadata": {},
     "output_type": "execute_result"
    }
   ],
   "source": [
    "text1 = '**//Python Exercises// - 12. '\n",
    "pattern = re.compile('[\\W+]')\n",
    "pattern.sub('', text1)"
   ]
  },
  {
   "cell_type": "code",
   "execution_count": 839,
   "metadata": {},
   "outputs": [
    {
     "data": {
      "text/plain": [
       "'Ahoj ja som Sveta'"
      ]
     },
     "execution_count": 839,
     "metadata": {},
     "output_type": "execute_result"
    }
   ],
   "source": [
    "regex = re.compile('\\s+')\n",
    "text = \"Ahoj   ja som Sveta\"\n",
    "regex.sub(' ', text)"
   ]
  },
  {
   "cell_type": "code",
   "execution_count": 840,
   "metadata": {},
   "outputs": [
    {
     "data": {
      "text/plain": [
       "'Ahoj ja som Sveta'"
      ]
     },
     "execution_count": 840,
     "metadata": {},
     "output_type": "execute_result"
    }
   ],
   "source": [
    "re.sub('\\s+', ' ', text)"
   ]
  },
  {
   "cell_type": "code",
   "execution_count": 842,
   "metadata": {},
   "outputs": [
    {
     "data": {
      "text/plain": [
       "['Jan']"
      ]
     },
     "execution_count": 842,
     "metadata": {},
     "output_type": "execute_result"
    }
   ],
   "source": [
    "text = '01, Jan 2018'\n",
    "re.findall('[a-zA-Z]+', text)"
   ]
  },
  {
   "cell_type": "markdown",
   "metadata": {},
   "source": [
    "<h1>Úloha</h1>\n",
    "\n",
    "<ul>\n",
    "    <li>Vypíšte z premennej text iba číselené hodnoty.</li>\n",
    "</ul>"
   ]
  },
  {
   "cell_type": "code",
   "execution_count": 843,
   "metadata": {},
   "outputs": [
    {
     "data": {
      "text/plain": [
       "['01', '2018']"
      ]
     },
     "execution_count": 843,
     "metadata": {},
     "output_type": "execute_result"
    }
   ],
   "source": [
    "re.findall('[0-9]+', text)"
   ]
  },
  {
   "cell_type": "markdown",
   "metadata": {},
   "source": [
    "<h2>Úlohy</h2>\n",
    "\n",
    "<ul>\n",
    "    <li>Z emailov \"zuck26@facebook.com, page33@google.com, jeff42@amazon.com\" vyparsujte cez regexy nasledujúci vystup uvedený nižšie.</li>\n",
    "</ul>"
   ]
  },
  {
   "cell_type": "code",
   "execution_count": 891,
   "metadata": {},
   "outputs": [],
   "source": [
    "emails = \"zuck26@facebook.com, page33@google.com, jeff42@amazon.com\"\n",
    "\n",
    "desired_output = [('zuck26', 'facebook', 'com'),\n",
    " ('page33', 'google', 'com'),\n",
    " ('jeff42', 'amazon', 'com')]"
   ]
  },
  {
   "cell_type": "code",
   "execution_count": 848,
   "metadata": {},
   "outputs": [
    {
     "data": {
      "text/plain": [
       "[('zuck26', 'facebook', 'com'),\n",
       " ('page33', 'google', 'com'),\n",
       " ('jeff42', 'amazon', 'com')]"
      ]
     },
     "execution_count": 848,
     "metadata": {},
     "output_type": "execute_result"
    }
   ],
   "source": [
    "pattern = r'(\\w+)@([A-Za-z0-9]+)\\.([A-Z]{2,4})'\n",
    "re.findall(pattern, emails, flags=re.IGNORECASE)"
   ]
  },
  {
   "cell_type": "markdown",
   "metadata": {},
   "source": [
    "<h2>Úloha</h2>\n",
    "<ul>\n",
    "    <li>Vypíšte všetky slová, začínajúce na h alebo H z textu \"Hi, Harry, this is great. From hermiona\"</li>\n",
    "</ul>"
   ]
  },
  {
   "cell_type": "code",
   "execution_count": 892,
   "metadata": {},
   "outputs": [],
   "source": [
    "text = \"Hi, Harry, this is great. From hermiona\""
   ]
  },
  {
   "cell_type": "code",
   "execution_count": 893,
   "metadata": {},
   "outputs": [
    {
     "data": {
      "text/plain": [
       "['Hi', 'Harry', 'hermiona']"
      ]
     },
     "execution_count": 893,
     "metadata": {},
     "output_type": "execute_result"
    }
   ],
   "source": [
    "\n",
    "import re\n",
    "re.findall(r'\\bH\\B\\w+', text, flags=re.IGNORECASE)"
   ]
  },
  {
   "cell_type": "code",
   "execution_count": 897,
   "metadata": {},
   "outputs": [],
   "source": [
    "import pandas as pd"
   ]
  },
  {
   "cell_type": "code",
   "execution_count": 898,
   "metadata": {},
   "outputs": [],
   "source": [
    "df = pd.read_csv('../csv/fit.recepty.csv', sep=',')"
   ]
  },
  {
   "cell_type": "code",
   "execution_count": 899,
   "metadata": {},
   "outputs": [
    {
     "data": {
      "text/html": [
       "<div>\n",
       "<style scoped>\n",
       "    .dataframe tbody tr th:only-of-type {\n",
       "        vertical-align: middle;\n",
       "    }\n",
       "\n",
       "    .dataframe tbody tr th {\n",
       "        vertical-align: top;\n",
       "    }\n",
       "\n",
       "    .dataframe thead th {\n",
       "        text-align: right;\n",
       "    }\n",
       "</style>\n",
       "<table border=\"1\" class=\"dataframe\">\n",
       "  <thead>\n",
       "    <tr style=\"text-align: right;\">\n",
       "      <th></th>\n",
       "      <th>code</th>\n",
       "      <th>date</th>\n",
       "      <th>comments</th>\n",
       "      <th>likes</th>\n",
       "      <th>caption</th>\n",
       "      <th>image</th>\n",
       "    </tr>\n",
       "  </thead>\n",
       "  <tbody>\n",
       "    <tr>\n",
       "      <th>0</th>\n",
       "      <td>BMbZ0FgDQwJ</td>\n",
       "      <td>1478348282</td>\n",
       "      <td>7</td>\n",
       "      <td>4630</td>\n",
       "      <td>CHEESECAKE S AVOKÁDOVÝM KRÉMEM A LESNÍMI PLODY...</td>\n",
       "      <td>https://scontent-vie1-1.cdninstagram.com/t51.2...</td>\n",
       "    </tr>\n",
       "    <tr>\n",
       "      <th>1</th>\n",
       "      <td>BMZgKXojUDE</td>\n",
       "      <td>1478284501</td>\n",
       "      <td>0</td>\n",
       "      <td>2617</td>\n",
       "      <td>BRUSINKOVÁ GRANOLA S OŘECHY PODLE @cookingwith...</td>\n",
       "      <td>https://scontent-vie1-1.cdninstagram.com/t51.2...</td>\n",
       "    </tr>\n",
       "    <tr>\n",
       "      <th>2</th>\n",
       "      <td>BMYwzARDJkj</td>\n",
       "      <td>1478259668</td>\n",
       "      <td>0</td>\n",
       "      <td>1882</td>\n",
       "      <td>Bulgur se špenátem  120 g bulguru  Hrst baby š...</td>\n",
       "      <td>https://scontent-vie1-1.cdninstagram.com/t51.2...</td>\n",
       "    </tr>\n",
       "    <tr>\n",
       "      <th>3</th>\n",
       "      <td>BMUkWHbjUW2</td>\n",
       "      <td>1478118923</td>\n",
       "      <td>0</td>\n",
       "      <td>1715</td>\n",
       "      <td>Avomajo od @cukrfree.cz\\n\\nIngredience\\n\\n2 zr...</td>\n",
       "      <td>https://scontent-vie1-1.cdninstagram.com/t51.2...</td>\n",
       "    </tr>\n",
       "    <tr>\n",
       "      <th>4</th>\n",
       "      <td>BMUjn2DDwA-</td>\n",
       "      <td>1478118544</td>\n",
       "      <td>7</td>\n",
       "      <td>2263</td>\n",
       "      <td>Zapečená špagetová dýně alá boloňské špagety p...</td>\n",
       "      <td>https://scontent-vie1-1.cdninstagram.com/t51.2...</td>\n",
       "    </tr>\n",
       "  </tbody>\n",
       "</table>\n",
       "</div>"
      ],
      "text/plain": [
       "          code        date  comments  likes  \\\n",
       "0  BMbZ0FgDQwJ  1478348282         7   4630   \n",
       "1  BMZgKXojUDE  1478284501         0   2617   \n",
       "2  BMYwzARDJkj  1478259668         0   1882   \n",
       "3  BMUkWHbjUW2  1478118923         0   1715   \n",
       "4  BMUjn2DDwA-  1478118544         7   2263   \n",
       "\n",
       "                                             caption  \\\n",
       "0  CHEESECAKE S AVOKÁDOVÝM KRÉMEM A LESNÍMI PLODY...   \n",
       "1  BRUSINKOVÁ GRANOLA S OŘECHY PODLE @cookingwith...   \n",
       "2  Bulgur se špenátem  120 g bulguru  Hrst baby š...   \n",
       "3  Avomajo od @cukrfree.cz\\n\\nIngredience\\n\\n2 zr...   \n",
       "4  Zapečená špagetová dýně alá boloňské špagety p...   \n",
       "\n",
       "                                               image  \n",
       "0  https://scontent-vie1-1.cdninstagram.com/t51.2...  \n",
       "1  https://scontent-vie1-1.cdninstagram.com/t51.2...  \n",
       "2  https://scontent-vie1-1.cdninstagram.com/t51.2...  \n",
       "3  https://scontent-vie1-1.cdninstagram.com/t51.2...  \n",
       "4  https://scontent-vie1-1.cdninstagram.com/t51.2...  "
      ]
     },
     "execution_count": 899,
     "metadata": {},
     "output_type": "execute_result"
    }
   ],
   "source": [
    "df.head()"
   ]
  },
  {
   "cell_type": "code",
   "execution_count": 911,
   "metadata": {},
   "outputs": [
    {
     "data": {
      "text/html": [
       "<div>\n",
       "<style scoped>\n",
       "    .dataframe tbody tr th:only-of-type {\n",
       "        vertical-align: middle;\n",
       "    }\n",
       "\n",
       "    .dataframe tbody tr th {\n",
       "        vertical-align: top;\n",
       "    }\n",
       "\n",
       "    .dataframe thead th {\n",
       "        text-align: right;\n",
       "    }\n",
       "</style>\n",
       "<table border=\"1\" class=\"dataframe\">\n",
       "  <thead>\n",
       "    <tr style=\"text-align: right;\">\n",
       "      <th></th>\n",
       "      <th>level_0</th>\n",
       "      <th>match</th>\n",
       "      <th>0</th>\n",
       "    </tr>\n",
       "  </thead>\n",
       "  <tbody>\n",
       "    <tr>\n",
       "      <th>0</th>\n",
       "      <td>0</td>\n",
       "      <td>0</td>\n",
       "      <td>50g jablečných sušenek</td>\n",
       "    </tr>\n",
       "    <tr>\n",
       "      <th>1</th>\n",
       "      <td>0</td>\n",
       "      <td>1</td>\n",
       "      <td>30g mandlí</td>\n",
       "    </tr>\n",
       "    <tr>\n",
       "      <th>2</th>\n",
       "      <td>0</td>\n",
       "      <td>2</td>\n",
       "      <td>50g vloček</td>\n",
       "    </tr>\n",
       "    <tr>\n",
       "      <th>3</th>\n",
       "      <td>0</td>\n",
       "      <td>3</td>\n",
       "      <td>60ml mléka</td>\n",
       "    </tr>\n",
       "    <tr>\n",
       "      <th>4</th>\n",
       "      <td>0</td>\n",
       "      <td>4</td>\n",
       "      <td>20g hořké čokolády</td>\n",
       "    </tr>\n",
       "  </tbody>\n",
       "</table>\n",
       "</div>"
      ],
      "text/plain": [
       "   level_0  match                        0\n",
       "0        0      0  50g jablečných sušenek \n",
       "1        0      1              30g mandlí \n",
       "2        0      2              50g vloček \n",
       "3        0      3              60ml mléka \n",
       "4        0      4      20g hořké čokolády "
      ]
     },
     "execution_count": 911,
     "metadata": {},
     "output_type": "execute_result"
    }
   ],
   "source": [
    "results = pd.Series(df[\"caption\"]).str.extractall('(\\d+[\\w*[\" \"]*\\w*)')\n",
    "results.reset_index(inplace=True)\n",
    "results.head()"
   ]
  },
  {
   "cell_type": "code",
   "execution_count": null,
   "metadata": {},
   "outputs": [],
   "source": []
  }
 ],
 "metadata": {
  "kernelspec": {
   "display_name": "Python 3",
   "language": "python",
   "name": "python3"
  },
  "language_info": {
   "codemirror_mode": {
    "name": "ipython",
    "version": 3
   },
   "file_extension": ".py",
   "mimetype": "text/x-python",
   "name": "python",
   "nbconvert_exporter": "python",
   "pygments_lexer": "ipython3",
   "version": "3.6.0"
  }
 },
 "nbformat": 4,
 "nbformat_minor": 2
}
