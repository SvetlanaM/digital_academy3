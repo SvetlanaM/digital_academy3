{
 "cells": [
  {
   "cell_type": "code",
   "execution_count": 60,
   "metadata": {},
   "outputs": [],
   "source": [
    "import pandas as pd\n",
    "import numpy as np"
   ]
  },
  {
   "cell_type": "code",
   "execution_count": 61,
   "metadata": {},
   "outputs": [],
   "source": [
    "dupDf = pd.read_csv('../csv/dupDf.csv', encoding='utf-8')"
   ]
  },
  {
   "cell_type": "code",
   "execution_count": 62,
   "metadata": {},
   "outputs": [
    {
     "data": {
      "text/html": [
       "<div>\n",
       "<style scoped>\n",
       "    .dataframe tbody tr th:only-of-type {\n",
       "        vertical-align: middle;\n",
       "    }\n",
       "\n",
       "    .dataframe tbody tr th {\n",
       "        vertical-align: top;\n",
       "    }\n",
       "\n",
       "    .dataframe thead th {\n",
       "        text-align: right;\n",
       "    }\n",
       "</style>\n",
       "<table border=\"1\" class=\"dataframe\">\n",
       "  <thead>\n",
       "    <tr style=\"text-align: right;\">\n",
       "      <th></th>\n",
       "      <th>Unnamed: 0</th>\n",
       "      <th>tracking_id</th>\n",
       "      <th>date</th>\n",
       "      <th>status</th>\n",
       "      <th>mapped_status</th>\n",
       "      <th>provider</th>\n",
       "      <th>day</th>\n",
       "      <th>month</th>\n",
       "    </tr>\n",
       "  </thead>\n",
       "  <tbody>\n",
       "    <tr>\n",
       "      <th>0</th>\n",
       "      <td>696119</td>\n",
       "      <td>1882077</td>\n",
       "      <td>2018-04-30 07:14:00</td>\n",
       "      <td>Řádně podaná zásilka - do rozhodné doby</td>\n",
       "      <td>Převzato dopravcem</td>\n",
       "      <td>ČESKÁ POŠTA</td>\n",
       "      <td>30</td>\n",
       "      <td>4</td>\n",
       "    </tr>\n",
       "    <tr>\n",
       "      <th>1</th>\n",
       "      <td>696118</td>\n",
       "      <td>1882076</td>\n",
       "      <td>2018-04-30 06:52:00</td>\n",
       "      <td>Pořízeno na pochůzku</td>\n",
       "      <td>Na cestě k příjemci</td>\n",
       "      <td>ČESKÁ POŠTA</td>\n",
       "      <td>30</td>\n",
       "      <td>4</td>\n",
       "    </tr>\n",
       "    <tr>\n",
       "      <th>2</th>\n",
       "      <td>696115</td>\n",
       "      <td>1882075</td>\n",
       "      <td>2018-04-30 06:52:00</td>\n",
       "      <td>Uloženo na poště</td>\n",
       "      <td>Na cestě k příjemci</td>\n",
       "      <td>ČESKÁ POŠTA</td>\n",
       "      <td>30</td>\n",
       "      <td>4</td>\n",
       "    </tr>\n",
       "    <tr>\n",
       "      <th>3</th>\n",
       "      <td>696116</td>\n",
       "      <td>1882075</td>\n",
       "      <td>2018-04-30 06:58:00</td>\n",
       "      <td>Uloženo na poště</td>\n",
       "      <td>Na cestě k příjemci</td>\n",
       "      <td>ČESKÁ POŠTA</td>\n",
       "      <td>30</td>\n",
       "      <td>4</td>\n",
       "    </tr>\n",
       "    <tr>\n",
       "      <th>4</th>\n",
       "      <td>696117</td>\n",
       "      <td>1882075</td>\n",
       "      <td>2018-04-30 07:14:00</td>\n",
       "      <td>Řádně podaná zásilka - do rozhodné doby</td>\n",
       "      <td>Převzato dopravcem</td>\n",
       "      <td>ČESKÁ POŠTA</td>\n",
       "      <td>30</td>\n",
       "      <td>4</td>\n",
       "    </tr>\n",
       "  </tbody>\n",
       "</table>\n",
       "</div>"
      ],
      "text/plain": [
       "   Unnamed: 0  tracking_id                 date  \\\n",
       "0      696119      1882077  2018-04-30 07:14:00   \n",
       "1      696118      1882076  2018-04-30 06:52:00   \n",
       "2      696115      1882075  2018-04-30 06:52:00   \n",
       "3      696116      1882075  2018-04-30 06:58:00   \n",
       "4      696117      1882075  2018-04-30 07:14:00   \n",
       "\n",
       "                                    status        mapped_status     provider  \\\n",
       "0  Řádně podaná zásilka - do rozhodné doby   Převzato dopravcem  ČESKÁ POŠTA   \n",
       "1                     Pořízeno na pochůzku  Na cestě k příjemci  ČESKÁ POŠTA   \n",
       "2                         Uloženo na poště  Na cestě k příjemci  ČESKÁ POŠTA   \n",
       "3                         Uloženo na poště  Na cestě k příjemci  ČESKÁ POŠTA   \n",
       "4  Řádně podaná zásilka - do rozhodné doby   Převzato dopravcem  ČESKÁ POŠTA   \n",
       "\n",
       "   day  month  \n",
       "0   30      4  \n",
       "1   30      4  \n",
       "2   30      4  \n",
       "3   30      4  \n",
       "4   30      4  "
      ]
     },
     "execution_count": 62,
     "metadata": {},
     "output_type": "execute_result"
    }
   ],
   "source": [
    "dupDf.head()"
   ]
  },
  {
   "cell_type": "markdown",
   "metadata": {},
   "source": [
    "<h2>Mazanie stĺpcov</h2>"
   ]
  },
  {
   "cell_type": "code",
   "execution_count": 63,
   "metadata": {},
   "outputs": [],
   "source": [
    "del dupDf[\"Unnamed: 0\"]"
   ]
  },
  {
   "cell_type": "code",
   "execution_count": 64,
   "metadata": {},
   "outputs": [
    {
     "data": {
      "text/html": [
       "<div>\n",
       "<style scoped>\n",
       "    .dataframe tbody tr th:only-of-type {\n",
       "        vertical-align: middle;\n",
       "    }\n",
       "\n",
       "    .dataframe tbody tr th {\n",
       "        vertical-align: top;\n",
       "    }\n",
       "\n",
       "    .dataframe thead th {\n",
       "        text-align: right;\n",
       "    }\n",
       "</style>\n",
       "<table border=\"1\" class=\"dataframe\">\n",
       "  <thead>\n",
       "    <tr style=\"text-align: right;\">\n",
       "      <th></th>\n",
       "      <th>tracking_id</th>\n",
       "      <th>date</th>\n",
       "      <th>status</th>\n",
       "      <th>mapped_status</th>\n",
       "      <th>provider</th>\n",
       "      <th>day</th>\n",
       "      <th>month</th>\n",
       "    </tr>\n",
       "  </thead>\n",
       "  <tbody>\n",
       "    <tr>\n",
       "      <th>0</th>\n",
       "      <td>1882077</td>\n",
       "      <td>2018-04-30 07:14:00</td>\n",
       "      <td>Řádně podaná zásilka - do rozhodné doby</td>\n",
       "      <td>Převzato dopravcem</td>\n",
       "      <td>ČESKÁ POŠTA</td>\n",
       "      <td>30</td>\n",
       "      <td>4</td>\n",
       "    </tr>\n",
       "    <tr>\n",
       "      <th>1</th>\n",
       "      <td>1882076</td>\n",
       "      <td>2018-04-30 06:52:00</td>\n",
       "      <td>Pořízeno na pochůzku</td>\n",
       "      <td>Na cestě k příjemci</td>\n",
       "      <td>ČESKÁ POŠTA</td>\n",
       "      <td>30</td>\n",
       "      <td>4</td>\n",
       "    </tr>\n",
       "    <tr>\n",
       "      <th>2</th>\n",
       "      <td>1882075</td>\n",
       "      <td>2018-04-30 06:52:00</td>\n",
       "      <td>Uloženo na poště</td>\n",
       "      <td>Na cestě k příjemci</td>\n",
       "      <td>ČESKÁ POŠTA</td>\n",
       "      <td>30</td>\n",
       "      <td>4</td>\n",
       "    </tr>\n",
       "    <tr>\n",
       "      <th>3</th>\n",
       "      <td>1882075</td>\n",
       "      <td>2018-04-30 06:58:00</td>\n",
       "      <td>Uloženo na poště</td>\n",
       "      <td>Na cestě k příjemci</td>\n",
       "      <td>ČESKÁ POŠTA</td>\n",
       "      <td>30</td>\n",
       "      <td>4</td>\n",
       "    </tr>\n",
       "    <tr>\n",
       "      <th>4</th>\n",
       "      <td>1882075</td>\n",
       "      <td>2018-04-30 07:14:00</td>\n",
       "      <td>Řádně podaná zásilka - do rozhodné doby</td>\n",
       "      <td>Převzato dopravcem</td>\n",
       "      <td>ČESKÁ POŠTA</td>\n",
       "      <td>30</td>\n",
       "      <td>4</td>\n",
       "    </tr>\n",
       "  </tbody>\n",
       "</table>\n",
       "</div>"
      ],
      "text/plain": [
       "   tracking_id                 date                                   status  \\\n",
       "0      1882077  2018-04-30 07:14:00  Řádně podaná zásilka - do rozhodné doby   \n",
       "1      1882076  2018-04-30 06:52:00                     Pořízeno na pochůzku   \n",
       "2      1882075  2018-04-30 06:52:00                         Uloženo na poště   \n",
       "3      1882075  2018-04-30 06:58:00                         Uloženo na poště   \n",
       "4      1882075  2018-04-30 07:14:00  Řádně podaná zásilka - do rozhodné doby   \n",
       "\n",
       "         mapped_status     provider  day  month  \n",
       "0   Převzato dopravcem  ČESKÁ POŠTA   30      4  \n",
       "1  Na cestě k příjemci  ČESKÁ POŠTA   30      4  \n",
       "2  Na cestě k příjemci  ČESKÁ POŠTA   30      4  \n",
       "3  Na cestě k příjemci  ČESKÁ POŠTA   30      4  \n",
       "4   Převzato dopravcem  ČESKÁ POŠTA   30      4  "
      ]
     },
     "execution_count": 64,
     "metadata": {},
     "output_type": "execute_result"
    }
   ],
   "source": [
    "dupDf.head()"
   ]
  },
  {
   "cell_type": "markdown",
   "metadata": {},
   "source": [
    "<h2>Zgrupovanie a agregácia dát</h2>\n",
    "\n",
    "<p>Keď už vieme, ako dáta</p>\n",
    "<ul>\n",
    "    <li>radiť</li>\n",
    "    <li>triediť</li>\n",
    "    <li>vyhľadávať na základe nejakej podmienky</li>\n",
    "</ul>\n",
    "\n",
    "<p>je niekedy dobré vedieť dáta zgrupiť a zoskupiť pomocou viacerých kritérií. Agregácia a zgrupovanie dát, funguje na podobnom princípe ako pivotné tabuľky, s tým rozdielom, že pivotné tabuľky nám poskytujú viac možností a funkcionality. No pre jednoduché use casy, alebo rýchly pohľad na dáta, je agregácia a zgrupovanie tou vhodnou voľbou.</p>"
   ]
  },
  {
   "cell_type": "code",
   "execution_count": 65,
   "metadata": {},
   "outputs": [
    {
     "data": {
      "text/plain": [
       "<pandas.core.groupby.DataFrameGroupBy object at 0x12bec61d0>"
      ]
     },
     "execution_count": 65,
     "metadata": {},
     "output_type": "execute_result"
    }
   ],
   "source": [
    "dupDf.groupby('provider')"
   ]
  },
  {
   "cell_type": "markdown",
   "metadata": {},
   "source": [
    "<p>Ako vidíme, návratovou hodnotnou nie je klasický DateFrame, aký poznáme, ale DataFrameGroupBy objekt. Na tento objekt sa pozeráme ako na dočasné view, pričom dáta sú zobrazené prostredníctvom prílušnej až agregačnej metódy alebo funkcie.</p>"
   ]
  },
  {
   "cell_type": "code",
   "execution_count": 66,
   "metadata": {},
   "outputs": [
    {
     "data": {
      "text/html": [
       "<div>\n",
       "<style scoped>\n",
       "    .dataframe tbody tr th:only-of-type {\n",
       "        vertical-align: middle;\n",
       "    }\n",
       "\n",
       "    .dataframe tbody tr th {\n",
       "        vertical-align: top;\n",
       "    }\n",
       "\n",
       "    .dataframe thead th {\n",
       "        text-align: right;\n",
       "    }\n",
       "</style>\n",
       "<table border=\"1\" class=\"dataframe\">\n",
       "  <thead>\n",
       "    <tr style=\"text-align: right;\">\n",
       "      <th></th>\n",
       "      <th>tracking_id</th>\n",
       "      <th>date</th>\n",
       "      <th>status</th>\n",
       "      <th>mapped_status</th>\n",
       "      <th>provider</th>\n",
       "      <th>day</th>\n",
       "      <th>month</th>\n",
       "    </tr>\n",
       "  </thead>\n",
       "  <tbody>\n",
       "    <tr>\n",
       "      <th>0</th>\n",
       "      <td>1882077</td>\n",
       "      <td>2018-04-30 07:14:00</td>\n",
       "      <td>Řádně podaná zásilka - do rozhodné doby</td>\n",
       "      <td>Převzato dopravcem</td>\n",
       "      <td>ČESKÁ POŠTA</td>\n",
       "      <td>30</td>\n",
       "      <td>4</td>\n",
       "    </tr>\n",
       "    <tr>\n",
       "      <th>1</th>\n",
       "      <td>1882076</td>\n",
       "      <td>2018-04-30 06:52:00</td>\n",
       "      <td>Pořízeno na pochůzku</td>\n",
       "      <td>Na cestě k příjemci</td>\n",
       "      <td>ČESKÁ POŠTA</td>\n",
       "      <td>30</td>\n",
       "      <td>4</td>\n",
       "    </tr>\n",
       "    <tr>\n",
       "      <th>2</th>\n",
       "      <td>1882075</td>\n",
       "      <td>2018-04-30 06:52:00</td>\n",
       "      <td>Uloženo na poště</td>\n",
       "      <td>Na cestě k příjemci</td>\n",
       "      <td>ČESKÁ POŠTA</td>\n",
       "      <td>30</td>\n",
       "      <td>4</td>\n",
       "    </tr>\n",
       "    <tr>\n",
       "      <th>3</th>\n",
       "      <td>1882075</td>\n",
       "      <td>2018-04-30 06:58:00</td>\n",
       "      <td>Uloženo na poště</td>\n",
       "      <td>Na cestě k příjemci</td>\n",
       "      <td>ČESKÁ POŠTA</td>\n",
       "      <td>30</td>\n",
       "      <td>4</td>\n",
       "    </tr>\n",
       "    <tr>\n",
       "      <th>4</th>\n",
       "      <td>1882075</td>\n",
       "      <td>2018-04-30 07:14:00</td>\n",
       "      <td>Řádně podaná zásilka - do rozhodné doby</td>\n",
       "      <td>Převzato dopravcem</td>\n",
       "      <td>ČESKÁ POŠTA</td>\n",
       "      <td>30</td>\n",
       "      <td>4</td>\n",
       "    </tr>\n",
       "  </tbody>\n",
       "</table>\n",
       "</div>"
      ],
      "text/plain": [
       "   tracking_id                 date                                   status  \\\n",
       "0      1882077  2018-04-30 07:14:00  Řádně podaná zásilka - do rozhodné doby   \n",
       "1      1882076  2018-04-30 06:52:00                     Pořízeno na pochůzku   \n",
       "2      1882075  2018-04-30 06:52:00                         Uloženo na poště   \n",
       "3      1882075  2018-04-30 06:58:00                         Uloženo na poště   \n",
       "4      1882075  2018-04-30 07:14:00  Řádně podaná zásilka - do rozhodné doby   \n",
       "\n",
       "         mapped_status     provider  day  month  \n",
       "0   Převzato dopravcem  ČESKÁ POŠTA   30      4  \n",
       "1  Na cestě k příjemci  ČESKÁ POŠTA   30      4  \n",
       "2  Na cestě k příjemci  ČESKÁ POŠTA   30      4  \n",
       "3  Na cestě k příjemci  ČESKÁ POŠTA   30      4  \n",
       "4   Převzato dopravcem  ČESKÁ POŠTA   30      4  "
      ]
     },
     "execution_count": 66,
     "metadata": {},
     "output_type": "execute_result"
    }
   ],
   "source": [
    "dupDf.head()"
   ]
  },
  {
   "cell_type": "code",
   "execution_count": 67,
   "metadata": {},
   "outputs": [
    {
     "data": {
      "text/html": [
       "<div>\n",
       "<style scoped>\n",
       "    .dataframe tbody tr th:only-of-type {\n",
       "        vertical-align: middle;\n",
       "    }\n",
       "\n",
       "    .dataframe tbody tr th {\n",
       "        vertical-align: top;\n",
       "    }\n",
       "\n",
       "    .dataframe thead th {\n",
       "        text-align: right;\n",
       "    }\n",
       "</style>\n",
       "<table border=\"1\" class=\"dataframe\">\n",
       "  <thead>\n",
       "    <tr style=\"text-align: right;\">\n",
       "      <th></th>\n",
       "      <th>tracking_id</th>\n",
       "      <th>date</th>\n",
       "      <th>status</th>\n",
       "      <th>mapped_status</th>\n",
       "      <th>day</th>\n",
       "      <th>month</th>\n",
       "    </tr>\n",
       "    <tr>\n",
       "      <th>provider</th>\n",
       "      <th></th>\n",
       "      <th></th>\n",
       "      <th></th>\n",
       "      <th></th>\n",
       "      <th></th>\n",
       "      <th></th>\n",
       "    </tr>\n",
       "  </thead>\n",
       "  <tbody>\n",
       "    <tr>\n",
       "      <th>GEIS</th>\n",
       "      <td>32584</td>\n",
       "      <td>32584</td>\n",
       "      <td>32584</td>\n",
       "      <td>32584</td>\n",
       "      <td>32584</td>\n",
       "      <td>32584</td>\n",
       "    </tr>\n",
       "    <tr>\n",
       "      <th>PPL</th>\n",
       "      <td>520229</td>\n",
       "      <td>520229</td>\n",
       "      <td>520229</td>\n",
       "      <td>520229</td>\n",
       "      <td>520229</td>\n",
       "      <td>520229</td>\n",
       "    </tr>\n",
       "    <tr>\n",
       "      <th>ČESKÁ POŠTA</th>\n",
       "      <td>175891</td>\n",
       "      <td>175891</td>\n",
       "      <td>175891</td>\n",
       "      <td>175891</td>\n",
       "      <td>175891</td>\n",
       "      <td>175891</td>\n",
       "    </tr>\n",
       "  </tbody>\n",
       "</table>\n",
       "</div>"
      ],
      "text/plain": [
       "             tracking_id    date  status  mapped_status     day   month\n",
       "provider                                                               \n",
       "GEIS               32584   32584   32584          32584   32584   32584\n",
       "PPL               520229  520229  520229         520229  520229  520229\n",
       "ČESKÁ POŠTA       175891  175891  175891         175891  175891  175891"
      ]
     },
     "execution_count": 67,
     "metadata": {},
     "output_type": "execute_result"
    }
   ],
   "source": [
    "dupDf.groupby('provider').count()"
   ]
  },
  {
   "cell_type": "code",
   "execution_count": 68,
   "metadata": {},
   "outputs": [
    {
     "data": {
      "text/plain": [
       "mapped_status\n",
       "Doručeno               2018-03-01 06:10:04\n",
       "Na cestě k příjemci    2018-03-01 00:02:00\n",
       "Nezadane               2018-03-01 00:01:01\n",
       "Převzato dopravcem     2018-03-01 00:06:43\n",
       "Stornováno             2018-03-01 05:10:35\n",
       "Name: date, dtype: object"
      ]
     },
     "execution_count": 68,
     "metadata": {},
     "output_type": "execute_result"
    }
   ],
   "source": [
    "dupDf.groupby('mapped_status')[\"date\"].min()"
   ]
  },
  {
   "cell_type": "markdown",
   "metadata": {},
   "source": [
    "<h2>Úlohy</h2>\n",
    "\n",
    "<ul>\n",
    "    <li>Z dátového setu <b>dupDf</b> vypíšte medián po provideroch za stĺpec <b>tracking_id</b>. Na výpočet mediánu sa používa funkcia <code>median()</code></li>\n",
    "</ul>"
   ]
  },
  {
   "cell_type": "code",
   "execution_count": 69,
   "metadata": {},
   "outputs": [
    {
     "data": {
      "text/plain": [
       "provider\n",
       "GEIS           1783134\n",
       "PPL            1762349\n",
       "ČESKÁ POŠTA    1773401\n",
       "Name: tracking_id, dtype: int64"
      ]
     },
     "execution_count": 69,
     "metadata": {},
     "output_type": "execute_result"
    }
   ],
   "source": [
    "dupDf.groupby('provider')['tracking_id'].median()"
   ]
  },
  {
   "cell_type": "code",
   "execution_count": 70,
   "metadata": {},
   "outputs": [
    {
     "data": {
      "text/plain": [
       "provider     mapped_status      \n",
       "GEIS         Doručeno               2018-03-01 08:04:26\n",
       "             Na cestě k příjemci    2018-03-01 05:53:00\n",
       "             Nezadane               2018-03-01 00:01:01\n",
       "             Převzato dopravcem     2018-03-01 00:06:43\n",
       "             Stornováno             2018-03-01 10:08:21\n",
       "PPL          Doručeno               2018-03-01 06:10:04\n",
       "             Na cestě k příjemci    2018-03-01 00:32:50\n",
       "             Nezadane               2018-03-01 06:27:12\n",
       "             Převzato dopravcem     2018-03-01 00:22:06\n",
       "             Stornováno             2018-03-01 05:10:35\n",
       "ČESKÁ POŠTA  Doručeno               2018-03-01 06:35:00\n",
       "             Na cestě k příjemci    2018-03-01 00:02:00\n",
       "             Nezadane               2018-03-01 02:42:00\n",
       "             Převzato dopravcem     2018-03-01 06:45:00\n",
       "             Stornováno             2018-03-01 05:51:00\n",
       "Name: date, dtype: object"
      ]
     },
     "execution_count": 70,
     "metadata": {},
     "output_type": "execute_result"
    }
   ],
   "source": [
    "dupDf.groupby(['provider', 'mapped_status'])['date'].min()"
   ]
  },
  {
   "cell_type": "code",
   "execution_count": 71,
   "metadata": {},
   "outputs": [
    {
     "data": {
      "text/plain": [
       "provider\n",
       "GEIS            199\n",
       "PPL            2951\n",
       "ČESKÁ POŠTA    2113\n",
       "Name: tracking_id, dtype: int64"
      ]
     },
     "execution_count": 71,
     "metadata": {},
     "output_type": "execute_result"
    }
   ],
   "source": [
    "dupDf[dupDf['mapped_status'] == 'Stornováno'].groupby('provider')['tracking_id'].count()"
   ]
  },
  {
   "cell_type": "markdown",
   "metadata": {},
   "source": [
    "<h2>Rozdiel medzi count() a size()</h2>\n",
    "\n",
    "<p>Hlavným rozdielom medzi <code>count()</code> a <code>size()</code> je v tom, že <code>size()</code> zahrňuje do výpočtu aj <b>NaN</b> hodnoty. Pritom návratovou hodnotou <code>size()</code> je Séria, pričom <code>count()</code> vracia Dataframe objekt.</p>"
   ]
  },
  {
   "cell_type": "code",
   "execution_count": 72,
   "metadata": {},
   "outputs": [
    {
     "data": {
      "text/html": [
       "<div>\n",
       "<style scoped>\n",
       "    .dataframe tbody tr th:only-of-type {\n",
       "        vertical-align: middle;\n",
       "    }\n",
       "\n",
       "    .dataframe tbody tr th {\n",
       "        vertical-align: top;\n",
       "    }\n",
       "\n",
       "    .dataframe thead th {\n",
       "        text-align: right;\n",
       "    }\n",
       "</style>\n",
       "<table border=\"1\" class=\"dataframe\">\n",
       "  <thead>\n",
       "    <tr style=\"text-align: right;\">\n",
       "      <th></th>\n",
       "      <th>tracking_id</th>\n",
       "      <th>date</th>\n",
       "      <th>status</th>\n",
       "      <th>mapped_status</th>\n",
       "      <th>day</th>\n",
       "      <th>month</th>\n",
       "    </tr>\n",
       "    <tr>\n",
       "      <th>provider</th>\n",
       "      <th></th>\n",
       "      <th></th>\n",
       "      <th></th>\n",
       "      <th></th>\n",
       "      <th></th>\n",
       "      <th></th>\n",
       "    </tr>\n",
       "  </thead>\n",
       "  <tbody>\n",
       "    <tr>\n",
       "      <th>GEIS</th>\n",
       "      <td>199</td>\n",
       "      <td>199</td>\n",
       "      <td>199</td>\n",
       "      <td>199</td>\n",
       "      <td>199</td>\n",
       "      <td>199</td>\n",
       "    </tr>\n",
       "    <tr>\n",
       "      <th>PPL</th>\n",
       "      <td>2951</td>\n",
       "      <td>2951</td>\n",
       "      <td>2951</td>\n",
       "      <td>2951</td>\n",
       "      <td>2951</td>\n",
       "      <td>2951</td>\n",
       "    </tr>\n",
       "    <tr>\n",
       "      <th>ČESKÁ POŠTA</th>\n",
       "      <td>2113</td>\n",
       "      <td>2113</td>\n",
       "      <td>2113</td>\n",
       "      <td>2113</td>\n",
       "      <td>2113</td>\n",
       "      <td>2113</td>\n",
       "    </tr>\n",
       "  </tbody>\n",
       "</table>\n",
       "</div>"
      ],
      "text/plain": [
       "             tracking_id  date  status  mapped_status   day  month\n",
       "provider                                                          \n",
       "GEIS                 199   199     199            199   199    199\n",
       "PPL                 2951  2951    2951           2951  2951   2951\n",
       "ČESKÁ POŠTA         2113  2113    2113           2113  2113   2113"
      ]
     },
     "execution_count": 72,
     "metadata": {},
     "output_type": "execute_result"
    }
   ],
   "source": [
    "dupDf[dupDf['mapped_status'] == 'Stornováno'].groupby('provider').count()"
   ]
  },
  {
   "cell_type": "code",
   "execution_count": 73,
   "metadata": {},
   "outputs": [
    {
     "data": {
      "text/plain": [
       "provider\n",
       "GEIS            199\n",
       "PPL            2951\n",
       "ČESKÁ POŠTA    2113\n",
       "dtype: int64"
      ]
     },
     "execution_count": 73,
     "metadata": {},
     "output_type": "execute_result"
    }
   ],
   "source": [
    "dupDf[dupDf['mapped_status'] == 'Stornováno'].groupby('provider').size()"
   ]
  },
  {
   "cell_type": "markdown",
   "metadata": {},
   "source": [
    "<h2>Describe()</h2>\n",
    "\n",
    "<p>Funkcia <code>describe()</code> nám poskytuje v jednom čase viacero štatistických funkcií naraz. Taktiež si môžeme pri definícii vybrať, ktoré štatistické funkcie chceme použiť. Ak náš dátový set nie je tvorený iba číslami, výsledok môže vyzerať inak.</p>"
   ]
  },
  {
   "cell_type": "code",
   "execution_count": 74,
   "metadata": {},
   "outputs": [
    {
     "data": {
      "text/html": [
       "<div>\n",
       "<style scoped>\n",
       "    .dataframe tbody tr th:only-of-type {\n",
       "        vertical-align: middle;\n",
       "    }\n",
       "\n",
       "    .dataframe tbody tr th {\n",
       "        vertical-align: top;\n",
       "    }\n",
       "\n",
       "    .dataframe thead th {\n",
       "        text-align: right;\n",
       "    }\n",
       "</style>\n",
       "<table border=\"1\" class=\"dataframe\">\n",
       "  <thead>\n",
       "    <tr style=\"text-align: right;\">\n",
       "      <th></th>\n",
       "      <th>count</th>\n",
       "      <th>unique</th>\n",
       "      <th>top</th>\n",
       "      <th>freq</th>\n",
       "    </tr>\n",
       "    <tr>\n",
       "      <th>provider</th>\n",
       "      <th></th>\n",
       "      <th></th>\n",
       "      <th></th>\n",
       "      <th></th>\n",
       "    </tr>\n",
       "  </thead>\n",
       "  <tbody>\n",
       "    <tr>\n",
       "      <th>GEIS</th>\n",
       "      <td>5101</td>\n",
       "      <td>4356</td>\n",
       "      <td>2018-03-16 11:00:00</td>\n",
       "      <td>8</td>\n",
       "    </tr>\n",
       "    <tr>\n",
       "      <th>PPL</th>\n",
       "      <td>104156</td>\n",
       "      <td>95019</td>\n",
       "      <td>2018-04-24 11:20:28</td>\n",
       "      <td>39</td>\n",
       "    </tr>\n",
       "    <tr>\n",
       "      <th>ČESKÁ POŠTA</th>\n",
       "      <td>30583</td>\n",
       "      <td>16464</td>\n",
       "      <td>2018-04-24 16:00:00</td>\n",
       "      <td>11</td>\n",
       "    </tr>\n",
       "  </tbody>\n",
       "</table>\n",
       "</div>"
      ],
      "text/plain": [
       "              count unique                  top freq\n",
       "provider                                            \n",
       "GEIS           5101   4356  2018-03-16 11:00:00    8\n",
       "PPL          104156  95019  2018-04-24 11:20:28   39\n",
       "ČESKÁ POŠTA   30583  16464  2018-04-24 16:00:00   11"
      ]
     },
     "execution_count": 74,
     "metadata": {},
     "output_type": "execute_result"
    }
   ],
   "source": [
    "dupDf[dupDf['mapped_status'] == 'Doručeno'].groupby('provider').date.describe()"
   ]
  },
  {
   "cell_type": "code",
   "execution_count": 75,
   "metadata": {},
   "outputs": [
    {
     "data": {
      "text/html": [
       "<div>\n",
       "<style scoped>\n",
       "    .dataframe tbody tr th:only-of-type {\n",
       "        vertical-align: middle;\n",
       "    }\n",
       "\n",
       "    .dataframe tbody tr th {\n",
       "        vertical-align: top;\n",
       "    }\n",
       "\n",
       "    .dataframe thead th {\n",
       "        text-align: right;\n",
       "    }\n",
       "</style>\n",
       "<table border=\"1\" class=\"dataframe\">\n",
       "  <thead>\n",
       "    <tr style=\"text-align: right;\">\n",
       "      <th></th>\n",
       "      <th>count</th>\n",
       "      <th>mean</th>\n",
       "      <th>std</th>\n",
       "      <th>min</th>\n",
       "      <th>25%</th>\n",
       "      <th>50%</th>\n",
       "      <th>75%</th>\n",
       "      <th>max</th>\n",
       "    </tr>\n",
       "    <tr>\n",
       "      <th>provider</th>\n",
       "      <th></th>\n",
       "      <th></th>\n",
       "      <th></th>\n",
       "      <th></th>\n",
       "      <th></th>\n",
       "      <th></th>\n",
       "      <th></th>\n",
       "      <th></th>\n",
       "    </tr>\n",
       "  </thead>\n",
       "  <tbody>\n",
       "    <tr>\n",
       "      <th>GEIS</th>\n",
       "      <td>5101.0</td>\n",
       "      <td>15.392276</td>\n",
       "      <td>7.896240</td>\n",
       "      <td>1.0</td>\n",
       "      <td>9.0</td>\n",
       "      <td>16.0</td>\n",
       "      <td>22.0</td>\n",
       "      <td>30.0</td>\n",
       "    </tr>\n",
       "    <tr>\n",
       "      <th>PPL</th>\n",
       "      <td>104156.0</td>\n",
       "      <td>14.876474</td>\n",
       "      <td>7.984211</td>\n",
       "      <td>1.0</td>\n",
       "      <td>8.0</td>\n",
       "      <td>15.0</td>\n",
       "      <td>21.0</td>\n",
       "      <td>31.0</td>\n",
       "    </tr>\n",
       "    <tr>\n",
       "      <th>ČESKÁ POŠTA</th>\n",
       "      <td>30583.0</td>\n",
       "      <td>15.489978</td>\n",
       "      <td>8.108980</td>\n",
       "      <td>1.0</td>\n",
       "      <td>9.0</td>\n",
       "      <td>16.0</td>\n",
       "      <td>23.0</td>\n",
       "      <td>31.0</td>\n",
       "    </tr>\n",
       "  </tbody>\n",
       "</table>\n",
       "</div>"
      ],
      "text/plain": [
       "                count       mean       std  min  25%   50%   75%   max\n",
       "provider                                                              \n",
       "GEIS           5101.0  15.392276  7.896240  1.0  9.0  16.0  22.0  30.0\n",
       "PPL          104156.0  14.876474  7.984211  1.0  8.0  15.0  21.0  31.0\n",
       "ČESKÁ POŠTA   30583.0  15.489978  8.108980  1.0  9.0  16.0  23.0  31.0"
      ]
     },
     "execution_count": 75,
     "metadata": {},
     "output_type": "execute_result"
    }
   ],
   "source": [
    "dupDf[dupDf['mapped_status'] == 'Doručeno'].groupby('provider').day.describe()"
   ]
  },
  {
   "cell_type": "code",
   "execution_count": 76,
   "metadata": {},
   "outputs": [
    {
     "data": {
      "text/html": [
       "<div>\n",
       "<style scoped>\n",
       "    .dataframe tbody tr th:only-of-type {\n",
       "        vertical-align: middle;\n",
       "    }\n",
       "\n",
       "    .dataframe tbody tr th {\n",
       "        vertical-align: top;\n",
       "    }\n",
       "\n",
       "    .dataframe thead th {\n",
       "        text-align: right;\n",
       "    }\n",
       "</style>\n",
       "<table border=\"1\" class=\"dataframe\">\n",
       "  <thead>\n",
       "    <tr style=\"text-align: right;\">\n",
       "      <th></th>\n",
       "      <th>tracking_id</th>\n",
       "      <th>day</th>\n",
       "      <th>month</th>\n",
       "    </tr>\n",
       "  </thead>\n",
       "  <tbody>\n",
       "    <tr>\n",
       "      <th>count</th>\n",
       "      <td>7.287040e+05</td>\n",
       "      <td>728704.000000</td>\n",
       "      <td>728704.000000</td>\n",
       "    </tr>\n",
       "    <tr>\n",
       "      <th>mean</th>\n",
       "      <td>1.766793e+06</td>\n",
       "      <td>14.955358</td>\n",
       "      <td>3.466530</td>\n",
       "    </tr>\n",
       "    <tr>\n",
       "      <th>std</th>\n",
       "      <td>5.633244e+04</td>\n",
       "      <td>8.124148</td>\n",
       "      <td>0.498879</td>\n",
       "    </tr>\n",
       "    <tr>\n",
       "      <th>min</th>\n",
       "      <td>1.415857e+06</td>\n",
       "      <td>1.000000</td>\n",
       "      <td>3.000000</td>\n",
       "    </tr>\n",
       "    <tr>\n",
       "      <th>25%</th>\n",
       "      <td>1.718272e+06</td>\n",
       "      <td>8.000000</td>\n",
       "      <td>3.000000</td>\n",
       "    </tr>\n",
       "    <tr>\n",
       "      <th>50%</th>\n",
       "      <td>1.764741e+06</td>\n",
       "      <td>15.000000</td>\n",
       "      <td>3.000000</td>\n",
       "    </tr>\n",
       "    <tr>\n",
       "      <th>75%</th>\n",
       "      <td>1.812285e+06</td>\n",
       "      <td>22.000000</td>\n",
       "      <td>4.000000</td>\n",
       "    </tr>\n",
       "    <tr>\n",
       "      <th>max</th>\n",
       "      <td>1.882077e+06</td>\n",
       "      <td>31.000000</td>\n",
       "      <td>4.000000</td>\n",
       "    </tr>\n",
       "  </tbody>\n",
       "</table>\n",
       "</div>"
      ],
      "text/plain": [
       "        tracking_id            day          month\n",
       "count  7.287040e+05  728704.000000  728704.000000\n",
       "mean   1.766793e+06      14.955358       3.466530\n",
       "std    5.633244e+04       8.124148       0.498879\n",
       "min    1.415857e+06       1.000000       3.000000\n",
       "25%    1.718272e+06       8.000000       3.000000\n",
       "50%    1.764741e+06      15.000000       3.000000\n",
       "75%    1.812285e+06      22.000000       4.000000\n",
       "max    1.882077e+06      31.000000       4.000000"
      ]
     },
     "execution_count": 76,
     "metadata": {},
     "output_type": "execute_result"
    }
   ],
   "source": [
    "dupDf.describe()"
   ]
  },
  {
   "cell_type": "markdown",
   "metadata": {},
   "source": [
    "<h2>Úloha</h2>\n",
    "\n",
    "<ul>\n",
    "    <li>Použite funkciu <code>describe()</code> nad dátovým setom <b>dupDf</b>, kde zgrupíte dáta za providera nad stĺpcom mapped_status.</li>\n",
    "</ul>"
   ]
  },
  {
   "cell_type": "code",
   "execution_count": 77,
   "metadata": {},
   "outputs": [
    {
     "data": {
      "text/html": [
       "<div>\n",
       "<style scoped>\n",
       "    .dataframe tbody tr th:only-of-type {\n",
       "        vertical-align: middle;\n",
       "    }\n",
       "\n",
       "    .dataframe tbody tr th {\n",
       "        vertical-align: top;\n",
       "    }\n",
       "\n",
       "    .dataframe thead th {\n",
       "        text-align: right;\n",
       "    }\n",
       "</style>\n",
       "<table border=\"1\" class=\"dataframe\">\n",
       "  <thead>\n",
       "    <tr style=\"text-align: right;\">\n",
       "      <th></th>\n",
       "      <th>count</th>\n",
       "      <th>unique</th>\n",
       "      <th>top</th>\n",
       "      <th>freq</th>\n",
       "    </tr>\n",
       "    <tr>\n",
       "      <th>provider</th>\n",
       "      <th></th>\n",
       "      <th></th>\n",
       "      <th></th>\n",
       "      <th></th>\n",
       "    </tr>\n",
       "  </thead>\n",
       "  <tbody>\n",
       "    <tr>\n",
       "      <th>GEIS</th>\n",
       "      <td>32584</td>\n",
       "      <td>5</td>\n",
       "      <td>Převzato dopravcem</td>\n",
       "      <td>14947</td>\n",
       "    </tr>\n",
       "    <tr>\n",
       "      <th>PPL</th>\n",
       "      <td>520229</td>\n",
       "      <td>5</td>\n",
       "      <td>Na cestě k příjemci</td>\n",
       "      <td>237593</td>\n",
       "    </tr>\n",
       "    <tr>\n",
       "      <th>ČESKÁ POŠTA</th>\n",
       "      <td>175891</td>\n",
       "      <td>5</td>\n",
       "      <td>Na cestě k příjemci</td>\n",
       "      <td>114654</td>\n",
       "    </tr>\n",
       "  </tbody>\n",
       "</table>\n",
       "</div>"
      ],
      "text/plain": [
       "              count unique                  top    freq\n",
       "provider                                               \n",
       "GEIS          32584      5   Převzato dopravcem   14947\n",
       "PPL          520229      5  Na cestě k příjemci  237593\n",
       "ČESKÁ POŠTA  175891      5  Na cestě k příjemci  114654"
      ]
     },
     "execution_count": 77,
     "metadata": {},
     "output_type": "execute_result"
    }
   ],
   "source": [
    "dupDf.groupby('provider').mapped_status.describe()"
   ]
  },
  {
   "cell_type": "markdown",
   "metadata": {},
   "source": [
    "<h2>Agregačné funkcie</h2>"
   ]
  },
  {
   "cell_type": "code",
   "execution_count": 78,
   "metadata": {},
   "outputs": [
    {
     "data": {
      "text/html": [
       "<div>\n",
       "<style scoped>\n",
       "    .dataframe tbody tr th:only-of-type {\n",
       "        vertical-align: middle;\n",
       "    }\n",
       "\n",
       "    .dataframe tbody tr th {\n",
       "        vertical-align: top;\n",
       "    }\n",
       "\n",
       "    .dataframe thead th {\n",
       "        text-align: right;\n",
       "    }\n",
       "</style>\n",
       "<table border=\"1\" class=\"dataframe\">\n",
       "  <thead>\n",
       "    <tr style=\"text-align: right;\">\n",
       "      <th></th>\n",
       "      <th></th>\n",
       "      <th>tracking_id</th>\n",
       "    </tr>\n",
       "    <tr>\n",
       "      <th>provider</th>\n",
       "      <th>mapped_status</th>\n",
       "      <th></th>\n",
       "    </tr>\n",
       "  </thead>\n",
       "  <tbody>\n",
       "    <tr>\n",
       "      <th rowspan=\"5\" valign=\"top\">GEIS</th>\n",
       "      <th>Doručeno</th>\n",
       "      <td>5101</td>\n",
       "    </tr>\n",
       "    <tr>\n",
       "      <th>Na cestě k příjemci</th>\n",
       "      <td>6186</td>\n",
       "    </tr>\n",
       "    <tr>\n",
       "      <th>Nezadane</th>\n",
       "      <td>6151</td>\n",
       "    </tr>\n",
       "    <tr>\n",
       "      <th>Převzato dopravcem</th>\n",
       "      <td>14947</td>\n",
       "    </tr>\n",
       "    <tr>\n",
       "      <th>Stornováno</th>\n",
       "      <td>199</td>\n",
       "    </tr>\n",
       "    <tr>\n",
       "      <th rowspan=\"5\" valign=\"top\">PPL</th>\n",
       "      <th>Doručeno</th>\n",
       "      <td>104156</td>\n",
       "    </tr>\n",
       "    <tr>\n",
       "      <th>Na cestě k příjemci</th>\n",
       "      <td>237593</td>\n",
       "    </tr>\n",
       "    <tr>\n",
       "      <th>Nezadane</th>\n",
       "      <td>5989</td>\n",
       "    </tr>\n",
       "    <tr>\n",
       "      <th>Převzato dopravcem</th>\n",
       "      <td>169540</td>\n",
       "    </tr>\n",
       "    <tr>\n",
       "      <th>Stornováno</th>\n",
       "      <td>2951</td>\n",
       "    </tr>\n",
       "    <tr>\n",
       "      <th rowspan=\"5\" valign=\"top\">ČESKÁ POŠTA</th>\n",
       "      <th>Doručeno</th>\n",
       "      <td>30583</td>\n",
       "    </tr>\n",
       "    <tr>\n",
       "      <th>Na cestě k příjemci</th>\n",
       "      <td>114654</td>\n",
       "    </tr>\n",
       "    <tr>\n",
       "      <th>Nezadane</th>\n",
       "      <td>619</td>\n",
       "    </tr>\n",
       "    <tr>\n",
       "      <th>Převzato dopravcem</th>\n",
       "      <td>27922</td>\n",
       "    </tr>\n",
       "    <tr>\n",
       "      <th>Stornováno</th>\n",
       "      <td>2113</td>\n",
       "    </tr>\n",
       "  </tbody>\n",
       "</table>\n",
       "</div>"
      ],
      "text/plain": [
       "                                 tracking_id\n",
       "provider    mapped_status                   \n",
       "GEIS        Doručeno                    5101\n",
       "            Na cestě k příjemci         6186\n",
       "            Nezadane                    6151\n",
       "            Převzato dopravcem         14947\n",
       "            Stornováno                   199\n",
       "PPL         Doručeno                  104156\n",
       "            Na cestě k příjemci       237593\n",
       "            Nezadane                    5989\n",
       "            Převzato dopravcem        169540\n",
       "            Stornováno                  2951\n",
       "ČESKÁ POŠTA Doručeno                   30583\n",
       "            Na cestě k příjemci       114654\n",
       "            Nezadane                     619\n",
       "            Převzato dopravcem         27922\n",
       "            Stornováno                  2113"
      ]
     },
     "execution_count": 78,
     "metadata": {},
     "output_type": "execute_result"
    }
   ],
   "source": [
    "dupDf.groupby(['provider', 'mapped_status']).agg({'tracking_id':\"count\"})"
   ]
  },
  {
   "cell_type": "code",
   "execution_count": 79,
   "metadata": {},
   "outputs": [
    {
     "data": {
      "text/html": [
       "<div>\n",
       "<style scoped>\n",
       "    .dataframe tbody tr th:only-of-type {\n",
       "        vertical-align: middle;\n",
       "    }\n",
       "\n",
       "    .dataframe tbody tr th {\n",
       "        vertical-align: top;\n",
       "    }\n",
       "\n",
       "    .dataframe thead tr th {\n",
       "        text-align: left;\n",
       "    }\n",
       "\n",
       "    .dataframe thead tr:last-of-type th {\n",
       "        text-align: right;\n",
       "    }\n",
       "</style>\n",
       "<table border=\"1\" class=\"dataframe\">\n",
       "  <thead>\n",
       "    <tr>\n",
       "      <th></th>\n",
       "      <th colspan=\"5\" halign=\"left\">tracking_id</th>\n",
       "    </tr>\n",
       "    <tr>\n",
       "      <th>mapped_status</th>\n",
       "      <th>Doručeno</th>\n",
       "      <th>Na cestě k příjemci</th>\n",
       "      <th>Nezadane</th>\n",
       "      <th>Převzato dopravcem</th>\n",
       "      <th>Stornováno</th>\n",
       "    </tr>\n",
       "    <tr>\n",
       "      <th>provider</th>\n",
       "      <th></th>\n",
       "      <th></th>\n",
       "      <th></th>\n",
       "      <th></th>\n",
       "      <th></th>\n",
       "    </tr>\n",
       "  </thead>\n",
       "  <tbody>\n",
       "    <tr>\n",
       "      <th>GEIS</th>\n",
       "      <td>5101</td>\n",
       "      <td>6186</td>\n",
       "      <td>6151</td>\n",
       "      <td>14947</td>\n",
       "      <td>199</td>\n",
       "    </tr>\n",
       "    <tr>\n",
       "      <th>PPL</th>\n",
       "      <td>104156</td>\n",
       "      <td>237593</td>\n",
       "      <td>5989</td>\n",
       "      <td>169540</td>\n",
       "      <td>2951</td>\n",
       "    </tr>\n",
       "    <tr>\n",
       "      <th>ČESKÁ POŠTA</th>\n",
       "      <td>30583</td>\n",
       "      <td>114654</td>\n",
       "      <td>619</td>\n",
       "      <td>27922</td>\n",
       "      <td>2113</td>\n",
       "    </tr>\n",
       "  </tbody>\n",
       "</table>\n",
       "</div>"
      ],
      "text/plain": [
       "              tracking_id                                                  \\\n",
       "mapped_status    Doručeno Na cestě k příjemci Nezadane Převzato dopravcem   \n",
       "provider                                                                    \n",
       "GEIS                 5101                6186     6151              14947   \n",
       "PPL                104156              237593     5989             169540   \n",
       "ČESKÁ POŠTA         30583              114654      619              27922   \n",
       "\n",
       "                          \n",
       "mapped_status Stornováno  \n",
       "provider                  \n",
       "GEIS                 199  \n",
       "PPL                 2951  \n",
       "ČESKÁ POŠTA         2113  "
      ]
     },
     "execution_count": 79,
     "metadata": {},
     "output_type": "execute_result"
    }
   ],
   "source": [
    "dupDf.groupby(['provider', 'mapped_status']).agg({'tracking_id':\"count\"}).unstack()"
   ]
  },
  {
   "cell_type": "code",
   "execution_count": 80,
   "metadata": {},
   "outputs": [
    {
     "data": {
      "text/html": [
       "<div>\n",
       "<style scoped>\n",
       "    .dataframe tbody tr th:only-of-type {\n",
       "        vertical-align: middle;\n",
       "    }\n",
       "\n",
       "    .dataframe tbody tr th {\n",
       "        vertical-align: top;\n",
       "    }\n",
       "\n",
       "    .dataframe thead tr th {\n",
       "        text-align: left;\n",
       "    }\n",
       "\n",
       "    .dataframe thead tr:last-of-type th {\n",
       "        text-align: right;\n",
       "    }\n",
       "</style>\n",
       "<table border=\"1\" class=\"dataframe\">\n",
       "  <thead>\n",
       "    <tr>\n",
       "      <th></th>\n",
       "      <th></th>\n",
       "      <th colspan=\"2\" halign=\"left\">tracking_id</th>\n",
       "      <th colspan=\"2\" halign=\"left\">date</th>\n",
       "      <th colspan=\"2\" halign=\"left\">status</th>\n",
       "      <th colspan=\"2\" halign=\"left\">day</th>\n",
       "      <th colspan=\"2\" halign=\"left\">month</th>\n",
       "    </tr>\n",
       "    <tr>\n",
       "      <th></th>\n",
       "      <th></th>\n",
       "      <th>min</th>\n",
       "      <th>max</th>\n",
       "      <th>min</th>\n",
       "      <th>max</th>\n",
       "      <th>min</th>\n",
       "      <th>max</th>\n",
       "      <th>min</th>\n",
       "      <th>max</th>\n",
       "      <th>min</th>\n",
       "      <th>max</th>\n",
       "    </tr>\n",
       "    <tr>\n",
       "      <th>provider</th>\n",
       "      <th>mapped_status</th>\n",
       "      <th></th>\n",
       "      <th></th>\n",
       "      <th></th>\n",
       "      <th></th>\n",
       "      <th></th>\n",
       "      <th></th>\n",
       "      <th></th>\n",
       "      <th></th>\n",
       "      <th></th>\n",
       "      <th></th>\n",
       "    </tr>\n",
       "  </thead>\n",
       "  <tbody>\n",
       "    <tr>\n",
       "      <th rowspan=\"5\" valign=\"top\">GEIS</th>\n",
       "      <th>Doručeno</th>\n",
       "      <td>1637063</td>\n",
       "      <td>1875579</td>\n",
       "      <td>2018-03-01 08:04:26</td>\n",
       "      <td>2018-04-30 10:57:27</td>\n",
       "      <td>Doručení</td>\n",
       "      <td>Doručení</td>\n",
       "      <td>1</td>\n",
       "      <td>30</td>\n",
       "      <td>3</td>\n",
       "      <td>4</td>\n",
       "    </tr>\n",
       "    <tr>\n",
       "      <th>Na cestě k příjemci</th>\n",
       "      <td>1637063</td>\n",
       "      <td>1876214</td>\n",
       "      <td>2018-03-01 05:53:00</td>\n",
       "      <td>2018-04-30 12:16:00</td>\n",
       "      <td>Naložení na rozvoz</td>\n",
       "      <td>Řidič nestihl doručit</td>\n",
       "      <td>1</td>\n",
       "      <td>30</td>\n",
       "      <td>3</td>\n",
       "      <td>4</td>\n",
       "    </tr>\n",
       "    <tr>\n",
       "      <th>Nezadane</th>\n",
       "      <td>1613267</td>\n",
       "      <td>1876214</td>\n",
       "      <td>2018-03-01 00:01:01</td>\n",
       "      <td>2018-04-28 05:12:50</td>\n",
       "      <td>Naložení na hb</td>\n",
       "      <td>Naložení na hb</td>\n",
       "      <td>1</td>\n",
       "      <td>30</td>\n",
       "      <td>3</td>\n",
       "      <td>4</td>\n",
       "    </tr>\n",
       "    <tr>\n",
       "      <th>Převzato dopravcem</th>\n",
       "      <td>1628382</td>\n",
       "      <td>1876214</td>\n",
       "      <td>2018-03-01 00:06:43</td>\n",
       "      <td>2018-04-30 10:58:04</td>\n",
       "      <td>Průchod překladištěm</td>\n",
       "      <td>Příjem na depo</td>\n",
       "      <td>1</td>\n",
       "      <td>30</td>\n",
       "      <td>3</td>\n",
       "      <td>4</td>\n",
       "    </tr>\n",
       "    <tr>\n",
       "      <th>Stornováno</th>\n",
       "      <td>1628382</td>\n",
       "      <td>1865663</td>\n",
       "      <td>2018-03-01 10:08:21</td>\n",
       "      <td>2018-04-30 03:38:53</td>\n",
       "      <td>Převzetí odmítnuto</td>\n",
       "      <td>Zpět odesílateli</td>\n",
       "      <td>1</td>\n",
       "      <td>30</td>\n",
       "      <td>3</td>\n",
       "      <td>4</td>\n",
       "    </tr>\n",
       "    <tr>\n",
       "      <th rowspan=\"5\" valign=\"top\">PPL</th>\n",
       "      <th>Doručeno</th>\n",
       "      <td>1415857</td>\n",
       "      <td>1877038</td>\n",
       "      <td>2018-03-01 06:10:04</td>\n",
       "      <td>2018-04-30 11:50:19</td>\n",
       "      <td>Doručeno</td>\n",
       "      <td>Doručeno s výhradou</td>\n",
       "      <td>1</td>\n",
       "      <td>31</td>\n",
       "      <td>3</td>\n",
       "      <td>4</td>\n",
       "    </tr>\n",
       "    <tr>\n",
       "      <th>Na cestě k příjemci</th>\n",
       "      <td>1589803</td>\n",
       "      <td>1877215</td>\n",
       "      <td>2018-03-01 00:32:50</td>\n",
       "      <td>2018-04-30 11:25:59</td>\n",
       "      <td>Nedoručeno - adresa neúplná/nenalezena</td>\n",
       "      <td>Zásilku doručujeme na parcelshop</td>\n",
       "      <td>1</td>\n",
       "      <td>30</td>\n",
       "      <td>3</td>\n",
       "      <td>4</td>\n",
       "    </tr>\n",
       "    <tr>\n",
       "      <th>Nezadane</th>\n",
       "      <td>1423786</td>\n",
       "      <td>1877153</td>\n",
       "      <td>2018-03-01 06:27:12</td>\n",
       "      <td>2018-04-30 11:46:24</td>\n",
       "      <td>Dobírka - příkaz na zákazníka</td>\n",
       "      <td>Výmaz</td>\n",
       "      <td>1</td>\n",
       "      <td>30</td>\n",
       "      <td>3</td>\n",
       "      <td>4</td>\n",
       "    </tr>\n",
       "    <tr>\n",
       "      <th>Převzato dopravcem</th>\n",
       "      <td>1589803</td>\n",
       "      <td>1881727</td>\n",
       "      <td>2018-03-01 00:22:06</td>\n",
       "      <td>2018-04-30 10:42:52</td>\n",
       "      <td>Převzetí od zákazníka</td>\n",
       "      <td>Příjem na centrálu</td>\n",
       "      <td>1</td>\n",
       "      <td>31</td>\n",
       "      <td>3</td>\n",
       "      <td>4</td>\n",
       "    </tr>\n",
       "    <tr>\n",
       "      <th>Stornováno</th>\n",
       "      <td>1589803</td>\n",
       "      <td>1877015</td>\n",
       "      <td>2018-03-01 05:10:35</td>\n",
       "      <td>2018-04-30 11:09:02</td>\n",
       "      <td>Nedoručeno - neobjednáno</td>\n",
       "      <td>Zpět odesílateli</td>\n",
       "      <td>1</td>\n",
       "      <td>30</td>\n",
       "      <td>3</td>\n",
       "      <td>4</td>\n",
       "    </tr>\n",
       "    <tr>\n",
       "      <th rowspan=\"5\" valign=\"top\">ČESKÁ POŠTA</th>\n",
       "      <th>Doručeno</th>\n",
       "      <td>1430907</td>\n",
       "      <td>1882069</td>\n",
       "      <td>2018-03-01 06:35:00</td>\n",
       "      <td>2018-04-30 11:48:00</td>\n",
       "      <td>Doručena</td>\n",
       "      <td>Doručena</td>\n",
       "      <td>1</td>\n",
       "      <td>31</td>\n",
       "      <td>3</td>\n",
       "      <td>4</td>\n",
       "    </tr>\n",
       "    <tr>\n",
       "      <th>Na cestě k příjemci</th>\n",
       "      <td>1430956</td>\n",
       "      <td>1882076</td>\n",
       "      <td>2018-03-01 00:02:00</td>\n",
       "      <td>2018-04-30 13:24:00</td>\n",
       "      <td>Pořízeno na pochůzku</td>\n",
       "      <td>Uloženo na poště</td>\n",
       "      <td>1</td>\n",
       "      <td>31</td>\n",
       "      <td>3</td>\n",
       "      <td>4</td>\n",
       "    </tr>\n",
       "    <tr>\n",
       "      <th>Nezadane</th>\n",
       "      <td>1430956</td>\n",
       "      <td>1876634</td>\n",
       "      <td>2018-03-01 02:42:00</td>\n",
       "      <td>2018-04-30 11:14:00</td>\n",
       "      <td>Chybně směrována (vinou odesílatele)</td>\n",
       "      <td>Zásilka byla uložena na pošte (poškozená zásilka)</td>\n",
       "      <td>1</td>\n",
       "      <td>30</td>\n",
       "      <td>3</td>\n",
       "      <td>4</td>\n",
       "    </tr>\n",
       "    <tr>\n",
       "      <th>Převzato dopravcem</th>\n",
       "      <td>1676836</td>\n",
       "      <td>1882077</td>\n",
       "      <td>2018-03-01 06:45:00</td>\n",
       "      <td>2018-04-30 10:00:00</td>\n",
       "      <td>Řádně podaná zásilka - do rozhodné doby</td>\n",
       "      <td>Řádně podaná zásilka - do rozhodné doby</td>\n",
       "      <td>1</td>\n",
       "      <td>30</td>\n",
       "      <td>3</td>\n",
       "      <td>4</td>\n",
       "    </tr>\n",
       "    <tr>\n",
       "      <th>Stornováno</th>\n",
       "      <td>1430956</td>\n",
       "      <td>1873564</td>\n",
       "      <td>2018-03-01 05:51:00</td>\n",
       "      <td>2018-04-30 06:49:00</td>\n",
       "      <td>Vrácena - adresát neznámý</td>\n",
       "      <td>Zásilka byla dodána zpět (vrácena) odesílateli</td>\n",
       "      <td>1</td>\n",
       "      <td>31</td>\n",
       "      <td>3</td>\n",
       "      <td>4</td>\n",
       "    </tr>\n",
       "  </tbody>\n",
       "</table>\n",
       "</div>"
      ],
      "text/plain": [
       "                                tracking_id                          date  \\\n",
       "                                        min      max                  min   \n",
       "provider    mapped_status                                                   \n",
       "GEIS        Doručeno                1637063  1875579  2018-03-01 08:04:26   \n",
       "            Na cestě k příjemci     1637063  1876214  2018-03-01 05:53:00   \n",
       "            Nezadane                1613267  1876214  2018-03-01 00:01:01   \n",
       "            Převzato dopravcem      1628382  1876214  2018-03-01 00:06:43   \n",
       "            Stornováno              1628382  1865663  2018-03-01 10:08:21   \n",
       "PPL         Doručeno                1415857  1877038  2018-03-01 06:10:04   \n",
       "            Na cestě k příjemci     1589803  1877215  2018-03-01 00:32:50   \n",
       "            Nezadane                1423786  1877153  2018-03-01 06:27:12   \n",
       "            Převzato dopravcem      1589803  1881727  2018-03-01 00:22:06   \n",
       "            Stornováno              1589803  1877015  2018-03-01 05:10:35   \n",
       "ČESKÁ POŠTA Doručeno                1430907  1882069  2018-03-01 06:35:00   \n",
       "            Na cestě k příjemci     1430956  1882076  2018-03-01 00:02:00   \n",
       "            Nezadane                1430956  1876634  2018-03-01 02:42:00   \n",
       "            Převzato dopravcem      1676836  1882077  2018-03-01 06:45:00   \n",
       "            Stornováno              1430956  1873564  2018-03-01 05:51:00   \n",
       "\n",
       "                                                      \\\n",
       "                                                 max   \n",
       "provider    mapped_status                              \n",
       "GEIS        Doručeno             2018-04-30 10:57:27   \n",
       "            Na cestě k příjemci  2018-04-30 12:16:00   \n",
       "            Nezadane             2018-04-28 05:12:50   \n",
       "            Převzato dopravcem   2018-04-30 10:58:04   \n",
       "            Stornováno           2018-04-30 03:38:53   \n",
       "PPL         Doručeno             2018-04-30 11:50:19   \n",
       "            Na cestě k příjemci  2018-04-30 11:25:59   \n",
       "            Nezadane             2018-04-30 11:46:24   \n",
       "            Převzato dopravcem   2018-04-30 10:42:52   \n",
       "            Stornováno           2018-04-30 11:09:02   \n",
       "ČESKÁ POŠTA Doručeno             2018-04-30 11:48:00   \n",
       "            Na cestě k příjemci  2018-04-30 13:24:00   \n",
       "            Nezadane             2018-04-30 11:14:00   \n",
       "            Převzato dopravcem   2018-04-30 10:00:00   \n",
       "            Stornováno           2018-04-30 06:49:00   \n",
       "\n",
       "                                                                  status  \\\n",
       "                                                                     min   \n",
       "provider    mapped_status                                                  \n",
       "GEIS        Doručeno                                            Doručení   \n",
       "            Na cestě k příjemci                       Naložení na rozvoz   \n",
       "            Nezadane                                      Naložení na hb   \n",
       "            Převzato dopravcem                      Průchod překladištěm   \n",
       "            Stornováno                                Převzetí odmítnuto   \n",
       "PPL         Doručeno                                            Doručeno   \n",
       "            Na cestě k příjemci   Nedoručeno - adresa neúplná/nenalezena   \n",
       "            Nezadane                       Dobírka - příkaz na zákazníka   \n",
       "            Převzato dopravcem                     Převzetí od zákazníka   \n",
       "            Stornováno                          Nedoručeno - neobjednáno   \n",
       "ČESKÁ POŠTA Doručeno                                            Doručena   \n",
       "            Na cestě k příjemci                     Pořízeno na pochůzku   \n",
       "            Nezadane                Chybně směrována (vinou odesílatele)   \n",
       "            Převzato dopravcem   Řádně podaná zásilka - do rozhodné doby   \n",
       "            Stornováno                         Vrácena - adresát neznámý   \n",
       "\n",
       "                                                                                    \\\n",
       "                                                                               max   \n",
       "provider    mapped_status                                                            \n",
       "GEIS        Doručeno                                                      Doručení   \n",
       "            Na cestě k příjemci                              Řidič nestihl doručit   \n",
       "            Nezadane                                                Naložení na hb   \n",
       "            Převzato dopravcem                                      Příjem na depo   \n",
       "            Stornováno                                            Zpět odesílateli   \n",
       "PPL         Doručeno                                           Doručeno s výhradou   \n",
       "            Na cestě k příjemci                   Zásilku doručujeme na parcelshop   \n",
       "            Nezadane                                                         Výmaz   \n",
       "            Převzato dopravcem                                  Příjem na centrálu   \n",
       "            Stornováno                                            Zpět odesílateli   \n",
       "ČESKÁ POŠTA Doručeno                                                      Doručena   \n",
       "            Na cestě k příjemci                                   Uloženo na poště   \n",
       "            Nezadane             Zásilka byla uložena na pošte (poškozená zásilka)   \n",
       "            Převzato dopravcem             Řádně podaná zásilka - do rozhodné doby   \n",
       "            Stornováno              Zásilka byla dodána zpět (vrácena) odesílateli   \n",
       "\n",
       "                                day     month      \n",
       "                                min max   min max  \n",
       "provider    mapped_status                          \n",
       "GEIS        Doručeno              1  30     3   4  \n",
       "            Na cestě k příjemci   1  30     3   4  \n",
       "            Nezadane              1  30     3   4  \n",
       "            Převzato dopravcem    1  30     3   4  \n",
       "            Stornováno            1  30     3   4  \n",
       "PPL         Doručeno              1  31     3   4  \n",
       "            Na cestě k příjemci   1  30     3   4  \n",
       "            Nezadane              1  30     3   4  \n",
       "            Převzato dopravcem    1  31     3   4  \n",
       "            Stornováno            1  30     3   4  \n",
       "ČESKÁ POŠTA Doručeno              1  31     3   4  \n",
       "            Na cestě k příjemci   1  31     3   4  \n",
       "            Nezadane              1  30     3   4  \n",
       "            Převzato dopravcem    1  30     3   4  \n",
       "            Stornováno            1  31     3   4  "
      ]
     },
     "execution_count": 80,
     "metadata": {},
     "output_type": "execute_result"
    }
   ],
   "source": [
    "dupDf.groupby(['provider', 'mapped_status']).agg(['min', 'max'])"
   ]
  },
  {
   "cell_type": "code",
   "execution_count": 81,
   "metadata": {},
   "outputs": [
    {
     "data": {
      "text/html": [
       "<div>\n",
       "<style scoped>\n",
       "    .dataframe tbody tr th:only-of-type {\n",
       "        vertical-align: middle;\n",
       "    }\n",
       "\n",
       "    .dataframe tbody tr th {\n",
       "        vertical-align: top;\n",
       "    }\n",
       "\n",
       "    .dataframe thead th {\n",
       "        text-align: right;\n",
       "    }\n",
       "</style>\n",
       "<table border=\"1\" class=\"dataframe\">\n",
       "  <thead>\n",
       "    <tr style=\"text-align: right;\">\n",
       "      <th></th>\n",
       "      <th></th>\n",
       "      <th>min</th>\n",
       "      <th>max</th>\n",
       "    </tr>\n",
       "    <tr>\n",
       "      <th>provider</th>\n",
       "      <th>mapped_status</th>\n",
       "      <th></th>\n",
       "      <th></th>\n",
       "    </tr>\n",
       "  </thead>\n",
       "  <tbody>\n",
       "    <tr>\n",
       "      <th rowspan=\"5\" valign=\"top\">GEIS</th>\n",
       "      <th>Doručeno</th>\n",
       "      <td>2018-03-01 08:04:26</td>\n",
       "      <td>2018-04-30 10:57:27</td>\n",
       "    </tr>\n",
       "    <tr>\n",
       "      <th>Na cestě k příjemci</th>\n",
       "      <td>2018-03-01 05:53:00</td>\n",
       "      <td>2018-04-30 12:16:00</td>\n",
       "    </tr>\n",
       "    <tr>\n",
       "      <th>Nezadane</th>\n",
       "      <td>2018-03-01 00:01:01</td>\n",
       "      <td>2018-04-28 05:12:50</td>\n",
       "    </tr>\n",
       "    <tr>\n",
       "      <th>Převzato dopravcem</th>\n",
       "      <td>2018-03-01 00:06:43</td>\n",
       "      <td>2018-04-30 10:58:04</td>\n",
       "    </tr>\n",
       "    <tr>\n",
       "      <th>Stornováno</th>\n",
       "      <td>2018-03-01 10:08:21</td>\n",
       "      <td>2018-04-30 03:38:53</td>\n",
       "    </tr>\n",
       "    <tr>\n",
       "      <th rowspan=\"5\" valign=\"top\">PPL</th>\n",
       "      <th>Doručeno</th>\n",
       "      <td>2018-03-01 06:10:04</td>\n",
       "      <td>2018-04-30 11:50:19</td>\n",
       "    </tr>\n",
       "    <tr>\n",
       "      <th>Na cestě k příjemci</th>\n",
       "      <td>2018-03-01 00:32:50</td>\n",
       "      <td>2018-04-30 11:25:59</td>\n",
       "    </tr>\n",
       "    <tr>\n",
       "      <th>Nezadane</th>\n",
       "      <td>2018-03-01 06:27:12</td>\n",
       "      <td>2018-04-30 11:46:24</td>\n",
       "    </tr>\n",
       "    <tr>\n",
       "      <th>Převzato dopravcem</th>\n",
       "      <td>2018-03-01 00:22:06</td>\n",
       "      <td>2018-04-30 10:42:52</td>\n",
       "    </tr>\n",
       "    <tr>\n",
       "      <th>Stornováno</th>\n",
       "      <td>2018-03-01 05:10:35</td>\n",
       "      <td>2018-04-30 11:09:02</td>\n",
       "    </tr>\n",
       "    <tr>\n",
       "      <th rowspan=\"5\" valign=\"top\">ČESKÁ POŠTA</th>\n",
       "      <th>Doručeno</th>\n",
       "      <td>2018-03-01 06:35:00</td>\n",
       "      <td>2018-04-30 11:48:00</td>\n",
       "    </tr>\n",
       "    <tr>\n",
       "      <th>Na cestě k příjemci</th>\n",
       "      <td>2018-03-01 00:02:00</td>\n",
       "      <td>2018-04-30 13:24:00</td>\n",
       "    </tr>\n",
       "    <tr>\n",
       "      <th>Nezadane</th>\n",
       "      <td>2018-03-01 02:42:00</td>\n",
       "      <td>2018-04-30 11:14:00</td>\n",
       "    </tr>\n",
       "    <tr>\n",
       "      <th>Převzato dopravcem</th>\n",
       "      <td>2018-03-01 06:45:00</td>\n",
       "      <td>2018-04-30 10:00:00</td>\n",
       "    </tr>\n",
       "    <tr>\n",
       "      <th>Stornováno</th>\n",
       "      <td>2018-03-01 05:51:00</td>\n",
       "      <td>2018-04-30 06:49:00</td>\n",
       "    </tr>\n",
       "  </tbody>\n",
       "</table>\n",
       "</div>"
      ],
      "text/plain": [
       "                                                 min                  max\n",
       "provider    mapped_status                                                \n",
       "GEIS        Doručeno             2018-03-01 08:04:26  2018-04-30 10:57:27\n",
       "            Na cestě k příjemci  2018-03-01 05:53:00  2018-04-30 12:16:00\n",
       "            Nezadane             2018-03-01 00:01:01  2018-04-28 05:12:50\n",
       "            Převzato dopravcem   2018-03-01 00:06:43  2018-04-30 10:58:04\n",
       "            Stornováno           2018-03-01 10:08:21  2018-04-30 03:38:53\n",
       "PPL         Doručeno             2018-03-01 06:10:04  2018-04-30 11:50:19\n",
       "            Na cestě k příjemci  2018-03-01 00:32:50  2018-04-30 11:25:59\n",
       "            Nezadane             2018-03-01 06:27:12  2018-04-30 11:46:24\n",
       "            Převzato dopravcem   2018-03-01 00:22:06  2018-04-30 10:42:52\n",
       "            Stornováno           2018-03-01 05:10:35  2018-04-30 11:09:02\n",
       "ČESKÁ POŠTA Doručeno             2018-03-01 06:35:00  2018-04-30 11:48:00\n",
       "            Na cestě k příjemci  2018-03-01 00:02:00  2018-04-30 13:24:00\n",
       "            Nezadane             2018-03-01 02:42:00  2018-04-30 11:14:00\n",
       "            Převzato dopravcem   2018-03-01 06:45:00  2018-04-30 10:00:00\n",
       "            Stornováno           2018-03-01 05:51:00  2018-04-30 06:49:00"
      ]
     },
     "execution_count": 81,
     "metadata": {},
     "output_type": "execute_result"
    }
   ],
   "source": [
    "dupDf.groupby(['provider', 'mapped_status'])[\"date\"].agg(['min', 'max'])"
   ]
  },
  {
   "cell_type": "code",
   "execution_count": 82,
   "metadata": {},
   "outputs": [
    {
     "data": {
      "text/html": [
       "<div>\n",
       "<style scoped>\n",
       "    .dataframe tbody tr th:only-of-type {\n",
       "        vertical-align: middle;\n",
       "    }\n",
       "\n",
       "    .dataframe tbody tr th {\n",
       "        vertical-align: top;\n",
       "    }\n",
       "\n",
       "    .dataframe thead th {\n",
       "        text-align: right;\n",
       "    }\n",
       "</style>\n",
       "<table border=\"1\" class=\"dataframe\">\n",
       "  <thead>\n",
       "    <tr style=\"text-align: right;\">\n",
       "      <th></th>\n",
       "      <th></th>\n",
       "      <th>tracking_id</th>\n",
       "      <th>date</th>\n",
       "    </tr>\n",
       "    <tr>\n",
       "      <th>provider</th>\n",
       "      <th>mapped_status</th>\n",
       "      <th></th>\n",
       "      <th></th>\n",
       "    </tr>\n",
       "  </thead>\n",
       "  <tbody>\n",
       "    <tr>\n",
       "      <th rowspan=\"5\" valign=\"top\">GEIS</th>\n",
       "      <th>Doručeno</th>\n",
       "      <td>1776777.0</td>\n",
       "      <td>5101</td>\n",
       "    </tr>\n",
       "    <tr>\n",
       "      <th>Na cestě k příjemci</th>\n",
       "      <td>1782811.5</td>\n",
       "      <td>6186</td>\n",
       "    </tr>\n",
       "    <tr>\n",
       "      <th>Nezadane</th>\n",
       "      <td>1783070.0</td>\n",
       "      <td>6151</td>\n",
       "    </tr>\n",
       "    <tr>\n",
       "      <th>Převzato dopravcem</th>\n",
       "      <td>1785235.0</td>\n",
       "      <td>14947</td>\n",
       "    </tr>\n",
       "    <tr>\n",
       "      <th>Stornováno</th>\n",
       "      <td>1787505.0</td>\n",
       "      <td>199</td>\n",
       "    </tr>\n",
       "    <tr>\n",
       "      <th rowspan=\"5\" valign=\"top\">PPL</th>\n",
       "      <th>Doručeno</th>\n",
       "      <td>1765198.5</td>\n",
       "      <td>104156</td>\n",
       "    </tr>\n",
       "    <tr>\n",
       "      <th>Na cestě k příjemci</th>\n",
       "      <td>1766162.0</td>\n",
       "      <td>237593</td>\n",
       "    </tr>\n",
       "    <tr>\n",
       "      <th>Nezadane</th>\n",
       "      <td>1767701.0</td>\n",
       "      <td>5989</td>\n",
       "    </tr>\n",
       "    <tr>\n",
       "      <th>Převzato dopravcem</th>\n",
       "      <td>1756166.5</td>\n",
       "      <td>169540</td>\n",
       "    </tr>\n",
       "    <tr>\n",
       "      <th>Stornováno</th>\n",
       "      <td>1756128.0</td>\n",
       "      <td>2951</td>\n",
       "    </tr>\n",
       "    <tr>\n",
       "      <th rowspan=\"5\" valign=\"top\">ČESKÁ POŠTA</th>\n",
       "      <th>Doručeno</th>\n",
       "      <td>1770375.0</td>\n",
       "      <td>30583</td>\n",
       "    </tr>\n",
       "    <tr>\n",
       "      <th>Na cestě k příjemci</th>\n",
       "      <td>1773549.0</td>\n",
       "      <td>114654</td>\n",
       "    </tr>\n",
       "    <tr>\n",
       "      <th>Nezadane</th>\n",
       "      <td>1752159.0</td>\n",
       "      <td>619</td>\n",
       "    </tr>\n",
       "    <tr>\n",
       "      <th>Převzato dopravcem</th>\n",
       "      <td>1773691.5</td>\n",
       "      <td>27922</td>\n",
       "    </tr>\n",
       "    <tr>\n",
       "      <th>Stornováno</th>\n",
       "      <td>1741430.0</td>\n",
       "      <td>2113</td>\n",
       "    </tr>\n",
       "  </tbody>\n",
       "</table>\n",
       "</div>"
      ],
      "text/plain": [
       "                                 tracking_id    date\n",
       "provider    mapped_status                           \n",
       "GEIS        Doručeno               1776777.0    5101\n",
       "            Na cestě k příjemci    1782811.5    6186\n",
       "            Nezadane               1783070.0    6151\n",
       "            Převzato dopravcem     1785235.0   14947\n",
       "            Stornováno             1787505.0     199\n",
       "PPL         Doručeno               1765198.5  104156\n",
       "            Na cestě k příjemci    1766162.0  237593\n",
       "            Nezadane               1767701.0    5989\n",
       "            Převzato dopravcem     1756166.5  169540\n",
       "            Stornováno             1756128.0    2951\n",
       "ČESKÁ POŠTA Doručeno               1770375.0   30583\n",
       "            Na cestě k příjemci    1773549.0  114654\n",
       "            Nezadane               1752159.0     619\n",
       "            Převzato dopravcem     1773691.5   27922\n",
       "            Stornováno             1741430.0    2113"
      ]
     },
     "execution_count": 82,
     "metadata": {},
     "output_type": "execute_result"
    }
   ],
   "source": [
    "dupDf.groupby(['provider', 'mapped_status']).agg({'tracking_id' : 'median', 'date' : 'count'})"
   ]
  },
  {
   "cell_type": "markdown",
   "metadata": {},
   "source": [
    "<h2>Práca s duplicitami</h2>"
   ]
  },
  {
   "cell_type": "code",
   "execution_count": 115,
   "metadata": {},
   "outputs": [],
   "source": [
    "providers_grouped = dupDf[[\"provider\", \"tracking_id\", \"date\", \"status\", \"mapped_status\"]].sort_values(by=['provider', 'tracking_id', 'date']).groupby(\n",
    "    [\"provider\", \"tracking_id\", \"date\", \"status\"])"
   ]
  },
  {
   "cell_type": "code",
   "execution_count": 116,
   "metadata": {},
   "outputs": [],
   "source": [
    "newDf = providers_grouped.count().sort_values('mapped_status', ascending=False)"
   ]
  },
  {
   "cell_type": "code",
   "execution_count": 183,
   "metadata": {},
   "outputs": [
    {
     "data": {
      "text/html": [
       "<div>\n",
       "<style scoped>\n",
       "    .dataframe tbody tr th:only-of-type {\n",
       "        vertical-align: middle;\n",
       "    }\n",
       "\n",
       "    .dataframe tbody tr th {\n",
       "        vertical-align: top;\n",
       "    }\n",
       "\n",
       "    .dataframe thead th {\n",
       "        text-align: right;\n",
       "    }\n",
       "</style>\n",
       "<table border=\"1\" class=\"dataframe\">\n",
       "  <thead>\n",
       "    <tr style=\"text-align: right;\">\n",
       "      <th></th>\n",
       "      <th>tracking_id</th>\n",
       "      <th>date</th>\n",
       "      <th>status</th>\n",
       "      <th>mapped_status</th>\n",
       "      <th>provider</th>\n",
       "      <th>day</th>\n",
       "      <th>month</th>\n",
       "    </tr>\n",
       "  </thead>\n",
       "  <tbody>\n",
       "    <tr>\n",
       "      <th>423497</th>\n",
       "      <td>1750524</td>\n",
       "      <td>2018-03-23 17:28:19</td>\n",
       "      <td>Příjem na depo</td>\n",
       "      <td>Převzato dopravcem</td>\n",
       "      <td>GEIS</td>\n",
       "      <td>23</td>\n",
       "      <td>3</td>\n",
       "    </tr>\n",
       "    <tr>\n",
       "      <th>423498</th>\n",
       "      <td>1750524</td>\n",
       "      <td>2018-03-23 18:25:26</td>\n",
       "      <td>Naložení na hb</td>\n",
       "      <td>Nezadane</td>\n",
       "      <td>GEIS</td>\n",
       "      <td>23</td>\n",
       "      <td>3</td>\n",
       "    </tr>\n",
       "    <tr>\n",
       "      <th>423499</th>\n",
       "      <td>1750524</td>\n",
       "      <td>2018-03-23 22:44:10</td>\n",
       "      <td>Průchod překladištěm</td>\n",
       "      <td>Převzato dopravcem</td>\n",
       "      <td>GEIS</td>\n",
       "      <td>23</td>\n",
       "      <td>3</td>\n",
       "    </tr>\n",
       "    <tr>\n",
       "      <th>423500</th>\n",
       "      <td>1750524</td>\n",
       "      <td>2018-03-23 22:44:11</td>\n",
       "      <td>Příjem na depo</td>\n",
       "      <td>Převzato dopravcem</td>\n",
       "      <td>GEIS</td>\n",
       "      <td>23</td>\n",
       "      <td>3</td>\n",
       "    </tr>\n",
       "    <tr>\n",
       "      <th>423501</th>\n",
       "      <td>1750524</td>\n",
       "      <td>2018-03-26 07:52:00</td>\n",
       "      <td>Naložení na rozvoz</td>\n",
       "      <td>Na cestě k příjemci</td>\n",
       "      <td>GEIS</td>\n",
       "      <td>26</td>\n",
       "      <td>3</td>\n",
       "    </tr>\n",
       "    <tr>\n",
       "      <th>423502</th>\n",
       "      <td>1750524</td>\n",
       "      <td>2018-03-26 14:33:00</td>\n",
       "      <td>Příjemce nezastižen</td>\n",
       "      <td>Na cestě k příjemci</td>\n",
       "      <td>GEIS</td>\n",
       "      <td>26</td>\n",
       "      <td>3</td>\n",
       "    </tr>\n",
       "    <tr>\n",
       "      <th>423503</th>\n",
       "      <td>1750524</td>\n",
       "      <td>2018-03-26 14:33:00</td>\n",
       "      <td>Příjemce nezastižen</td>\n",
       "      <td>Na cestě k příjemci</td>\n",
       "      <td>GEIS</td>\n",
       "      <td>26</td>\n",
       "      <td>3</td>\n",
       "    </tr>\n",
       "    <tr>\n",
       "      <th>423504</th>\n",
       "      <td>1750524</td>\n",
       "      <td>2018-03-26 14:33:00</td>\n",
       "      <td>Příjemce nezastižen</td>\n",
       "      <td>Na cestě k příjemci</td>\n",
       "      <td>GEIS</td>\n",
       "      <td>26</td>\n",
       "      <td>3</td>\n",
       "    </tr>\n",
       "    <tr>\n",
       "      <th>423505</th>\n",
       "      <td>1750524</td>\n",
       "      <td>2018-03-26 15:42:48</td>\n",
       "      <td>Příjem na depo</td>\n",
       "      <td>Převzato dopravcem</td>\n",
       "      <td>GEIS</td>\n",
       "      <td>26</td>\n",
       "      <td>3</td>\n",
       "    </tr>\n",
       "    <tr>\n",
       "      <th>423506</th>\n",
       "      <td>1750524</td>\n",
       "      <td>2018-03-27 08:26:00</td>\n",
       "      <td>Naložení na rozvoz</td>\n",
       "      <td>Na cestě k příjemci</td>\n",
       "      <td>GEIS</td>\n",
       "      <td>27</td>\n",
       "      <td>3</td>\n",
       "    </tr>\n",
       "    <tr>\n",
       "      <th>423507</th>\n",
       "      <td>1750524</td>\n",
       "      <td>2018-03-27 15:26:56</td>\n",
       "      <td>Příjem na depo</td>\n",
       "      <td>Převzato dopravcem</td>\n",
       "      <td>GEIS</td>\n",
       "      <td>27</td>\n",
       "      <td>3</td>\n",
       "    </tr>\n",
       "    <tr>\n",
       "      <th>423508</th>\n",
       "      <td>1750524</td>\n",
       "      <td>2018-03-29 13:33:04</td>\n",
       "      <td>Zpět odesílateli</td>\n",
       "      <td>Stornováno</td>\n",
       "      <td>GEIS</td>\n",
       "      <td>29</td>\n",
       "      <td>3</td>\n",
       "    </tr>\n",
       "  </tbody>\n",
       "</table>\n",
       "</div>"
      ],
      "text/plain": [
       "        tracking_id                 date                status  \\\n",
       "423497      1750524  2018-03-23 17:28:19        Příjem na depo   \n",
       "423498      1750524  2018-03-23 18:25:26        Naložení na hb   \n",
       "423499      1750524  2018-03-23 22:44:10  Průchod překladištěm   \n",
       "423500      1750524  2018-03-23 22:44:11        Příjem na depo   \n",
       "423501      1750524  2018-03-26 07:52:00    Naložení na rozvoz   \n",
       "423502      1750524  2018-03-26 14:33:00   Příjemce nezastižen   \n",
       "423503      1750524  2018-03-26 14:33:00   Příjemce nezastižen   \n",
       "423504      1750524  2018-03-26 14:33:00   Příjemce nezastižen   \n",
       "423505      1750524  2018-03-26 15:42:48        Příjem na depo   \n",
       "423506      1750524  2018-03-27 08:26:00    Naložení na rozvoz   \n",
       "423507      1750524  2018-03-27 15:26:56        Příjem na depo   \n",
       "423508      1750524  2018-03-29 13:33:04      Zpět odesílateli   \n",
       "\n",
       "              mapped_status provider  day  month  \n",
       "423497   Převzato dopravcem     GEIS   23      3  \n",
       "423498             Nezadane     GEIS   23      3  \n",
       "423499   Převzato dopravcem     GEIS   23      3  \n",
       "423500   Převzato dopravcem     GEIS   23      3  \n",
       "423501  Na cestě k příjemci     GEIS   26      3  \n",
       "423502  Na cestě k příjemci     GEIS   26      3  \n",
       "423503  Na cestě k příjemci     GEIS   26      3  \n",
       "423504  Na cestě k příjemci     GEIS   26      3  \n",
       "423505   Převzato dopravcem     GEIS   26      3  \n",
       "423506  Na cestě k příjemci     GEIS   27      3  \n",
       "423507   Převzato dopravcem     GEIS   27      3  \n",
       "423508           Stornováno     GEIS   29      3  "
      ]
     },
     "execution_count": 183,
     "metadata": {},
     "output_type": "execute_result"
    }
   ],
   "source": [
    "dupDf[dupDf[\"tracking_id\"] == 1750524]"
   ]
  },
  {
   "cell_type": "code",
   "execution_count": 117,
   "metadata": {},
   "outputs": [
    {
     "data": {
      "text/plain": [
       "array([[3],\n",
       "       [3],\n",
       "       [2],\n",
       "       ...,\n",
       "       [1],\n",
       "       [1],\n",
       "       [1]])"
      ]
     },
     "execution_count": 117,
     "metadata": {},
     "output_type": "execute_result"
    }
   ],
   "source": [
    "providers_grouped.count().sort_values('mapped_status', ascending=False).values"
   ]
  },
  {
   "cell_type": "code",
   "execution_count": 118,
   "metadata": {},
   "outputs": [],
   "source": [
    "duplicateDf = newDf[providers_grouped.count().sort_values('mapped_status', ascending=False).values > 1]"
   ]
  },
  {
   "cell_type": "code",
   "execution_count": 119,
   "metadata": {},
   "outputs": [
    {
     "data": {
      "text/html": [
       "<div>\n",
       "<style scoped>\n",
       "    .dataframe tbody tr th:only-of-type {\n",
       "        vertical-align: middle;\n",
       "    }\n",
       "\n",
       "    .dataframe tbody tr th {\n",
       "        vertical-align: top;\n",
       "    }\n",
       "\n",
       "    .dataframe thead th {\n",
       "        text-align: right;\n",
       "    }\n",
       "</style>\n",
       "<table border=\"1\" class=\"dataframe\">\n",
       "  <thead>\n",
       "    <tr style=\"text-align: right;\">\n",
       "      <th></th>\n",
       "      <th></th>\n",
       "      <th></th>\n",
       "      <th></th>\n",
       "      <th>mapped_status</th>\n",
       "    </tr>\n",
       "    <tr>\n",
       "      <th>provider</th>\n",
       "      <th>tracking_id</th>\n",
       "      <th>date</th>\n",
       "      <th>status</th>\n",
       "      <th></th>\n",
       "    </tr>\n",
       "  </thead>\n",
       "  <tbody>\n",
       "    <tr>\n",
       "      <th rowspan=\"2\" valign=\"top\">GEIS</th>\n",
       "      <th>1750524</th>\n",
       "      <th>2018-03-26 14:33:00</th>\n",
       "      <th>Příjemce nezastižen</th>\n",
       "      <td>3</td>\n",
       "    </tr>\n",
       "    <tr>\n",
       "      <th>1794557</th>\n",
       "      <th>2018-04-17 12:07:43</th>\n",
       "      <th>Příjemce nezastižen</th>\n",
       "      <td>3</td>\n",
       "    </tr>\n",
       "    <tr>\n",
       "      <th rowspan=\"3\" valign=\"top\">ČESKÁ POŠTA</th>\n",
       "      <th>1760088</th>\n",
       "      <th>2018-03-27 05:47:00</th>\n",
       "      <th>Uloženo na poště</th>\n",
       "      <td>2</td>\n",
       "    </tr>\n",
       "    <tr>\n",
       "      <th>1718791</th>\n",
       "      <th>2018-03-14 05:38:00</th>\n",
       "      <th>Uloženo na poště</th>\n",
       "      <td>2</td>\n",
       "    </tr>\n",
       "    <tr>\n",
       "      <th>1867230</th>\n",
       "      <th>2018-04-26 06:03:00</th>\n",
       "      <th>Uloženo na poště</th>\n",
       "      <td>2</td>\n",
       "    </tr>\n",
       "  </tbody>\n",
       "</table>\n",
       "</div>"
      ],
      "text/plain": [
       "                                                                 mapped_status\n",
       "provider    tracking_id date                status                            \n",
       "GEIS        1750524     2018-03-26 14:33:00 Příjemce nezastižen              3\n",
       "            1794557     2018-04-17 12:07:43 Příjemce nezastižen              3\n",
       "ČESKÁ POŠTA 1760088     2018-03-27 05:47:00 Uloženo na poště                 2\n",
       "            1718791     2018-03-14 05:38:00 Uloženo na poště                 2\n",
       "            1867230     2018-04-26 06:03:00 Uloženo na poště                 2"
      ]
     },
     "execution_count": 119,
     "metadata": {},
     "output_type": "execute_result"
    }
   ],
   "source": [
    "duplicateDf.head()"
   ]
  },
  {
   "cell_type": "code",
   "execution_count": 120,
   "metadata": {},
   "outputs": [
    {
     "data": {
      "text/plain": [
       "(2594, 1)"
      ]
     },
     "execution_count": 120,
     "metadata": {},
     "output_type": "execute_result"
    }
   ],
   "source": [
    "duplicateDf.shape"
   ]
  },
  {
   "cell_type": "code",
   "execution_count": 121,
   "metadata": {},
   "outputs": [
    {
     "data": {
      "text/plain": [
       "(728704, 7)"
      ]
     },
     "execution_count": 121,
     "metadata": {},
     "output_type": "execute_result"
    }
   ],
   "source": [
    "dupDf.shape"
   ]
  },
  {
   "cell_type": "code",
   "execution_count": 122,
   "metadata": {},
   "outputs": [
    {
     "data": {
      "text/plain": [
       "726110"
      ]
     },
     "execution_count": 122,
     "metadata": {},
     "output_type": "execute_result"
    }
   ],
   "source": [
    "diff = dupDf.shape[0] - duplicateDf.shape[0]\n",
    "diff"
   ]
  },
  {
   "cell_type": "code",
   "execution_count": 123,
   "metadata": {},
   "outputs": [],
   "source": [
    "providersNoDup = dupDf.drop_duplicates(['tracking_id', 'date', 'status'], inplace=False)"
   ]
  },
  {
   "cell_type": "code",
   "execution_count": 124,
   "metadata": {},
   "outputs": [
    {
     "data": {
      "text/plain": [
       "(726108, 7)"
      ]
     },
     "execution_count": 124,
     "metadata": {},
     "output_type": "execute_result"
    }
   ],
   "source": [
    "providersNoDup.shape"
   ]
  },
  {
   "cell_type": "markdown",
   "metadata": {},
   "source": [
    "<h2>Precvičovanie</h2>"
   ]
  },
  {
   "cell_type": "markdown",
   "metadata": {},
   "source": [
    "Zgrupme si do novej premennej statuses počet statusov za každého providera"
   ]
  },
  {
   "cell_type": "code",
   "execution_count": 151,
   "metadata": {},
   "outputs": [],
   "source": [
    "statuses = providersNoDup.groupby([\"status\", \"provider\"]).count()"
   ]
  },
  {
   "cell_type": "code",
   "execution_count": 152,
   "metadata": {},
   "outputs": [
    {
     "data": {
      "text/html": [
       "<div>\n",
       "<style scoped>\n",
       "    .dataframe tbody tr th:only-of-type {\n",
       "        vertical-align: middle;\n",
       "    }\n",
       "\n",
       "    .dataframe tbody tr th {\n",
       "        vertical-align: top;\n",
       "    }\n",
       "\n",
       "    .dataframe thead th {\n",
       "        text-align: right;\n",
       "    }\n",
       "</style>\n",
       "<table border=\"1\" class=\"dataframe\">\n",
       "  <thead>\n",
       "    <tr style=\"text-align: right;\">\n",
       "      <th></th>\n",
       "      <th></th>\n",
       "      <th>tracking_id</th>\n",
       "      <th>date</th>\n",
       "      <th>mapped_status</th>\n",
       "      <th>day</th>\n",
       "      <th>month</th>\n",
       "    </tr>\n",
       "    <tr>\n",
       "      <th>status</th>\n",
       "      <th>provider</th>\n",
       "      <th></th>\n",
       "      <th></th>\n",
       "      <th></th>\n",
       "      <th></th>\n",
       "      <th></th>\n",
       "    </tr>\n",
       "  </thead>\n",
       "  <tbody>\n",
       "    <tr>\n",
       "      <th>Chybně směrována (vinou odesílatele)</th>\n",
       "      <th>ČESKÁ POŠTA</th>\n",
       "      <td>1</td>\n",
       "      <td>1</td>\n",
       "      <td>1</td>\n",
       "      <td>1</td>\n",
       "      <td>1</td>\n",
       "    </tr>\n",
       "    <tr>\n",
       "      <th>Chybně směrována vinou pošty (zpět na spu)</th>\n",
       "      <th>ČESKÁ POŠTA</th>\n",
       "      <td>338</td>\n",
       "      <td>338</td>\n",
       "      <td>338</td>\n",
       "      <td>338</td>\n",
       "      <td>338</td>\n",
       "    </tr>\n",
       "    <tr>\n",
       "      <th>Dobírka - příkaz na zákazníka</th>\n",
       "      <th>PPL</th>\n",
       "      <td>180</td>\n",
       "      <td>180</td>\n",
       "      <td>180</td>\n",
       "      <td>180</td>\n",
       "      <td>180</td>\n",
       "    </tr>\n",
       "    <tr>\n",
       "      <th>Dobírka - zaplaceno zákazníkovi</th>\n",
       "      <th>PPL</th>\n",
       "      <td>155</td>\n",
       "      <td>155</td>\n",
       "      <td>155</td>\n",
       "      <td>155</td>\n",
       "      <td>155</td>\n",
       "    </tr>\n",
       "    <tr>\n",
       "      <th>Doručena</th>\n",
       "      <th>ČESKÁ POŠTA</th>\n",
       "      <td>30583</td>\n",
       "      <td>30583</td>\n",
       "      <td>30583</td>\n",
       "      <td>30583</td>\n",
       "      <td>30583</td>\n",
       "    </tr>\n",
       "  </tbody>\n",
       "</table>\n",
       "</div>"
      ],
      "text/plain": [
       "                                                        tracking_id   date  \\\n",
       "status                                     provider                          \n",
       "Chybně směrována (vinou odesílatele)       ČESKÁ POŠTA            1      1   \n",
       "Chybně směrována vinou pošty (zpět na spu) ČESKÁ POŠTA          338    338   \n",
       "Dobírka - příkaz na zákazníka              PPL                  180    180   \n",
       "Dobírka - zaplaceno zákazníkovi            PPL                  155    155   \n",
       "Doručena                                   ČESKÁ POŠTA        30583  30583   \n",
       "\n",
       "                                                        mapped_status    day  \\\n",
       "status                                     provider                            \n",
       "Chybně směrována (vinou odesílatele)       ČESKÁ POŠTA              1      1   \n",
       "Chybně směrována vinou pošty (zpět na spu) ČESKÁ POŠTA            338    338   \n",
       "Dobírka - příkaz na zákazníka              PPL                    180    180   \n",
       "Dobírka - zaplaceno zákazníkovi            PPL                    155    155   \n",
       "Doručena                                   ČESKÁ POŠTA          30583  30583   \n",
       "\n",
       "                                                        month  \n",
       "status                                     provider            \n",
       "Chybně směrována (vinou odesílatele)       ČESKÁ POŠTA      1  \n",
       "Chybně směrována vinou pošty (zpět na spu) ČESKÁ POŠTA    338  \n",
       "Dobírka - příkaz na zákazníka              PPL            180  \n",
       "Dobírka - zaplaceno zákazníkovi            PPL            155  \n",
       "Doručena                                   ČESKÁ POŠTA  30583  "
      ]
     },
     "execution_count": 152,
     "metadata": {},
     "output_type": "execute_result"
    }
   ],
   "source": [
    "statuses.head()"
   ]
  },
  {
   "cell_type": "code",
   "execution_count": 153,
   "metadata": {},
   "outputs": [
    {
     "data": {
      "text/plain": [
       "(65, 5)"
      ]
     },
     "execution_count": 153,
     "metadata": {},
     "output_type": "execute_result"
    }
   ],
   "source": [
    "statuses.shape"
   ]
  },
  {
   "cell_type": "markdown",
   "metadata": {},
   "source": [
    "Zoraďme si statusy podľa počtu od najvyššieho"
   ]
  },
  {
   "cell_type": "code",
   "execution_count": 155,
   "metadata": {},
   "outputs": [
    {
     "data": {
      "text/html": [
       "<div>\n",
       "<style scoped>\n",
       "    .dataframe tbody tr th:only-of-type {\n",
       "        vertical-align: middle;\n",
       "    }\n",
       "\n",
       "    .dataframe tbody tr th {\n",
       "        vertical-align: top;\n",
       "    }\n",
       "\n",
       "    .dataframe thead th {\n",
       "        text-align: right;\n",
       "    }\n",
       "</style>\n",
       "<table border=\"1\" class=\"dataframe\">\n",
       "  <thead>\n",
       "    <tr style=\"text-align: right;\">\n",
       "      <th></th>\n",
       "      <th></th>\n",
       "      <th>tracking_id</th>\n",
       "      <th>date</th>\n",
       "      <th>mapped_status</th>\n",
       "      <th>day</th>\n",
       "      <th>month</th>\n",
       "    </tr>\n",
       "    <tr>\n",
       "      <th>status</th>\n",
       "      <th>provider</th>\n",
       "      <th></th>\n",
       "      <th></th>\n",
       "      <th></th>\n",
       "      <th></th>\n",
       "      <th></th>\n",
       "    </tr>\n",
       "  </thead>\n",
       "  <tbody>\n",
       "    <tr>\n",
       "      <th>Příjem na rozvozové depo</th>\n",
       "      <th>PPL</th>\n",
       "      <td>120610</td>\n",
       "      <td>120610</td>\n",
       "      <td>120610</td>\n",
       "      <td>120610</td>\n",
       "      <td>120610</td>\n",
       "    </tr>\n",
       "    <tr>\n",
       "      <th>Zásilku doručujeme na parcelshop</th>\n",
       "      <th>PPL</th>\n",
       "      <td>108803</td>\n",
       "      <td>108803</td>\n",
       "      <td>108803</td>\n",
       "      <td>108803</td>\n",
       "      <td>108803</td>\n",
       "    </tr>\n",
       "    <tr>\n",
       "      <th>Převážení/vážení</th>\n",
       "      <th>PPL</th>\n",
       "      <td>107630</td>\n",
       "      <td>107630</td>\n",
       "      <td>107630</td>\n",
       "      <td>107630</td>\n",
       "      <td>107630</td>\n",
       "    </tr>\n",
       "    <tr>\n",
       "      <th>Doručeno</th>\n",
       "      <th>PPL</th>\n",
       "      <td>104130</td>\n",
       "      <td>104130</td>\n",
       "      <td>104130</td>\n",
       "      <td>104130</td>\n",
       "      <td>104130</td>\n",
       "    </tr>\n",
       "    <tr>\n",
       "      <th>Příjem na centrálu</th>\n",
       "      <th>PPL</th>\n",
       "      <td>61563</td>\n",
       "      <td>61563</td>\n",
       "      <td>61563</td>\n",
       "      <td>61563</td>\n",
       "      <td>61563</td>\n",
       "    </tr>\n",
       "  </tbody>\n",
       "</table>\n",
       "</div>"
      ],
      "text/plain": [
       "                                           tracking_id    date  mapped_status  \\\n",
       "status                           provider                                       \n",
       "Příjem na rozvozové depo         PPL            120610  120610         120610   \n",
       "Zásilku doručujeme na parcelshop PPL            108803  108803         108803   \n",
       "Převážení/vážení                 PPL            107630  107630         107630   \n",
       "Doručeno                         PPL            104130  104130         104130   \n",
       "Příjem na centrálu               PPL             61563   61563          61563   \n",
       "\n",
       "                                              day   month  \n",
       "status                           provider                  \n",
       "Příjem na rozvozové depo         PPL       120610  120610  \n",
       "Zásilku doručujeme na parcelshop PPL       108803  108803  \n",
       "Převážení/vážení                 PPL       107630  107630  \n",
       "Doručeno                         PPL       104130  104130  \n",
       "Příjem na centrálu               PPL        61563   61563  "
      ]
     },
     "execution_count": 155,
     "metadata": {},
     "output_type": "execute_result"
    }
   ],
   "source": [
    "statuses = statuses.sort_values(\"tracking_id\", ascending = 0)\n",
    "statuses.head()"
   ]
  },
  {
   "cell_type": "markdown",
   "metadata": {},
   "source": [
    "Vypíšme si najčastejšie sa vyskytujúci status naprieč všetkými providermi"
   ]
  },
  {
   "cell_type": "code",
   "execution_count": 156,
   "metadata": {},
   "outputs": [
    {
     "data": {
      "text/plain": [
       "('Příjem na rozvozové depo', 'PPL')"
      ]
     },
     "execution_count": 156,
     "metadata": {},
     "output_type": "execute_result"
    }
   ],
   "source": [
    "statuses.tracking_id.idxmax()"
   ]
  },
  {
   "cell_type": "markdown",
   "metadata": {},
   "source": [
    "Vypíšme si najmenej často sa vyskytujúci status naprieč všetkými providermi"
   ]
  },
  {
   "cell_type": "code",
   "execution_count": 157,
   "metadata": {},
   "outputs": [
    {
     "data": {
      "text/plain": [
       "('Nasnímáno na kurz', 'ČESKÁ POŠTA')"
      ]
     },
     "execution_count": 157,
     "metadata": {},
     "output_type": "execute_result"
    }
   ],
   "source": [
    "statuses.tracking_id.idxmin()"
   ]
  },
  {
   "cell_type": "markdown",
   "metadata": {},
   "source": [
    "Koľko odlišných názvov statusov má najmenej výskytov"
   ]
  },
  {
   "cell_type": "code",
   "execution_count": 164,
   "metadata": {},
   "outputs": [
    {
     "data": {
      "text/html": [
       "<div>\n",
       "<style scoped>\n",
       "    .dataframe tbody tr th:only-of-type {\n",
       "        vertical-align: middle;\n",
       "    }\n",
       "\n",
       "    .dataframe tbody tr th {\n",
       "        vertical-align: top;\n",
       "    }\n",
       "\n",
       "    .dataframe thead th {\n",
       "        text-align: right;\n",
       "    }\n",
       "</style>\n",
       "<table border=\"1\" class=\"dataframe\">\n",
       "  <thead>\n",
       "    <tr style=\"text-align: right;\">\n",
       "      <th></th>\n",
       "      <th></th>\n",
       "      <th>tracking_id</th>\n",
       "      <th>date</th>\n",
       "      <th>mapped_status</th>\n",
       "      <th>day</th>\n",
       "      <th>month</th>\n",
       "    </tr>\n",
       "    <tr>\n",
       "      <th>status</th>\n",
       "      <th>provider</th>\n",
       "      <th></th>\n",
       "      <th></th>\n",
       "      <th></th>\n",
       "      <th></th>\n",
       "      <th></th>\n",
       "    </tr>\n",
       "  </thead>\n",
       "  <tbody>\n",
       "    <tr>\n",
       "      <th>Nasnímáno na kurz</th>\n",
       "      <th>ČESKÁ POŠTA</th>\n",
       "      <td>1</td>\n",
       "      <td>1</td>\n",
       "      <td>1</td>\n",
       "      <td>1</td>\n",
       "      <td>1</td>\n",
       "    </tr>\n",
       "    <tr>\n",
       "      <th>Vráceno - nedostatečná adresa</th>\n",
       "      <th>ČESKÁ POŠTA</th>\n",
       "      <td>1</td>\n",
       "      <td>1</td>\n",
       "      <td>1</td>\n",
       "      <td>1</td>\n",
       "      <td>1</td>\n",
       "    </tr>\n",
       "    <tr>\n",
       "      <th>Chybně směrována (vinou odesílatele)</th>\n",
       "      <th>ČESKÁ POŠTA</th>\n",
       "      <td>1</td>\n",
       "      <td>1</td>\n",
       "      <td>1</td>\n",
       "      <td>1</td>\n",
       "      <td>1</td>\n",
       "    </tr>\n",
       "  </tbody>\n",
       "</table>\n",
       "</div>"
      ],
      "text/plain": [
       "                                                  tracking_id  date  \\\n",
       "status                               provider                         \n",
       "Nasnímáno na kurz                    ČESKÁ POŠTA            1     1   \n",
       "Vráceno - nedostatečná adresa        ČESKÁ POŠTA            1     1   \n",
       "Chybně směrována (vinou odesílatele) ČESKÁ POŠTA            1     1   \n",
       "\n",
       "                                                  mapped_status  day  month  \n",
       "status                               provider                                \n",
       "Nasnímáno na kurz                    ČESKÁ POŠTA              1    1      1  \n",
       "Vráceno - nedostatečná adresa        ČESKÁ POŠTA              1    1      1  \n",
       "Chybně směrována (vinou odesílatele) ČESKÁ POŠTA              1    1      1  "
      ]
     },
     "execution_count": 164,
     "metadata": {},
     "output_type": "execute_result"
    }
   ],
   "source": [
    "statuses[statuses.tracking_id == statuses.tracking_id.min()]"
   ]
  },
  {
   "cell_type": "code",
   "execution_count": 159,
   "metadata": {},
   "outputs": [
    {
     "data": {
      "text/plain": [
       "3"
      ]
     },
     "execution_count": 159,
     "metadata": {},
     "output_type": "execute_result"
    }
   ],
   "source": [
    "len(statuses[statuses.tracking_id == statuses.tracking_id.min()])"
   ]
  },
  {
   "cell_type": "markdown",
   "metadata": {},
   "source": [
    "<h2>Iterácia</h2> "
   ]
  },
  {
   "cell_type": "code",
   "execution_count": 169,
   "metadata": {},
   "outputs": [],
   "source": [
    "count = 0"
   ]
  },
  {
   "cell_type": "code",
   "execution_count": 173,
   "metadata": {},
   "outputs": [
    {
     "name": "stdout",
     "output_type": "stream",
     "text": [
      "       provider  tracking_id                 date          status  \\\n",
      "728536     GEIS      1613267  2018-03-19 20:03:30  Naložení na hb   \n",
      "\n",
      "       mapped_status  \n",
      "728536      Nezadane  \n",
      "728536    GEIS\n",
      "Name: provider, dtype: object\n",
      "['GEIS']\n",
      "GEIS\n"
     ]
    }
   ],
   "source": [
    "for index, group in providers_grouped:\n",
    "    print (group)\n",
    "    print (group.provider)\n",
    "    print (group.provider.values)\n",
    "    print (group.provider.values[0])\n",
    "    if count == 1:\n",
    "        break\n",
    "    else:\n",
    "        print([group.mapped_status.values[0], str(group.provider.values[0]) + \"-\" + str(group.tracking_id.values[0])])\n",
    "    count = count+1"
   ]
  },
  {
   "cell_type": "code",
   "execution_count": 174,
   "metadata": {},
   "outputs": [],
   "source": [
    "n = providersNoDup.sort_values(['provider', 'tracking_id', 'date'])"
   ]
  },
  {
   "cell_type": "markdown",
   "metadata": {},
   "source": [
    "<h2>Funkcie v Pythone</h2>\n",
    "\n",
    "<p>Ak chceme v programovaní niečo zautomatizovať, alebo nechceme dookola písať rovnaké bloky kódu, môžeme si napísať vlastné funkcie. S funkciami sme sa už stretli. Boli to rôzne vstavané funkcie Pythonu, či už funkcie (metódy) dátových typov, modulu math alebo základné funkcie ako <code>print()</code>, <code>range()</code> atď. Pre vysvetlenie, ako funkcie fungujú, si ukážeme ako ich vytvárať.\n",
    "\n",
    "Na vytvorenie funkcie v Pythone sa používa slovíčko <code>def</code>, za ktorým nasleduje názov funkcie, okrúhle zátvorky obsahujúce názvy parametrov pre funkciu a dvojbodka, tak ako tomu je aj pri cykloch či podmienkach.\n",
    "\n",
    "<img src=\"https://mpicbg-scicomp.github.io/dlbc17-python-intro/fig/python-function.svg\" />"
   ]
  },
  {
   "cell_type": "code",
   "execution_count": 201,
   "metadata": {},
   "outputs": [],
   "source": [
    "def say_hello():\n",
    "    print ('Hello')"
   ]
  },
  {
   "cell_type": "markdown",
   "metadata": {},
   "source": [
    "Aby sme videli výsledok funkcie, je potrebné ju zavolať. Volanie sa uskutočňuje pomocou názvu funkcie."
   ]
  },
  {
   "cell_type": "code",
   "execution_count": 202,
   "metadata": {},
   "outputs": [
    {
     "name": "stdout",
     "output_type": "stream",
     "text": [
      "Hello\n"
     ]
    }
   ],
   "source": [
    "say_hello()"
   ]
  },
  {
   "cell_type": "markdown",
   "metadata": {},
   "source": [
    "<h2>Parametre funkcie</h2>"
   ]
  },
  {
   "cell_type": "code",
   "execution_count": 203,
   "metadata": {},
   "outputs": [],
   "source": [
    "def say_hello(name):\n",
    "    print ('Hello', name)"
   ]
  },
  {
   "cell_type": "code",
   "execution_count": 204,
   "metadata": {},
   "outputs": [
    {
     "name": "stdout",
     "output_type": "stream",
     "text": [
      "Hello Sveta\n"
     ]
    }
   ],
   "source": [
    "say_hello('Sveta')"
   ]
  },
  {
   "cell_type": "markdown",
   "metadata": {},
   "source": [
    "<h2>Návratová hodnota funkcie - return</h2>"
   ]
  },
  {
   "cell_type": "code",
   "execution_count": 205,
   "metadata": {},
   "outputs": [],
   "source": [
    "def say_hello(name):\n",
    "    return name\n",
    "\n",
    "def print_hello():\n",
    "    print ('Hello', say_hello('Sveta'))"
   ]
  },
  {
   "cell_type": "code",
   "execution_count": 206,
   "metadata": {},
   "outputs": [
    {
     "name": "stdout",
     "output_type": "stream",
     "text": [
      "Hello Sveta\n"
     ]
    }
   ],
   "source": [
    "print_hello()"
   ]
  },
  {
   "cell_type": "markdown",
   "metadata": {},
   "source": [
    "<h2>Voliteľný parameter</h2>"
   ]
  },
  {
   "cell_type": "code",
   "execution_count": 207,
   "metadata": {},
   "outputs": [],
   "source": [
    "def say_hello(name='Sveta'):\n",
    "    print ('Hello', name)"
   ]
  },
  {
   "cell_type": "code",
   "execution_count": 208,
   "metadata": {},
   "outputs": [
    {
     "name": "stdout",
     "output_type": "stream",
     "text": [
      "Hello Sveta\n"
     ]
    }
   ],
   "source": [
    "say_hello()"
   ]
  },
  {
   "cell_type": "code",
   "execution_count": 209,
   "metadata": {},
   "outputs": [
    {
     "name": "stdout",
     "output_type": "stream",
     "text": [
      "Hello Harry\n"
     ]
    }
   ],
   "source": [
    "say_hello('Harry')"
   ]
  },
  {
   "cell_type": "markdown",
   "metadata": {},
   "source": [
    "<h2>Viacero parametrov</h2>"
   ]
  },
  {
   "cell_type": "code",
   "execution_count": 210,
   "metadata": {},
   "outputs": [],
   "source": [
    "def say_greeting(name, greeting):\n",
    "    print (greeting, name)"
   ]
  },
  {
   "cell_type": "code",
   "execution_count": 212,
   "metadata": {},
   "outputs": [
    {
     "name": "stdout",
     "output_type": "stream",
     "text": [
      "Hi Sveta\n"
     ]
    }
   ],
   "source": [
    "say_greeting('Sveta', 'Hi')"
   ]
  },
  {
   "cell_type": "markdown",
   "metadata": {},
   "source": [
    "<h2>Funkcia s ľubovoľným počtom parametrov</h2>"
   ]
  },
  {
   "cell_type": "code",
   "execution_count": 213,
   "metadata": {},
   "outputs": [],
   "source": [
    "def say_hello(*names):\n",
    "    for i in names:\n",
    "        print ('Hello', i)"
   ]
  },
  {
   "cell_type": "code",
   "execution_count": 214,
   "metadata": {},
   "outputs": [
    {
     "name": "stdout",
     "output_type": "stream",
     "text": [
      "Hello Sveta\n",
      "Hello Harry\n",
      "Hello Ron\n"
     ]
    }
   ],
   "source": [
    "say_hello('Sveta', 'Harry', 'Ron')"
   ]
  },
  {
   "cell_type": "markdown",
   "metadata": {},
   "source": [
    "<h2>Viacero návratových hodnôt</h2>"
   ]
  },
  {
   "cell_type": "code",
   "execution_count": 215,
   "metadata": {},
   "outputs": [],
   "source": [
    "def say_hello():\n",
    "    return ('Hi', 'Hello')"
   ]
  },
  {
   "cell_type": "code",
   "execution_count": 216,
   "metadata": {},
   "outputs": [],
   "source": [
    "a, b = say_hello()"
   ]
  },
  {
   "cell_type": "code",
   "execution_count": 220,
   "metadata": {},
   "outputs": [
    {
     "name": "stdout",
     "output_type": "stream",
     "text": [
      "Hi Hello\n"
     ]
    }
   ],
   "source": [
    "print (a, b)"
   ]
  },
  {
   "cell_type": "markdown",
   "metadata": {},
   "source": [
    "<h2>Rozdiel medzi parametrom a argumentom</h2>"
   ]
  },
  {
   "cell_type": "code",
   "execution_count": 227,
   "metadata": {},
   "outputs": [],
   "source": [
    "def say_hello(name):\n",
    "    print (name)"
   ]
  },
  {
   "cell_type": "markdown",
   "metadata": {},
   "source": [
    "name je parametrom funkcie"
   ]
  },
  {
   "cell_type": "code",
   "execution_count": 229,
   "metadata": {},
   "outputs": [
    {
     "name": "stdout",
     "output_type": "stream",
     "text": [
      "Sveta\n"
     ]
    }
   ],
   "source": [
    "say_hello('Sveta')"
   ]
  },
  {
   "cell_type": "markdown",
   "metadata": {},
   "source": [
    "'Sveta' je argumentom funkcie pri jej volaní"
   ]
  },
  {
   "cell_type": "markdown",
   "metadata": {},
   "source": [
    "<h2>Funkcia vs. metóda</h2>\n",
    "\n",
    "<p>Ste zvedaví, prečo voláme niekedy funkciu s bodkou (.) na konci reťazca (ako <code>\"Sveta\".upper()</code>) a niekedy najprv voláme funkciu a reťazec vložíme do zátvoriek (<code>len(\"Sveta\")</code>)? V niektorých prípadoch funkcie patria k objektom, ako napr. <code>upper()</code>, čo môže byt vykonaná len na reťazcoch. V takomto prípade sa tieto funkcie volajú <b>metódy</b>. Inokedy funkcie nepatria k žiadnemu konkrétnemu objektu a môžu byť použité na rôzne typy objektov, rovnako ako <code>len()</code>. Preto zadáme \"Sveta\" ako parameter pre funkciu len.</p>"
   ]
  },
  {
   "cell_type": "code",
   "execution_count": 230,
   "metadata": {},
   "outputs": [
    {
     "data": {
      "text/plain": [
       "'SVETA'"
      ]
     },
     "execution_count": 230,
     "metadata": {},
     "output_type": "execute_result"
    }
   ],
   "source": [
    "\"Sveta\".upper()"
   ]
  },
  {
   "cell_type": "code",
   "execution_count": 231,
   "metadata": {},
   "outputs": [
    {
     "ename": "AttributeError",
     "evalue": "'list' object has no attribute 'upper'",
     "output_type": "error",
     "traceback": [
      "\u001b[0;31m---------------------------------------------------------------------------\u001b[0m",
      "\u001b[0;31mAttributeError\u001b[0m                            Traceback (most recent call last)",
      "\u001b[0;32m<ipython-input-231-3335b5a4429d>\u001b[0m in \u001b[0;36m<module>\u001b[0;34m()\u001b[0m\n\u001b[0;32m----> 1\u001b[0;31m \u001b[0;34m[\u001b[0m\u001b[0;36m1\u001b[0m\u001b[0;34m,\u001b[0m \u001b[0;36m2\u001b[0m\u001b[0;34m,\u001b[0m \u001b[0;36m3\u001b[0m\u001b[0;34m]\u001b[0m\u001b[0;34m.\u001b[0m\u001b[0mupper\u001b[0m\u001b[0;34m(\u001b[0m\u001b[0;34m)\u001b[0m\u001b[0;34m\u001b[0m\u001b[0m\n\u001b[0m",
      "\u001b[0;31mAttributeError\u001b[0m: 'list' object has no attribute 'upper'"
     ]
    }
   ],
   "source": [
    "[1, 2, 3].upper()"
   ]
  },
  {
   "cell_type": "code",
   "execution_count": 232,
   "metadata": {},
   "outputs": [
    {
     "data": {
      "text/plain": [
       "5"
      ]
     },
     "execution_count": 232,
     "metadata": {},
     "output_type": "execute_result"
    }
   ],
   "source": [
    "len(\"Sveta\")"
   ]
  },
  {
   "cell_type": "code",
   "execution_count": 233,
   "metadata": {},
   "outputs": [
    {
     "data": {
      "text/plain": [
       "3"
      ]
     },
     "execution_count": 233,
     "metadata": {},
     "output_type": "execute_result"
    }
   ],
   "source": [
    "len([1, 2, 3])"
   ]
  },
  {
   "cell_type": "markdown",
   "metadata": {},
   "source": [
    "<h2>Úlohy</h2>\n",
    "\n",
    "<ul>\n",
    "    <li>Napíš funkciu s názvom <b>find_numbers</b> , ktorá akceptuje vstupný parameter zoznam obsahujúci ľubovoľný počet hodnôt. Následne prejdi všetkými hodnotami v zozname a: <br />\n",
    "ak je hodnota kladné sudé celé číslo vypíš  “Sudé číslo: {číslo}\" <br />\n",
    "ak je hodnota kladné liché celé číslo vypíš “Liché číslo: {číslo}\" <br />\n",
    "ak je hodnota záporné číslo  vypíš “Chyba, záporné číslo: {číslo}” <br />\n",
    "Vysvetlivky: hodnota v {} je nahradená konkrétnym číslom/hodnotou zo zoznamu<br />\n",
    "        Funkciu aplikuj nad zoznamom [1, -23, 12, 24, 13]</li>\n",
    "    <li>Napíš funkciu s názvom <b>math_dict</b>, ktorá pre argumentom zadané číslo <b>n</b> vytvorí a vráti slovník (dictionary) , kde ako kľúče sú čísla od 1 po n, a ako hodnoty sú ich druhé mocniny</li>\n",
    "</ul>"
   ]
  },
  {
   "cell_type": "code",
   "execution_count": 225,
   "metadata": {},
   "outputs": [],
   "source": [
    "def find_numbers(my_list):\n",
    "    for i in my_list:\n",
    "        if i % 2 == 0 and i > 0:\n",
    "            print ('Sudé číslo:', i)\n",
    "        elif i % 2 != 0 and i > 0:\n",
    "            print ('Liché číslo:', i)\n",
    "        else:\n",
    "            print ('Chyba, záporné číslo:', i)"
   ]
  },
  {
   "cell_type": "code",
   "execution_count": 226,
   "metadata": {},
   "outputs": [
    {
     "name": "stdout",
     "output_type": "stream",
     "text": [
      "Liché číslo: 1\n",
      "Chyba, záporné číslo: -23\n",
      "Sudé číslo: 12\n",
      "Sudé číslo: 24\n",
      "Liché číslo: 13\n"
     ]
    }
   ],
   "source": [
    "find_numbers([1, -23, 12, 24, 13])"
   ]
  },
  {
   "cell_type": "code",
   "execution_count": 240,
   "metadata": {},
   "outputs": [],
   "source": [
    "def math_dict(n):\n",
    "    new_dict = {}\n",
    "    for i in range(1,n+1):\n",
    "       new_dict[i] = i**2\n",
    "    return new_dict"
   ]
  },
  {
   "cell_type": "code",
   "execution_count": 241,
   "metadata": {},
   "outputs": [
    {
     "name": "stdout",
     "output_type": "stream",
     "text": [
      "{1: 1, 2: 4, 3: 9, 4: 16, 5: 25, 6: 36, 7: 49, 8: 64, 9: 81, 10: 100, 11: 121, 12: 144, 13: 169, 14: 196, 15: 225, 16: 256, 17: 289, 18: 324, 19: 361, 20: 400, 21: 441, 22: 484, 23: 529}\n"
     ]
    }
   ],
   "source": [
    "print(math_dict(23))"
   ]
  },
  {
   "cell_type": "markdown",
   "metadata": {},
   "source": [
    "<h2>Použitie funkcií v Pandase</h2>\n",
    "\n",
    "<p>V Pandase si môžeme rovnako ako v Pythone definovať vlastné funkcie. Pre aplikovanie vybranej funkcie nad dátovým setom (riadkom/stĺpcom) používame <code>apply()</code></p>"
   ]
  },
  {
   "cell_type": "code",
   "execution_count": 243,
   "metadata": {},
   "outputs": [],
   "source": [
    "from datetime import timedelta"
   ]
  },
  {
   "cell_type": "code",
   "execution_count": 271,
   "metadata": {},
   "outputs": [
    {
     "name": "stderr",
     "output_type": "stream",
     "text": [
      "/Users/svetlanamargetova/Desktop/digital_academy3/venv/lib/python3.6/site-packages/ipykernel_launcher.py:1: SettingWithCopyWarning: \n",
      "A value is trying to be set on a copy of a slice from a DataFrame.\n",
      "Try using .loc[row_indexer,col_indexer] = value instead\n",
      "\n",
      "See the caveats in the documentation: http://pandas.pydata.org/pandas-docs/stable/indexing.html#indexing-view-versus-copy\n",
      "  \"\"\"Entry point for launching an IPython kernel.\n"
     ]
    }
   ],
   "source": [
    "providersNoDup[\"date\"] = pd.to_datetime(providersNoDup.loc[:, \"date\"])"
   ]
  },
  {
   "cell_type": "code",
   "execution_count": 328,
   "metadata": {},
   "outputs": [],
   "source": [
    "def delivery_d1(date):\n",
    "    return date + timedelta(days=1)"
   ]
  },
  {
   "cell_type": "code",
   "execution_count": 329,
   "metadata": {},
   "outputs": [
    {
     "name": "stderr",
     "output_type": "stream",
     "text": [
      "/Users/svetlanamargetova/Desktop/digital_academy3/venv/lib/python3.6/site-packages/ipykernel_launcher.py:1: SettingWithCopyWarning: \n",
      "A value is trying to be set on a copy of a slice from a DataFrame.\n",
      "Try using .loc[row_indexer,col_indexer] = value instead\n",
      "\n",
      "See the caveats in the documentation: http://pandas.pydata.org/pandas-docs/stable/indexing.html#indexing-view-versus-copy\n",
      "  \"\"\"Entry point for launching an IPython kernel.\n"
     ]
    }
   ],
   "source": [
    "providersNoDup[\"delivery_d1\"] = providersNoDup[\"date\"].apply(delivery_d1)"
   ]
  },
  {
   "cell_type": "code",
   "execution_count": 331,
   "metadata": {},
   "outputs": [
    {
     "data": {
      "text/html": [
       "<div>\n",
       "<style scoped>\n",
       "    .dataframe tbody tr th:only-of-type {\n",
       "        vertical-align: middle;\n",
       "    }\n",
       "\n",
       "    .dataframe tbody tr th {\n",
       "        vertical-align: top;\n",
       "    }\n",
       "\n",
       "    .dataframe thead th {\n",
       "        text-align: right;\n",
       "    }\n",
       "</style>\n",
       "<table border=\"1\" class=\"dataframe\">\n",
       "  <thead>\n",
       "    <tr style=\"text-align: right;\">\n",
       "      <th></th>\n",
       "      <th>tracking_id</th>\n",
       "      <th>date</th>\n",
       "      <th>status</th>\n",
       "      <th>mapped_status</th>\n",
       "      <th>provider</th>\n",
       "      <th>day</th>\n",
       "      <th>month</th>\n",
       "      <th>delivery_d1</th>\n",
       "    </tr>\n",
       "  </thead>\n",
       "  <tbody>\n",
       "    <tr>\n",
       "      <th>0</th>\n",
       "      <td>1882077</td>\n",
       "      <td>2018-04-30 07:14:00</td>\n",
       "      <td>Řádně podaná zásilka - do rozhodné doby</td>\n",
       "      <td>Převzato dopravcem</td>\n",
       "      <td>ČESKÁ POŠTA</td>\n",
       "      <td>30</td>\n",
       "      <td>4</td>\n",
       "      <td>2018-05-01 07:14:00</td>\n",
       "    </tr>\n",
       "    <tr>\n",
       "      <th>1</th>\n",
       "      <td>1882076</td>\n",
       "      <td>2018-04-30 06:52:00</td>\n",
       "      <td>Pořízeno na pochůzku</td>\n",
       "      <td>Na cestě k příjemci</td>\n",
       "      <td>ČESKÁ POŠTA</td>\n",
       "      <td>30</td>\n",
       "      <td>4</td>\n",
       "      <td>2018-05-01 06:52:00</td>\n",
       "    </tr>\n",
       "    <tr>\n",
       "      <th>2</th>\n",
       "      <td>1882075</td>\n",
       "      <td>2018-04-30 06:52:00</td>\n",
       "      <td>Uloženo na poště</td>\n",
       "      <td>Na cestě k příjemci</td>\n",
       "      <td>ČESKÁ POŠTA</td>\n",
       "      <td>30</td>\n",
       "      <td>4</td>\n",
       "      <td>2018-05-01 06:52:00</td>\n",
       "    </tr>\n",
       "    <tr>\n",
       "      <th>3</th>\n",
       "      <td>1882075</td>\n",
       "      <td>2018-04-30 06:58:00</td>\n",
       "      <td>Uloženo na poště</td>\n",
       "      <td>Na cestě k příjemci</td>\n",
       "      <td>ČESKÁ POŠTA</td>\n",
       "      <td>30</td>\n",
       "      <td>4</td>\n",
       "      <td>2018-05-01 06:58:00</td>\n",
       "    </tr>\n",
       "    <tr>\n",
       "      <th>4</th>\n",
       "      <td>1882075</td>\n",
       "      <td>2018-04-30 07:14:00</td>\n",
       "      <td>Řádně podaná zásilka - do rozhodné doby</td>\n",
       "      <td>Převzato dopravcem</td>\n",
       "      <td>ČESKÁ POŠTA</td>\n",
       "      <td>30</td>\n",
       "      <td>4</td>\n",
       "      <td>2018-05-01 07:14:00</td>\n",
       "    </tr>\n",
       "  </tbody>\n",
       "</table>\n",
       "</div>"
      ],
      "text/plain": [
       "   tracking_id                date                                   status  \\\n",
       "0      1882077 2018-04-30 07:14:00  Řádně podaná zásilka - do rozhodné doby   \n",
       "1      1882076 2018-04-30 06:52:00                     Pořízeno na pochůzku   \n",
       "2      1882075 2018-04-30 06:52:00                         Uloženo na poště   \n",
       "3      1882075 2018-04-30 06:58:00                         Uloženo na poště   \n",
       "4      1882075 2018-04-30 07:14:00  Řádně podaná zásilka - do rozhodné doby   \n",
       "\n",
       "         mapped_status     provider  day  month         delivery_d1  \n",
       "0   Převzato dopravcem  ČESKÁ POŠTA   30      4 2018-05-01 07:14:00  \n",
       "1  Na cestě k příjemci  ČESKÁ POŠTA   30      4 2018-05-01 06:52:00  \n",
       "2  Na cestě k příjemci  ČESKÁ POŠTA   30      4 2018-05-01 06:52:00  \n",
       "3  Na cestě k příjemci  ČESKÁ POŠTA   30      4 2018-05-01 06:58:00  \n",
       "4   Převzato dopravcem  ČESKÁ POŠTA   30      4 2018-05-01 07:14:00  "
      ]
     },
     "execution_count": 331,
     "metadata": {},
     "output_type": "execute_result"
    }
   ],
   "source": [
    "providersNoDup.head()"
   ]
  },
  {
   "cell_type": "markdown",
   "metadata": {},
   "source": [
    "<h2>Úlohy</h2>\n",
    "<ul>\n",
    "    <li>Napíšte funkciu s názvom <b>status_len</b>, ktorá zistí dĺžku statusu v každom riadku a priradí do nového stĺpca s názvom <b>status_length</b></li>\n",
    "</ul>"
   ]
  },
  {
   "cell_type": "code",
   "execution_count": 351,
   "metadata": {},
   "outputs": [],
   "source": [
    "def status_len(status):\n",
    "    return len(status)"
   ]
  },
  {
   "cell_type": "code",
   "execution_count": 352,
   "metadata": {},
   "outputs": [
    {
     "name": "stderr",
     "output_type": "stream",
     "text": [
      "/Users/svetlanamargetova/Desktop/digital_academy3/venv/lib/python3.6/site-packages/ipykernel_launcher.py:1: SettingWithCopyWarning: \n",
      "A value is trying to be set on a copy of a slice from a DataFrame.\n",
      "Try using .loc[row_indexer,col_indexer] = value instead\n",
      "\n",
      "See the caveats in the documentation: http://pandas.pydata.org/pandas-docs/stable/indexing.html#indexing-view-versus-copy\n",
      "  \"\"\"Entry point for launching an IPython kernel.\n"
     ]
    }
   ],
   "source": [
    "providersNoDup[\"status_length\"] = providersNoDup.loc[:, \"status\"].apply(status_len)"
   ]
  },
  {
   "cell_type": "code",
   "execution_count": 353,
   "metadata": {},
   "outputs": [
    {
     "data": {
      "text/html": [
       "<div>\n",
       "<style scoped>\n",
       "    .dataframe tbody tr th:only-of-type {\n",
       "        vertical-align: middle;\n",
       "    }\n",
       "\n",
       "    .dataframe tbody tr th {\n",
       "        vertical-align: top;\n",
       "    }\n",
       "\n",
       "    .dataframe thead th {\n",
       "        text-align: right;\n",
       "    }\n",
       "</style>\n",
       "<table border=\"1\" class=\"dataframe\">\n",
       "  <thead>\n",
       "    <tr style=\"text-align: right;\">\n",
       "      <th></th>\n",
       "      <th>tracking_id</th>\n",
       "      <th>date</th>\n",
       "      <th>status</th>\n",
       "      <th>mapped_status</th>\n",
       "      <th>provider</th>\n",
       "      <th>day</th>\n",
       "      <th>month</th>\n",
       "      <th>delivery_d1</th>\n",
       "      <th>status_length</th>\n",
       "    </tr>\n",
       "  </thead>\n",
       "  <tbody>\n",
       "    <tr>\n",
       "      <th>0</th>\n",
       "      <td>1882077</td>\n",
       "      <td>2018-04-30 07:14:00</td>\n",
       "      <td>Řádně podaná zásilka - do rozhodné doby</td>\n",
       "      <td>Převzato dopravcem</td>\n",
       "      <td>ČESKÁ POŠTA</td>\n",
       "      <td>30</td>\n",
       "      <td>4</td>\n",
       "      <td>2018-05-01 07:14:00</td>\n",
       "      <td>39</td>\n",
       "    </tr>\n",
       "    <tr>\n",
       "      <th>1</th>\n",
       "      <td>1882076</td>\n",
       "      <td>2018-04-30 06:52:00</td>\n",
       "      <td>Pořízeno na pochůzku</td>\n",
       "      <td>Na cestě k příjemci</td>\n",
       "      <td>ČESKÁ POŠTA</td>\n",
       "      <td>30</td>\n",
       "      <td>4</td>\n",
       "      <td>2018-05-01 06:52:00</td>\n",
       "      <td>20</td>\n",
       "    </tr>\n",
       "    <tr>\n",
       "      <th>2</th>\n",
       "      <td>1882075</td>\n",
       "      <td>2018-04-30 06:52:00</td>\n",
       "      <td>Uloženo na poště</td>\n",
       "      <td>Na cestě k příjemci</td>\n",
       "      <td>ČESKÁ POŠTA</td>\n",
       "      <td>30</td>\n",
       "      <td>4</td>\n",
       "      <td>2018-05-01 06:52:00</td>\n",
       "      <td>16</td>\n",
       "    </tr>\n",
       "    <tr>\n",
       "      <th>3</th>\n",
       "      <td>1882075</td>\n",
       "      <td>2018-04-30 06:58:00</td>\n",
       "      <td>Uloženo na poště</td>\n",
       "      <td>Na cestě k příjemci</td>\n",
       "      <td>ČESKÁ POŠTA</td>\n",
       "      <td>30</td>\n",
       "      <td>4</td>\n",
       "      <td>2018-05-01 06:58:00</td>\n",
       "      <td>16</td>\n",
       "    </tr>\n",
       "    <tr>\n",
       "      <th>4</th>\n",
       "      <td>1882075</td>\n",
       "      <td>2018-04-30 07:14:00</td>\n",
       "      <td>Řádně podaná zásilka - do rozhodné doby</td>\n",
       "      <td>Převzato dopravcem</td>\n",
       "      <td>ČESKÁ POŠTA</td>\n",
       "      <td>30</td>\n",
       "      <td>4</td>\n",
       "      <td>2018-05-01 07:14:00</td>\n",
       "      <td>39</td>\n",
       "    </tr>\n",
       "  </tbody>\n",
       "</table>\n",
       "</div>"
      ],
      "text/plain": [
       "   tracking_id                date                                   status  \\\n",
       "0      1882077 2018-04-30 07:14:00  Řádně podaná zásilka - do rozhodné doby   \n",
       "1      1882076 2018-04-30 06:52:00                     Pořízeno na pochůzku   \n",
       "2      1882075 2018-04-30 06:52:00                         Uloženo na poště   \n",
       "3      1882075 2018-04-30 06:58:00                         Uloženo na poště   \n",
       "4      1882075 2018-04-30 07:14:00  Řádně podaná zásilka - do rozhodné doby   \n",
       "\n",
       "         mapped_status     provider  day  month         delivery_d1  \\\n",
       "0   Převzato dopravcem  ČESKÁ POŠTA   30      4 2018-05-01 07:14:00   \n",
       "1  Na cestě k příjemci  ČESKÁ POŠTA   30      4 2018-05-01 06:52:00   \n",
       "2  Na cestě k příjemci  ČESKÁ POŠTA   30      4 2018-05-01 06:52:00   \n",
       "3  Na cestě k příjemci  ČESKÁ POŠTA   30      4 2018-05-01 06:58:00   \n",
       "4   Převzato dopravcem  ČESKÁ POŠTA   30      4 2018-05-01 07:14:00   \n",
       "\n",
       "   status_length  \n",
       "0             39  \n",
       "1             20  \n",
       "2             16  \n",
       "3             16  \n",
       "4             39  "
      ]
     },
     "execution_count": 353,
     "metadata": {},
     "output_type": "execute_result"
    }
   ],
   "source": [
    "providersNoDup.head()"
   ]
  },
  {
   "cell_type": "code",
   "execution_count": null,
   "metadata": {},
   "outputs": [],
   "source": []
  }
 ],
 "metadata": {
  "kernelspec": {
   "display_name": "Python 3",
   "language": "python",
   "name": "python3"
  },
  "language_info": {
   "codemirror_mode": {
    "name": "ipython",
    "version": 3
   },
   "file_extension": ".py",
   "mimetype": "text/x-python",
   "name": "python",
   "nbconvert_exporter": "python",
   "pygments_lexer": "ipython3",
   "version": "3.6.0"
  }
 },
 "nbformat": 4,
 "nbformat_minor": 2
}
