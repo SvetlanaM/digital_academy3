{
 "cells": [
  {
   "cell_type": "code",
   "execution_count": 1,
   "metadata": {},
   "outputs": [],
   "source": [
    "import pandas as pd\n",
    "import numpy as np"
   ]
  },
  {
   "cell_type": "code",
   "execution_count": 2,
   "metadata": {},
   "outputs": [],
   "source": [
    "dupDf = pd.read_csv('../csv/dupdf.csv', encoding='utf-8')"
   ]
  },
  {
   "cell_type": "code",
   "execution_count": 3,
   "metadata": {},
   "outputs": [
    {
     "data": {
      "text/html": [
       "<div>\n",
       "<style scoped>\n",
       "    .dataframe tbody tr th:only-of-type {\n",
       "        vertical-align: middle;\n",
       "    }\n",
       "\n",
       "    .dataframe tbody tr th {\n",
       "        vertical-align: top;\n",
       "    }\n",
       "\n",
       "    .dataframe thead th {\n",
       "        text-align: right;\n",
       "    }\n",
       "</style>\n",
       "<table border=\"1\" class=\"dataframe\">\n",
       "  <thead>\n",
       "    <tr style=\"text-align: right;\">\n",
       "      <th></th>\n",
       "      <th>Unnamed: 0</th>\n",
       "      <th>tracking_id</th>\n",
       "      <th>date</th>\n",
       "      <th>status</th>\n",
       "      <th>mapped_status</th>\n",
       "      <th>provider</th>\n",
       "      <th>day</th>\n",
       "      <th>month</th>\n",
       "    </tr>\n",
       "  </thead>\n",
       "  <tbody>\n",
       "    <tr>\n",
       "      <th>0</th>\n",
       "      <td>696119</td>\n",
       "      <td>1882077</td>\n",
       "      <td>2018-04-30 07:14:00</td>\n",
       "      <td>Řádně podaná zásilka - do rozhodné doby</td>\n",
       "      <td>Převzato dopravcem</td>\n",
       "      <td>ČESKÁ POŠTA</td>\n",
       "      <td>30</td>\n",
       "      <td>4</td>\n",
       "    </tr>\n",
       "    <tr>\n",
       "      <th>1</th>\n",
       "      <td>696118</td>\n",
       "      <td>1882076</td>\n",
       "      <td>2018-04-30 06:52:00</td>\n",
       "      <td>Pořízeno na pochůzku</td>\n",
       "      <td>Na cestě k příjemci</td>\n",
       "      <td>ČESKÁ POŠTA</td>\n",
       "      <td>30</td>\n",
       "      <td>4</td>\n",
       "    </tr>\n",
       "    <tr>\n",
       "      <th>2</th>\n",
       "      <td>696115</td>\n",
       "      <td>1882075</td>\n",
       "      <td>2018-04-30 06:52:00</td>\n",
       "      <td>Uloženo na poště</td>\n",
       "      <td>Na cestě k příjemci</td>\n",
       "      <td>ČESKÁ POŠTA</td>\n",
       "      <td>30</td>\n",
       "      <td>4</td>\n",
       "    </tr>\n",
       "    <tr>\n",
       "      <th>3</th>\n",
       "      <td>696116</td>\n",
       "      <td>1882075</td>\n",
       "      <td>2018-04-30 06:58:00</td>\n",
       "      <td>Uloženo na poště</td>\n",
       "      <td>Na cestě k příjemci</td>\n",
       "      <td>ČESKÁ POŠTA</td>\n",
       "      <td>30</td>\n",
       "      <td>4</td>\n",
       "    </tr>\n",
       "    <tr>\n",
       "      <th>4</th>\n",
       "      <td>696117</td>\n",
       "      <td>1882075</td>\n",
       "      <td>2018-04-30 07:14:00</td>\n",
       "      <td>Řádně podaná zásilka - do rozhodné doby</td>\n",
       "      <td>Převzato dopravcem</td>\n",
       "      <td>ČESKÁ POŠTA</td>\n",
       "      <td>30</td>\n",
       "      <td>4</td>\n",
       "    </tr>\n",
       "  </tbody>\n",
       "</table>\n",
       "</div>"
      ],
      "text/plain": [
       "   Unnamed: 0  tracking_id                 date  \\\n",
       "0      696119      1882077  2018-04-30 07:14:00   \n",
       "1      696118      1882076  2018-04-30 06:52:00   \n",
       "2      696115      1882075  2018-04-30 06:52:00   \n",
       "3      696116      1882075  2018-04-30 06:58:00   \n",
       "4      696117      1882075  2018-04-30 07:14:00   \n",
       "\n",
       "                                    status        mapped_status     provider  \\\n",
       "0  Řádně podaná zásilka - do rozhodné doby   Převzato dopravcem  ČESKÁ POŠTA   \n",
       "1                     Pořízeno na pochůzku  Na cestě k příjemci  ČESKÁ POŠTA   \n",
       "2                         Uloženo na poště  Na cestě k příjemci  ČESKÁ POŠTA   \n",
       "3                         Uloženo na poště  Na cestě k příjemci  ČESKÁ POŠTA   \n",
       "4  Řádně podaná zásilka - do rozhodné doby   Převzato dopravcem  ČESKÁ POŠTA   \n",
       "\n",
       "   day  month  \n",
       "0   30      4  \n",
       "1   30      4  \n",
       "2   30      4  \n",
       "3   30      4  \n",
       "4   30      4  "
      ]
     },
     "execution_count": 3,
     "metadata": {},
     "output_type": "execute_result"
    }
   ],
   "source": [
    "dupDf.head()"
   ]
  },
  {
   "cell_type": "markdown",
   "metadata": {},
   "source": [
    "<h2>Mazanie stĺpcov</h2>"
   ]
  },
  {
   "cell_type": "code",
   "execution_count": 4,
   "metadata": {},
   "outputs": [],
   "source": [
    "del dupDf[\"Unnamed: 0\"]"
   ]
  },
  {
   "cell_type": "code",
   "execution_count": 5,
   "metadata": {},
   "outputs": [
    {
     "data": {
      "text/html": [
       "<div>\n",
       "<style scoped>\n",
       "    .dataframe tbody tr th:only-of-type {\n",
       "        vertical-align: middle;\n",
       "    }\n",
       "\n",
       "    .dataframe tbody tr th {\n",
       "        vertical-align: top;\n",
       "    }\n",
       "\n",
       "    .dataframe thead th {\n",
       "        text-align: right;\n",
       "    }\n",
       "</style>\n",
       "<table border=\"1\" class=\"dataframe\">\n",
       "  <thead>\n",
       "    <tr style=\"text-align: right;\">\n",
       "      <th></th>\n",
       "      <th>tracking_id</th>\n",
       "      <th>date</th>\n",
       "      <th>status</th>\n",
       "      <th>mapped_status</th>\n",
       "      <th>provider</th>\n",
       "      <th>day</th>\n",
       "      <th>month</th>\n",
       "    </tr>\n",
       "  </thead>\n",
       "  <tbody>\n",
       "    <tr>\n",
       "      <th>0</th>\n",
       "      <td>1882077</td>\n",
       "      <td>2018-04-30 07:14:00</td>\n",
       "      <td>Řádně podaná zásilka - do rozhodné doby</td>\n",
       "      <td>Převzato dopravcem</td>\n",
       "      <td>ČESKÁ POŠTA</td>\n",
       "      <td>30</td>\n",
       "      <td>4</td>\n",
       "    </tr>\n",
       "    <tr>\n",
       "      <th>1</th>\n",
       "      <td>1882076</td>\n",
       "      <td>2018-04-30 06:52:00</td>\n",
       "      <td>Pořízeno na pochůzku</td>\n",
       "      <td>Na cestě k příjemci</td>\n",
       "      <td>ČESKÁ POŠTA</td>\n",
       "      <td>30</td>\n",
       "      <td>4</td>\n",
       "    </tr>\n",
       "    <tr>\n",
       "      <th>2</th>\n",
       "      <td>1882075</td>\n",
       "      <td>2018-04-30 06:52:00</td>\n",
       "      <td>Uloženo na poště</td>\n",
       "      <td>Na cestě k příjemci</td>\n",
       "      <td>ČESKÁ POŠTA</td>\n",
       "      <td>30</td>\n",
       "      <td>4</td>\n",
       "    </tr>\n",
       "    <tr>\n",
       "      <th>3</th>\n",
       "      <td>1882075</td>\n",
       "      <td>2018-04-30 06:58:00</td>\n",
       "      <td>Uloženo na poště</td>\n",
       "      <td>Na cestě k příjemci</td>\n",
       "      <td>ČESKÁ POŠTA</td>\n",
       "      <td>30</td>\n",
       "      <td>4</td>\n",
       "    </tr>\n",
       "    <tr>\n",
       "      <th>4</th>\n",
       "      <td>1882075</td>\n",
       "      <td>2018-04-30 07:14:00</td>\n",
       "      <td>Řádně podaná zásilka - do rozhodné doby</td>\n",
       "      <td>Převzato dopravcem</td>\n",
       "      <td>ČESKÁ POŠTA</td>\n",
       "      <td>30</td>\n",
       "      <td>4</td>\n",
       "    </tr>\n",
       "  </tbody>\n",
       "</table>\n",
       "</div>"
      ],
      "text/plain": [
       "   tracking_id                 date                                   status  \\\n",
       "0      1882077  2018-04-30 07:14:00  Řádně podaná zásilka - do rozhodné doby   \n",
       "1      1882076  2018-04-30 06:52:00                     Pořízeno na pochůzku   \n",
       "2      1882075  2018-04-30 06:52:00                         Uloženo na poště   \n",
       "3      1882075  2018-04-30 06:58:00                         Uloženo na poště   \n",
       "4      1882075  2018-04-30 07:14:00  Řádně podaná zásilka - do rozhodné doby   \n",
       "\n",
       "         mapped_status     provider  day  month  \n",
       "0   Převzato dopravcem  ČESKÁ POŠTA   30      4  \n",
       "1  Na cestě k příjemci  ČESKÁ POŠTA   30      4  \n",
       "2  Na cestě k příjemci  ČESKÁ POŠTA   30      4  \n",
       "3  Na cestě k příjemci  ČESKÁ POŠTA   30      4  \n",
       "4   Převzato dopravcem  ČESKÁ POŠTA   30      4  "
      ]
     },
     "execution_count": 5,
     "metadata": {},
     "output_type": "execute_result"
    }
   ],
   "source": [
    "dupDf.head()"
   ]
  },
  {
   "cell_type": "markdown",
   "metadata": {},
   "source": [
    "<h2>Zgrupovanie a agregácia dát</h2>\n",
    "\n",
    "<p>Keď už vieme, ako dáta</p>\n",
    "<ul>\n",
    "    <li>radiť</li>\n",
    "    <li>triediť</li>\n",
    "    <li>vyhľadávať na základe nejakej podmienky</li>\n",
    "</ul>\n",
    "\n",
    "<p>je niekedy dobré vedieť dáta zgrupiť a zoskupiť pomocou viacerých kritérií. Agregácia a zgrupovanie dát, funguje na podobnom princípe ako pivotné tabuľky, s tým rozdielom, že pivotné tabuľky nám poskytujú viac možností a funkcionality. No pre jednoduché use casy, alebo rýchly pohľad na dáta, je agregácia a zgrupovanie tou vhodnou voľbou.</p>"
   ]
  },
  {
   "cell_type": "code",
   "execution_count": 6,
   "metadata": {},
   "outputs": [
    {
     "data": {
      "text/plain": [
       "<pandas.core.groupby.DataFrameGroupBy object at 0x114e03b38>"
      ]
     },
     "execution_count": 6,
     "metadata": {},
     "output_type": "execute_result"
    }
   ],
   "source": [
    "dupDf.groupby('provider')"
   ]
  },
  {
   "cell_type": "markdown",
   "metadata": {},
   "source": [
    "<p>Ako vidíme, návratovou hodnotnou nie je klasický DateFrame, aký poznáme, ale DataFrameGroupBy objekt. Na tento objekt sa pozeráme ako na dočasné view, pričom dáta sú zobrazené prostredníctvom prílušnej až agregačnej metódy alebo funkcie.</p>"
   ]
  },
  {
   "cell_type": "code",
   "execution_count": 7,
   "metadata": {},
   "outputs": [
    {
     "data": {
      "text/html": [
       "<div>\n",
       "<style scoped>\n",
       "    .dataframe tbody tr th:only-of-type {\n",
       "        vertical-align: middle;\n",
       "    }\n",
       "\n",
       "    .dataframe tbody tr th {\n",
       "        vertical-align: top;\n",
       "    }\n",
       "\n",
       "    .dataframe thead th {\n",
       "        text-align: right;\n",
       "    }\n",
       "</style>\n",
       "<table border=\"1\" class=\"dataframe\">\n",
       "  <thead>\n",
       "    <tr style=\"text-align: right;\">\n",
       "      <th></th>\n",
       "      <th>tracking_id</th>\n",
       "      <th>date</th>\n",
       "      <th>status</th>\n",
       "      <th>mapped_status</th>\n",
       "      <th>provider</th>\n",
       "      <th>day</th>\n",
       "      <th>month</th>\n",
       "    </tr>\n",
       "  </thead>\n",
       "  <tbody>\n",
       "    <tr>\n",
       "      <th>0</th>\n",
       "      <td>1882077</td>\n",
       "      <td>2018-04-30 07:14:00</td>\n",
       "      <td>Řádně podaná zásilka - do rozhodné doby</td>\n",
       "      <td>Převzato dopravcem</td>\n",
       "      <td>ČESKÁ POŠTA</td>\n",
       "      <td>30</td>\n",
       "      <td>4</td>\n",
       "    </tr>\n",
       "    <tr>\n",
       "      <th>1</th>\n",
       "      <td>1882076</td>\n",
       "      <td>2018-04-30 06:52:00</td>\n",
       "      <td>Pořízeno na pochůzku</td>\n",
       "      <td>Na cestě k příjemci</td>\n",
       "      <td>ČESKÁ POŠTA</td>\n",
       "      <td>30</td>\n",
       "      <td>4</td>\n",
       "    </tr>\n",
       "    <tr>\n",
       "      <th>2</th>\n",
       "      <td>1882075</td>\n",
       "      <td>2018-04-30 06:52:00</td>\n",
       "      <td>Uloženo na poště</td>\n",
       "      <td>Na cestě k příjemci</td>\n",
       "      <td>ČESKÁ POŠTA</td>\n",
       "      <td>30</td>\n",
       "      <td>4</td>\n",
       "    </tr>\n",
       "    <tr>\n",
       "      <th>3</th>\n",
       "      <td>1882075</td>\n",
       "      <td>2018-04-30 06:58:00</td>\n",
       "      <td>Uloženo na poště</td>\n",
       "      <td>Na cestě k příjemci</td>\n",
       "      <td>ČESKÁ POŠTA</td>\n",
       "      <td>30</td>\n",
       "      <td>4</td>\n",
       "    </tr>\n",
       "    <tr>\n",
       "      <th>4</th>\n",
       "      <td>1882075</td>\n",
       "      <td>2018-04-30 07:14:00</td>\n",
       "      <td>Řádně podaná zásilka - do rozhodné doby</td>\n",
       "      <td>Převzato dopravcem</td>\n",
       "      <td>ČESKÁ POŠTA</td>\n",
       "      <td>30</td>\n",
       "      <td>4</td>\n",
       "    </tr>\n",
       "    <tr>\n",
       "      <th>41</th>\n",
       "      <td>1881727</td>\n",
       "      <td>2018-04-30 05:41:02</td>\n",
       "      <td>Převážení/vážení</td>\n",
       "      <td>Převzato dopravcem</td>\n",
       "      <td>PPL</td>\n",
       "      <td>30</td>\n",
       "      <td>4</td>\n",
       "    </tr>\n",
       "    <tr>\n",
       "      <th>42</th>\n",
       "      <td>1881726</td>\n",
       "      <td>2018-04-30 05:41:01</td>\n",
       "      <td>Převážení/vážení</td>\n",
       "      <td>Převzato dopravcem</td>\n",
       "      <td>PPL</td>\n",
       "      <td>30</td>\n",
       "      <td>4</td>\n",
       "    </tr>\n",
       "    <tr>\n",
       "      <th>43</th>\n",
       "      <td>1881724</td>\n",
       "      <td>2018-04-30 05:41:02</td>\n",
       "      <td>Převážení/vážení</td>\n",
       "      <td>Převzato dopravcem</td>\n",
       "      <td>PPL</td>\n",
       "      <td>30</td>\n",
       "      <td>4</td>\n",
       "    </tr>\n",
       "    <tr>\n",
       "      <th>44</th>\n",
       "      <td>1881722</td>\n",
       "      <td>2018-04-30 05:41:02</td>\n",
       "      <td>Převážení/vážení</td>\n",
       "      <td>Převzato dopravcem</td>\n",
       "      <td>PPL</td>\n",
       "      <td>30</td>\n",
       "      <td>4</td>\n",
       "    </tr>\n",
       "    <tr>\n",
       "      <th>45</th>\n",
       "      <td>1881721</td>\n",
       "      <td>2018-04-30 05:41:04</td>\n",
       "      <td>Převážení/vážení</td>\n",
       "      <td>Převzato dopravcem</td>\n",
       "      <td>PPL</td>\n",
       "      <td>30</td>\n",
       "      <td>4</td>\n",
       "    </tr>\n",
       "    <tr>\n",
       "      <th>4056</th>\n",
       "      <td>1876214</td>\n",
       "      <td>2018-04-27 20:04:00</td>\n",
       "      <td>Příjem na depo</td>\n",
       "      <td>Převzato dopravcem</td>\n",
       "      <td>GEIS</td>\n",
       "      <td>27</td>\n",
       "      <td>4</td>\n",
       "    </tr>\n",
       "    <tr>\n",
       "      <th>4057</th>\n",
       "      <td>1876214</td>\n",
       "      <td>2018-04-27 20:12:42</td>\n",
       "      <td>Naložení na hb</td>\n",
       "      <td>Nezadane</td>\n",
       "      <td>GEIS</td>\n",
       "      <td>27</td>\n",
       "      <td>4</td>\n",
       "    </tr>\n",
       "    <tr>\n",
       "      <th>4058</th>\n",
       "      <td>1876214</td>\n",
       "      <td>2018-04-28 00:25:36</td>\n",
       "      <td>Příjem na depo</td>\n",
       "      <td>Převzato dopravcem</td>\n",
       "      <td>GEIS</td>\n",
       "      <td>28</td>\n",
       "      <td>4</td>\n",
       "    </tr>\n",
       "    <tr>\n",
       "      <th>4059</th>\n",
       "      <td>1876214</td>\n",
       "      <td>2018-04-28 03:47:33</td>\n",
       "      <td>Naložení na hb</td>\n",
       "      <td>Nezadane</td>\n",
       "      <td>GEIS</td>\n",
       "      <td>28</td>\n",
       "      <td>4</td>\n",
       "    </tr>\n",
       "    <tr>\n",
       "      <th>4060</th>\n",
       "      <td>1876214</td>\n",
       "      <td>2018-04-30 08:08:12</td>\n",
       "      <td>Příjem na depo</td>\n",
       "      <td>Převzato dopravcem</td>\n",
       "      <td>GEIS</td>\n",
       "      <td>30</td>\n",
       "      <td>4</td>\n",
       "    </tr>\n",
       "  </tbody>\n",
       "</table>\n",
       "</div>"
      ],
      "text/plain": [
       "      tracking_id                 date  \\\n",
       "0         1882077  2018-04-30 07:14:00   \n",
       "1         1882076  2018-04-30 06:52:00   \n",
       "2         1882075  2018-04-30 06:52:00   \n",
       "3         1882075  2018-04-30 06:58:00   \n",
       "4         1882075  2018-04-30 07:14:00   \n",
       "41        1881727  2018-04-30 05:41:02   \n",
       "42        1881726  2018-04-30 05:41:01   \n",
       "43        1881724  2018-04-30 05:41:02   \n",
       "44        1881722  2018-04-30 05:41:02   \n",
       "45        1881721  2018-04-30 05:41:04   \n",
       "4056      1876214  2018-04-27 20:04:00   \n",
       "4057      1876214  2018-04-27 20:12:42   \n",
       "4058      1876214  2018-04-28 00:25:36   \n",
       "4059      1876214  2018-04-28 03:47:33   \n",
       "4060      1876214  2018-04-30 08:08:12   \n",
       "\n",
       "                                       status        mapped_status  \\\n",
       "0     Řádně podaná zásilka - do rozhodné doby   Převzato dopravcem   \n",
       "1                        Pořízeno na pochůzku  Na cestě k příjemci   \n",
       "2                            Uloženo na poště  Na cestě k příjemci   \n",
       "3                            Uloženo na poště  Na cestě k příjemci   \n",
       "4     Řádně podaná zásilka - do rozhodné doby   Převzato dopravcem   \n",
       "41                           Převážení/vážení   Převzato dopravcem   \n",
       "42                           Převážení/vážení   Převzato dopravcem   \n",
       "43                           Převážení/vážení   Převzato dopravcem   \n",
       "44                           Převážení/vážení   Převzato dopravcem   \n",
       "45                           Převážení/vážení   Převzato dopravcem   \n",
       "4056                           Příjem na depo   Převzato dopravcem   \n",
       "4057                           Naložení na hb             Nezadane   \n",
       "4058                           Příjem na depo   Převzato dopravcem   \n",
       "4059                           Naložení na hb             Nezadane   \n",
       "4060                           Příjem na depo   Převzato dopravcem   \n",
       "\n",
       "         provider  day  month  \n",
       "0     ČESKÁ POŠTA   30      4  \n",
       "1     ČESKÁ POŠTA   30      4  \n",
       "2     ČESKÁ POŠTA   30      4  \n",
       "3     ČESKÁ POŠTA   30      4  \n",
       "4     ČESKÁ POŠTA   30      4  \n",
       "41            PPL   30      4  \n",
       "42            PPL   30      4  \n",
       "43            PPL   30      4  \n",
       "44            PPL   30      4  \n",
       "45            PPL   30      4  \n",
       "4056         GEIS   27      4  \n",
       "4057         GEIS   27      4  \n",
       "4058         GEIS   28      4  \n",
       "4059         GEIS   28      4  \n",
       "4060         GEIS   30      4  "
      ]
     },
     "execution_count": 7,
     "metadata": {},
     "output_type": "execute_result"
    }
   ],
   "source": [
    "dupDf.groupby('provider').head()"
   ]
  },
  {
   "cell_type": "code",
   "execution_count": 8,
   "metadata": {},
   "outputs": [
    {
     "data": {
      "text/html": [
       "<div>\n",
       "<style scoped>\n",
       "    .dataframe tbody tr th:only-of-type {\n",
       "        vertical-align: middle;\n",
       "    }\n",
       "\n",
       "    .dataframe tbody tr th {\n",
       "        vertical-align: top;\n",
       "    }\n",
       "\n",
       "    .dataframe thead th {\n",
       "        text-align: right;\n",
       "    }\n",
       "</style>\n",
       "<table border=\"1\" class=\"dataframe\">\n",
       "  <thead>\n",
       "    <tr style=\"text-align: right;\">\n",
       "      <th></th>\n",
       "      <th>tracking_id</th>\n",
       "      <th>date</th>\n",
       "      <th>status</th>\n",
       "      <th>mapped_status</th>\n",
       "      <th>day</th>\n",
       "      <th>month</th>\n",
       "    </tr>\n",
       "    <tr>\n",
       "      <th>provider</th>\n",
       "      <th></th>\n",
       "      <th></th>\n",
       "      <th></th>\n",
       "      <th></th>\n",
       "      <th></th>\n",
       "      <th></th>\n",
       "    </tr>\n",
       "  </thead>\n",
       "  <tbody>\n",
       "    <tr>\n",
       "      <th>GEIS</th>\n",
       "      <td>32584</td>\n",
       "      <td>32584</td>\n",
       "      <td>32584</td>\n",
       "      <td>32584</td>\n",
       "      <td>32584</td>\n",
       "      <td>32584</td>\n",
       "    </tr>\n",
       "    <tr>\n",
       "      <th>PPL</th>\n",
       "      <td>520229</td>\n",
       "      <td>520229</td>\n",
       "      <td>520229</td>\n",
       "      <td>520229</td>\n",
       "      <td>520229</td>\n",
       "      <td>520229</td>\n",
       "    </tr>\n",
       "    <tr>\n",
       "      <th>ČESKÁ POŠTA</th>\n",
       "      <td>175891</td>\n",
       "      <td>175891</td>\n",
       "      <td>175891</td>\n",
       "      <td>175891</td>\n",
       "      <td>175891</td>\n",
       "      <td>175891</td>\n",
       "    </tr>\n",
       "  </tbody>\n",
       "</table>\n",
       "</div>"
      ],
      "text/plain": [
       "             tracking_id    date  status  mapped_status     day   month\n",
       "provider                                                               \n",
       "GEIS               32584   32584   32584          32584   32584   32584\n",
       "PPL               520229  520229  520229         520229  520229  520229\n",
       "ČESKÁ POŠTA       175891  175891  175891         175891  175891  175891"
      ]
     },
     "execution_count": 8,
     "metadata": {},
     "output_type": "execute_result"
    }
   ],
   "source": [
    "dupDf.groupby('provider').count()"
   ]
  },
  {
   "cell_type": "code",
   "execution_count": 9,
   "metadata": {},
   "outputs": [
    {
     "data": {
      "text/plain": [
       "mapped_status\n",
       "Doručeno               2018-03-01 06:10:04\n",
       "Na cestě k příjemci    2018-03-01 00:02:00\n",
       "Nezadane               2018-03-01 00:01:01\n",
       "Převzato dopravcem     2018-03-01 00:06:43\n",
       "Stornováno             2018-03-01 05:10:35\n",
       "Name: date, dtype: object"
      ]
     },
     "execution_count": 9,
     "metadata": {},
     "output_type": "execute_result"
    }
   ],
   "source": [
    "dupDf.groupby('mapped_status')[\"date\"].min()"
   ]
  },
  {
   "cell_type": "markdown",
   "metadata": {},
   "source": [
    "<h2>Úlohy</h2>\n",
    "\n",
    "<ul>\n",
    "    <li>Z dátového setu <b>dupDf</b> vypíšte medián po provideroch za stĺpec <b>tracking_id</b>. Na výpočet mediánu sa používa funkcia <code>median()</code></li>\n",
    "</ul>"
   ]
  },
  {
   "cell_type": "code",
   "execution_count": 10,
   "metadata": {},
   "outputs": [
    {
     "data": {
      "text/plain": [
       "provider\n",
       "GEIS           1783134\n",
       "PPL            1762349\n",
       "ČESKÁ POŠTA    1773401\n",
       "Name: tracking_id, dtype: int64"
      ]
     },
     "execution_count": 10,
     "metadata": {},
     "output_type": "execute_result"
    }
   ],
   "source": [
    "dupDf.groupby('provider')[\"tracking_id\"].median()"
   ]
  },
  {
   "cell_type": "code",
   "execution_count": 11,
   "metadata": {},
   "outputs": [
    {
     "data": {
      "text/plain": [
       "provider     mapped_status      \n",
       "GEIS         Doručeno               2018-03-01 08:04:26\n",
       "             Na cestě k příjemci    2018-03-01 05:53:00\n",
       "             Nezadane               2018-03-01 00:01:01\n",
       "             Převzato dopravcem     2018-03-01 00:06:43\n",
       "             Stornováno             2018-03-01 10:08:21\n",
       "PPL          Doručeno               2018-03-01 06:10:04\n",
       "             Na cestě k příjemci    2018-03-01 00:32:50\n",
       "             Nezadane               2018-03-01 06:27:12\n",
       "             Převzato dopravcem     2018-03-01 00:22:06\n",
       "             Stornováno             2018-03-01 05:10:35\n",
       "ČESKÁ POŠTA  Doručeno               2018-03-01 06:35:00\n",
       "             Na cestě k příjemci    2018-03-01 00:02:00\n",
       "             Nezadane               2018-03-01 02:42:00\n",
       "             Převzato dopravcem     2018-03-01 06:45:00\n",
       "             Stornováno             2018-03-01 05:51:00\n",
       "Name: date, dtype: object"
      ]
     },
     "execution_count": 11,
     "metadata": {},
     "output_type": "execute_result"
    }
   ],
   "source": [
    "dupDf.groupby(['provider', 'mapped_status'])[\"date\"].min()"
   ]
  },
  {
   "cell_type": "code",
   "execution_count": 12,
   "metadata": {},
   "outputs": [
    {
     "data": {
      "text/plain": [
       "provider\n",
       "GEIS            199\n",
       "PPL            2951\n",
       "ČESKÁ POŠTA    2113\n",
       "Name: tracking_id, dtype: int64"
      ]
     },
     "execution_count": 12,
     "metadata": {},
     "output_type": "execute_result"
    }
   ],
   "source": [
    "dupDf[dupDf[\"mapped_status\"] == 'Stornováno'].groupby('provider')['tracking_id'].count()"
   ]
  },
  {
   "cell_type": "markdown",
   "metadata": {},
   "source": [
    "<h2>Rozdiel medzi count() a size()</h2>\n",
    "\n",
    "<p>Hlavným rozdielom medzi <code>count()</code> a <code>size()</code> je v tom, že <code>size()</code> zahrňuje do výpočtu aj <b>NaN</b> hodnoty. Pritom návratovou hodnotou <code>size()</code> je Séria, pričom <code>count()</code> vracia Dataframe objekt.</p>"
   ]
  },
  {
   "cell_type": "code",
   "execution_count": 13,
   "metadata": {},
   "outputs": [
    {
     "data": {
      "text/plain": [
       "provider\n",
       "GEIS            199\n",
       "PPL            2951\n",
       "ČESKÁ POŠTA    2113\n",
       "Name: tracking_id, dtype: int64"
      ]
     },
     "execution_count": 13,
     "metadata": {},
     "output_type": "execute_result"
    }
   ],
   "source": [
    "dupDf[dupDf[\"mapped_status\"] == 'Stornováno'].groupby('provider')['tracking_id'].count()"
   ]
  },
  {
   "cell_type": "code",
   "execution_count": 14,
   "metadata": {},
   "outputs": [
    {
     "data": {
      "text/plain": [
       "provider\n",
       "GEIS            199\n",
       "PPL            2951\n",
       "ČESKÁ POŠTA    2113\n",
       "Name: tracking_id, dtype: int64"
      ]
     },
     "execution_count": 14,
     "metadata": {},
     "output_type": "execute_result"
    }
   ],
   "source": [
    "dupDf[dupDf[\"mapped_status\"] == 'Stornováno'].groupby('provider')['tracking_id'].size()"
   ]
  },
  {
   "cell_type": "markdown",
   "metadata": {},
   "source": [
    "<h2>Describe()</h2>\n",
    "\n",
    "<p>Funkcia <code>describe()</code> nám poskytuje v jednom čase viacero štatistických funkcií naraz. Taktiež si môžeme pri definícii vybrať, ktoré štatistické funkcie chceme použiť. Ak náš dátový set nie je tvorený iba číslami, výsledok môže vyzerať inak.</p>"
   ]
  },
  {
   "cell_type": "code",
   "execution_count": 15,
   "metadata": {},
   "outputs": [
    {
     "data": {
      "text/html": [
       "<div>\n",
       "<style scoped>\n",
       "    .dataframe tbody tr th:only-of-type {\n",
       "        vertical-align: middle;\n",
       "    }\n",
       "\n",
       "    .dataframe tbody tr th {\n",
       "        vertical-align: top;\n",
       "    }\n",
       "\n",
       "    .dataframe thead th {\n",
       "        text-align: right;\n",
       "    }\n",
       "</style>\n",
       "<table border=\"1\" class=\"dataframe\">\n",
       "  <thead>\n",
       "    <tr style=\"text-align: right;\">\n",
       "      <th></th>\n",
       "      <th>count</th>\n",
       "      <th>unique</th>\n",
       "      <th>top</th>\n",
       "      <th>freq</th>\n",
       "    </tr>\n",
       "    <tr>\n",
       "      <th>provider</th>\n",
       "      <th></th>\n",
       "      <th></th>\n",
       "      <th></th>\n",
       "      <th></th>\n",
       "    </tr>\n",
       "  </thead>\n",
       "  <tbody>\n",
       "    <tr>\n",
       "      <th>GEIS</th>\n",
       "      <td>5101</td>\n",
       "      <td>4356</td>\n",
       "      <td>2018-03-16 11:00:00</td>\n",
       "      <td>8</td>\n",
       "    </tr>\n",
       "    <tr>\n",
       "      <th>PPL</th>\n",
       "      <td>104156</td>\n",
       "      <td>95019</td>\n",
       "      <td>2018-04-24 11:20:28</td>\n",
       "      <td>39</td>\n",
       "    </tr>\n",
       "    <tr>\n",
       "      <th>ČESKÁ POŠTA</th>\n",
       "      <td>30583</td>\n",
       "      <td>16464</td>\n",
       "      <td>2018-04-24 16:00:00</td>\n",
       "      <td>11</td>\n",
       "    </tr>\n",
       "  </tbody>\n",
       "</table>\n",
       "</div>"
      ],
      "text/plain": [
       "              count unique                  top freq\n",
       "provider                                            \n",
       "GEIS           5101   4356  2018-03-16 11:00:00    8\n",
       "PPL          104156  95019  2018-04-24 11:20:28   39\n",
       "ČESKÁ POŠTA   30583  16464  2018-04-24 16:00:00   11"
      ]
     },
     "execution_count": 15,
     "metadata": {},
     "output_type": "execute_result"
    }
   ],
   "source": [
    "dupDf[dupDf['mapped_status'] == 'Doručeno'].groupby('provider').date.describe()"
   ]
  },
  {
   "cell_type": "code",
   "execution_count": 16,
   "metadata": {},
   "outputs": [
    {
     "data": {
      "text/html": [
       "<div>\n",
       "<style scoped>\n",
       "    .dataframe tbody tr th:only-of-type {\n",
       "        vertical-align: middle;\n",
       "    }\n",
       "\n",
       "    .dataframe tbody tr th {\n",
       "        vertical-align: top;\n",
       "    }\n",
       "\n",
       "    .dataframe thead th {\n",
       "        text-align: right;\n",
       "    }\n",
       "</style>\n",
       "<table border=\"1\" class=\"dataframe\">\n",
       "  <thead>\n",
       "    <tr style=\"text-align: right;\">\n",
       "      <th></th>\n",
       "      <th>count</th>\n",
       "      <th>mean</th>\n",
       "      <th>std</th>\n",
       "      <th>min</th>\n",
       "      <th>25%</th>\n",
       "      <th>50%</th>\n",
       "      <th>75%</th>\n",
       "      <th>max</th>\n",
       "    </tr>\n",
       "    <tr>\n",
       "      <th>provider</th>\n",
       "      <th></th>\n",
       "      <th></th>\n",
       "      <th></th>\n",
       "      <th></th>\n",
       "      <th></th>\n",
       "      <th></th>\n",
       "      <th></th>\n",
       "      <th></th>\n",
       "    </tr>\n",
       "  </thead>\n",
       "  <tbody>\n",
       "    <tr>\n",
       "      <th>GEIS</th>\n",
       "      <td>5101.0</td>\n",
       "      <td>15.392276</td>\n",
       "      <td>7.896240</td>\n",
       "      <td>1.0</td>\n",
       "      <td>9.0</td>\n",
       "      <td>16.0</td>\n",
       "      <td>22.0</td>\n",
       "      <td>30.0</td>\n",
       "    </tr>\n",
       "    <tr>\n",
       "      <th>PPL</th>\n",
       "      <td>104156.0</td>\n",
       "      <td>14.876474</td>\n",
       "      <td>7.984211</td>\n",
       "      <td>1.0</td>\n",
       "      <td>8.0</td>\n",
       "      <td>15.0</td>\n",
       "      <td>21.0</td>\n",
       "      <td>31.0</td>\n",
       "    </tr>\n",
       "    <tr>\n",
       "      <th>ČESKÁ POŠTA</th>\n",
       "      <td>30583.0</td>\n",
       "      <td>15.489978</td>\n",
       "      <td>8.108980</td>\n",
       "      <td>1.0</td>\n",
       "      <td>9.0</td>\n",
       "      <td>16.0</td>\n",
       "      <td>23.0</td>\n",
       "      <td>31.0</td>\n",
       "    </tr>\n",
       "  </tbody>\n",
       "</table>\n",
       "</div>"
      ],
      "text/plain": [
       "                count       mean       std  min  25%   50%   75%   max\n",
       "provider                                                              \n",
       "GEIS           5101.0  15.392276  7.896240  1.0  9.0  16.0  22.0  30.0\n",
       "PPL          104156.0  14.876474  7.984211  1.0  8.0  15.0  21.0  31.0\n",
       "ČESKÁ POŠTA   30583.0  15.489978  8.108980  1.0  9.0  16.0  23.0  31.0"
      ]
     },
     "execution_count": 16,
     "metadata": {},
     "output_type": "execute_result"
    }
   ],
   "source": [
    "dupDf[dupDf['mapped_status'] == 'Doručeno'].groupby('provider').day.describe()"
   ]
  },
  {
   "cell_type": "code",
   "execution_count": 17,
   "metadata": {},
   "outputs": [
    {
     "data": {
      "text/html": [
       "<div>\n",
       "<style scoped>\n",
       "    .dataframe tbody tr th:only-of-type {\n",
       "        vertical-align: middle;\n",
       "    }\n",
       "\n",
       "    .dataframe tbody tr th {\n",
       "        vertical-align: top;\n",
       "    }\n",
       "\n",
       "    .dataframe thead th {\n",
       "        text-align: right;\n",
       "    }\n",
       "</style>\n",
       "<table border=\"1\" class=\"dataframe\">\n",
       "  <thead>\n",
       "    <tr style=\"text-align: right;\">\n",
       "      <th></th>\n",
       "      <th>tracking_id</th>\n",
       "      <th>day</th>\n",
       "      <th>month</th>\n",
       "    </tr>\n",
       "  </thead>\n",
       "  <tbody>\n",
       "    <tr>\n",
       "      <th>count</th>\n",
       "      <td>7.287040e+05</td>\n",
       "      <td>728704.000000</td>\n",
       "      <td>728704.000000</td>\n",
       "    </tr>\n",
       "    <tr>\n",
       "      <th>mean</th>\n",
       "      <td>1.766793e+06</td>\n",
       "      <td>14.955358</td>\n",
       "      <td>3.466530</td>\n",
       "    </tr>\n",
       "    <tr>\n",
       "      <th>std</th>\n",
       "      <td>5.633244e+04</td>\n",
       "      <td>8.124148</td>\n",
       "      <td>0.498879</td>\n",
       "    </tr>\n",
       "    <tr>\n",
       "      <th>min</th>\n",
       "      <td>1.415857e+06</td>\n",
       "      <td>1.000000</td>\n",
       "      <td>3.000000</td>\n",
       "    </tr>\n",
       "    <tr>\n",
       "      <th>25%</th>\n",
       "      <td>1.718272e+06</td>\n",
       "      <td>8.000000</td>\n",
       "      <td>3.000000</td>\n",
       "    </tr>\n",
       "    <tr>\n",
       "      <th>50%</th>\n",
       "      <td>1.764741e+06</td>\n",
       "      <td>15.000000</td>\n",
       "      <td>3.000000</td>\n",
       "    </tr>\n",
       "    <tr>\n",
       "      <th>75%</th>\n",
       "      <td>1.812285e+06</td>\n",
       "      <td>22.000000</td>\n",
       "      <td>4.000000</td>\n",
       "    </tr>\n",
       "    <tr>\n",
       "      <th>max</th>\n",
       "      <td>1.882077e+06</td>\n",
       "      <td>31.000000</td>\n",
       "      <td>4.000000</td>\n",
       "    </tr>\n",
       "  </tbody>\n",
       "</table>\n",
       "</div>"
      ],
      "text/plain": [
       "        tracking_id            day          month\n",
       "count  7.287040e+05  728704.000000  728704.000000\n",
       "mean   1.766793e+06      14.955358       3.466530\n",
       "std    5.633244e+04       8.124148       0.498879\n",
       "min    1.415857e+06       1.000000       3.000000\n",
       "25%    1.718272e+06       8.000000       3.000000\n",
       "50%    1.764741e+06      15.000000       3.000000\n",
       "75%    1.812285e+06      22.000000       4.000000\n",
       "max    1.882077e+06      31.000000       4.000000"
      ]
     },
     "execution_count": 17,
     "metadata": {},
     "output_type": "execute_result"
    }
   ],
   "source": [
    "dupDf.describe()"
   ]
  },
  {
   "cell_type": "markdown",
   "metadata": {},
   "source": [
    "<h2>Úloha</h2>\n",
    "\n",
    "<ul>\n",
    "    <li>Použite funkciu <code>describe()</code> nad dátovým setom <b>dupDf</b>, kde zgrupíte dáta za providera nad stĺpcom mapped_status.</li>\n",
    "</ul>"
   ]
  },
  {
   "cell_type": "code",
   "execution_count": 18,
   "metadata": {},
   "outputs": [
    {
     "data": {
      "text/html": [
       "<div>\n",
       "<style scoped>\n",
       "    .dataframe tbody tr th:only-of-type {\n",
       "        vertical-align: middle;\n",
       "    }\n",
       "\n",
       "    .dataframe tbody tr th {\n",
       "        vertical-align: top;\n",
       "    }\n",
       "\n",
       "    .dataframe thead th {\n",
       "        text-align: right;\n",
       "    }\n",
       "</style>\n",
       "<table border=\"1\" class=\"dataframe\">\n",
       "  <thead>\n",
       "    <tr style=\"text-align: right;\">\n",
       "      <th></th>\n",
       "      <th>count</th>\n",
       "      <th>unique</th>\n",
       "      <th>top</th>\n",
       "      <th>freq</th>\n",
       "    </tr>\n",
       "    <tr>\n",
       "      <th>provider</th>\n",
       "      <th></th>\n",
       "      <th></th>\n",
       "      <th></th>\n",
       "      <th></th>\n",
       "    </tr>\n",
       "  </thead>\n",
       "  <tbody>\n",
       "    <tr>\n",
       "      <th>GEIS</th>\n",
       "      <td>32584</td>\n",
       "      <td>5</td>\n",
       "      <td>Převzato dopravcem</td>\n",
       "      <td>14947</td>\n",
       "    </tr>\n",
       "    <tr>\n",
       "      <th>PPL</th>\n",
       "      <td>520229</td>\n",
       "      <td>5</td>\n",
       "      <td>Na cestě k příjemci</td>\n",
       "      <td>237593</td>\n",
       "    </tr>\n",
       "    <tr>\n",
       "      <th>ČESKÁ POŠTA</th>\n",
       "      <td>175891</td>\n",
       "      <td>5</td>\n",
       "      <td>Na cestě k příjemci</td>\n",
       "      <td>114654</td>\n",
       "    </tr>\n",
       "  </tbody>\n",
       "</table>\n",
       "</div>"
      ],
      "text/plain": [
       "              count unique                  top    freq\n",
       "provider                                               \n",
       "GEIS          32584      5   Převzato dopravcem   14947\n",
       "PPL          520229      5  Na cestě k příjemci  237593\n",
       "ČESKÁ POŠTA  175891      5  Na cestě k příjemci  114654"
      ]
     },
     "execution_count": 18,
     "metadata": {},
     "output_type": "execute_result"
    }
   ],
   "source": [
    "dupDf.groupby('provider').mapped_status.describe()"
   ]
  },
  {
   "cell_type": "markdown",
   "metadata": {},
   "source": [
    "<h2>Agregačné funkcie</h2>"
   ]
  },
  {
   "cell_type": "code",
   "execution_count": 19,
   "metadata": {},
   "outputs": [
    {
     "data": {
      "text/html": [
       "<div>\n",
       "<style scoped>\n",
       "    .dataframe tbody tr th:only-of-type {\n",
       "        vertical-align: middle;\n",
       "    }\n",
       "\n",
       "    .dataframe tbody tr th {\n",
       "        vertical-align: top;\n",
       "    }\n",
       "\n",
       "    .dataframe thead th {\n",
       "        text-align: right;\n",
       "    }\n",
       "</style>\n",
       "<table border=\"1\" class=\"dataframe\">\n",
       "  <thead>\n",
       "    <tr style=\"text-align: right;\">\n",
       "      <th></th>\n",
       "      <th></th>\n",
       "      <th>tracking_id</th>\n",
       "    </tr>\n",
       "    <tr>\n",
       "      <th>provider</th>\n",
       "      <th>mapped_status</th>\n",
       "      <th></th>\n",
       "    </tr>\n",
       "  </thead>\n",
       "  <tbody>\n",
       "    <tr>\n",
       "      <th rowspan=\"5\" valign=\"top\">GEIS</th>\n",
       "      <th>Doručeno</th>\n",
       "      <td>5101</td>\n",
       "    </tr>\n",
       "    <tr>\n",
       "      <th>Na cestě k příjemci</th>\n",
       "      <td>6186</td>\n",
       "    </tr>\n",
       "    <tr>\n",
       "      <th>Nezadane</th>\n",
       "      <td>6151</td>\n",
       "    </tr>\n",
       "    <tr>\n",
       "      <th>Převzato dopravcem</th>\n",
       "      <td>14947</td>\n",
       "    </tr>\n",
       "    <tr>\n",
       "      <th>Stornováno</th>\n",
       "      <td>199</td>\n",
       "    </tr>\n",
       "    <tr>\n",
       "      <th rowspan=\"5\" valign=\"top\">PPL</th>\n",
       "      <th>Doručeno</th>\n",
       "      <td>104156</td>\n",
       "    </tr>\n",
       "    <tr>\n",
       "      <th>Na cestě k příjemci</th>\n",
       "      <td>237593</td>\n",
       "    </tr>\n",
       "    <tr>\n",
       "      <th>Nezadane</th>\n",
       "      <td>5989</td>\n",
       "    </tr>\n",
       "    <tr>\n",
       "      <th>Převzato dopravcem</th>\n",
       "      <td>169540</td>\n",
       "    </tr>\n",
       "    <tr>\n",
       "      <th>Stornováno</th>\n",
       "      <td>2951</td>\n",
       "    </tr>\n",
       "    <tr>\n",
       "      <th rowspan=\"5\" valign=\"top\">ČESKÁ POŠTA</th>\n",
       "      <th>Doručeno</th>\n",
       "      <td>30583</td>\n",
       "    </tr>\n",
       "    <tr>\n",
       "      <th>Na cestě k příjemci</th>\n",
       "      <td>114654</td>\n",
       "    </tr>\n",
       "    <tr>\n",
       "      <th>Nezadane</th>\n",
       "      <td>619</td>\n",
       "    </tr>\n",
       "    <tr>\n",
       "      <th>Převzato dopravcem</th>\n",
       "      <td>27922</td>\n",
       "    </tr>\n",
       "    <tr>\n",
       "      <th>Stornováno</th>\n",
       "      <td>2113</td>\n",
       "    </tr>\n",
       "  </tbody>\n",
       "</table>\n",
       "</div>"
      ],
      "text/plain": [
       "                                 tracking_id\n",
       "provider    mapped_status                   \n",
       "GEIS        Doručeno                    5101\n",
       "            Na cestě k příjemci         6186\n",
       "            Nezadane                    6151\n",
       "            Převzato dopravcem         14947\n",
       "            Stornováno                   199\n",
       "PPL         Doručeno                  104156\n",
       "            Na cestě k příjemci       237593\n",
       "            Nezadane                    5989\n",
       "            Převzato dopravcem        169540\n",
       "            Stornováno                  2951\n",
       "ČESKÁ POŠTA Doručeno                   30583\n",
       "            Na cestě k příjemci       114654\n",
       "            Nezadane                     619\n",
       "            Převzato dopravcem         27922\n",
       "            Stornováno                  2113"
      ]
     },
     "execution_count": 19,
     "metadata": {},
     "output_type": "execute_result"
    }
   ],
   "source": [
    "dupDf.groupby(['provider', 'mapped_status']).agg({'tracking_id' : \"count\"})"
   ]
  },
  {
   "cell_type": "code",
   "execution_count": 20,
   "metadata": {},
   "outputs": [
    {
     "data": {
      "text/html": [
       "<div>\n",
       "<style scoped>\n",
       "    .dataframe tbody tr th:only-of-type {\n",
       "        vertical-align: middle;\n",
       "    }\n",
       "\n",
       "    .dataframe tbody tr th {\n",
       "        vertical-align: top;\n",
       "    }\n",
       "\n",
       "    .dataframe thead tr th {\n",
       "        text-align: left;\n",
       "    }\n",
       "\n",
       "    .dataframe thead tr:last-of-type th {\n",
       "        text-align: right;\n",
       "    }\n",
       "</style>\n",
       "<table border=\"1\" class=\"dataframe\">\n",
       "  <thead>\n",
       "    <tr>\n",
       "      <th></th>\n",
       "      <th colspan=\"5\" halign=\"left\">tracking_id</th>\n",
       "    </tr>\n",
       "    <tr>\n",
       "      <th>mapped_status</th>\n",
       "      <th>Doručeno</th>\n",
       "      <th>Na cestě k příjemci</th>\n",
       "      <th>Nezadane</th>\n",
       "      <th>Převzato dopravcem</th>\n",
       "      <th>Stornováno</th>\n",
       "    </tr>\n",
       "    <tr>\n",
       "      <th>provider</th>\n",
       "      <th></th>\n",
       "      <th></th>\n",
       "      <th></th>\n",
       "      <th></th>\n",
       "      <th></th>\n",
       "    </tr>\n",
       "  </thead>\n",
       "  <tbody>\n",
       "    <tr>\n",
       "      <th>GEIS</th>\n",
       "      <td>5101</td>\n",
       "      <td>6186</td>\n",
       "      <td>6151</td>\n",
       "      <td>14947</td>\n",
       "      <td>199</td>\n",
       "    </tr>\n",
       "    <tr>\n",
       "      <th>PPL</th>\n",
       "      <td>104156</td>\n",
       "      <td>237593</td>\n",
       "      <td>5989</td>\n",
       "      <td>169540</td>\n",
       "      <td>2951</td>\n",
       "    </tr>\n",
       "    <tr>\n",
       "      <th>ČESKÁ POŠTA</th>\n",
       "      <td>30583</td>\n",
       "      <td>114654</td>\n",
       "      <td>619</td>\n",
       "      <td>27922</td>\n",
       "      <td>2113</td>\n",
       "    </tr>\n",
       "  </tbody>\n",
       "</table>\n",
       "</div>"
      ],
      "text/plain": [
       "              tracking_id                                                  \\\n",
       "mapped_status    Doručeno Na cestě k příjemci Nezadane Převzato dopravcem   \n",
       "provider                                                                    \n",
       "GEIS                 5101                6186     6151              14947   \n",
       "PPL                104156              237593     5989             169540   \n",
       "ČESKÁ POŠTA         30583              114654      619              27922   \n",
       "\n",
       "                          \n",
       "mapped_status Stornováno  \n",
       "provider                  \n",
       "GEIS                 199  \n",
       "PPL                 2951  \n",
       "ČESKÁ POŠTA         2113  "
      ]
     },
     "execution_count": 20,
     "metadata": {},
     "output_type": "execute_result"
    }
   ],
   "source": [
    "dupDf.groupby(['provider', 'mapped_status']).agg({'tracking_id' : \"count\"}).unstack()"
   ]
  },
  {
   "cell_type": "code",
   "execution_count": 24,
   "metadata": {},
   "outputs": [
    {
     "data": {
      "text/plain": [
       "             provider   \n",
       "tracking_id  GEIS            32584\n",
       "             PPL            520229\n",
       "             ČESKÁ POŠTA    175891\n",
       "dtype: int64"
      ]
     },
     "execution_count": 24,
     "metadata": {},
     "output_type": "execute_result"
    }
   ],
   "source": [
    "dupDf.groupby(['provider']).agg({'tracking_id' : \"count\"}).unstack()"
   ]
  },
  {
   "cell_type": "code",
   "execution_count": 25,
   "metadata": {},
   "outputs": [
    {
     "data": {
      "text/html": [
       "<div>\n",
       "<style scoped>\n",
       "    .dataframe tbody tr th:only-of-type {\n",
       "        vertical-align: middle;\n",
       "    }\n",
       "\n",
       "    .dataframe tbody tr th {\n",
       "        vertical-align: top;\n",
       "    }\n",
       "\n",
       "    .dataframe thead tr th {\n",
       "        text-align: left;\n",
       "    }\n",
       "\n",
       "    .dataframe thead tr:last-of-type th {\n",
       "        text-align: right;\n",
       "    }\n",
       "</style>\n",
       "<table border=\"1\" class=\"dataframe\">\n",
       "  <thead>\n",
       "    <tr>\n",
       "      <th></th>\n",
       "      <th></th>\n",
       "      <th colspan=\"2\" halign=\"left\">tracking_id</th>\n",
       "      <th colspan=\"2\" halign=\"left\">date</th>\n",
       "      <th colspan=\"2\" halign=\"left\">status</th>\n",
       "      <th colspan=\"2\" halign=\"left\">day</th>\n",
       "      <th colspan=\"2\" halign=\"left\">month</th>\n",
       "    </tr>\n",
       "    <tr>\n",
       "      <th></th>\n",
       "      <th></th>\n",
       "      <th>min</th>\n",
       "      <th>max</th>\n",
       "      <th>min</th>\n",
       "      <th>max</th>\n",
       "      <th>min</th>\n",
       "      <th>max</th>\n",
       "      <th>min</th>\n",
       "      <th>max</th>\n",
       "      <th>min</th>\n",
       "      <th>max</th>\n",
       "    </tr>\n",
       "    <tr>\n",
       "      <th>provider</th>\n",
       "      <th>mapped_status</th>\n",
       "      <th></th>\n",
       "      <th></th>\n",
       "      <th></th>\n",
       "      <th></th>\n",
       "      <th></th>\n",
       "      <th></th>\n",
       "      <th></th>\n",
       "      <th></th>\n",
       "      <th></th>\n",
       "      <th></th>\n",
       "    </tr>\n",
       "  </thead>\n",
       "  <tbody>\n",
       "    <tr>\n",
       "      <th rowspan=\"5\" valign=\"top\">GEIS</th>\n",
       "      <th>Doručeno</th>\n",
       "      <td>1637063</td>\n",
       "      <td>1875579</td>\n",
       "      <td>2018-03-01 08:04:26</td>\n",
       "      <td>2018-04-30 10:57:27</td>\n",
       "      <td>Doručení</td>\n",
       "      <td>Doručení</td>\n",
       "      <td>1</td>\n",
       "      <td>30</td>\n",
       "      <td>3</td>\n",
       "      <td>4</td>\n",
       "    </tr>\n",
       "    <tr>\n",
       "      <th>Na cestě k příjemci</th>\n",
       "      <td>1637063</td>\n",
       "      <td>1876214</td>\n",
       "      <td>2018-03-01 05:53:00</td>\n",
       "      <td>2018-04-30 12:16:00</td>\n",
       "      <td>Naložení na rozvoz</td>\n",
       "      <td>Řidič nestihl doručit</td>\n",
       "      <td>1</td>\n",
       "      <td>30</td>\n",
       "      <td>3</td>\n",
       "      <td>4</td>\n",
       "    </tr>\n",
       "    <tr>\n",
       "      <th>Nezadane</th>\n",
       "      <td>1613267</td>\n",
       "      <td>1876214</td>\n",
       "      <td>2018-03-01 00:01:01</td>\n",
       "      <td>2018-04-28 05:12:50</td>\n",
       "      <td>Naložení na hb</td>\n",
       "      <td>Naložení na hb</td>\n",
       "      <td>1</td>\n",
       "      <td>30</td>\n",
       "      <td>3</td>\n",
       "      <td>4</td>\n",
       "    </tr>\n",
       "    <tr>\n",
       "      <th>Převzato dopravcem</th>\n",
       "      <td>1628382</td>\n",
       "      <td>1876214</td>\n",
       "      <td>2018-03-01 00:06:43</td>\n",
       "      <td>2018-04-30 10:58:04</td>\n",
       "      <td>Průchod překladištěm</td>\n",
       "      <td>Příjem na depo</td>\n",
       "      <td>1</td>\n",
       "      <td>30</td>\n",
       "      <td>3</td>\n",
       "      <td>4</td>\n",
       "    </tr>\n",
       "    <tr>\n",
       "      <th>Stornováno</th>\n",
       "      <td>1628382</td>\n",
       "      <td>1865663</td>\n",
       "      <td>2018-03-01 10:08:21</td>\n",
       "      <td>2018-04-30 03:38:53</td>\n",
       "      <td>Převzetí odmítnuto</td>\n",
       "      <td>Zpět odesílateli</td>\n",
       "      <td>1</td>\n",
       "      <td>30</td>\n",
       "      <td>3</td>\n",
       "      <td>4</td>\n",
       "    </tr>\n",
       "    <tr>\n",
       "      <th rowspan=\"5\" valign=\"top\">PPL</th>\n",
       "      <th>Doručeno</th>\n",
       "      <td>1415857</td>\n",
       "      <td>1877038</td>\n",
       "      <td>2018-03-01 06:10:04</td>\n",
       "      <td>2018-04-30 11:50:19</td>\n",
       "      <td>Doručeno</td>\n",
       "      <td>Doručeno s výhradou</td>\n",
       "      <td>1</td>\n",
       "      <td>31</td>\n",
       "      <td>3</td>\n",
       "      <td>4</td>\n",
       "    </tr>\n",
       "    <tr>\n",
       "      <th>Na cestě k příjemci</th>\n",
       "      <td>1589803</td>\n",
       "      <td>1877215</td>\n",
       "      <td>2018-03-01 00:32:50</td>\n",
       "      <td>2018-04-30 11:25:59</td>\n",
       "      <td>Nedoručeno - adresa neúplná/nenalezena</td>\n",
       "      <td>Zásilku doručujeme na parcelshop</td>\n",
       "      <td>1</td>\n",
       "      <td>30</td>\n",
       "      <td>3</td>\n",
       "      <td>4</td>\n",
       "    </tr>\n",
       "    <tr>\n",
       "      <th>Nezadane</th>\n",
       "      <td>1423786</td>\n",
       "      <td>1877153</td>\n",
       "      <td>2018-03-01 06:27:12</td>\n",
       "      <td>2018-04-30 11:46:24</td>\n",
       "      <td>Dobírka - příkaz na zákazníka</td>\n",
       "      <td>Výmaz</td>\n",
       "      <td>1</td>\n",
       "      <td>30</td>\n",
       "      <td>3</td>\n",
       "      <td>4</td>\n",
       "    </tr>\n",
       "    <tr>\n",
       "      <th>Převzato dopravcem</th>\n",
       "      <td>1589803</td>\n",
       "      <td>1881727</td>\n",
       "      <td>2018-03-01 00:22:06</td>\n",
       "      <td>2018-04-30 10:42:52</td>\n",
       "      <td>Převzetí od zákazníka</td>\n",
       "      <td>Příjem na centrálu</td>\n",
       "      <td>1</td>\n",
       "      <td>31</td>\n",
       "      <td>3</td>\n",
       "      <td>4</td>\n",
       "    </tr>\n",
       "    <tr>\n",
       "      <th>Stornováno</th>\n",
       "      <td>1589803</td>\n",
       "      <td>1877015</td>\n",
       "      <td>2018-03-01 05:10:35</td>\n",
       "      <td>2018-04-30 11:09:02</td>\n",
       "      <td>Nedoručeno - neobjednáno</td>\n",
       "      <td>Zpět odesílateli</td>\n",
       "      <td>1</td>\n",
       "      <td>30</td>\n",
       "      <td>3</td>\n",
       "      <td>4</td>\n",
       "    </tr>\n",
       "    <tr>\n",
       "      <th rowspan=\"5\" valign=\"top\">ČESKÁ POŠTA</th>\n",
       "      <th>Doručeno</th>\n",
       "      <td>1430907</td>\n",
       "      <td>1882069</td>\n",
       "      <td>2018-03-01 06:35:00</td>\n",
       "      <td>2018-04-30 11:48:00</td>\n",
       "      <td>Doručena</td>\n",
       "      <td>Doručena</td>\n",
       "      <td>1</td>\n",
       "      <td>31</td>\n",
       "      <td>3</td>\n",
       "      <td>4</td>\n",
       "    </tr>\n",
       "    <tr>\n",
       "      <th>Na cestě k příjemci</th>\n",
       "      <td>1430956</td>\n",
       "      <td>1882076</td>\n",
       "      <td>2018-03-01 00:02:00</td>\n",
       "      <td>2018-04-30 13:24:00</td>\n",
       "      <td>Pořízeno na pochůzku</td>\n",
       "      <td>Uloženo na poště</td>\n",
       "      <td>1</td>\n",
       "      <td>31</td>\n",
       "      <td>3</td>\n",
       "      <td>4</td>\n",
       "    </tr>\n",
       "    <tr>\n",
       "      <th>Nezadane</th>\n",
       "      <td>1430956</td>\n",
       "      <td>1876634</td>\n",
       "      <td>2018-03-01 02:42:00</td>\n",
       "      <td>2018-04-30 11:14:00</td>\n",
       "      <td>Chybně směrována (vinou odesílatele)</td>\n",
       "      <td>Zásilka byla uložena na pošte (poškozená zásilka)</td>\n",
       "      <td>1</td>\n",
       "      <td>30</td>\n",
       "      <td>3</td>\n",
       "      <td>4</td>\n",
       "    </tr>\n",
       "    <tr>\n",
       "      <th>Převzato dopravcem</th>\n",
       "      <td>1676836</td>\n",
       "      <td>1882077</td>\n",
       "      <td>2018-03-01 06:45:00</td>\n",
       "      <td>2018-04-30 10:00:00</td>\n",
       "      <td>Řádně podaná zásilka - do rozhodné doby</td>\n",
       "      <td>Řádně podaná zásilka - do rozhodné doby</td>\n",
       "      <td>1</td>\n",
       "      <td>30</td>\n",
       "      <td>3</td>\n",
       "      <td>4</td>\n",
       "    </tr>\n",
       "    <tr>\n",
       "      <th>Stornováno</th>\n",
       "      <td>1430956</td>\n",
       "      <td>1873564</td>\n",
       "      <td>2018-03-01 05:51:00</td>\n",
       "      <td>2018-04-30 06:49:00</td>\n",
       "      <td>Vrácena - adresát neznámý</td>\n",
       "      <td>Zásilka byla dodána zpět (vrácena) odesílateli</td>\n",
       "      <td>1</td>\n",
       "      <td>31</td>\n",
       "      <td>3</td>\n",
       "      <td>4</td>\n",
       "    </tr>\n",
       "  </tbody>\n",
       "</table>\n",
       "</div>"
      ],
      "text/plain": [
       "                                tracking_id                          date  \\\n",
       "                                        min      max                  min   \n",
       "provider    mapped_status                                                   \n",
       "GEIS        Doručeno                1637063  1875579  2018-03-01 08:04:26   \n",
       "            Na cestě k příjemci     1637063  1876214  2018-03-01 05:53:00   \n",
       "            Nezadane                1613267  1876214  2018-03-01 00:01:01   \n",
       "            Převzato dopravcem      1628382  1876214  2018-03-01 00:06:43   \n",
       "            Stornováno              1628382  1865663  2018-03-01 10:08:21   \n",
       "PPL         Doručeno                1415857  1877038  2018-03-01 06:10:04   \n",
       "            Na cestě k příjemci     1589803  1877215  2018-03-01 00:32:50   \n",
       "            Nezadane                1423786  1877153  2018-03-01 06:27:12   \n",
       "            Převzato dopravcem      1589803  1881727  2018-03-01 00:22:06   \n",
       "            Stornováno              1589803  1877015  2018-03-01 05:10:35   \n",
       "ČESKÁ POŠTA Doručeno                1430907  1882069  2018-03-01 06:35:00   \n",
       "            Na cestě k příjemci     1430956  1882076  2018-03-01 00:02:00   \n",
       "            Nezadane                1430956  1876634  2018-03-01 02:42:00   \n",
       "            Převzato dopravcem      1676836  1882077  2018-03-01 06:45:00   \n",
       "            Stornováno              1430956  1873564  2018-03-01 05:51:00   \n",
       "\n",
       "                                                      \\\n",
       "                                                 max   \n",
       "provider    mapped_status                              \n",
       "GEIS        Doručeno             2018-04-30 10:57:27   \n",
       "            Na cestě k příjemci  2018-04-30 12:16:00   \n",
       "            Nezadane             2018-04-28 05:12:50   \n",
       "            Převzato dopravcem   2018-04-30 10:58:04   \n",
       "            Stornováno           2018-04-30 03:38:53   \n",
       "PPL         Doručeno             2018-04-30 11:50:19   \n",
       "            Na cestě k příjemci  2018-04-30 11:25:59   \n",
       "            Nezadane             2018-04-30 11:46:24   \n",
       "            Převzato dopravcem   2018-04-30 10:42:52   \n",
       "            Stornováno           2018-04-30 11:09:02   \n",
       "ČESKÁ POŠTA Doručeno             2018-04-30 11:48:00   \n",
       "            Na cestě k příjemci  2018-04-30 13:24:00   \n",
       "            Nezadane             2018-04-30 11:14:00   \n",
       "            Převzato dopravcem   2018-04-30 10:00:00   \n",
       "            Stornováno           2018-04-30 06:49:00   \n",
       "\n",
       "                                                                  status  \\\n",
       "                                                                     min   \n",
       "provider    mapped_status                                                  \n",
       "GEIS        Doručeno                                            Doručení   \n",
       "            Na cestě k příjemci                       Naložení na rozvoz   \n",
       "            Nezadane                                      Naložení na hb   \n",
       "            Převzato dopravcem                      Průchod překladištěm   \n",
       "            Stornováno                                Převzetí odmítnuto   \n",
       "PPL         Doručeno                                            Doručeno   \n",
       "            Na cestě k příjemci   Nedoručeno - adresa neúplná/nenalezena   \n",
       "            Nezadane                       Dobírka - příkaz na zákazníka   \n",
       "            Převzato dopravcem                     Převzetí od zákazníka   \n",
       "            Stornováno                          Nedoručeno - neobjednáno   \n",
       "ČESKÁ POŠTA Doručeno                                            Doručena   \n",
       "            Na cestě k příjemci                     Pořízeno na pochůzku   \n",
       "            Nezadane                Chybně směrována (vinou odesílatele)   \n",
       "            Převzato dopravcem   Řádně podaná zásilka - do rozhodné doby   \n",
       "            Stornováno                         Vrácena - adresát neznámý   \n",
       "\n",
       "                                                                                    \\\n",
       "                                                                               max   \n",
       "provider    mapped_status                                                            \n",
       "GEIS        Doručeno                                                      Doručení   \n",
       "            Na cestě k příjemci                              Řidič nestihl doručit   \n",
       "            Nezadane                                                Naložení na hb   \n",
       "            Převzato dopravcem                                      Příjem na depo   \n",
       "            Stornováno                                            Zpět odesílateli   \n",
       "PPL         Doručeno                                           Doručeno s výhradou   \n",
       "            Na cestě k příjemci                   Zásilku doručujeme na parcelshop   \n",
       "            Nezadane                                                         Výmaz   \n",
       "            Převzato dopravcem                                  Příjem na centrálu   \n",
       "            Stornováno                                            Zpět odesílateli   \n",
       "ČESKÁ POŠTA Doručeno                                                      Doručena   \n",
       "            Na cestě k příjemci                                   Uloženo na poště   \n",
       "            Nezadane             Zásilka byla uložena na pošte (poškozená zásilka)   \n",
       "            Převzato dopravcem             Řádně podaná zásilka - do rozhodné doby   \n",
       "            Stornováno              Zásilka byla dodána zpět (vrácena) odesílateli   \n",
       "\n",
       "                                day     month      \n",
       "                                min max   min max  \n",
       "provider    mapped_status                          \n",
       "GEIS        Doručeno              1  30     3   4  \n",
       "            Na cestě k příjemci   1  30     3   4  \n",
       "            Nezadane              1  30     3   4  \n",
       "            Převzato dopravcem    1  30     3   4  \n",
       "            Stornováno            1  30     3   4  \n",
       "PPL         Doručeno              1  31     3   4  \n",
       "            Na cestě k příjemci   1  30     3   4  \n",
       "            Nezadane              1  30     3   4  \n",
       "            Převzato dopravcem    1  31     3   4  \n",
       "            Stornováno            1  30     3   4  \n",
       "ČESKÁ POŠTA Doručeno              1  31     3   4  \n",
       "            Na cestě k příjemci   1  31     3   4  \n",
       "            Nezadane              1  30     3   4  \n",
       "            Převzato dopravcem    1  30     3   4  \n",
       "            Stornováno            1  31     3   4  "
      ]
     },
     "execution_count": 25,
     "metadata": {},
     "output_type": "execute_result"
    }
   ],
   "source": [
    "dupDf.groupby(['provider', 'mapped_status']).agg(['min', 'max'])"
   ]
  },
  {
   "cell_type": "code",
   "execution_count": 26,
   "metadata": {},
   "outputs": [
    {
     "data": {
      "text/html": [
       "<div>\n",
       "<style scoped>\n",
       "    .dataframe tbody tr th:only-of-type {\n",
       "        vertical-align: middle;\n",
       "    }\n",
       "\n",
       "    .dataframe tbody tr th {\n",
       "        vertical-align: top;\n",
       "    }\n",
       "\n",
       "    .dataframe thead th {\n",
       "        text-align: right;\n",
       "    }\n",
       "</style>\n",
       "<table border=\"1\" class=\"dataframe\">\n",
       "  <thead>\n",
       "    <tr style=\"text-align: right;\">\n",
       "      <th></th>\n",
       "      <th></th>\n",
       "      <th>min</th>\n",
       "      <th>max</th>\n",
       "    </tr>\n",
       "    <tr>\n",
       "      <th>provider</th>\n",
       "      <th>mapped_status</th>\n",
       "      <th></th>\n",
       "      <th></th>\n",
       "    </tr>\n",
       "  </thead>\n",
       "  <tbody>\n",
       "    <tr>\n",
       "      <th rowspan=\"5\" valign=\"top\">GEIS</th>\n",
       "      <th>Doručeno</th>\n",
       "      <td>2018-03-01 08:04:26</td>\n",
       "      <td>2018-04-30 10:57:27</td>\n",
       "    </tr>\n",
       "    <tr>\n",
       "      <th>Na cestě k příjemci</th>\n",
       "      <td>2018-03-01 05:53:00</td>\n",
       "      <td>2018-04-30 12:16:00</td>\n",
       "    </tr>\n",
       "    <tr>\n",
       "      <th>Nezadane</th>\n",
       "      <td>2018-03-01 00:01:01</td>\n",
       "      <td>2018-04-28 05:12:50</td>\n",
       "    </tr>\n",
       "    <tr>\n",
       "      <th>Převzato dopravcem</th>\n",
       "      <td>2018-03-01 00:06:43</td>\n",
       "      <td>2018-04-30 10:58:04</td>\n",
       "    </tr>\n",
       "    <tr>\n",
       "      <th>Stornováno</th>\n",
       "      <td>2018-03-01 10:08:21</td>\n",
       "      <td>2018-04-30 03:38:53</td>\n",
       "    </tr>\n",
       "    <tr>\n",
       "      <th rowspan=\"5\" valign=\"top\">PPL</th>\n",
       "      <th>Doručeno</th>\n",
       "      <td>2018-03-01 06:10:04</td>\n",
       "      <td>2018-04-30 11:50:19</td>\n",
       "    </tr>\n",
       "    <tr>\n",
       "      <th>Na cestě k příjemci</th>\n",
       "      <td>2018-03-01 00:32:50</td>\n",
       "      <td>2018-04-30 11:25:59</td>\n",
       "    </tr>\n",
       "    <tr>\n",
       "      <th>Nezadane</th>\n",
       "      <td>2018-03-01 06:27:12</td>\n",
       "      <td>2018-04-30 11:46:24</td>\n",
       "    </tr>\n",
       "    <tr>\n",
       "      <th>Převzato dopravcem</th>\n",
       "      <td>2018-03-01 00:22:06</td>\n",
       "      <td>2018-04-30 10:42:52</td>\n",
       "    </tr>\n",
       "    <tr>\n",
       "      <th>Stornováno</th>\n",
       "      <td>2018-03-01 05:10:35</td>\n",
       "      <td>2018-04-30 11:09:02</td>\n",
       "    </tr>\n",
       "    <tr>\n",
       "      <th rowspan=\"5\" valign=\"top\">ČESKÁ POŠTA</th>\n",
       "      <th>Doručeno</th>\n",
       "      <td>2018-03-01 06:35:00</td>\n",
       "      <td>2018-04-30 11:48:00</td>\n",
       "    </tr>\n",
       "    <tr>\n",
       "      <th>Na cestě k příjemci</th>\n",
       "      <td>2018-03-01 00:02:00</td>\n",
       "      <td>2018-04-30 13:24:00</td>\n",
       "    </tr>\n",
       "    <tr>\n",
       "      <th>Nezadane</th>\n",
       "      <td>2018-03-01 02:42:00</td>\n",
       "      <td>2018-04-30 11:14:00</td>\n",
       "    </tr>\n",
       "    <tr>\n",
       "      <th>Převzato dopravcem</th>\n",
       "      <td>2018-03-01 06:45:00</td>\n",
       "      <td>2018-04-30 10:00:00</td>\n",
       "    </tr>\n",
       "    <tr>\n",
       "      <th>Stornováno</th>\n",
       "      <td>2018-03-01 05:51:00</td>\n",
       "      <td>2018-04-30 06:49:00</td>\n",
       "    </tr>\n",
       "  </tbody>\n",
       "</table>\n",
       "</div>"
      ],
      "text/plain": [
       "                                                 min                  max\n",
       "provider    mapped_status                                                \n",
       "GEIS        Doručeno             2018-03-01 08:04:26  2018-04-30 10:57:27\n",
       "            Na cestě k příjemci  2018-03-01 05:53:00  2018-04-30 12:16:00\n",
       "            Nezadane             2018-03-01 00:01:01  2018-04-28 05:12:50\n",
       "            Převzato dopravcem   2018-03-01 00:06:43  2018-04-30 10:58:04\n",
       "            Stornováno           2018-03-01 10:08:21  2018-04-30 03:38:53\n",
       "PPL         Doručeno             2018-03-01 06:10:04  2018-04-30 11:50:19\n",
       "            Na cestě k příjemci  2018-03-01 00:32:50  2018-04-30 11:25:59\n",
       "            Nezadane             2018-03-01 06:27:12  2018-04-30 11:46:24\n",
       "            Převzato dopravcem   2018-03-01 00:22:06  2018-04-30 10:42:52\n",
       "            Stornováno           2018-03-01 05:10:35  2018-04-30 11:09:02\n",
       "ČESKÁ POŠTA Doručeno             2018-03-01 06:35:00  2018-04-30 11:48:00\n",
       "            Na cestě k příjemci  2018-03-01 00:02:00  2018-04-30 13:24:00\n",
       "            Nezadane             2018-03-01 02:42:00  2018-04-30 11:14:00\n",
       "            Převzato dopravcem   2018-03-01 06:45:00  2018-04-30 10:00:00\n",
       "            Stornováno           2018-03-01 05:51:00  2018-04-30 06:49:00"
      ]
     },
     "execution_count": 26,
     "metadata": {},
     "output_type": "execute_result"
    }
   ],
   "source": [
    "dupDf.groupby(['provider', 'mapped_status'])[\"date\"].agg(['min', 'max'])"
   ]
  },
  {
   "cell_type": "code",
   "execution_count": 27,
   "metadata": {},
   "outputs": [
    {
     "data": {
      "text/html": [
       "<div>\n",
       "<style scoped>\n",
       "    .dataframe tbody tr th:only-of-type {\n",
       "        vertical-align: middle;\n",
       "    }\n",
       "\n",
       "    .dataframe tbody tr th {\n",
       "        vertical-align: top;\n",
       "    }\n",
       "\n",
       "    .dataframe thead th {\n",
       "        text-align: right;\n",
       "    }\n",
       "</style>\n",
       "<table border=\"1\" class=\"dataframe\">\n",
       "  <thead>\n",
       "    <tr style=\"text-align: right;\">\n",
       "      <th></th>\n",
       "      <th></th>\n",
       "      <th>tracking_id</th>\n",
       "      <th>date</th>\n",
       "    </tr>\n",
       "    <tr>\n",
       "      <th>provider</th>\n",
       "      <th>mapped_status</th>\n",
       "      <th></th>\n",
       "      <th></th>\n",
       "    </tr>\n",
       "  </thead>\n",
       "  <tbody>\n",
       "    <tr>\n",
       "      <th rowspan=\"5\" valign=\"top\">GEIS</th>\n",
       "      <th>Doručeno</th>\n",
       "      <td>1776777.0</td>\n",
       "      <td>5101</td>\n",
       "    </tr>\n",
       "    <tr>\n",
       "      <th>Na cestě k příjemci</th>\n",
       "      <td>1782811.5</td>\n",
       "      <td>6186</td>\n",
       "    </tr>\n",
       "    <tr>\n",
       "      <th>Nezadane</th>\n",
       "      <td>1783070.0</td>\n",
       "      <td>6151</td>\n",
       "    </tr>\n",
       "    <tr>\n",
       "      <th>Převzato dopravcem</th>\n",
       "      <td>1785235.0</td>\n",
       "      <td>14947</td>\n",
       "    </tr>\n",
       "    <tr>\n",
       "      <th>Stornováno</th>\n",
       "      <td>1787505.0</td>\n",
       "      <td>199</td>\n",
       "    </tr>\n",
       "    <tr>\n",
       "      <th rowspan=\"5\" valign=\"top\">PPL</th>\n",
       "      <th>Doručeno</th>\n",
       "      <td>1765198.5</td>\n",
       "      <td>104156</td>\n",
       "    </tr>\n",
       "    <tr>\n",
       "      <th>Na cestě k příjemci</th>\n",
       "      <td>1766162.0</td>\n",
       "      <td>237593</td>\n",
       "    </tr>\n",
       "    <tr>\n",
       "      <th>Nezadane</th>\n",
       "      <td>1767701.0</td>\n",
       "      <td>5989</td>\n",
       "    </tr>\n",
       "    <tr>\n",
       "      <th>Převzato dopravcem</th>\n",
       "      <td>1756166.5</td>\n",
       "      <td>169540</td>\n",
       "    </tr>\n",
       "    <tr>\n",
       "      <th>Stornováno</th>\n",
       "      <td>1756128.0</td>\n",
       "      <td>2951</td>\n",
       "    </tr>\n",
       "    <tr>\n",
       "      <th rowspan=\"5\" valign=\"top\">ČESKÁ POŠTA</th>\n",
       "      <th>Doručeno</th>\n",
       "      <td>1770375.0</td>\n",
       "      <td>30583</td>\n",
       "    </tr>\n",
       "    <tr>\n",
       "      <th>Na cestě k příjemci</th>\n",
       "      <td>1773549.0</td>\n",
       "      <td>114654</td>\n",
       "    </tr>\n",
       "    <tr>\n",
       "      <th>Nezadane</th>\n",
       "      <td>1752159.0</td>\n",
       "      <td>619</td>\n",
       "    </tr>\n",
       "    <tr>\n",
       "      <th>Převzato dopravcem</th>\n",
       "      <td>1773691.5</td>\n",
       "      <td>27922</td>\n",
       "    </tr>\n",
       "    <tr>\n",
       "      <th>Stornováno</th>\n",
       "      <td>1741430.0</td>\n",
       "      <td>2113</td>\n",
       "    </tr>\n",
       "  </tbody>\n",
       "</table>\n",
       "</div>"
      ],
      "text/plain": [
       "                                 tracking_id    date\n",
       "provider    mapped_status                           \n",
       "GEIS        Doručeno               1776777.0    5101\n",
       "            Na cestě k příjemci    1782811.5    6186\n",
       "            Nezadane               1783070.0    6151\n",
       "            Převzato dopravcem     1785235.0   14947\n",
       "            Stornováno             1787505.0     199\n",
       "PPL         Doručeno               1765198.5  104156\n",
       "            Na cestě k příjemci    1766162.0  237593\n",
       "            Nezadane               1767701.0    5989\n",
       "            Převzato dopravcem     1756166.5  169540\n",
       "            Stornováno             1756128.0    2951\n",
       "ČESKÁ POŠTA Doručeno               1770375.0   30583\n",
       "            Na cestě k příjemci    1773549.0  114654\n",
       "            Nezadane               1752159.0     619\n",
       "            Převzato dopravcem     1773691.5   27922\n",
       "            Stornováno             1741430.0    2113"
      ]
     },
     "execution_count": 27,
     "metadata": {},
     "output_type": "execute_result"
    }
   ],
   "source": [
    "dupDf.groupby(['provider', 'mapped_status']).agg({'tracking_id' : 'median', 'date' : 'count'})"
   ]
  },
  {
   "cell_type": "markdown",
   "metadata": {},
   "source": [
    "<h2>Práca s duplicitami</h2>"
   ]
  },
  {
   "cell_type": "code",
   "execution_count": 46,
   "metadata": {},
   "outputs": [],
   "source": [
    "provider_grouped = providersNoDup[[\"provider\", \"tracking_id\", \"date\", \"status\", \"mapped_status\"]].sort_values(by=['provider', 'tracking_id', 'date']).groupby([\"provider\", \"tracking_id\", \"date\", \"status\"])"
   ]
  },
  {
   "cell_type": "code",
   "execution_count": 47,
   "metadata": {},
   "outputs": [
    {
     "data": {
      "text/plain": [
       "<pandas.core.groupby.DataFrameGroupBy object at 0x10f9d75f8>"
      ]
     },
     "execution_count": 47,
     "metadata": {},
     "output_type": "execute_result"
    }
   ],
   "source": [
    "provider_grouped"
   ]
  },
  {
   "cell_type": "code",
   "execution_count": 48,
   "metadata": {},
   "outputs": [],
   "source": [
    "newDf = provider_grouped.count().sort_values('mapped_status', ascending=False)"
   ]
  },
  {
   "cell_type": "code",
   "execution_count": 49,
   "metadata": {},
   "outputs": [
    {
     "data": {
      "text/html": [
       "<div>\n",
       "<style scoped>\n",
       "    .dataframe tbody tr th:only-of-type {\n",
       "        vertical-align: middle;\n",
       "    }\n",
       "\n",
       "    .dataframe tbody tr th {\n",
       "        vertical-align: top;\n",
       "    }\n",
       "\n",
       "    .dataframe thead th {\n",
       "        text-align: right;\n",
       "    }\n",
       "</style>\n",
       "<table border=\"1\" class=\"dataframe\">\n",
       "  <thead>\n",
       "    <tr style=\"text-align: right;\">\n",
       "      <th></th>\n",
       "      <th></th>\n",
       "      <th></th>\n",
       "      <th></th>\n",
       "      <th>mapped_status</th>\n",
       "    </tr>\n",
       "    <tr>\n",
       "      <th>provider</th>\n",
       "      <th>tracking_id</th>\n",
       "      <th>date</th>\n",
       "      <th>status</th>\n",
       "      <th></th>\n",
       "    </tr>\n",
       "  </thead>\n",
       "  <tbody>\n",
       "    <tr>\n",
       "      <th>GEIS</th>\n",
       "      <th>1613267</th>\n",
       "      <th>2018-03-19 20:03:30</th>\n",
       "      <th>Naložení na hb</th>\n",
       "      <td>1</td>\n",
       "    </tr>\n",
       "    <tr>\n",
       "      <th rowspan=\"4\" valign=\"top\">PPL</th>\n",
       "      <th>1833957</th>\n",
       "      <th>2018-04-19 04:43:05</th>\n",
       "      <th>Příjem na rozvozové depo</th>\n",
       "      <td>1</td>\n",
       "    </tr>\n",
       "    <tr>\n",
       "      <th rowspan=\"3\" valign=\"top\">1833963</th>\n",
       "      <th>2018-04-17 22:46:11</th>\n",
       "      <th>Převážení/vážení</th>\n",
       "      <td>1</td>\n",
       "    </tr>\n",
       "    <tr>\n",
       "      <th>2018-04-19 06:52:47</th>\n",
       "      <th>Příjem na rozvozové depo</th>\n",
       "      <td>1</td>\n",
       "    </tr>\n",
       "    <tr>\n",
       "      <th>2018-04-19 07:45:31</th>\n",
       "      <th>Zásilku doručujeme na parcelshop</th>\n",
       "      <td>1</td>\n",
       "    </tr>\n",
       "  </tbody>\n",
       "</table>\n",
       "</div>"
      ],
      "text/plain": [
       "                                                                           mapped_status\n",
       "provider tracking_id date                status                                         \n",
       "GEIS     1613267     2018-03-19 20:03:30 Naložení na hb                                1\n",
       "PPL      1833957     2018-04-19 04:43:05 Příjem na rozvozové depo                      1\n",
       "         1833963     2018-04-17 22:46:11 Převážení/vážení                              1\n",
       "                     2018-04-19 06:52:47 Příjem na rozvozové depo                      1\n",
       "                     2018-04-19 07:45:31 Zásilku doručujeme na parcelshop              1"
      ]
     },
     "execution_count": 49,
     "metadata": {},
     "output_type": "execute_result"
    }
   ],
   "source": [
    "newDf.head()"
   ]
  },
  {
   "cell_type": "code",
   "execution_count": 34,
   "metadata": {},
   "outputs": [
    {
     "data": {
      "text/html": [
       "<div>\n",
       "<style scoped>\n",
       "    .dataframe tbody tr th:only-of-type {\n",
       "        vertical-align: middle;\n",
       "    }\n",
       "\n",
       "    .dataframe tbody tr th {\n",
       "        vertical-align: top;\n",
       "    }\n",
       "\n",
       "    .dataframe thead th {\n",
       "        text-align: right;\n",
       "    }\n",
       "</style>\n",
       "<table border=\"1\" class=\"dataframe\">\n",
       "  <thead>\n",
       "    <tr style=\"text-align: right;\">\n",
       "      <th></th>\n",
       "      <th>tracking_id</th>\n",
       "      <th>date</th>\n",
       "      <th>status</th>\n",
       "      <th>mapped_status</th>\n",
       "      <th>provider</th>\n",
       "      <th>day</th>\n",
       "      <th>month</th>\n",
       "    </tr>\n",
       "  </thead>\n",
       "  <tbody>\n",
       "    <tr>\n",
       "      <th>423497</th>\n",
       "      <td>1750524</td>\n",
       "      <td>2018-03-23 17:28:19</td>\n",
       "      <td>Příjem na depo</td>\n",
       "      <td>Převzato dopravcem</td>\n",
       "      <td>GEIS</td>\n",
       "      <td>23</td>\n",
       "      <td>3</td>\n",
       "    </tr>\n",
       "    <tr>\n",
       "      <th>423498</th>\n",
       "      <td>1750524</td>\n",
       "      <td>2018-03-23 18:25:26</td>\n",
       "      <td>Naložení na hb</td>\n",
       "      <td>Nezadane</td>\n",
       "      <td>GEIS</td>\n",
       "      <td>23</td>\n",
       "      <td>3</td>\n",
       "    </tr>\n",
       "    <tr>\n",
       "      <th>423499</th>\n",
       "      <td>1750524</td>\n",
       "      <td>2018-03-23 22:44:10</td>\n",
       "      <td>Průchod překladištěm</td>\n",
       "      <td>Převzato dopravcem</td>\n",
       "      <td>GEIS</td>\n",
       "      <td>23</td>\n",
       "      <td>3</td>\n",
       "    </tr>\n",
       "    <tr>\n",
       "      <th>423500</th>\n",
       "      <td>1750524</td>\n",
       "      <td>2018-03-23 22:44:11</td>\n",
       "      <td>Příjem na depo</td>\n",
       "      <td>Převzato dopravcem</td>\n",
       "      <td>GEIS</td>\n",
       "      <td>23</td>\n",
       "      <td>3</td>\n",
       "    </tr>\n",
       "    <tr>\n",
       "      <th>423501</th>\n",
       "      <td>1750524</td>\n",
       "      <td>2018-03-26 07:52:00</td>\n",
       "      <td>Naložení na rozvoz</td>\n",
       "      <td>Na cestě k příjemci</td>\n",
       "      <td>GEIS</td>\n",
       "      <td>26</td>\n",
       "      <td>3</td>\n",
       "    </tr>\n",
       "    <tr>\n",
       "      <th>423502</th>\n",
       "      <td>1750524</td>\n",
       "      <td>2018-03-26 14:33:00</td>\n",
       "      <td>Příjemce nezastižen</td>\n",
       "      <td>Na cestě k příjemci</td>\n",
       "      <td>GEIS</td>\n",
       "      <td>26</td>\n",
       "      <td>3</td>\n",
       "    </tr>\n",
       "    <tr>\n",
       "      <th>423503</th>\n",
       "      <td>1750524</td>\n",
       "      <td>2018-03-26 14:33:00</td>\n",
       "      <td>Příjemce nezastižen</td>\n",
       "      <td>Na cestě k příjemci</td>\n",
       "      <td>GEIS</td>\n",
       "      <td>26</td>\n",
       "      <td>3</td>\n",
       "    </tr>\n",
       "    <tr>\n",
       "      <th>423504</th>\n",
       "      <td>1750524</td>\n",
       "      <td>2018-03-26 14:33:00</td>\n",
       "      <td>Příjemce nezastižen</td>\n",
       "      <td>Na cestě k příjemci</td>\n",
       "      <td>GEIS</td>\n",
       "      <td>26</td>\n",
       "      <td>3</td>\n",
       "    </tr>\n",
       "    <tr>\n",
       "      <th>423505</th>\n",
       "      <td>1750524</td>\n",
       "      <td>2018-03-26 15:42:48</td>\n",
       "      <td>Příjem na depo</td>\n",
       "      <td>Převzato dopravcem</td>\n",
       "      <td>GEIS</td>\n",
       "      <td>26</td>\n",
       "      <td>3</td>\n",
       "    </tr>\n",
       "    <tr>\n",
       "      <th>423506</th>\n",
       "      <td>1750524</td>\n",
       "      <td>2018-03-27 08:26:00</td>\n",
       "      <td>Naložení na rozvoz</td>\n",
       "      <td>Na cestě k příjemci</td>\n",
       "      <td>GEIS</td>\n",
       "      <td>27</td>\n",
       "      <td>3</td>\n",
       "    </tr>\n",
       "    <tr>\n",
       "      <th>423507</th>\n",
       "      <td>1750524</td>\n",
       "      <td>2018-03-27 15:26:56</td>\n",
       "      <td>Příjem na depo</td>\n",
       "      <td>Převzato dopravcem</td>\n",
       "      <td>GEIS</td>\n",
       "      <td>27</td>\n",
       "      <td>3</td>\n",
       "    </tr>\n",
       "    <tr>\n",
       "      <th>423508</th>\n",
       "      <td>1750524</td>\n",
       "      <td>2018-03-29 13:33:04</td>\n",
       "      <td>Zpět odesílateli</td>\n",
       "      <td>Stornováno</td>\n",
       "      <td>GEIS</td>\n",
       "      <td>29</td>\n",
       "      <td>3</td>\n",
       "    </tr>\n",
       "  </tbody>\n",
       "</table>\n",
       "</div>"
      ],
      "text/plain": [
       "        tracking_id                 date                status  \\\n",
       "423497      1750524  2018-03-23 17:28:19        Příjem na depo   \n",
       "423498      1750524  2018-03-23 18:25:26        Naložení na hb   \n",
       "423499      1750524  2018-03-23 22:44:10  Průchod překladištěm   \n",
       "423500      1750524  2018-03-23 22:44:11        Příjem na depo   \n",
       "423501      1750524  2018-03-26 07:52:00    Naložení na rozvoz   \n",
       "423502      1750524  2018-03-26 14:33:00   Příjemce nezastižen   \n",
       "423503      1750524  2018-03-26 14:33:00   Příjemce nezastižen   \n",
       "423504      1750524  2018-03-26 14:33:00   Příjemce nezastižen   \n",
       "423505      1750524  2018-03-26 15:42:48        Příjem na depo   \n",
       "423506      1750524  2018-03-27 08:26:00    Naložení na rozvoz   \n",
       "423507      1750524  2018-03-27 15:26:56        Příjem na depo   \n",
       "423508      1750524  2018-03-29 13:33:04      Zpět odesílateli   \n",
       "\n",
       "              mapped_status provider  day  month  \n",
       "423497   Převzato dopravcem     GEIS   23      3  \n",
       "423498             Nezadane     GEIS   23      3  \n",
       "423499   Převzato dopravcem     GEIS   23      3  \n",
       "423500   Převzato dopravcem     GEIS   23      3  \n",
       "423501  Na cestě k příjemci     GEIS   26      3  \n",
       "423502  Na cestě k příjemci     GEIS   26      3  \n",
       "423503  Na cestě k příjemci     GEIS   26      3  \n",
       "423504  Na cestě k příjemci     GEIS   26      3  \n",
       "423505   Převzato dopravcem     GEIS   26      3  \n",
       "423506  Na cestě k příjemci     GEIS   27      3  \n",
       "423507   Převzato dopravcem     GEIS   27      3  \n",
       "423508           Stornováno     GEIS   29      3  "
      ]
     },
     "execution_count": 34,
     "metadata": {},
     "output_type": "execute_result"
    }
   ],
   "source": [
    "dupDf[dupDf[\"tracking_id\"] == 1750524]"
   ]
  },
  {
   "cell_type": "code",
   "execution_count": 37,
   "metadata": {},
   "outputs": [
    {
     "data": {
      "text/plain": [
       "array([[3],\n",
       "       [3],\n",
       "       [2],\n",
       "       ...,\n",
       "       [1],\n",
       "       [1],\n",
       "       [1]])"
      ]
     },
     "execution_count": 37,
     "metadata": {},
     "output_type": "execute_result"
    }
   ],
   "source": [
    "provider_grouped.count().sort_values('mapped_status', ascending=False).values"
   ]
  },
  {
   "cell_type": "code",
   "execution_count": 50,
   "metadata": {},
   "outputs": [],
   "source": [
    "duplicateDf = newDf[provider_grouped.count().sort_values('mapped_status', ascending=False).values >1 ]"
   ]
  },
  {
   "cell_type": "code",
   "execution_count": 51,
   "metadata": {},
   "outputs": [
    {
     "data": {
      "text/html": [
       "<div>\n",
       "<style scoped>\n",
       "    .dataframe tbody tr th:only-of-type {\n",
       "        vertical-align: middle;\n",
       "    }\n",
       "\n",
       "    .dataframe tbody tr th {\n",
       "        vertical-align: top;\n",
       "    }\n",
       "\n",
       "    .dataframe thead th {\n",
       "        text-align: right;\n",
       "    }\n",
       "</style>\n",
       "<table border=\"1\" class=\"dataframe\">\n",
       "  <thead>\n",
       "    <tr style=\"text-align: right;\">\n",
       "      <th></th>\n",
       "      <th></th>\n",
       "      <th></th>\n",
       "      <th></th>\n",
       "      <th>mapped_status</th>\n",
       "    </tr>\n",
       "    <tr>\n",
       "      <th>provider</th>\n",
       "      <th>tracking_id</th>\n",
       "      <th>date</th>\n",
       "      <th>status</th>\n",
       "      <th></th>\n",
       "    </tr>\n",
       "  </thead>\n",
       "  <tbody>\n",
       "  </tbody>\n",
       "</table>\n",
       "</div>"
      ],
      "text/plain": [
       "Empty DataFrame\n",
       "Columns: [mapped_status]\n",
       "Index: []"
      ]
     },
     "execution_count": 51,
     "metadata": {},
     "output_type": "execute_result"
    }
   ],
   "source": [
    "duplicateDf"
   ]
  },
  {
   "cell_type": "code",
   "execution_count": 40,
   "metadata": {},
   "outputs": [
    {
     "data": {
      "text/plain": [
       "(2594, 1)"
      ]
     },
     "execution_count": 40,
     "metadata": {},
     "output_type": "execute_result"
    }
   ],
   "source": [
    "duplicateDf.shape"
   ]
  },
  {
   "cell_type": "code",
   "execution_count": 41,
   "metadata": {},
   "outputs": [
    {
     "data": {
      "text/plain": [
       "(728704, 7)"
      ]
     },
     "execution_count": 41,
     "metadata": {},
     "output_type": "execute_result"
    }
   ],
   "source": [
    "dupDf.shape"
   ]
  },
  {
   "cell_type": "code",
   "execution_count": 42,
   "metadata": {},
   "outputs": [],
   "source": [
    "diff = dupDf.shape[0] - duplicateDf.shape[0]"
   ]
  },
  {
   "cell_type": "code",
   "execution_count": 43,
   "metadata": {},
   "outputs": [
    {
     "data": {
      "text/plain": [
       "726110"
      ]
     },
     "execution_count": 43,
     "metadata": {},
     "output_type": "execute_result"
    }
   ],
   "source": [
    "diff"
   ]
  },
  {
   "cell_type": "code",
   "execution_count": 44,
   "metadata": {},
   "outputs": [],
   "source": [
    "providersNoDup = dupDf.drop_duplicates(['provider', 'tracking_id', 'date', 'status'], inplace=False)"
   ]
  },
  {
   "cell_type": "code",
   "execution_count": 45,
   "metadata": {},
   "outputs": [
    {
     "data": {
      "text/plain": [
       "(726108, 7)"
      ]
     },
     "execution_count": 45,
     "metadata": {},
     "output_type": "execute_result"
    }
   ],
   "source": [
    "providersNoDup.shape"
   ]
  },
  {
   "cell_type": "markdown",
   "metadata": {},
   "source": [
    "<h2>Precvičovanie</h2>"
   ]
  },
  {
   "cell_type": "markdown",
   "metadata": {},
   "source": [
    "Zgrupme si do novej premennej statuses počet statusov za každého providera"
   ]
  },
  {
   "cell_type": "code",
   "execution_count": null,
   "metadata": {},
   "outputs": [],
   "source": []
  },
  {
   "cell_type": "code",
   "execution_count": null,
   "metadata": {},
   "outputs": [],
   "source": []
  },
  {
   "cell_type": "code",
   "execution_count": null,
   "metadata": {},
   "outputs": [],
   "source": []
  },
  {
   "cell_type": "markdown",
   "metadata": {},
   "source": [
    "Zoraďme si statusy podľa počtu od najvyššieho"
   ]
  },
  {
   "cell_type": "code",
   "execution_count": null,
   "metadata": {},
   "outputs": [],
   "source": []
  },
  {
   "cell_type": "markdown",
   "metadata": {},
   "source": [
    "Vypíšme si najčastejšie sa vyskytujúci status naprieč všetkými providermi"
   ]
  },
  {
   "cell_type": "code",
   "execution_count": null,
   "metadata": {},
   "outputs": [],
   "source": []
  },
  {
   "cell_type": "markdown",
   "metadata": {},
   "source": [
    "Vypíšme si najmenej často sa vyskytujúci status naprieč všetkými providermi"
   ]
  },
  {
   "cell_type": "code",
   "execution_count": null,
   "metadata": {},
   "outputs": [],
   "source": []
  },
  {
   "cell_type": "markdown",
   "metadata": {},
   "source": [
    "Koľko odlišných názvov statusov má najmenej výskytov"
   ]
  },
  {
   "cell_type": "code",
   "execution_count": null,
   "metadata": {},
   "outputs": [],
   "source": []
  },
  {
   "cell_type": "code",
   "execution_count": null,
   "metadata": {},
   "outputs": [],
   "source": []
  },
  {
   "cell_type": "markdown",
   "metadata": {},
   "source": [
    "<h2>Iterácia</h2> "
   ]
  },
  {
   "cell_type": "code",
   "execution_count": null,
   "metadata": {},
   "outputs": [],
   "source": []
  },
  {
   "cell_type": "code",
   "execution_count": null,
   "metadata": {},
   "outputs": [],
   "source": []
  },
  {
   "cell_type": "markdown",
   "metadata": {},
   "source": [
    "<h2>Funkcie v Pythone</h2>\n",
    "\n",
    "<p>Ak chceme v programovaní niečo zautomatizovať, alebo nechceme dookola písať rovnaké bloky kódu, môžeme si napísať vlastné funkcie. S funkciami sme sa už stretli. Boli to rôzne vstavané funkcie Pythonu, či už funkcie (metódy) dátových typov, modulu math alebo základné funkcie ako <code>print()</code>, <code>range()</code> atď. Pre vysvetlenie, ako funkcie fungujú, si ukážeme ako ich vytvárať.\n",
    "\n",
    "Na vytvorenie funkcie v Pythone sa používa slovíčko <code>def</code>, za ktorým nasleduje názov funkcie, okrúhle zátvorky obsahujúce názvy parametrov pre funkciu a dvojbodka, tak ako tomu je aj pri cykloch či podmienkach.\n",
    "\n",
    "<img src=\"https://mpicbg-scicomp.github.io/dlbc17-python-intro/fig/python-function.svg\" />"
   ]
  },
  {
   "cell_type": "code",
   "execution_count": null,
   "metadata": {},
   "outputs": [],
   "source": []
  },
  {
   "cell_type": "markdown",
   "metadata": {},
   "source": [
    "Aby sme videli výsledok funkcie, je potrebné ju zavolať. Volanie sa uskutočňuje pomocou názvu funkcie."
   ]
  },
  {
   "cell_type": "code",
   "execution_count": null,
   "metadata": {},
   "outputs": [],
   "source": []
  },
  {
   "cell_type": "markdown",
   "metadata": {},
   "source": [
    "<h2>Parametre funkcie</h2>"
   ]
  },
  {
   "cell_type": "code",
   "execution_count": null,
   "metadata": {},
   "outputs": [],
   "source": []
  },
  {
   "cell_type": "code",
   "execution_count": null,
   "metadata": {},
   "outputs": [],
   "source": []
  },
  {
   "cell_type": "markdown",
   "metadata": {},
   "source": [
    "<h2>Návratová hodnota funkcie - return</h2>"
   ]
  },
  {
   "cell_type": "code",
   "execution_count": null,
   "metadata": {},
   "outputs": [],
   "source": []
  },
  {
   "cell_type": "code",
   "execution_count": null,
   "metadata": {},
   "outputs": [],
   "source": []
  },
  {
   "cell_type": "markdown",
   "metadata": {},
   "source": [
    "<h2>Voliteľný parameter</h2>"
   ]
  },
  {
   "cell_type": "code",
   "execution_count": null,
   "metadata": {},
   "outputs": [],
   "source": []
  },
  {
   "cell_type": "code",
   "execution_count": null,
   "metadata": {},
   "outputs": [],
   "source": []
  },
  {
   "cell_type": "code",
   "execution_count": null,
   "metadata": {},
   "outputs": [],
   "source": []
  },
  {
   "cell_type": "markdown",
   "metadata": {},
   "source": [
    "<h2>Viacero parametrov</h2>"
   ]
  },
  {
   "cell_type": "code",
   "execution_count": null,
   "metadata": {},
   "outputs": [],
   "source": []
  },
  {
   "cell_type": "code",
   "execution_count": null,
   "metadata": {},
   "outputs": [],
   "source": []
  },
  {
   "cell_type": "markdown",
   "metadata": {},
   "source": [
    "<h2>Funkcia s ľubovoľným počtom parametrov</h2>"
   ]
  },
  {
   "cell_type": "code",
   "execution_count": null,
   "metadata": {},
   "outputs": [],
   "source": []
  },
  {
   "cell_type": "code",
   "execution_count": null,
   "metadata": {},
   "outputs": [],
   "source": []
  },
  {
   "cell_type": "markdown",
   "metadata": {},
   "source": [
    "<h2>Viacero návratových hodnôt</h2>"
   ]
  },
  {
   "cell_type": "code",
   "execution_count": null,
   "metadata": {},
   "outputs": [],
   "source": []
  },
  {
   "cell_type": "code",
   "execution_count": null,
   "metadata": {},
   "outputs": [],
   "source": []
  },
  {
   "cell_type": "code",
   "execution_count": null,
   "metadata": {},
   "outputs": [],
   "source": []
  },
  {
   "cell_type": "markdown",
   "metadata": {},
   "source": [
    "<h2>Rozdiel medzi parametrom a argumentom</h2>"
   ]
  },
  {
   "cell_type": "code",
   "execution_count": null,
   "metadata": {},
   "outputs": [],
   "source": []
  },
  {
   "cell_type": "markdown",
   "metadata": {},
   "source": [
    "name je parametrom funkcie"
   ]
  },
  {
   "cell_type": "code",
   "execution_count": null,
   "metadata": {},
   "outputs": [],
   "source": []
  },
  {
   "cell_type": "markdown",
   "metadata": {},
   "source": [
    "'Sveta' je argumentom funkcie pri jej volaní"
   ]
  },
  {
   "cell_type": "markdown",
   "metadata": {},
   "source": [
    "<h2>Funkcia vs. metóda</h2>\n",
    "\n",
    "<p>Ste zvedaví, prečo voláme niekedy funkciu s bodkou (.) na konci reťazca (ako <code>\"Sveta\".upper()</code>) a niekedy najprv voláme funkciu a reťazec vložíme do zátvoriek (<code>len(\"Sveta\")</code>)? V niektorých prípadoch funkcie patria k objektom, ako napr. <code>upper()</code>, čo môže byt vykonaná len na reťazcoch. V takomto prípade sa tieto funkcie volajú <b>metódy</b>. Inokedy funkcie nepatria k žiadnemu konkrétnemu objektu a môžu byť použité na rôzne typy objektov, rovnako ako <code>len()</code>. Preto zadáme \"Sveta\" ako parameter pre funkciu len.</p>"
   ]
  },
  {
   "cell_type": "code",
   "execution_count": null,
   "metadata": {},
   "outputs": [],
   "source": []
  },
  {
   "cell_type": "code",
   "execution_count": null,
   "metadata": {},
   "outputs": [],
   "source": []
  },
  {
   "cell_type": "code",
   "execution_count": null,
   "metadata": {},
   "outputs": [],
   "source": []
  },
  {
   "cell_type": "code",
   "execution_count": null,
   "metadata": {},
   "outputs": [],
   "source": []
  },
  {
   "cell_type": "markdown",
   "metadata": {},
   "source": [
    "<h2>Úlohy</h2>\n",
    "\n",
    "<ul>\n",
    "    <li>Napíš funkciu s názvom <b>find_numbers</b> , ktorá akceptuje vstupný parameter zoznam obsahujúci ľubovoľný počet hodnôt. Následne prejdi všetkými hodnotami v zozname a: <br />\n",
    "ak je hodnota kladné sudé celé číslo vypíš  “Sudé číslo: {číslo}\" <br />\n",
    "ak je hodnota kladné liché celé číslo vypíš “Liché číslo: {číslo}\" <br />\n",
    "ak je hodnota záporné číslo  vypíš “Chyba, záporné číslo: {číslo}” <br />\n",
    "Vysvetlivky: hodnota v {} je nahradená konkrétnym číslom/hodnotou zo zoznamu<br />\n",
    "        Funkciu aplikuj nad zoznamom [1, -23, 12, 24, 13]</li>\n",
    "    <li>Napíš funkciu s názvom <b>math_dict</b>, ktorá pre argumentom zadané číslo <b>n</b> vytvorí a vráti slovník (dictionary) , kde ako kľúče sú čísla od 1 po n, a ako hodnoty sú ich druhé mocniny</li>\n",
    "</ul>"
   ]
  },
  {
   "cell_type": "code",
   "execution_count": null,
   "metadata": {},
   "outputs": [],
   "source": []
  },
  {
   "cell_type": "code",
   "execution_count": null,
   "metadata": {},
   "outputs": [],
   "source": []
  },
  {
   "cell_type": "code",
   "execution_count": null,
   "metadata": {},
   "outputs": [],
   "source": []
  },
  {
   "cell_type": "code",
   "execution_count": null,
   "metadata": {},
   "outputs": [],
   "source": []
  },
  {
   "cell_type": "markdown",
   "metadata": {},
   "source": [
    "<h2>Použitie funkcií v Pandase</h2>\n",
    "\n",
    "<p>V Pandase si môžeme rovnako ako v Pythone definovať vlastné funkcie. Pre aplikovanie vybranej funkcie nad dátovým setom (riadkom/stĺpcom) používame <code>apply()</code></p>"
   ]
  },
  {
   "cell_type": "code",
   "execution_count": null,
   "metadata": {},
   "outputs": [],
   "source": []
  },
  {
   "cell_type": "code",
   "execution_count": null,
   "metadata": {},
   "outputs": [],
   "source": []
  },
  {
   "cell_type": "code",
   "execution_count": null,
   "metadata": {},
   "outputs": [],
   "source": []
  },
  {
   "cell_type": "code",
   "execution_count": null,
   "metadata": {},
   "outputs": [],
   "source": []
  },
  {
   "cell_type": "code",
   "execution_count": null,
   "metadata": {},
   "outputs": [],
   "source": []
  },
  {
   "cell_type": "markdown",
   "metadata": {},
   "source": [
    "<h2>Úlohy</h2>\n",
    "<ul>\n",
    "    <li>Napíšte funkciu s názvom <b>status_len</b>, ktorá zistí dĺžku statusu v každom riadku a priradí do nového stĺpca s názvom <b>status_length</b></li>\n",
    "</ul>"
   ]
  },
  {
   "cell_type": "code",
   "execution_count": null,
   "metadata": {},
   "outputs": [],
   "source": []
  },
  {
   "cell_type": "code",
   "execution_count": null,
   "metadata": {},
   "outputs": [],
   "source": []
  },
  {
   "cell_type": "code",
   "execution_count": null,
   "metadata": {},
   "outputs": [],
   "source": []
  },
  {
   "cell_type": "code",
   "execution_count": null,
   "metadata": {},
   "outputs": [],
   "source": []
  },
  {
   "cell_type": "code",
   "execution_count": null,
   "metadata": {},
   "outputs": [],
   "source": []
  }
 ],
 "metadata": {
  "kernelspec": {
   "display_name": "Python 3",
   "language": "python",
   "name": "python3"
  },
  "language_info": {
   "codemirror_mode": {
    "name": "ipython",
    "version": 3
   },
   "file_extension": ".py",
   "mimetype": "text/x-python",
   "name": "python",
   "nbconvert_exporter": "python",
   "pygments_lexer": "ipython3",
   "version": "3.6.4"
  }
 },
 "nbformat": 4,
 "nbformat_minor": 2
}
