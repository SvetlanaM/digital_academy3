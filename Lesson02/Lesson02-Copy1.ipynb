{
 "cells": [
  {
   "cell_type": "markdown",
   "metadata": {},
   "source": [
    "<h2>Práca na dátovom zadaní</h2>\n",
    "\n",
    "<p>V rámci kurzu budeme pracovať na zadaní, ktoré znie nasledovne:</p>\n",
    "<ul>\n",
    "    <li>Máme rôzne prepravné spoločnosti doručujúce zásielky. Potrebujeme pre naše potreby preveriť stavy zasielané dopravcami, nadväznosť stavov na seba a identifikovať správny flow. Potrebujeme zistiť, ktorý stav chodí od dopravcov najčastejšie ako prvý, aká je postupnosť stavov, aké sú časy medzi stavmi, aké/či nastanú ďalšie stavy za finálnymi stavmi, chýbajúce hlavné stavy.</li>\n",
    "    <li>Potrebujeme vybrať TOP dopravcu, ktorý doručuje najčastajšie, najrýchlejšie, má najmenej storno zásielok a najmenej meškajúcich doručení</li>\n",
    "    <li>Potrebujeme vedieť identifikovať približný predpokladaný dátum doručenia skôr ako k meškaniu dôjde</li>\n",
    "</ul>\n",
    "\n",
    "<p>Pracovať budeme s dopravcami:</p>\n",
    "<ul>\n",
    "    <li>PPL</li>\n",
    "    <li>Česká Pošta</li>\n",
    "    <li>Geis</li>\n",
    "</ul>\n",
    "\n",
    "<img src=\"http://ak6.picdn.net/shutterstock/videos/24830246/thumb/6.jpg\" />"
   ]
  },
  {
   "cell_type": "markdown",
   "metadata": {},
   "source": [
    "<h2>Ako postupovať?</h2>\n",
    "<p>1. V prvom kroku musíme zistiť a vydefinovať, ako má <strong>vyzerať finálny výstup</strong></p>\n",
    "\n",
    "<h3>Identifikácia vyťaženosti dopravcov</h3>\n",
    "<p>Výstup je požadovaný v nasledovnej podobne: <br />\n",
    "    <i>CSV súbor/Tabuľka v pandase/Tableau, kde budeme vedieť identifikovať dopravcu, dátum, číslo zásielky a úspešnosť doručenia alebo naopak meškajúcich zásielok.</i>\n",
    "</p>\n",
    "<br />\n",
    "<p>2. V druhom kroku musíme zistiť, <strong>ako často</strong> chceme mať hodnoty aktualizované a kto s nimi bude pracovať.</p>\n",
    "<p>Aktualizácia dát: <br />\n",
    "    <i>Denne/Real-time. Na výstup pozerá manažér logistiky, ktorý komunikuje s dopravcami a zároveň zákaznícke centru, ktoré potrebujeme informovať užívateľov o stave ich zásielky.</i>\n",
    "</p>\n",
    "<br />\n",
    "\n",
    "<p>3. V treťom kroku musíme zistiť, čo cieľovému používateľovi táto informácia <strong>prinesie</strong> a ako s ňou bude ďalej pracovať.</p>\n",
    "<p>Hodnota informácie a poznatkov: <br />\n",
    "    <i>Na základe výstupov môže manažér poslať podklady dopravcov o nesprávnom mapovaní stavov, nedodržiavaní načítavania stavov kuriérom, indetifikovať spätné procesy pri vrátení zásielky, zlepšiť užívateľskú skúsenosť pri komunikácii s odberateľom zásielky.</i>\n",
    "</p>\n",
    "<br />"
   ]
  },
  {
   "cell_type": "markdown",
   "metadata": {},
   "source": [
    "<h2>Vstupné dáta</h2>\n",
    "<p>Až v tomto kroku zisťujeme, či máme vstupné dáta pre uspokojenie požiadaviek vymenovaných vyššie. Našimi vstupnými dátami sú stavy doručovania zásielok od vyššie uvedených 3 providerov exportnutých z databázy vo formáte CSV za celé obdobie sledovania.</p>"
   ]
  },
  {
   "cell_type": "code",
   "execution_count": 1,
   "metadata": {},
   "outputs": [],
   "source": [
    "import pandas as pd\n",
    "import numpy as np"
   ]
  },
  {
   "cell_type": "code",
   "execution_count": 2,
   "metadata": {},
   "outputs": [],
   "source": [
    "#Import vstupných dát\n",
    "pplDf = pd.read_csv('../csv/ppl.csv', encoding='utf-8')\n",
    "cpDf = pd.read_csv('../csv/ceska_posta.csv', encoding='utf-8')\n",
    "geisDf = pd.read_csv('../csv/geis.csv', encoding='utf-8')"
   ]
  },
  {
   "cell_type": "code",
   "execution_count": 3,
   "metadata": {},
   "outputs": [
    {
     "data": {
      "text/html": [
       "<div>\n",
       "<style scoped>\n",
       "    .dataframe tbody tr th:only-of-type {\n",
       "        vertical-align: middle;\n",
       "    }\n",
       "\n",
       "    .dataframe tbody tr th {\n",
       "        vertical-align: top;\n",
       "    }\n",
       "\n",
       "    .dataframe thead th {\n",
       "        text-align: right;\n",
       "    }\n",
       "</style>\n",
       "<table border=\"1\" class=\"dataframe\">\n",
       "  <thead>\n",
       "    <tr style=\"text-align: right;\">\n",
       "      <th></th>\n",
       "      <th>tracking_id</th>\n",
       "      <th>date</th>\n",
       "      <th>status</th>\n",
       "      <th>mapped_status</th>\n",
       "      <th>provider</th>\n",
       "    </tr>\n",
       "  </thead>\n",
       "  <tbody>\n",
       "    <tr>\n",
       "      <th>0</th>\n",
       "      <td>1415857</td>\n",
       "      <td>2018-03-07 13:58:02</td>\n",
       "      <td>Doručeno</td>\n",
       "      <td>Doručeno</td>\n",
       "      <td>ppl</td>\n",
       "    </tr>\n",
       "    <tr>\n",
       "      <th>1</th>\n",
       "      <td>1423786</td>\n",
       "      <td>2018-03-23 08:30:27</td>\n",
       "      <td>Výmaz</td>\n",
       "      <td>NaN</td>\n",
       "      <td>ppl</td>\n",
       "    </tr>\n",
       "    <tr>\n",
       "      <th>2</th>\n",
       "      <td>1434235</td>\n",
       "      <td>2018-03-23 08:24:28</td>\n",
       "      <td>Výmaz</td>\n",
       "      <td>NaN</td>\n",
       "      <td>ppl</td>\n",
       "    </tr>\n",
       "    <tr>\n",
       "      <th>3</th>\n",
       "      <td>1513177</td>\n",
       "      <td>2018-03-23 07:00:45</td>\n",
       "      <td>Výmaz</td>\n",
       "      <td>NaN</td>\n",
       "      <td>ppl</td>\n",
       "    </tr>\n",
       "    <tr>\n",
       "      <th>4</th>\n",
       "      <td>1515667</td>\n",
       "      <td>2018-03-23 06:10:26</td>\n",
       "      <td>Výmaz</td>\n",
       "      <td>NaN</td>\n",
       "      <td>ppl</td>\n",
       "    </tr>\n",
       "  </tbody>\n",
       "</table>\n",
       "</div>"
      ],
      "text/plain": [
       "   tracking_id                 date    status mapped_status provider\n",
       "0      1415857  2018-03-07 13:58:02  Doručeno      Doručeno      ppl\n",
       "1      1423786  2018-03-23 08:30:27     Výmaz           NaN      ppl\n",
       "2      1434235  2018-03-23 08:24:28     Výmaz           NaN      ppl\n",
       "3      1513177  2018-03-23 07:00:45     Výmaz           NaN      ppl\n",
       "4      1515667  2018-03-23 06:10:26     Výmaz           NaN      ppl"
      ]
     },
     "execution_count": 3,
     "metadata": {},
     "output_type": "execute_result"
    }
   ],
   "source": [
    "#Preskúmanie vstupných dát\n",
    "pplDf.head()"
   ]
  },
  {
   "cell_type": "markdown",
   "metadata": {},
   "source": [
    "<h2>Úlohy</h2>\n",
    "\n",
    "<ol>\n",
    "    <li>Vypíšte prvých 5 riadkov pre dátový set cpDf a geisDf</li>\n",
    "</ol>"
   ]
  },
  {
   "cell_type": "code",
   "execution_count": 4,
   "metadata": {},
   "outputs": [
    {
     "data": {
      "text/html": [
       "<div>\n",
       "<style scoped>\n",
       "    .dataframe tbody tr th:only-of-type {\n",
       "        vertical-align: middle;\n",
       "    }\n",
       "\n",
       "    .dataframe tbody tr th {\n",
       "        vertical-align: top;\n",
       "    }\n",
       "\n",
       "    .dataframe thead th {\n",
       "        text-align: right;\n",
       "    }\n",
       "</style>\n",
       "<table border=\"1\" class=\"dataframe\">\n",
       "  <thead>\n",
       "    <tr style=\"text-align: right;\">\n",
       "      <th></th>\n",
       "      <th>tracking_id</th>\n",
       "      <th>date</th>\n",
       "      <th>status</th>\n",
       "      <th>mapped_status</th>\n",
       "      <th>provider</th>\n",
       "    </tr>\n",
       "  </thead>\n",
       "  <tbody>\n",
       "    <tr>\n",
       "      <th>0</th>\n",
       "      <td>1430907</td>\n",
       "      <td>2018-04-17 10:30:00</td>\n",
       "      <td>Doručena</td>\n",
       "      <td>Doručeno</td>\n",
       "      <td>ceskaposta</td>\n",
       "    </tr>\n",
       "    <tr>\n",
       "      <th>1</th>\n",
       "      <td>1430956</td>\n",
       "      <td>2018-03-22 12:37:00</td>\n",
       "      <td>pořízeno na pochůzku</td>\n",
       "      <td>Na cestě k příjemci</td>\n",
       "      <td>ceskaposta</td>\n",
       "    </tr>\n",
       "    <tr>\n",
       "      <th>2</th>\n",
       "      <td>1430956</td>\n",
       "      <td>2018-03-22 12:37:00</td>\n",
       "      <td>zásilka byla uložena na pošte (poškozená zásilka)</td>\n",
       "      <td>NaN</td>\n",
       "      <td>ceskaposta</td>\n",
       "    </tr>\n",
       "    <tr>\n",
       "      <th>3</th>\n",
       "      <td>1430956</td>\n",
       "      <td>2018-03-22 12:43:00</td>\n",
       "      <td>Zásilka byla dodána zpět (vrácena) odesílateli</td>\n",
       "      <td>Stornováno</td>\n",
       "      <td>ceskaposta</td>\n",
       "    </tr>\n",
       "    <tr>\n",
       "      <th>4</th>\n",
       "      <td>1431420</td>\n",
       "      <td>2018-04-18 14:45:00</td>\n",
       "      <td>pořízeno na pochůzku</td>\n",
       "      <td>Na cestě k příjemci</td>\n",
       "      <td>ceskaposta</td>\n",
       "    </tr>\n",
       "  </tbody>\n",
       "</table>\n",
       "</div>"
      ],
      "text/plain": [
       "   tracking_id                 date  \\\n",
       "0      1430907  2018-04-17 10:30:00   \n",
       "1      1430956  2018-03-22 12:37:00   \n",
       "2      1430956  2018-03-22 12:37:00   \n",
       "3      1430956  2018-03-22 12:43:00   \n",
       "4      1431420  2018-04-18 14:45:00   \n",
       "\n",
       "                                              status        mapped_status  \\\n",
       "0                                           Doručena             Doručeno   \n",
       "1                               pořízeno na pochůzku  Na cestě k příjemci   \n",
       "2  zásilka byla uložena na pošte (poškozená zásilka)                  NaN   \n",
       "3     Zásilka byla dodána zpět (vrácena) odesílateli           Stornováno   \n",
       "4                               pořízeno na pochůzku  Na cestě k příjemci   \n",
       "\n",
       "     provider  \n",
       "0  ceskaposta  \n",
       "1  ceskaposta  \n",
       "2  ceskaposta  \n",
       "3  ceskaposta  \n",
       "4  ceskaposta  "
      ]
     },
     "execution_count": 4,
     "metadata": {},
     "output_type": "execute_result"
    }
   ],
   "source": [
    "cpDf.head()"
   ]
  },
  {
   "cell_type": "code",
   "execution_count": 5,
   "metadata": {},
   "outputs": [
    {
     "data": {
      "text/html": [
       "<div>\n",
       "<style scoped>\n",
       "    .dataframe tbody tr th:only-of-type {\n",
       "        vertical-align: middle;\n",
       "    }\n",
       "\n",
       "    .dataframe tbody tr th {\n",
       "        vertical-align: top;\n",
       "    }\n",
       "\n",
       "    .dataframe thead th {\n",
       "        text-align: right;\n",
       "    }\n",
       "</style>\n",
       "<table border=\"1\" class=\"dataframe\">\n",
       "  <thead>\n",
       "    <tr style=\"text-align: right;\">\n",
       "      <th></th>\n",
       "      <th>tracking_id</th>\n",
       "      <th>date</th>\n",
       "      <th>status</th>\n",
       "      <th>mapped_status</th>\n",
       "      <th>provider</th>\n",
       "    </tr>\n",
       "  </thead>\n",
       "  <tbody>\n",
       "    <tr>\n",
       "      <th>0</th>\n",
       "      <td>1613267</td>\n",
       "      <td>2018-03-19 20:03:30</td>\n",
       "      <td>Naložení na HB</td>\n",
       "      <td>NaN</td>\n",
       "      <td>geis</td>\n",
       "    </tr>\n",
       "    <tr>\n",
       "      <th>1</th>\n",
       "      <td>1628382</td>\n",
       "      <td>2018-03-05 09:06:00</td>\n",
       "      <td>Příjem na depo</td>\n",
       "      <td>Převzato dopravcem</td>\n",
       "      <td>geis</td>\n",
       "    </tr>\n",
       "    <tr>\n",
       "      <th>2</th>\n",
       "      <td>1628382</td>\n",
       "      <td>2018-03-05 10:15:59</td>\n",
       "      <td>Zpět odesílateli</td>\n",
       "      <td>Stornováno</td>\n",
       "      <td>geis</td>\n",
       "    </tr>\n",
       "    <tr>\n",
       "      <th>3</th>\n",
       "      <td>1632239</td>\n",
       "      <td>2018-03-07 16:31:53</td>\n",
       "      <td>Příjem na depo</td>\n",
       "      <td>Převzato dopravcem</td>\n",
       "      <td>geis</td>\n",
       "    </tr>\n",
       "    <tr>\n",
       "      <th>4</th>\n",
       "      <td>1632239</td>\n",
       "      <td>2018-03-07 16:33:03</td>\n",
       "      <td>Příjem na depo</td>\n",
       "      <td>Převzato dopravcem</td>\n",
       "      <td>geis</td>\n",
       "    </tr>\n",
       "  </tbody>\n",
       "</table>\n",
       "</div>"
      ],
      "text/plain": [
       "   tracking_id                 date            status       mapped_status  \\\n",
       "0      1613267  2018-03-19 20:03:30    Naložení na HB                 NaN   \n",
       "1      1628382  2018-03-05 09:06:00    Příjem na depo  Převzato dopravcem   \n",
       "2      1628382  2018-03-05 10:15:59  Zpět odesílateli          Stornováno   \n",
       "3      1632239  2018-03-07 16:31:53    Příjem na depo  Převzato dopravcem   \n",
       "4      1632239  2018-03-07 16:33:03    Příjem na depo  Převzato dopravcem   \n",
       "\n",
       "  provider  \n",
       "0     geis  \n",
       "1     geis  \n",
       "2     geis  \n",
       "3     geis  \n",
       "4     geis  "
      ]
     },
     "execution_count": 5,
     "metadata": {},
     "output_type": "execute_result"
    }
   ],
   "source": [
    "geisDf.head()"
   ]
  },
  {
   "cell_type": "markdown",
   "metadata": {},
   "source": [
    "<h2>Úlohy</h2>\n",
    "\n",
    "<ol>\n",
    "    <li>Vypíšte za všetky dávoé sety koľko majú riadkov a stĺcov. (Pomôcka: shape)</li>\n",
    "</ol>"
   ]
  },
  {
   "cell_type": "code",
   "execution_count": 6,
   "metadata": {},
   "outputs": [
    {
     "data": {
      "text/plain": [
       "((520229, 5), (175891, 5), (32584, 5))"
      ]
     },
     "execution_count": 6,
     "metadata": {},
     "output_type": "execute_result"
    }
   ],
   "source": [
    "pplDf.shape, cpDf.shape, geisDf.shape"
   ]
  },
  {
   "cell_type": "markdown",
   "metadata": {},
   "source": [
    "<h2>Predstavenie dátového setu</h2>\n",
    "\n",
    "<p>Dátový set obsahuje informácie o:\n",
    "<ul>\n",
    "    <li>tracking_id - autoinkrementálne tracking id v databáze</li>\n",
    "    <li>date - dátum stavu</li>\n",
    "    <li>status - stav od dopravcu</li>\n",
    "    <li>mapped_status - náš namapovaný stav zobrazovaný zákazníkovi k danému stavu</li>\n",
    "    <li>provider - názov providera</li>\n",
    "</ul>\n",
    "</p>"
   ]
  },
  {
   "cell_type": "markdown",
   "metadata": {},
   "source": [
    "<h2>Spojenie dátových setov do jedného - UNION/UNION ALL</h2>\n",
    "\n",
    "<p>Z SQL už poznáte príkazy <code>UNION</code> (spojí dátový set bez duplicít) alebo <code>UNION ALL</code> (spojí dátový set vrátane duplicít v danom sete). <br />\n",
    "Na podobnom princípe je možné spájať dateframy aj v pandase.\n",
    "</p>\n",
    "\n",
    "<img src=\"https://1.bp.blogspot.com/-vy4XjCrfocg/V9RMi0yZ0EI/AAAAAAAAAl8/nxZ5vYsElQgPhCTiv92a90q9kxcvPV7gACLcB/s1600/1.gif\" />"
   ]
  },
  {
   "cell_type": "markdown",
   "metadata": {},
   "source": [
    "<h2>Concat a Append</h2>\n",
    "\n",
    "<p>V Pandase je možné spájať dátové sety (dateframy) viacerými spôsobmi. "
   ]
  },
  {
   "cell_type": "code",
   "execution_count": 7,
   "metadata": {},
   "outputs": [],
   "source": [
    "providerDfT = pd.concat([pplDf, cpDf, geisDf])"
   ]
  },
  {
   "cell_type": "code",
   "execution_count": 8,
   "metadata": {},
   "outputs": [
    {
     "data": {
      "text/html": [
       "<div>\n",
       "<style scoped>\n",
       "    .dataframe tbody tr th:only-of-type {\n",
       "        vertical-align: middle;\n",
       "    }\n",
       "\n",
       "    .dataframe tbody tr th {\n",
       "        vertical-align: top;\n",
       "    }\n",
       "\n",
       "    .dataframe thead th {\n",
       "        text-align: right;\n",
       "    }\n",
       "</style>\n",
       "<table border=\"1\" class=\"dataframe\">\n",
       "  <thead>\n",
       "    <tr style=\"text-align: right;\">\n",
       "      <th></th>\n",
       "      <th>tracking_id</th>\n",
       "      <th>date</th>\n",
       "      <th>status</th>\n",
       "      <th>mapped_status</th>\n",
       "      <th>provider</th>\n",
       "    </tr>\n",
       "  </thead>\n",
       "  <tbody>\n",
       "    <tr>\n",
       "      <th>32579</th>\n",
       "      <td>1876214</td>\n",
       "      <td>2018-04-27 20:12:42</td>\n",
       "      <td>Naložení na HB</td>\n",
       "      <td>NaN</td>\n",
       "      <td>geis</td>\n",
       "    </tr>\n",
       "    <tr>\n",
       "      <th>32580</th>\n",
       "      <td>1876214</td>\n",
       "      <td>2018-04-28 00:25:36</td>\n",
       "      <td>Příjem na depo</td>\n",
       "      <td>Převzato dopravcem</td>\n",
       "      <td>geis</td>\n",
       "    </tr>\n",
       "    <tr>\n",
       "      <th>32581</th>\n",
       "      <td>1876214</td>\n",
       "      <td>2018-04-28 03:47:33</td>\n",
       "      <td>Naložení na HB</td>\n",
       "      <td>NaN</td>\n",
       "      <td>geis</td>\n",
       "    </tr>\n",
       "    <tr>\n",
       "      <th>32582</th>\n",
       "      <td>1876214</td>\n",
       "      <td>2018-04-30 08:08:12</td>\n",
       "      <td>Příjem na depo</td>\n",
       "      <td>Převzato dopravcem</td>\n",
       "      <td>geis</td>\n",
       "    </tr>\n",
       "    <tr>\n",
       "      <th>32583</th>\n",
       "      <td>1876214</td>\n",
       "      <td>2018-04-30 09:58:00</td>\n",
       "      <td>Naložení na rozvoz</td>\n",
       "      <td>Na cestě k příjemci</td>\n",
       "      <td>geis</td>\n",
       "    </tr>\n",
       "  </tbody>\n",
       "</table>\n",
       "</div>"
      ],
      "text/plain": [
       "       tracking_id                 date              status  \\\n",
       "32579      1876214  2018-04-27 20:12:42      Naložení na HB   \n",
       "32580      1876214  2018-04-28 00:25:36      Příjem na depo   \n",
       "32581      1876214  2018-04-28 03:47:33      Naložení na HB   \n",
       "32582      1876214  2018-04-30 08:08:12      Příjem na depo   \n",
       "32583      1876214  2018-04-30 09:58:00  Naložení na rozvoz   \n",
       "\n",
       "             mapped_status provider  \n",
       "32579                  NaN     geis  \n",
       "32580   Převzato dopravcem     geis  \n",
       "32581                  NaN     geis  \n",
       "32582   Převzato dopravcem     geis  \n",
       "32583  Na cestě k příjemci     geis  "
      ]
     },
     "execution_count": 8,
     "metadata": {},
     "output_type": "execute_result"
    }
   ],
   "source": [
    "providerDfT.tail()"
   ]
  },
  {
   "cell_type": "code",
   "execution_count": 9,
   "metadata": {},
   "outputs": [
    {
     "data": {
      "text/plain": [
       "(728704, 5)"
      ]
     },
     "execution_count": 9,
     "metadata": {},
     "output_type": "execute_result"
    }
   ],
   "source": [
    "providerDfT.shape"
   ]
  },
  {
   "cell_type": "markdown",
   "metadata": {},
   "source": [
    "<h3>Na čo si dať pozor?</h3>\n",
    "\n",
    "<p>Pri spájaní dátových setov cez pd.concat sa vytvoria duplicitné indexy, ako vidíme aj v našom príklade. Pre každý dátový set, ktorý sme spájali sa začalo indexovať opäť cez nulu, preto finálny index netvorí číslo 728703 ale číslo menšie. Preto je potrebné pri spájaní dát nastaviť <b>index</b>.</p>"
   ]
  },
  {
   "cell_type": "code",
   "execution_count": 10,
   "metadata": {},
   "outputs": [],
   "source": [
    "providerDf = pd.concat([pplDf, cpDf, geisDf], ignore_index = True)"
   ]
  },
  {
   "cell_type": "code",
   "execution_count": 11,
   "metadata": {},
   "outputs": [
    {
     "data": {
      "text/plain": [
       "(728704, 5)"
      ]
     },
     "execution_count": 11,
     "metadata": {},
     "output_type": "execute_result"
    }
   ],
   "source": [
    "providerDf.shape"
   ]
  },
  {
   "cell_type": "code",
   "execution_count": 12,
   "metadata": {},
   "outputs": [
    {
     "data": {
      "text/html": [
       "<div>\n",
       "<style scoped>\n",
       "    .dataframe tbody tr th:only-of-type {\n",
       "        vertical-align: middle;\n",
       "    }\n",
       "\n",
       "    .dataframe tbody tr th {\n",
       "        vertical-align: top;\n",
       "    }\n",
       "\n",
       "    .dataframe thead th {\n",
       "        text-align: right;\n",
       "    }\n",
       "</style>\n",
       "<table border=\"1\" class=\"dataframe\">\n",
       "  <thead>\n",
       "    <tr style=\"text-align: right;\">\n",
       "      <th></th>\n",
       "      <th>tracking_id</th>\n",
       "      <th>date</th>\n",
       "      <th>status</th>\n",
       "      <th>mapped_status</th>\n",
       "      <th>provider</th>\n",
       "    </tr>\n",
       "  </thead>\n",
       "  <tbody>\n",
       "    <tr>\n",
       "      <th>728699</th>\n",
       "      <td>1876214</td>\n",
       "      <td>2018-04-27 20:12:42</td>\n",
       "      <td>Naložení na HB</td>\n",
       "      <td>NaN</td>\n",
       "      <td>geis</td>\n",
       "    </tr>\n",
       "    <tr>\n",
       "      <th>728700</th>\n",
       "      <td>1876214</td>\n",
       "      <td>2018-04-28 00:25:36</td>\n",
       "      <td>Příjem na depo</td>\n",
       "      <td>Převzato dopravcem</td>\n",
       "      <td>geis</td>\n",
       "    </tr>\n",
       "    <tr>\n",
       "      <th>728701</th>\n",
       "      <td>1876214</td>\n",
       "      <td>2018-04-28 03:47:33</td>\n",
       "      <td>Naložení na HB</td>\n",
       "      <td>NaN</td>\n",
       "      <td>geis</td>\n",
       "    </tr>\n",
       "    <tr>\n",
       "      <th>728702</th>\n",
       "      <td>1876214</td>\n",
       "      <td>2018-04-30 08:08:12</td>\n",
       "      <td>Příjem na depo</td>\n",
       "      <td>Převzato dopravcem</td>\n",
       "      <td>geis</td>\n",
       "    </tr>\n",
       "    <tr>\n",
       "      <th>728703</th>\n",
       "      <td>1876214</td>\n",
       "      <td>2018-04-30 09:58:00</td>\n",
       "      <td>Naložení na rozvoz</td>\n",
       "      <td>Na cestě k příjemci</td>\n",
       "      <td>geis</td>\n",
       "    </tr>\n",
       "  </tbody>\n",
       "</table>\n",
       "</div>"
      ],
      "text/plain": [
       "        tracking_id                 date              status  \\\n",
       "728699      1876214  2018-04-27 20:12:42      Naložení na HB   \n",
       "728700      1876214  2018-04-28 00:25:36      Příjem na depo   \n",
       "728701      1876214  2018-04-28 03:47:33      Naložení na HB   \n",
       "728702      1876214  2018-04-30 08:08:12      Příjem na depo   \n",
       "728703      1876214  2018-04-30 09:58:00  Naložení na rozvoz   \n",
       "\n",
       "              mapped_status provider  \n",
       "728699                  NaN     geis  \n",
       "728700   Převzato dopravcem     geis  \n",
       "728701                  NaN     geis  \n",
       "728702   Převzato dopravcem     geis  \n",
       "728703  Na cestě k příjemci     geis  "
      ]
     },
     "execution_count": 12,
     "metadata": {},
     "output_type": "execute_result"
    }
   ],
   "source": [
    "providerDf.tail()"
   ]
  },
  {
   "cell_type": "markdown",
   "metadata": {},
   "source": [
    "<h2>Základný pohľad na dáta</h2>"
   ]
  },
  {
   "cell_type": "markdown",
   "metadata": {},
   "source": [
    "<h2>Úlohy</h2>\n",
    "\n",
    "<ol>\n",
    "    <li>Vypíšte si základne informácie o dátovom sete providerDf, cez .info()</li>\n",
    "</ol>"
   ]
  },
  {
   "cell_type": "code",
   "execution_count": 13,
   "metadata": {},
   "outputs": [
    {
     "name": "stdout",
     "output_type": "stream",
     "text": [
      "<class 'pandas.core.frame.DataFrame'>\n",
      "RangeIndex: 728704 entries, 0 to 728703\n",
      "Data columns (total 5 columns):\n",
      "tracking_id      728704 non-null int64\n",
      "date             728704 non-null object\n",
      "status           728704 non-null object\n",
      "mapped_status    715945 non-null object\n",
      "provider         728704 non-null object\n",
      "dtypes: int64(1), object(4)\n",
      "memory usage: 27.8+ MB\n"
     ]
    }
   ],
   "source": [
    "providerDf.info()"
   ]
  },
  {
   "cell_type": "markdown",
   "metadata": {},
   "source": [
    "Z vyššie vypísaných informácií vidíme hneď dva hlavné problémy\n",
    "<ul>\n",
    "    <li>stĺpec mapped_status obsahuje nulové/prázdne hodnoty. Musíme ako analytici zistiť, či je to zámerom alebo\n",
    "        treba s tým nejako pracovať a vysporiadať sa.</li>\n",
    "    <li>stĺpec date má dátový typ object, čo je textová hodnota, namiesto dátumu.</li>\n",
    "</ul>"
   ]
  },
  {
   "cell_type": "markdown",
   "metadata": {},
   "source": [
    "<h2>Práca s chýbajúcimi dátami</h2>\n",
    "\n",
    "<p>V praxi sa pomerne často stretávame s tým, že nám v dátovom sete chýbajú určité hodnoty, s ktorými buď potrebujeme pracovať, alebo nepotrebujeme, no mali by sme s chýbajúcimi hodnotami počítať už od začiatku a vedieť, že o dané hodnoty, budú výsledky pri interpretácii dát skreslené. <br /><br />\n",
    "V Pandase, ale aj obecne v dátovej analýze je možné sa vysporiadať rôznymi spôsobmi s chýbajúcimi dátami:\n",
    "    <ul>\n",
    "        <li>Nahradiť ich za iné defaultné hodnoty</li>\n",
    "        <li>Odstrániť všetky riadky s chýbajúcimi dátami z dátového setu</li>\n",
    "        <li>Vyčleniť ich ako prázdne dáta a vykresliť samostatne alebo v rámci daného grafu</li>\n",
    "    </ul>\n",
    "</p>"
   ]
  },
  {
   "cell_type": "markdown",
   "metadata": {},
   "source": [
    "Pandas pracuje s <code>NULL</code> hodnotami dvoma spôsobmi\n",
    "    <ul>\n",
    "        <li>ako <code>NaN</code> hodnota - je vyplenená defaultne Pandasom a znamená \"chýbajúca hodnota\". Je reprezentovaná ako float číslo (desatiné číslo) na pozadí pri práci s dátami.</li>\n",
    "        <li>ako Python <code>None</code> objekt - vychádza defaultne s Pythonu. Je reprezentovaný ako NoneType a nie je možné v Pandase nad ním vykonávať mnoho operácií, ktoré sú defaultne dostupné nad NaN hodnotou, preto je menej odporúčaním prístupom pri práci s prázdnymi hodnotami. </li>\n",
    "    </ul>\n",
    "    \n",
    "    \n",
    "</p>"
   ]
  },
  {
   "cell_type": "markdown",
   "metadata": {},
   "source": [
    "<h2>Operácie s chýbajúci hodnotami v Pandase</h2>\n",
    "\n",
    "<p>Môžeme vykonávať nasledujúce operácie (volať Pandas funkcie)</p>\n",
    "\n",
    "<ul>\n",
    "    <li><code>isnull()</code> - vráti dáta, kde sú chýbajúce hodnoty</li>\n",
    "    <li><code>notnull()</code> - opak isnull(), vráti dáta, kde hodnoty nechýbajú</li>\n",
    "    <li><code>dropna()</code> - vraca dátový set očistený od chýbajúcich dát</li>\n",
    "    <li><code>dropna(axis=1)</code> - odstráni všetky stĺpce, ktoré obsahujú chýbajúce dáta</li>\n",
    "    <li><code>fillna(x)</code> - nahradí všetky chýbajúce dáta a hodnoty , hodnotou x</li>\n",
    "</ul>"
   ]
  },
  {
   "cell_type": "code",
   "execution_count": 14,
   "metadata": {},
   "outputs": [
    {
     "data": {
      "text/html": [
       "<div>\n",
       "<style scoped>\n",
       "    .dataframe tbody tr th:only-of-type {\n",
       "        vertical-align: middle;\n",
       "    }\n",
       "\n",
       "    .dataframe tbody tr th {\n",
       "        vertical-align: top;\n",
       "    }\n",
       "\n",
       "    .dataframe thead th {\n",
       "        text-align: right;\n",
       "    }\n",
       "</style>\n",
       "<table border=\"1\" class=\"dataframe\">\n",
       "  <thead>\n",
       "    <tr style=\"text-align: right;\">\n",
       "      <th></th>\n",
       "      <th>tracking_id</th>\n",
       "      <th>date</th>\n",
       "      <th>status</th>\n",
       "      <th>mapped_status</th>\n",
       "      <th>provider</th>\n",
       "    </tr>\n",
       "  </thead>\n",
       "  <tbody>\n",
       "    <tr>\n",
       "      <th>0</th>\n",
       "      <td>False</td>\n",
       "      <td>False</td>\n",
       "      <td>False</td>\n",
       "      <td>False</td>\n",
       "      <td>False</td>\n",
       "    </tr>\n",
       "    <tr>\n",
       "      <th>1</th>\n",
       "      <td>False</td>\n",
       "      <td>False</td>\n",
       "      <td>False</td>\n",
       "      <td>True</td>\n",
       "      <td>False</td>\n",
       "    </tr>\n",
       "    <tr>\n",
       "      <th>2</th>\n",
       "      <td>False</td>\n",
       "      <td>False</td>\n",
       "      <td>False</td>\n",
       "      <td>True</td>\n",
       "      <td>False</td>\n",
       "    </tr>\n",
       "    <tr>\n",
       "      <th>3</th>\n",
       "      <td>False</td>\n",
       "      <td>False</td>\n",
       "      <td>False</td>\n",
       "      <td>True</td>\n",
       "      <td>False</td>\n",
       "    </tr>\n",
       "    <tr>\n",
       "      <th>4</th>\n",
       "      <td>False</td>\n",
       "      <td>False</td>\n",
       "      <td>False</td>\n",
       "      <td>True</td>\n",
       "      <td>False</td>\n",
       "    </tr>\n",
       "  </tbody>\n",
       "</table>\n",
       "</div>"
      ],
      "text/plain": [
       "   tracking_id   date  status  mapped_status  provider\n",
       "0        False  False   False          False     False\n",
       "1        False  False   False           True     False\n",
       "2        False  False   False           True     False\n",
       "3        False  False   False           True     False\n",
       "4        False  False   False           True     False"
      ]
     },
     "execution_count": 14,
     "metadata": {},
     "output_type": "execute_result"
    }
   ],
   "source": [
    "providerDf.isnull().head()"
   ]
  },
  {
   "cell_type": "markdown",
   "metadata": {},
   "source": [
    "<h2>Úlohy</h2>\n",
    "\n",
    "<ol>\n",
    "    <li>Vypíšte z dátového setu providerDf informácie o prázdnych hodnotách pomocou <code>.notnull()</code></li>\n",
    "</ol>"
   ]
  },
  {
   "cell_type": "code",
   "execution_count": 15,
   "metadata": {},
   "outputs": [
    {
     "data": {
      "text/html": [
       "<div>\n",
       "<style scoped>\n",
       "    .dataframe tbody tr th:only-of-type {\n",
       "        vertical-align: middle;\n",
       "    }\n",
       "\n",
       "    .dataframe tbody tr th {\n",
       "        vertical-align: top;\n",
       "    }\n",
       "\n",
       "    .dataframe thead th {\n",
       "        text-align: right;\n",
       "    }\n",
       "</style>\n",
       "<table border=\"1\" class=\"dataframe\">\n",
       "  <thead>\n",
       "    <tr style=\"text-align: right;\">\n",
       "      <th></th>\n",
       "      <th>tracking_id</th>\n",
       "      <th>date</th>\n",
       "      <th>status</th>\n",
       "      <th>mapped_status</th>\n",
       "      <th>provider</th>\n",
       "    </tr>\n",
       "  </thead>\n",
       "  <tbody>\n",
       "    <tr>\n",
       "      <th>0</th>\n",
       "      <td>True</td>\n",
       "      <td>True</td>\n",
       "      <td>True</td>\n",
       "      <td>True</td>\n",
       "      <td>True</td>\n",
       "    </tr>\n",
       "    <tr>\n",
       "      <th>1</th>\n",
       "      <td>True</td>\n",
       "      <td>True</td>\n",
       "      <td>True</td>\n",
       "      <td>False</td>\n",
       "      <td>True</td>\n",
       "    </tr>\n",
       "    <tr>\n",
       "      <th>2</th>\n",
       "      <td>True</td>\n",
       "      <td>True</td>\n",
       "      <td>True</td>\n",
       "      <td>False</td>\n",
       "      <td>True</td>\n",
       "    </tr>\n",
       "    <tr>\n",
       "      <th>3</th>\n",
       "      <td>True</td>\n",
       "      <td>True</td>\n",
       "      <td>True</td>\n",
       "      <td>False</td>\n",
       "      <td>True</td>\n",
       "    </tr>\n",
       "    <tr>\n",
       "      <th>4</th>\n",
       "      <td>True</td>\n",
       "      <td>True</td>\n",
       "      <td>True</td>\n",
       "      <td>False</td>\n",
       "      <td>True</td>\n",
       "    </tr>\n",
       "  </tbody>\n",
       "</table>\n",
       "</div>"
      ],
      "text/plain": [
       "   tracking_id  date  status  mapped_status  provider\n",
       "0         True  True    True           True      True\n",
       "1         True  True    True          False      True\n",
       "2         True  True    True          False      True\n",
       "3         True  True    True          False      True\n",
       "4         True  True    True          False      True"
      ]
     },
     "execution_count": 15,
     "metadata": {},
     "output_type": "execute_result"
    }
   ],
   "source": [
    "providerDf.notnull().head()"
   ]
  },
  {
   "cell_type": "code",
   "execution_count": 16,
   "metadata": {},
   "outputs": [
    {
     "data": {
      "text/plain": [
       "tracking_id          0\n",
       "date                 0\n",
       "status               0\n",
       "mapped_status    12759\n",
       "provider             0\n",
       "dtype: int64"
      ]
     },
     "execution_count": 16,
     "metadata": {},
     "output_type": "execute_result"
    }
   ],
   "source": [
    "providerDf.isnull().sum()"
   ]
  },
  {
   "cell_type": "markdown",
   "metadata": {},
   "source": [
    "<h2>Vyplnenie prázdnych hodnôt</h2>"
   ]
  },
  {
   "cell_type": "code",
   "execution_count": 17,
   "metadata": {},
   "outputs": [],
   "source": [
    "providerDf = providerDf.fillna('Nezadane')"
   ]
  },
  {
   "cell_type": "code",
   "execution_count": 18,
   "metadata": {},
   "outputs": [
    {
     "data": {
      "text/html": [
       "<div>\n",
       "<style scoped>\n",
       "    .dataframe tbody tr th:only-of-type {\n",
       "        vertical-align: middle;\n",
       "    }\n",
       "\n",
       "    .dataframe tbody tr th {\n",
       "        vertical-align: top;\n",
       "    }\n",
       "\n",
       "    .dataframe thead th {\n",
       "        text-align: right;\n",
       "    }\n",
       "</style>\n",
       "<table border=\"1\" class=\"dataframe\">\n",
       "  <thead>\n",
       "    <tr style=\"text-align: right;\">\n",
       "      <th></th>\n",
       "      <th>tracking_id</th>\n",
       "      <th>date</th>\n",
       "      <th>status</th>\n",
       "      <th>mapped_status</th>\n",
       "      <th>provider</th>\n",
       "    </tr>\n",
       "  </thead>\n",
       "  <tbody>\n",
       "    <tr>\n",
       "      <th>728699</th>\n",
       "      <td>1876214</td>\n",
       "      <td>2018-04-27 20:12:42</td>\n",
       "      <td>Naložení na HB</td>\n",
       "      <td>Nezadane</td>\n",
       "      <td>geis</td>\n",
       "    </tr>\n",
       "    <tr>\n",
       "      <th>728700</th>\n",
       "      <td>1876214</td>\n",
       "      <td>2018-04-28 00:25:36</td>\n",
       "      <td>Příjem na depo</td>\n",
       "      <td>Převzato dopravcem</td>\n",
       "      <td>geis</td>\n",
       "    </tr>\n",
       "    <tr>\n",
       "      <th>728701</th>\n",
       "      <td>1876214</td>\n",
       "      <td>2018-04-28 03:47:33</td>\n",
       "      <td>Naložení na HB</td>\n",
       "      <td>Nezadane</td>\n",
       "      <td>geis</td>\n",
       "    </tr>\n",
       "    <tr>\n",
       "      <th>728702</th>\n",
       "      <td>1876214</td>\n",
       "      <td>2018-04-30 08:08:12</td>\n",
       "      <td>Příjem na depo</td>\n",
       "      <td>Převzato dopravcem</td>\n",
       "      <td>geis</td>\n",
       "    </tr>\n",
       "    <tr>\n",
       "      <th>728703</th>\n",
       "      <td>1876214</td>\n",
       "      <td>2018-04-30 09:58:00</td>\n",
       "      <td>Naložení na rozvoz</td>\n",
       "      <td>Na cestě k příjemci</td>\n",
       "      <td>geis</td>\n",
       "    </tr>\n",
       "  </tbody>\n",
       "</table>\n",
       "</div>"
      ],
      "text/plain": [
       "        tracking_id                 date              status  \\\n",
       "728699      1876214  2018-04-27 20:12:42      Naložení na HB   \n",
       "728700      1876214  2018-04-28 00:25:36      Příjem na depo   \n",
       "728701      1876214  2018-04-28 03:47:33      Naložení na HB   \n",
       "728702      1876214  2018-04-30 08:08:12      Příjem na depo   \n",
       "728703      1876214  2018-04-30 09:58:00  Naložení na rozvoz   \n",
       "\n",
       "              mapped_status provider  \n",
       "728699             Nezadane     geis  \n",
       "728700   Převzato dopravcem     geis  \n",
       "728701             Nezadane     geis  \n",
       "728702   Převzato dopravcem     geis  \n",
       "728703  Na cestě k příjemci     geis  "
      ]
     },
     "execution_count": 18,
     "metadata": {},
     "output_type": "execute_result"
    }
   ],
   "source": [
    "providerDf.tail()"
   ]
  },
  {
   "cell_type": "markdown",
   "metadata": {},
   "source": [
    "<h2>Úlohy</h2>\n",
    "\n",
    "<ol>\n",
    "    <li>Vypíšte si z dátového setu providerDf počet riadkov a stĺpcov cez <code>.shape</code>, ale iba pre hodnoty, ktoré majú v stĺpci mapped_status <code>Nezadane</code></li>\n",
    "</ol>"
   ]
  },
  {
   "cell_type": "code",
   "execution_count": 19,
   "metadata": {},
   "outputs": [
    {
     "data": {
      "text/plain": [
       "(12759, 5)"
      ]
     },
     "execution_count": 19,
     "metadata": {},
     "output_type": "execute_result"
    }
   ],
   "source": [
    "providerDf[providerDf[\"mapped_status\"] == 'Nezadane'].shape"
   ]
  },
  {
   "cell_type": "markdown",
   "metadata": {},
   "source": [
    "<h2>Mazanie prázdnych hodnôt</h2>"
   ]
  },
  {
   "cell_type": "code",
   "execution_count": 20,
   "metadata": {},
   "outputs": [
    {
     "data": {
      "text/plain": [
       "728704"
      ]
     },
     "execution_count": 20,
     "metadata": {},
     "output_type": "execute_result"
    }
   ],
   "source": [
    "providerDfT.shape[0]"
   ]
  },
  {
   "cell_type": "code",
   "execution_count": 21,
   "metadata": {},
   "outputs": [],
   "source": [
    "delDf = providerDfT.dropna()"
   ]
  },
  {
   "cell_type": "code",
   "execution_count": 22,
   "metadata": {},
   "outputs": [
    {
     "data": {
      "text/plain": [
       "715945"
      ]
     },
     "execution_count": 22,
     "metadata": {},
     "output_type": "execute_result"
    }
   ],
   "source": [
    "delDf.shape[0]"
   ]
  },
  {
   "cell_type": "markdown",
   "metadata": {},
   "source": [
    "<h2>Úprava dátumu</h2>"
   ]
  },
  {
   "cell_type": "code",
   "execution_count": 23,
   "metadata": {},
   "outputs": [],
   "source": [
    "providerDf[\"date\"] = pd.to_datetime(providerDf[\"date\"])"
   ]
  },
  {
   "cell_type": "code",
   "execution_count": 24,
   "metadata": {},
   "outputs": [
    {
     "name": "stdout",
     "output_type": "stream",
     "text": [
      "<class 'pandas.core.frame.DataFrame'>\n",
      "RangeIndex: 728704 entries, 0 to 728703\n",
      "Data columns (total 5 columns):\n",
      "tracking_id      728704 non-null int64\n",
      "date             728704 non-null datetime64[ns]\n",
      "status           728704 non-null object\n",
      "mapped_status    728704 non-null object\n",
      "provider         728704 non-null object\n",
      "dtypes: datetime64[ns](1), int64(1), object(3)\n",
      "memory usage: 27.8+ MB\n"
     ]
    }
   ],
   "source": [
    "providerDf.info()"
   ]
  },
  {
   "cell_type": "markdown",
   "metadata": {},
   "source": [
    "<h2>Triedenie/Zoraďovanie dát</h2>\n",
    "\n",
    "<p>Na zoraďovanie dát je možné využiť pandas funkciu <code>sort_values()</code></p>"
   ]
  },
  {
   "cell_type": "code",
   "execution_count": 25,
   "metadata": {},
   "outputs": [
    {
     "data": {
      "text/html": [
       "<div>\n",
       "<style scoped>\n",
       "    .dataframe tbody tr th:only-of-type {\n",
       "        vertical-align: middle;\n",
       "    }\n",
       "\n",
       "    .dataframe tbody tr th {\n",
       "        vertical-align: top;\n",
       "    }\n",
       "\n",
       "    .dataframe thead th {\n",
       "        text-align: right;\n",
       "    }\n",
       "</style>\n",
       "<table border=\"1\" class=\"dataframe\">\n",
       "  <thead>\n",
       "    <tr style=\"text-align: right;\">\n",
       "      <th></th>\n",
       "      <th>tracking_id</th>\n",
       "      <th>date</th>\n",
       "      <th>status</th>\n",
       "      <th>mapped_status</th>\n",
       "      <th>provider</th>\n",
       "    </tr>\n",
       "  </thead>\n",
       "  <tbody>\n",
       "    <tr>\n",
       "      <th>0</th>\n",
       "      <td>1415857</td>\n",
       "      <td>2018-03-07 13:58:02</td>\n",
       "      <td>Doručeno</td>\n",
       "      <td>Doručeno</td>\n",
       "      <td>ppl</td>\n",
       "    </tr>\n",
       "    <tr>\n",
       "      <th>1</th>\n",
       "      <td>1423786</td>\n",
       "      <td>2018-03-23 08:30:27</td>\n",
       "      <td>Výmaz</td>\n",
       "      <td>Nezadane</td>\n",
       "      <td>ppl</td>\n",
       "    </tr>\n",
       "    <tr>\n",
       "      <th>520229</th>\n",
       "      <td>1430907</td>\n",
       "      <td>2018-04-17 10:30:00</td>\n",
       "      <td>Doručena</td>\n",
       "      <td>Doručeno</td>\n",
       "      <td>ceskaposta</td>\n",
       "    </tr>\n",
       "    <tr>\n",
       "      <th>520231</th>\n",
       "      <td>1430956</td>\n",
       "      <td>2018-03-22 12:37:00</td>\n",
       "      <td>zásilka byla uložena na pošte (poškozená zásilka)</td>\n",
       "      <td>Nezadane</td>\n",
       "      <td>ceskaposta</td>\n",
       "    </tr>\n",
       "    <tr>\n",
       "      <th>520230</th>\n",
       "      <td>1430956</td>\n",
       "      <td>2018-03-22 12:37:00</td>\n",
       "      <td>pořízeno na pochůzku</td>\n",
       "      <td>Na cestě k příjemci</td>\n",
       "      <td>ceskaposta</td>\n",
       "    </tr>\n",
       "  </tbody>\n",
       "</table>\n",
       "</div>"
      ],
      "text/plain": [
       "        tracking_id                date  \\\n",
       "0           1415857 2018-03-07 13:58:02   \n",
       "1           1423786 2018-03-23 08:30:27   \n",
       "520229      1430907 2018-04-17 10:30:00   \n",
       "520231      1430956 2018-03-22 12:37:00   \n",
       "520230      1430956 2018-03-22 12:37:00   \n",
       "\n",
       "                                                   status  \\\n",
       "0                                                Doručeno   \n",
       "1                                                   Výmaz   \n",
       "520229                                           Doručena   \n",
       "520231  zásilka byla uložena na pošte (poškozená zásilka)   \n",
       "520230                               pořízeno na pochůzku   \n",
       "\n",
       "              mapped_status    provider  \n",
       "0                  Doručeno         ppl  \n",
       "1                  Nezadane         ppl  \n",
       "520229             Doručeno  ceskaposta  \n",
       "520231             Nezadane  ceskaposta  \n",
       "520230  Na cestě k příjemci  ceskaposta  "
      ]
     },
     "execution_count": 25,
     "metadata": {},
     "output_type": "execute_result"
    }
   ],
   "source": [
    "providerDf.sort_values(by=\"tracking_id\", ascending=True).head()"
   ]
  },
  {
   "cell_type": "code",
   "execution_count": 26,
   "metadata": {},
   "outputs": [
    {
     "data": {
      "text/plain": [
       "693464   2018-04-30 13:24:00\n",
       "694576   2018-04-30 13:24:00\n",
       "692266   2018-04-30 13:19:00\n",
       "693568   2018-04-30 13:15:00\n",
       "726818   2018-04-30 12:16:00\n",
       "Name: date, dtype: datetime64[ns]"
      ]
     },
     "execution_count": 26,
     "metadata": {},
     "output_type": "execute_result"
    }
   ],
   "source": [
    "providerDf.date.sort_values(ascending=False).head()"
   ]
  },
  {
   "cell_type": "code",
   "execution_count": 27,
   "metadata": {},
   "outputs": [
    {
     "data": {
      "text/html": [
       "<div>\n",
       "<style scoped>\n",
       "    .dataframe tbody tr th:only-of-type {\n",
       "        vertical-align: middle;\n",
       "    }\n",
       "\n",
       "    .dataframe tbody tr th {\n",
       "        vertical-align: top;\n",
       "    }\n",
       "\n",
       "    .dataframe thead th {\n",
       "        text-align: right;\n",
       "    }\n",
       "</style>\n",
       "<table border=\"1\" class=\"dataframe\">\n",
       "  <thead>\n",
       "    <tr style=\"text-align: right;\">\n",
       "      <th></th>\n",
       "      <th>tracking_id</th>\n",
       "      <th>date</th>\n",
       "      <th>status</th>\n",
       "      <th>mapped_status</th>\n",
       "      <th>provider</th>\n",
       "    </tr>\n",
       "  </thead>\n",
       "  <tbody>\n",
       "    <tr>\n",
       "      <th>696119</th>\n",
       "      <td>1882077</td>\n",
       "      <td>2018-04-30 07:14:00</td>\n",
       "      <td>Řádně podaná zásilka - do rozhodné doby</td>\n",
       "      <td>Převzato dopravcem</td>\n",
       "      <td>ceskaposta</td>\n",
       "    </tr>\n",
       "    <tr>\n",
       "      <th>696118</th>\n",
       "      <td>1882076</td>\n",
       "      <td>2018-04-30 06:52:00</td>\n",
       "      <td>pořízeno na pochůzku</td>\n",
       "      <td>Na cestě k příjemci</td>\n",
       "      <td>ceskaposta</td>\n",
       "    </tr>\n",
       "    <tr>\n",
       "      <th>696115</th>\n",
       "      <td>1882075</td>\n",
       "      <td>2018-04-30 06:52:00</td>\n",
       "      <td>uloženo na poště</td>\n",
       "      <td>Na cestě k příjemci</td>\n",
       "      <td>ceskaposta</td>\n",
       "    </tr>\n",
       "    <tr>\n",
       "      <th>696116</th>\n",
       "      <td>1882075</td>\n",
       "      <td>2018-04-30 06:58:00</td>\n",
       "      <td>uloženo na poště</td>\n",
       "      <td>Na cestě k příjemci</td>\n",
       "      <td>ceskaposta</td>\n",
       "    </tr>\n",
       "    <tr>\n",
       "      <th>696117</th>\n",
       "      <td>1882075</td>\n",
       "      <td>2018-04-30 07:14:00</td>\n",
       "      <td>Řádně podaná zásilka - do rozhodné doby</td>\n",
       "      <td>Převzato dopravcem</td>\n",
       "      <td>ceskaposta</td>\n",
       "    </tr>\n",
       "  </tbody>\n",
       "</table>\n",
       "</div>"
      ],
      "text/plain": [
       "        tracking_id                date  \\\n",
       "696119      1882077 2018-04-30 07:14:00   \n",
       "696118      1882076 2018-04-30 06:52:00   \n",
       "696115      1882075 2018-04-30 06:52:00   \n",
       "696116      1882075 2018-04-30 06:58:00   \n",
       "696117      1882075 2018-04-30 07:14:00   \n",
       "\n",
       "                                         status        mapped_status  \\\n",
       "696119  Řádně podaná zásilka - do rozhodné doby   Převzato dopravcem   \n",
       "696118                     pořízeno na pochůzku  Na cestě k příjemci   \n",
       "696115                         uloženo na poště  Na cestě k příjemci   \n",
       "696116                         uloženo na poště  Na cestě k příjemci   \n",
       "696117  Řádně podaná zásilka - do rozhodné doby   Převzato dopravcem   \n",
       "\n",
       "          provider  \n",
       "696119  ceskaposta  \n",
       "696118  ceskaposta  \n",
       "696115  ceskaposta  \n",
       "696116  ceskaposta  \n",
       "696117  ceskaposta  "
      ]
     },
     "execution_count": 27,
     "metadata": {},
     "output_type": "execute_result"
    }
   ],
   "source": [
    "dupDf = providerDf.sort_values([\"tracking_id\", \"date\", \"status\"], ascending=[False, True, True])\n",
    "dupDf.head()"
   ]
  },
  {
   "cell_type": "markdown",
   "metadata": {},
   "source": [
    "<h2>Úlohy</h2>\n",
    "\n",
    "<ul>\n",
    "    <li>Zotriedte dáta v dátovom sete providerDf podľa dátumu od najnizšieho, podľa providera podľa abecedy a hodnoty uložte do nového dátového setu s názvom <code>dateProviderDf</code>.</li>\n",
    "    <li>Následne si vypíšte prvých 5 riadkov a iba stĺpce date a provider.</li>\n",
    "</ul>"
   ]
  },
  {
   "cell_type": "code",
   "execution_count": 28,
   "metadata": {},
   "outputs": [
    {
     "data": {
      "text/html": [
       "<div>\n",
       "<style scoped>\n",
       "    .dataframe tbody tr th:only-of-type {\n",
       "        vertical-align: middle;\n",
       "    }\n",
       "\n",
       "    .dataframe tbody tr th {\n",
       "        vertical-align: top;\n",
       "    }\n",
       "\n",
       "    .dataframe thead th {\n",
       "        text-align: right;\n",
       "    }\n",
       "</style>\n",
       "<table border=\"1\" class=\"dataframe\">\n",
       "  <thead>\n",
       "    <tr style=\"text-align: right;\">\n",
       "      <th></th>\n",
       "      <th>date</th>\n",
       "      <th>provider</th>\n",
       "    </tr>\n",
       "  </thead>\n",
       "  <tbody>\n",
       "    <tr>\n",
       "      <th>696514</th>\n",
       "      <td>2018-03-01 00:01:01</td>\n",
       "      <td>geis</td>\n",
       "    </tr>\n",
       "    <tr>\n",
       "      <th>523200</th>\n",
       "      <td>2018-03-01 00:02:00</td>\n",
       "      <td>ceskaposta</td>\n",
       "    </tr>\n",
       "    <tr>\n",
       "      <th>523201</th>\n",
       "      <td>2018-03-01 00:02:00</td>\n",
       "      <td>ceskaposta</td>\n",
       "    </tr>\n",
       "    <tr>\n",
       "      <th>524064</th>\n",
       "      <td>2018-03-01 00:02:00</td>\n",
       "      <td>ceskaposta</td>\n",
       "    </tr>\n",
       "    <tr>\n",
       "      <th>524070</th>\n",
       "      <td>2018-03-01 00:02:00</td>\n",
       "      <td>ceskaposta</td>\n",
       "    </tr>\n",
       "  </tbody>\n",
       "</table>\n",
       "</div>"
      ],
      "text/plain": [
       "                      date    provider\n",
       "696514 2018-03-01 00:01:01        geis\n",
       "523200 2018-03-01 00:02:00  ceskaposta\n",
       "523201 2018-03-01 00:02:00  ceskaposta\n",
       "524064 2018-03-01 00:02:00  ceskaposta\n",
       "524070 2018-03-01 00:02:00  ceskaposta"
      ]
     },
     "execution_count": 28,
     "metadata": {},
     "output_type": "execute_result"
    }
   ],
   "source": [
    "dateProviderDf = providerDf.sort_values([\"date\", \"provider\"], ascending=[True, False])\n",
    "dateProviderDf.loc[:,[\"date\", \"provider\"]].head()"
   ]
  },
  {
   "cell_type": "markdown",
   "metadata": {},
   "source": [
    "<h2>Úprava názvu statusov</h2>\n",
    "\n",
    "<p>Keď sa pozrieme na dáta v stĺpci status, vidíme, že niektoré začínajú malými písmenami, iné veľkými. Toto správanie, by sme chceli zjednotiť, aby to nevyzeralo v prehľadoch škaredo.</p>"
   ]
  },
  {
   "cell_type": "code",
   "execution_count": 29,
   "metadata": {},
   "outputs": [],
   "source": [
    "dupDf[\"status\"] = dupDf[\"status\"].str.capitalize()"
   ]
  },
  {
   "cell_type": "code",
   "execution_count": 30,
   "metadata": {},
   "outputs": [
    {
     "data": {
      "text/html": [
       "<div>\n",
       "<style scoped>\n",
       "    .dataframe tbody tr th:only-of-type {\n",
       "        vertical-align: middle;\n",
       "    }\n",
       "\n",
       "    .dataframe tbody tr th {\n",
       "        vertical-align: top;\n",
       "    }\n",
       "\n",
       "    .dataframe thead th {\n",
       "        text-align: right;\n",
       "    }\n",
       "</style>\n",
       "<table border=\"1\" class=\"dataframe\">\n",
       "  <thead>\n",
       "    <tr style=\"text-align: right;\">\n",
       "      <th></th>\n",
       "      <th>tracking_id</th>\n",
       "      <th>date</th>\n",
       "      <th>status</th>\n",
       "      <th>mapped_status</th>\n",
       "      <th>provider</th>\n",
       "    </tr>\n",
       "  </thead>\n",
       "  <tbody>\n",
       "    <tr>\n",
       "      <th>696119</th>\n",
       "      <td>1882077</td>\n",
       "      <td>2018-04-30 07:14:00</td>\n",
       "      <td>Řádně podaná zásilka - do rozhodné doby</td>\n",
       "      <td>Převzato dopravcem</td>\n",
       "      <td>ceskaposta</td>\n",
       "    </tr>\n",
       "    <tr>\n",
       "      <th>696118</th>\n",
       "      <td>1882076</td>\n",
       "      <td>2018-04-30 06:52:00</td>\n",
       "      <td>Pořízeno na pochůzku</td>\n",
       "      <td>Na cestě k příjemci</td>\n",
       "      <td>ceskaposta</td>\n",
       "    </tr>\n",
       "    <tr>\n",
       "      <th>696115</th>\n",
       "      <td>1882075</td>\n",
       "      <td>2018-04-30 06:52:00</td>\n",
       "      <td>Uloženo na poště</td>\n",
       "      <td>Na cestě k příjemci</td>\n",
       "      <td>ceskaposta</td>\n",
       "    </tr>\n",
       "    <tr>\n",
       "      <th>696116</th>\n",
       "      <td>1882075</td>\n",
       "      <td>2018-04-30 06:58:00</td>\n",
       "      <td>Uloženo na poště</td>\n",
       "      <td>Na cestě k příjemci</td>\n",
       "      <td>ceskaposta</td>\n",
       "    </tr>\n",
       "    <tr>\n",
       "      <th>696117</th>\n",
       "      <td>1882075</td>\n",
       "      <td>2018-04-30 07:14:00</td>\n",
       "      <td>Řádně podaná zásilka - do rozhodné doby</td>\n",
       "      <td>Převzato dopravcem</td>\n",
       "      <td>ceskaposta</td>\n",
       "    </tr>\n",
       "  </tbody>\n",
       "</table>\n",
       "</div>"
      ],
      "text/plain": [
       "        tracking_id                date  \\\n",
       "696119      1882077 2018-04-30 07:14:00   \n",
       "696118      1882076 2018-04-30 06:52:00   \n",
       "696115      1882075 2018-04-30 06:52:00   \n",
       "696116      1882075 2018-04-30 06:58:00   \n",
       "696117      1882075 2018-04-30 07:14:00   \n",
       "\n",
       "                                         status        mapped_status  \\\n",
       "696119  Řádně podaná zásilka - do rozhodné doby   Převzato dopravcem   \n",
       "696118                     Pořízeno na pochůzku  Na cestě k příjemci   \n",
       "696115                         Uloženo na poště  Na cestě k příjemci   \n",
       "696116                         Uloženo na poště  Na cestě k příjemci   \n",
       "696117  Řádně podaná zásilka - do rozhodné doby   Převzato dopravcem   \n",
       "\n",
       "          provider  \n",
       "696119  ceskaposta  \n",
       "696118  ceskaposta  \n",
       "696115  ceskaposta  \n",
       "696116  ceskaposta  \n",
       "696117  ceskaposta  "
      ]
     },
     "execution_count": 30,
     "metadata": {},
     "output_type": "execute_result"
    }
   ],
   "source": [
    "dupDf.head()"
   ]
  },
  {
   "cell_type": "markdown",
   "metadata": {},
   "source": [
    "Ekvivalentom k tomuto v Pythone by bolo niečo podobné na štýl\n",
    "<br />\n",
    "\n",
    "status = dupDf[\"status\"]<br />\n",
    "for i in status:<br />\n",
    "    dupDf[i][\"status\"] = status.capitalize() <br />\n"
   ]
  },
  {
   "cell_type": "markdown",
   "metadata": {},
   "source": [
    "<h2>Úlohy</h2>\n",
    "\n",
    "<ul>\n",
    "    <li>Na podobnom princípe, upravte stĺpec <code>provider</code> v dátovom sete <code>dupDf</code>, pričom zmente všetky písmena providera na veľké a vypíšte si prvých 5 riadkov data setu.</li>\n",
    "</ul>"
   ]
  },
  {
   "cell_type": "code",
   "execution_count": 31,
   "metadata": {},
   "outputs": [
    {
     "data": {
      "text/html": [
       "<div>\n",
       "<style scoped>\n",
       "    .dataframe tbody tr th:only-of-type {\n",
       "        vertical-align: middle;\n",
       "    }\n",
       "\n",
       "    .dataframe tbody tr th {\n",
       "        vertical-align: top;\n",
       "    }\n",
       "\n",
       "    .dataframe thead th {\n",
       "        text-align: right;\n",
       "    }\n",
       "</style>\n",
       "<table border=\"1\" class=\"dataframe\">\n",
       "  <thead>\n",
       "    <tr style=\"text-align: right;\">\n",
       "      <th></th>\n",
       "      <th>tracking_id</th>\n",
       "      <th>date</th>\n",
       "      <th>status</th>\n",
       "      <th>mapped_status</th>\n",
       "      <th>provider</th>\n",
       "    </tr>\n",
       "  </thead>\n",
       "  <tbody>\n",
       "    <tr>\n",
       "      <th>696119</th>\n",
       "      <td>1882077</td>\n",
       "      <td>2018-04-30 07:14:00</td>\n",
       "      <td>Řádně podaná zásilka - do rozhodné doby</td>\n",
       "      <td>Převzato dopravcem</td>\n",
       "      <td>CESKAPOSTA</td>\n",
       "    </tr>\n",
       "    <tr>\n",
       "      <th>696118</th>\n",
       "      <td>1882076</td>\n",
       "      <td>2018-04-30 06:52:00</td>\n",
       "      <td>Pořízeno na pochůzku</td>\n",
       "      <td>Na cestě k příjemci</td>\n",
       "      <td>CESKAPOSTA</td>\n",
       "    </tr>\n",
       "    <tr>\n",
       "      <th>696115</th>\n",
       "      <td>1882075</td>\n",
       "      <td>2018-04-30 06:52:00</td>\n",
       "      <td>Uloženo na poště</td>\n",
       "      <td>Na cestě k příjemci</td>\n",
       "      <td>CESKAPOSTA</td>\n",
       "    </tr>\n",
       "    <tr>\n",
       "      <th>696116</th>\n",
       "      <td>1882075</td>\n",
       "      <td>2018-04-30 06:58:00</td>\n",
       "      <td>Uloženo na poště</td>\n",
       "      <td>Na cestě k příjemci</td>\n",
       "      <td>CESKAPOSTA</td>\n",
       "    </tr>\n",
       "    <tr>\n",
       "      <th>696117</th>\n",
       "      <td>1882075</td>\n",
       "      <td>2018-04-30 07:14:00</td>\n",
       "      <td>Řádně podaná zásilka - do rozhodné doby</td>\n",
       "      <td>Převzato dopravcem</td>\n",
       "      <td>CESKAPOSTA</td>\n",
       "    </tr>\n",
       "  </tbody>\n",
       "</table>\n",
       "</div>"
      ],
      "text/plain": [
       "        tracking_id                date  \\\n",
       "696119      1882077 2018-04-30 07:14:00   \n",
       "696118      1882076 2018-04-30 06:52:00   \n",
       "696115      1882075 2018-04-30 06:52:00   \n",
       "696116      1882075 2018-04-30 06:58:00   \n",
       "696117      1882075 2018-04-30 07:14:00   \n",
       "\n",
       "                                         status        mapped_status  \\\n",
       "696119  Řádně podaná zásilka - do rozhodné doby   Převzato dopravcem   \n",
       "696118                     Pořízeno na pochůzku  Na cestě k příjemci   \n",
       "696115                         Uloženo na poště  Na cestě k příjemci   \n",
       "696116                         Uloženo na poště  Na cestě k příjemci   \n",
       "696117  Řádně podaná zásilka - do rozhodné doby   Převzato dopravcem   \n",
       "\n",
       "          provider  \n",
       "696119  CESKAPOSTA  \n",
       "696118  CESKAPOSTA  \n",
       "696115  CESKAPOSTA  \n",
       "696116  CESKAPOSTA  \n",
       "696117  CESKAPOSTA  "
      ]
     },
     "execution_count": 31,
     "metadata": {},
     "output_type": "execute_result"
    }
   ],
   "source": [
    "dupDf[\"provider\"] = dupDf[\"provider\"].str.upper()\n",
    "dupDf.head()"
   ]
  },
  {
   "cell_type": "markdown",
   "metadata": {},
   "source": [
    "<h2>Pridanie dátumových stĺpcov</h2>"
   ]
  },
  {
   "cell_type": "code",
   "execution_count": 32,
   "metadata": {},
   "outputs": [],
   "source": [
    "#Stlpce\n",
    "all_columns = list(dupDf.columns) + ['day', 'month']"
   ]
  },
  {
   "cell_type": "code",
   "execution_count": 33,
   "metadata": {},
   "outputs": [],
   "source": [
    "#Pridame si nove stplce do datasetu\n",
    "dupDf = pd.DataFrame(dupDf, columns=all_columns)"
   ]
  },
  {
   "cell_type": "code",
   "execution_count": 34,
   "metadata": {},
   "outputs": [
    {
     "data": {
      "text/html": [
       "<div>\n",
       "<style scoped>\n",
       "    .dataframe tbody tr th:only-of-type {\n",
       "        vertical-align: middle;\n",
       "    }\n",
       "\n",
       "    .dataframe tbody tr th {\n",
       "        vertical-align: top;\n",
       "    }\n",
       "\n",
       "    .dataframe thead th {\n",
       "        text-align: right;\n",
       "    }\n",
       "</style>\n",
       "<table border=\"1\" class=\"dataframe\">\n",
       "  <thead>\n",
       "    <tr style=\"text-align: right;\">\n",
       "      <th></th>\n",
       "      <th>tracking_id</th>\n",
       "      <th>date</th>\n",
       "      <th>status</th>\n",
       "      <th>mapped_status</th>\n",
       "      <th>provider</th>\n",
       "      <th>day</th>\n",
       "      <th>month</th>\n",
       "    </tr>\n",
       "  </thead>\n",
       "  <tbody>\n",
       "    <tr>\n",
       "      <th>696119</th>\n",
       "      <td>1882077</td>\n",
       "      <td>2018-04-30 07:14:00</td>\n",
       "      <td>Řádně podaná zásilka - do rozhodné doby</td>\n",
       "      <td>Převzato dopravcem</td>\n",
       "      <td>CESKAPOSTA</td>\n",
       "      <td>NaN</td>\n",
       "      <td>NaN</td>\n",
       "    </tr>\n",
       "    <tr>\n",
       "      <th>696118</th>\n",
       "      <td>1882076</td>\n",
       "      <td>2018-04-30 06:52:00</td>\n",
       "      <td>Pořízeno na pochůzku</td>\n",
       "      <td>Na cestě k příjemci</td>\n",
       "      <td>CESKAPOSTA</td>\n",
       "      <td>NaN</td>\n",
       "      <td>NaN</td>\n",
       "    </tr>\n",
       "    <tr>\n",
       "      <th>696115</th>\n",
       "      <td>1882075</td>\n",
       "      <td>2018-04-30 06:52:00</td>\n",
       "      <td>Uloženo na poště</td>\n",
       "      <td>Na cestě k příjemci</td>\n",
       "      <td>CESKAPOSTA</td>\n",
       "      <td>NaN</td>\n",
       "      <td>NaN</td>\n",
       "    </tr>\n",
       "    <tr>\n",
       "      <th>696116</th>\n",
       "      <td>1882075</td>\n",
       "      <td>2018-04-30 06:58:00</td>\n",
       "      <td>Uloženo na poště</td>\n",
       "      <td>Na cestě k příjemci</td>\n",
       "      <td>CESKAPOSTA</td>\n",
       "      <td>NaN</td>\n",
       "      <td>NaN</td>\n",
       "    </tr>\n",
       "    <tr>\n",
       "      <th>696117</th>\n",
       "      <td>1882075</td>\n",
       "      <td>2018-04-30 07:14:00</td>\n",
       "      <td>Řádně podaná zásilka - do rozhodné doby</td>\n",
       "      <td>Převzato dopravcem</td>\n",
       "      <td>CESKAPOSTA</td>\n",
       "      <td>NaN</td>\n",
       "      <td>NaN</td>\n",
       "    </tr>\n",
       "  </tbody>\n",
       "</table>\n",
       "</div>"
      ],
      "text/plain": [
       "        tracking_id                date  \\\n",
       "696119      1882077 2018-04-30 07:14:00   \n",
       "696118      1882076 2018-04-30 06:52:00   \n",
       "696115      1882075 2018-04-30 06:52:00   \n",
       "696116      1882075 2018-04-30 06:58:00   \n",
       "696117      1882075 2018-04-30 07:14:00   \n",
       "\n",
       "                                         status        mapped_status  \\\n",
       "696119  Řádně podaná zásilka - do rozhodné doby   Převzato dopravcem   \n",
       "696118                     Pořízeno na pochůzku  Na cestě k příjemci   \n",
       "696115                         Uloženo na poště  Na cestě k příjemci   \n",
       "696116                         Uloženo na poště  Na cestě k příjemci   \n",
       "696117  Řádně podaná zásilka - do rozhodné doby   Převzato dopravcem   \n",
       "\n",
       "          provider  day  month  \n",
       "696119  CESKAPOSTA  NaN    NaN  \n",
       "696118  CESKAPOSTA  NaN    NaN  \n",
       "696115  CESKAPOSTA  NaN    NaN  \n",
       "696116  CESKAPOSTA  NaN    NaN  \n",
       "696117  CESKAPOSTA  NaN    NaN  "
      ]
     },
     "execution_count": 34,
     "metadata": {},
     "output_type": "execute_result"
    }
   ],
   "source": [
    "dupDf.head()"
   ]
  },
  {
   "cell_type": "code",
   "execution_count": 35,
   "metadata": {},
   "outputs": [],
   "source": [
    "dupDf[\"day\"] = dupDf[\"date\"].dt.day.astype(np.int)"
   ]
  },
  {
   "cell_type": "code",
   "execution_count": 36,
   "metadata": {},
   "outputs": [
    {
     "data": {
      "text/html": [
       "<div>\n",
       "<style scoped>\n",
       "    .dataframe tbody tr th:only-of-type {\n",
       "        vertical-align: middle;\n",
       "    }\n",
       "\n",
       "    .dataframe tbody tr th {\n",
       "        vertical-align: top;\n",
       "    }\n",
       "\n",
       "    .dataframe thead th {\n",
       "        text-align: right;\n",
       "    }\n",
       "</style>\n",
       "<table border=\"1\" class=\"dataframe\">\n",
       "  <thead>\n",
       "    <tr style=\"text-align: right;\">\n",
       "      <th></th>\n",
       "      <th>tracking_id</th>\n",
       "      <th>date</th>\n",
       "      <th>status</th>\n",
       "      <th>mapped_status</th>\n",
       "      <th>provider</th>\n",
       "      <th>day</th>\n",
       "      <th>month</th>\n",
       "    </tr>\n",
       "  </thead>\n",
       "  <tbody>\n",
       "    <tr>\n",
       "      <th>696119</th>\n",
       "      <td>1882077</td>\n",
       "      <td>2018-04-30 07:14:00</td>\n",
       "      <td>Řádně podaná zásilka - do rozhodné doby</td>\n",
       "      <td>Převzato dopravcem</td>\n",
       "      <td>CESKAPOSTA</td>\n",
       "      <td>30</td>\n",
       "      <td>NaN</td>\n",
       "    </tr>\n",
       "    <tr>\n",
       "      <th>696118</th>\n",
       "      <td>1882076</td>\n",
       "      <td>2018-04-30 06:52:00</td>\n",
       "      <td>Pořízeno na pochůzku</td>\n",
       "      <td>Na cestě k příjemci</td>\n",
       "      <td>CESKAPOSTA</td>\n",
       "      <td>30</td>\n",
       "      <td>NaN</td>\n",
       "    </tr>\n",
       "    <tr>\n",
       "      <th>696115</th>\n",
       "      <td>1882075</td>\n",
       "      <td>2018-04-30 06:52:00</td>\n",
       "      <td>Uloženo na poště</td>\n",
       "      <td>Na cestě k příjemci</td>\n",
       "      <td>CESKAPOSTA</td>\n",
       "      <td>30</td>\n",
       "      <td>NaN</td>\n",
       "    </tr>\n",
       "    <tr>\n",
       "      <th>696116</th>\n",
       "      <td>1882075</td>\n",
       "      <td>2018-04-30 06:58:00</td>\n",
       "      <td>Uloženo na poště</td>\n",
       "      <td>Na cestě k příjemci</td>\n",
       "      <td>CESKAPOSTA</td>\n",
       "      <td>30</td>\n",
       "      <td>NaN</td>\n",
       "    </tr>\n",
       "    <tr>\n",
       "      <th>696117</th>\n",
       "      <td>1882075</td>\n",
       "      <td>2018-04-30 07:14:00</td>\n",
       "      <td>Řádně podaná zásilka - do rozhodné doby</td>\n",
       "      <td>Převzato dopravcem</td>\n",
       "      <td>CESKAPOSTA</td>\n",
       "      <td>30</td>\n",
       "      <td>NaN</td>\n",
       "    </tr>\n",
       "  </tbody>\n",
       "</table>\n",
       "</div>"
      ],
      "text/plain": [
       "        tracking_id                date  \\\n",
       "696119      1882077 2018-04-30 07:14:00   \n",
       "696118      1882076 2018-04-30 06:52:00   \n",
       "696115      1882075 2018-04-30 06:52:00   \n",
       "696116      1882075 2018-04-30 06:58:00   \n",
       "696117      1882075 2018-04-30 07:14:00   \n",
       "\n",
       "                                         status        mapped_status  \\\n",
       "696119  Řádně podaná zásilka - do rozhodné doby   Převzato dopravcem   \n",
       "696118                     Pořízeno na pochůzku  Na cestě k příjemci   \n",
       "696115                         Uloženo na poště  Na cestě k příjemci   \n",
       "696116                         Uloženo na poště  Na cestě k příjemci   \n",
       "696117  Řádně podaná zásilka - do rozhodné doby   Převzato dopravcem   \n",
       "\n",
       "          provider  day  month  \n",
       "696119  CESKAPOSTA   30    NaN  \n",
       "696118  CESKAPOSTA   30    NaN  \n",
       "696115  CESKAPOSTA   30    NaN  \n",
       "696116  CESKAPOSTA   30    NaN  \n",
       "696117  CESKAPOSTA   30    NaN  "
      ]
     },
     "execution_count": 36,
     "metadata": {},
     "output_type": "execute_result"
    }
   ],
   "source": [
    "dupDf.head()"
   ]
  },
  {
   "cell_type": "markdown",
   "metadata": {},
   "source": [
    "<h2>Úlohy</h2>\n",
    "\n",
    "<ul>\n",
    "    <li>Na rovnakom princípe, ako sme upravovali dátum, upravte hodnoty v stĺpci <code>month</code> pomocou <code>.month</code> metódy.</li>\n",
    "</ul>"
   ]
  },
  {
   "cell_type": "code",
   "execution_count": 37,
   "metadata": {},
   "outputs": [
    {
     "data": {
      "text/html": [
       "<div>\n",
       "<style scoped>\n",
       "    .dataframe tbody tr th:only-of-type {\n",
       "        vertical-align: middle;\n",
       "    }\n",
       "\n",
       "    .dataframe tbody tr th {\n",
       "        vertical-align: top;\n",
       "    }\n",
       "\n",
       "    .dataframe thead th {\n",
       "        text-align: right;\n",
       "    }\n",
       "</style>\n",
       "<table border=\"1\" class=\"dataframe\">\n",
       "  <thead>\n",
       "    <tr style=\"text-align: right;\">\n",
       "      <th></th>\n",
       "      <th>tracking_id</th>\n",
       "      <th>date</th>\n",
       "      <th>status</th>\n",
       "      <th>mapped_status</th>\n",
       "      <th>provider</th>\n",
       "      <th>day</th>\n",
       "      <th>month</th>\n",
       "    </tr>\n",
       "  </thead>\n",
       "  <tbody>\n",
       "    <tr>\n",
       "      <th>696119</th>\n",
       "      <td>1882077</td>\n",
       "      <td>2018-04-30 07:14:00</td>\n",
       "      <td>Řádně podaná zásilka - do rozhodné doby</td>\n",
       "      <td>Převzato dopravcem</td>\n",
       "      <td>CESKAPOSTA</td>\n",
       "      <td>30</td>\n",
       "      <td>4</td>\n",
       "    </tr>\n",
       "    <tr>\n",
       "      <th>696118</th>\n",
       "      <td>1882076</td>\n",
       "      <td>2018-04-30 06:52:00</td>\n",
       "      <td>Pořízeno na pochůzku</td>\n",
       "      <td>Na cestě k příjemci</td>\n",
       "      <td>CESKAPOSTA</td>\n",
       "      <td>30</td>\n",
       "      <td>4</td>\n",
       "    </tr>\n",
       "    <tr>\n",
       "      <th>696115</th>\n",
       "      <td>1882075</td>\n",
       "      <td>2018-04-30 06:52:00</td>\n",
       "      <td>Uloženo na poště</td>\n",
       "      <td>Na cestě k příjemci</td>\n",
       "      <td>CESKAPOSTA</td>\n",
       "      <td>30</td>\n",
       "      <td>4</td>\n",
       "    </tr>\n",
       "    <tr>\n",
       "      <th>696116</th>\n",
       "      <td>1882075</td>\n",
       "      <td>2018-04-30 06:58:00</td>\n",
       "      <td>Uloženo na poště</td>\n",
       "      <td>Na cestě k příjemci</td>\n",
       "      <td>CESKAPOSTA</td>\n",
       "      <td>30</td>\n",
       "      <td>4</td>\n",
       "    </tr>\n",
       "    <tr>\n",
       "      <th>696117</th>\n",
       "      <td>1882075</td>\n",
       "      <td>2018-04-30 07:14:00</td>\n",
       "      <td>Řádně podaná zásilka - do rozhodné doby</td>\n",
       "      <td>Převzato dopravcem</td>\n",
       "      <td>CESKAPOSTA</td>\n",
       "      <td>30</td>\n",
       "      <td>4</td>\n",
       "    </tr>\n",
       "  </tbody>\n",
       "</table>\n",
       "</div>"
      ],
      "text/plain": [
       "        tracking_id                date  \\\n",
       "696119      1882077 2018-04-30 07:14:00   \n",
       "696118      1882076 2018-04-30 06:52:00   \n",
       "696115      1882075 2018-04-30 06:52:00   \n",
       "696116      1882075 2018-04-30 06:58:00   \n",
       "696117      1882075 2018-04-30 07:14:00   \n",
       "\n",
       "                                         status        mapped_status  \\\n",
       "696119  Řádně podaná zásilka - do rozhodné doby   Převzato dopravcem   \n",
       "696118                     Pořízeno na pochůzku  Na cestě k příjemci   \n",
       "696115                         Uloženo na poště  Na cestě k příjemci   \n",
       "696116                         Uloženo na poště  Na cestě k příjemci   \n",
       "696117  Řádně podaná zásilka - do rozhodné doby   Převzato dopravcem   \n",
       "\n",
       "          provider  day  month  \n",
       "696119  CESKAPOSTA   30      4  \n",
       "696118  CESKAPOSTA   30      4  \n",
       "696115  CESKAPOSTA   30      4  \n",
       "696116  CESKAPOSTA   30      4  \n",
       "696117  CESKAPOSTA   30      4  "
      ]
     },
     "execution_count": 37,
     "metadata": {},
     "output_type": "execute_result"
    }
   ],
   "source": [
    "dupDf[\"month\"] = dupDf[\"date\"].dt.month.astype(np.int)\n",
    "dupDf.head()"
   ]
  },
  {
   "cell_type": "markdown",
   "metadata": {},
   "source": [
    "<h2>Opakovanie Pythonu</h2>"
   ]
  },
  {
   "cell_type": "code",
   "execution_count": 38,
   "metadata": {},
   "outputs": [
    {
     "data": {
      "text/plain": [
       "'Harry Potter'"
      ]
     },
     "execution_count": 38,
     "metadata": {},
     "output_type": "execute_result"
    }
   ],
   "source": [
    "our_name = 'Harry Potter'\n",
    "our_name"
   ]
  },
  {
   "cell_type": "code",
   "execution_count": 39,
   "metadata": {},
   "outputs": [
    {
     "data": {
      "text/plain": [
       "12"
      ]
     },
     "execution_count": 39,
     "metadata": {},
     "output_type": "execute_result"
    }
   ],
   "source": [
    "#Dlzka/Pocet znakov\n",
    "len(our_name)"
   ]
  },
  {
   "cell_type": "code",
   "execution_count": 40,
   "metadata": {},
   "outputs": [
    {
     "data": {
      "text/plain": [
       "2"
      ]
     },
     "execution_count": 40,
     "metadata": {},
     "output_type": "execute_result"
    }
   ],
   "source": [
    "#Najdi specificky znak, v nasom pripade najdi t\n",
    "our_name.find('r')"
   ]
  },
  {
   "cell_type": "code",
   "execution_count": 41,
   "metadata": {},
   "outputs": [
    {
     "data": {
      "text/plain": [
       "2"
      ]
     },
     "execution_count": 41,
     "metadata": {},
     "output_type": "execute_result"
    }
   ],
   "source": [
    "our_name.index('r')"
   ]
  },
  {
   "cell_type": "code",
   "execution_count": 42,
   "metadata": {},
   "outputs": [
    {
     "data": {
      "text/plain": [
       "True"
      ]
     },
     "execution_count": 42,
     "metadata": {},
     "output_type": "execute_result"
    }
   ],
   "source": [
    "our_name.__contains__('r')"
   ]
  },
  {
   "cell_type": "code",
   "execution_count": 43,
   "metadata": {},
   "outputs": [
    {
     "data": {
      "text/plain": [
       "'Harry Weasley'"
      ]
     },
     "execution_count": 43,
     "metadata": {},
     "output_type": "execute_result"
    }
   ],
   "source": [
    "#Replace znaku/vyrazu za iny znak\n",
    "our_name.replace('Potter', 'Weasley')"
   ]
  },
  {
   "cell_type": "markdown",
   "metadata": {},
   "source": [
    "<h2>Úloha</h2>\n",
    "\n",
    "<ul>\n",
    "    <li>Pomocou <code>.replace()</code> upravte názov providera CESKAPOSTA na ČESKÁ POŠTA</li>\n",
    "</ul>"
   ]
  },
  {
   "cell_type": "code",
   "execution_count": 44,
   "metadata": {},
   "outputs": [
    {
     "data": {
      "text/html": [
       "<div>\n",
       "<style scoped>\n",
       "    .dataframe tbody tr th:only-of-type {\n",
       "        vertical-align: middle;\n",
       "    }\n",
       "\n",
       "    .dataframe tbody tr th {\n",
       "        vertical-align: top;\n",
       "    }\n",
       "\n",
       "    .dataframe thead th {\n",
       "        text-align: right;\n",
       "    }\n",
       "</style>\n",
       "<table border=\"1\" class=\"dataframe\">\n",
       "  <thead>\n",
       "    <tr style=\"text-align: right;\">\n",
       "      <th></th>\n",
       "      <th>tracking_id</th>\n",
       "      <th>date</th>\n",
       "      <th>status</th>\n",
       "      <th>mapped_status</th>\n",
       "      <th>provider</th>\n",
       "      <th>day</th>\n",
       "      <th>month</th>\n",
       "    </tr>\n",
       "  </thead>\n",
       "  <tbody>\n",
       "    <tr>\n",
       "      <th>696119</th>\n",
       "      <td>1882077</td>\n",
       "      <td>2018-04-30 07:14:00</td>\n",
       "      <td>Řádně podaná zásilka - do rozhodné doby</td>\n",
       "      <td>Převzato dopravcem</td>\n",
       "      <td>ČESKÁ POŠTA</td>\n",
       "      <td>30</td>\n",
       "      <td>4</td>\n",
       "    </tr>\n",
       "    <tr>\n",
       "      <th>696118</th>\n",
       "      <td>1882076</td>\n",
       "      <td>2018-04-30 06:52:00</td>\n",
       "      <td>Pořízeno na pochůzku</td>\n",
       "      <td>Na cestě k příjemci</td>\n",
       "      <td>ČESKÁ POŠTA</td>\n",
       "      <td>30</td>\n",
       "      <td>4</td>\n",
       "    </tr>\n",
       "    <tr>\n",
       "      <th>696115</th>\n",
       "      <td>1882075</td>\n",
       "      <td>2018-04-30 06:52:00</td>\n",
       "      <td>Uloženo na poště</td>\n",
       "      <td>Na cestě k příjemci</td>\n",
       "      <td>ČESKÁ POŠTA</td>\n",
       "      <td>30</td>\n",
       "      <td>4</td>\n",
       "    </tr>\n",
       "    <tr>\n",
       "      <th>696116</th>\n",
       "      <td>1882075</td>\n",
       "      <td>2018-04-30 06:58:00</td>\n",
       "      <td>Uloženo na poště</td>\n",
       "      <td>Na cestě k příjemci</td>\n",
       "      <td>ČESKÁ POŠTA</td>\n",
       "      <td>30</td>\n",
       "      <td>4</td>\n",
       "    </tr>\n",
       "    <tr>\n",
       "      <th>696117</th>\n",
       "      <td>1882075</td>\n",
       "      <td>2018-04-30 07:14:00</td>\n",
       "      <td>Řádně podaná zásilka - do rozhodné doby</td>\n",
       "      <td>Převzato dopravcem</td>\n",
       "      <td>ČESKÁ POŠTA</td>\n",
       "      <td>30</td>\n",
       "      <td>4</td>\n",
       "    </tr>\n",
       "  </tbody>\n",
       "</table>\n",
       "</div>"
      ],
      "text/plain": [
       "        tracking_id                date  \\\n",
       "696119      1882077 2018-04-30 07:14:00   \n",
       "696118      1882076 2018-04-30 06:52:00   \n",
       "696115      1882075 2018-04-30 06:52:00   \n",
       "696116      1882075 2018-04-30 06:58:00   \n",
       "696117      1882075 2018-04-30 07:14:00   \n",
       "\n",
       "                                         status        mapped_status  \\\n",
       "696119  Řádně podaná zásilka - do rozhodné doby   Převzato dopravcem   \n",
       "696118                     Pořízeno na pochůzku  Na cestě k příjemci   \n",
       "696115                         Uloženo na poště  Na cestě k příjemci   \n",
       "696116                         Uloženo na poště  Na cestě k příjemci   \n",
       "696117  Řádně podaná zásilka - do rozhodné doby   Převzato dopravcem   \n",
       "\n",
       "           provider  day  month  \n",
       "696119  ČESKÁ POŠTA   30      4  \n",
       "696118  ČESKÁ POŠTA   30      4  \n",
       "696115  ČESKÁ POŠTA   30      4  \n",
       "696116  ČESKÁ POŠTA   30      4  \n",
       "696117  ČESKÁ POŠTA   30      4  "
      ]
     },
     "execution_count": 44,
     "metadata": {},
     "output_type": "execute_result"
    }
   ],
   "source": [
    "dupDf[\"provider\"] = dupDf[\"provider\"].replace('CESKAPOSTA', 'ČESKÁ POŠTA')\n",
    "dupDf.head()"
   ]
  },
  {
   "cell_type": "markdown",
   "metadata": {},
   "source": [
    "<h2>Agregácie dát v Pandase</h2>\n",
    "\n",
    "<p>Agregačné funkcie, aké poznáme v Pythone sú v Pandase reprezentované nasledovnými hotovými funkciami. <br /><br />\n",
    "    \n",
    "<ul>\n",
    "    <li><code>count()</code> - celkový počet položiek</li>\n",
    "    <li><code>first(), last()</code>\t- prvá alebo posledná položka</li>\n",
    "    <li><code>mean(), median()</code>\t- priemer, medián</li>\n",
    "    <li><code>min(), max()</code>\t- minimálna, maximálna hodnota</li>\n",
    "    <li><code>sum()</code>\t- suma všetkých položiek</li>\n",
    "</ul>"
   ]
  },
  {
   "cell_type": "code",
   "execution_count": 45,
   "metadata": {},
   "outputs": [
    {
     "data": {
      "text/plain": [
       "tracking_id      728704\n",
       "date             728704\n",
       "status           728704\n",
       "mapped_status    728704\n",
       "provider         728704\n",
       "day              728704\n",
       "month            728704\n",
       "dtype: int64"
      ]
     },
     "execution_count": 45,
     "metadata": {},
     "output_type": "execute_result"
    }
   ],
   "source": [
    "#Vypis poctu vsetkých hodnôt vo všetkých stĺpcoch\n",
    "dupDf.count()"
   ]
  },
  {
   "cell_type": "code",
   "execution_count": 46,
   "metadata": {},
   "outputs": [
    {
     "data": {
      "text/plain": [
       "728704"
      ]
     },
     "execution_count": 46,
     "metadata": {},
     "output_type": "execute_result"
    }
   ],
   "source": [
    "#Vypis poctu hodnôt zo stĺpca tracking_id\n",
    "dupDf[\"tracking_id\"].count()"
   ]
  },
  {
   "cell_type": "code",
   "execution_count": 47,
   "metadata": {},
   "outputs": [
    {
     "data": {
      "text/plain": [
       "Timestamp('2018-03-01 00:01:01')"
      ]
     },
     "execution_count": 47,
     "metadata": {},
     "output_type": "execute_result"
    }
   ],
   "source": [
    "#Vypis minimálnej hodnoty, čiže prvého dátumu zo stĺpca date\n",
    "dupDf[\"date\"].min()"
   ]
  },
  {
   "cell_type": "markdown",
   "metadata": {},
   "source": [
    "<h2>Úlohy</h2>\n",
    "<ul>\n",
    "    <li>Vypíšte z dátového setu dupDf maximálnu hodnotu, čiže posledný dátum zo stĺpca date</li>\n",
    "        <li>Vypíšte z dátového setu dupDf počet tracking_id, kde providerom je iba provider GEIS</li>\n",
    "   </ul>"
   ]
  },
  {
   "cell_type": "code",
   "execution_count": 48,
   "metadata": {},
   "outputs": [
    {
     "data": {
      "text/plain": [
       "Timestamp('2018-04-30 13:24:00')"
      ]
     },
     "execution_count": 48,
     "metadata": {},
     "output_type": "execute_result"
    }
   ],
   "source": [
    "#1\n",
    "dupDf[\"date\"].max()"
   ]
  },
  {
   "cell_type": "code",
   "execution_count": 49,
   "metadata": {},
   "outputs": [
    {
     "data": {
      "text/plain": [
       "32584"
      ]
     },
     "execution_count": 49,
     "metadata": {},
     "output_type": "execute_result"
    }
   ],
   "source": [
    "#2\n",
    "dupDf['tracking_id'][dupDf['provider'] == 'GEIS'].count()"
   ]
  },
  {
   "cell_type": "markdown",
   "metadata": {},
   "source": [
    "<h2>Logické podmienky</h2>"
   ]
  },
  {
   "cell_type": "code",
   "execution_count": 50,
   "metadata": {},
   "outputs": [
    {
     "data": {
      "text/html": [
       "<div>\n",
       "<style scoped>\n",
       "    .dataframe tbody tr th:only-of-type {\n",
       "        vertical-align: middle;\n",
       "    }\n",
       "\n",
       "    .dataframe tbody tr th {\n",
       "        vertical-align: top;\n",
       "    }\n",
       "\n",
       "    .dataframe thead th {\n",
       "        text-align: right;\n",
       "    }\n",
       "</style>\n",
       "<table border=\"1\" class=\"dataframe\">\n",
       "  <thead>\n",
       "    <tr style=\"text-align: right;\">\n",
       "      <th></th>\n",
       "      <th>tracking_id</th>\n",
       "      <th>date</th>\n",
       "    </tr>\n",
       "  </thead>\n",
       "  <tbody>\n",
       "    <tr>\n",
       "      <th>726987</th>\n",
       "      <td>1865663</td>\n",
       "      <td>2018-04-27 15:10:38</td>\n",
       "    </tr>\n",
       "    <tr>\n",
       "      <th>726646</th>\n",
       "      <td>1865546</td>\n",
       "      <td>2018-04-27 14:31:52</td>\n",
       "    </tr>\n",
       "    <tr>\n",
       "      <th>726060</th>\n",
       "      <td>1860051</td>\n",
       "      <td>2018-04-27 11:08:21</td>\n",
       "    </tr>\n",
       "    <tr>\n",
       "      <th>725975</th>\n",
       "      <td>1860037</td>\n",
       "      <td>2018-04-25 16:18:00</td>\n",
       "    </tr>\n",
       "    <tr>\n",
       "      <th>725884</th>\n",
       "      <td>1857412</td>\n",
       "      <td>2018-04-27 12:20:07</td>\n",
       "    </tr>\n",
       "  </tbody>\n",
       "</table>\n",
       "</div>"
      ],
      "text/plain": [
       "        tracking_id                date\n",
       "726987      1865663 2018-04-27 15:10:38\n",
       "726646      1865546 2018-04-27 14:31:52\n",
       "726060      1860051 2018-04-27 11:08:21\n",
       "725975      1860037 2018-04-25 16:18:00\n",
       "725884      1857412 2018-04-27 12:20:07"
      ]
     },
     "execution_count": 50,
     "metadata": {},
     "output_type": "execute_result"
    }
   ],
   "source": [
    "dupDf.loc[:, 'tracking_id': 'date'][(dupDf['provider'] == 'GEIS') & (dupDf['mapped_status'] == 'Stornováno')].head()"
   ]
  },
  {
   "cell_type": "code",
   "execution_count": 51,
   "metadata": {},
   "outputs": [
    {
     "data": {
      "text/html": [
       "<div>\n",
       "<style scoped>\n",
       "    .dataframe tbody tr th:only-of-type {\n",
       "        vertical-align: middle;\n",
       "    }\n",
       "\n",
       "    .dataframe tbody tr th {\n",
       "        vertical-align: top;\n",
       "    }\n",
       "\n",
       "    .dataframe thead th {\n",
       "        text-align: right;\n",
       "    }\n",
       "</style>\n",
       "<table border=\"1\" class=\"dataframe\">\n",
       "  <thead>\n",
       "    <tr style=\"text-align: right;\">\n",
       "      <th></th>\n",
       "      <th>tracking_id</th>\n",
       "      <th>date</th>\n",
       "    </tr>\n",
       "  </thead>\n",
       "  <tbody>\n",
       "    <tr>\n",
       "      <th>726987</th>\n",
       "      <td>1865663</td>\n",
       "      <td>2018-04-27 15:10:38</td>\n",
       "    </tr>\n",
       "    <tr>\n",
       "      <th>726646</th>\n",
       "      <td>1865546</td>\n",
       "      <td>2018-04-27 14:31:52</td>\n",
       "    </tr>\n",
       "    <tr>\n",
       "      <th>726060</th>\n",
       "      <td>1860051</td>\n",
       "      <td>2018-04-27 11:08:21</td>\n",
       "    </tr>\n",
       "    <tr>\n",
       "      <th>725975</th>\n",
       "      <td>1860037</td>\n",
       "      <td>2018-04-25 16:18:00</td>\n",
       "    </tr>\n",
       "    <tr>\n",
       "      <th>725884</th>\n",
       "      <td>1857412</td>\n",
       "      <td>2018-04-27 12:20:07</td>\n",
       "    </tr>\n",
       "  </tbody>\n",
       "</table>\n",
       "</div>"
      ],
      "text/plain": [
       "        tracking_id                date\n",
       "726987      1865663 2018-04-27 15:10:38\n",
       "726646      1865546 2018-04-27 14:31:52\n",
       "726060      1860051 2018-04-27 11:08:21\n",
       "725975      1860037 2018-04-25 16:18:00\n",
       "725884      1857412 2018-04-27 12:20:07"
      ]
     },
     "execution_count": 51,
     "metadata": {},
     "output_type": "execute_result"
    }
   ],
   "source": [
    "dupDf.loc[:, 'tracking_id': 'date'][(dupDf.provider == 'GEIS') & (dupDf.mapped_status == 'Stornováno')].head()"
   ]
  },
  {
   "cell_type": "code",
   "execution_count": 52,
   "metadata": {},
   "outputs": [
    {
     "data": {
      "text/plain": [
       "199"
      ]
     },
     "execution_count": 52,
     "metadata": {},
     "output_type": "execute_result"
    }
   ],
   "source": [
    "dupDf[(dupDf.provider == 'GEIS') & (dupDf.mapped_status == 'Stornováno')].tracking_id.count()"
   ]
  },
  {
   "cell_type": "markdown",
   "metadata": {},
   "source": [
    "<h2>Práca so zgrupovaním</h2>"
   ]
  },
  {
   "cell_type": "code",
   "execution_count": 53,
   "metadata": {},
   "outputs": [
    {
     "data": {
      "text/plain": [
       "PPL            520229\n",
       "ČESKÁ POŠTA    175891\n",
       "GEIS            32584\n",
       "Name: provider, dtype: int64"
      ]
     },
     "execution_count": 53,
     "metadata": {},
     "output_type": "execute_result"
    }
   ],
   "source": [
    "dupDf['provider'].value_counts()"
   ]
  },
  {
   "cell_type": "markdown",
   "metadata": {},
   "source": [
    "<h2>Úlohy</h2>\n",
    "<ul>\n",
    "    <li>Vypíšte z dátového setu dupDf cez .value_counts() pre providera PPL TOP 3 dni v mesiaci apríl, kedy dorucil najviac zásielok. Informácie o doručení sú v stĺpci mapped_status pod hodnotou Doručeno.</li>\n",
    "   </ul>"
   ]
  },
  {
   "cell_type": "code",
   "execution_count": 54,
   "metadata": {},
   "outputs": [
    {
     "data": {
      "text/plain": [
       "4     4026\n",
       "19    3207\n",
       "18    2994\n",
       "Name: day, dtype: int64"
      ]
     },
     "execution_count": 54,
     "metadata": {},
     "output_type": "execute_result"
    }
   ],
   "source": [
    "dupDf[(dupDf.provider == 'PPL') & (dupDf.month == 4) & (dupDf.mapped_status == 'Doručeno')].day.value_counts()[:3]"
   ]
  },
  {
   "cell_type": "markdown",
   "metadata": {},
   "source": [
    "<h2>Úlohy z SQL do Pandasu</h2>\n",
    "\n",
    "<ul>\n",
    "        <li>Vypíš z datasetu <code>dupDf</code> všetky mapped_status, providera a tracking_id, kde stavy doručenia sú buď <code>Doručeno</code> alebo <code>Stornováno</code>. Alebo sa značí pomocou <code>|</code></li>\n",
    "    <li>Vypíš prvých 10 najmenších dátumov z mesiaca marec cez <code>sort_values</code></li>\n",
    "    <li>Vypíš všetkých providerov a date, kde medzi dnami 23 a 30 , sú zásielky v stave Převzato dopravcem. Pomôcka: ekvivalentom k BETWEEN je .between(prva hodnota, druha hodnota)</li>\n",
    "    <li>Vypíš všetkých providerov a mapped_status, ktoré sú v stavoch Převzato dopravcem, Na cestě k příjemci, Stornováno. Pomôcka: Ekvivalentom k IN je v pandase <code>df.isin()</code></li>\n",
    "    <li>Vypíš všetky statusy zo stlpca status, kde sú dlhšie ako 30 znakov. Tak isto ako pri práci s listami pomocou metódy len(), len treba pristupovať cez str.len(), lebo pracujeme v Pandase.</li>\n",
    "    <li>Vypíš všetky status zo stĺpca status, kde názov obsahuje znak -. Tak isto ako v Pythone, môžeme využiť contains().</li>\n",
    "    <li>Nahraď iba vo výpise všetky znaky - zo stĺpca status, prázdnym znakom. Tak isto ako v Pythone je možné využiť replace().</li> \n",
    "</ul>"
   ]
  },
  {
   "cell_type": "code",
   "execution_count": 57,
   "metadata": {},
   "outputs": [
    {
     "data": {
      "text/html": [
       "<div>\n",
       "<style scoped>\n",
       "    .dataframe tbody tr th:only-of-type {\n",
       "        vertical-align: middle;\n",
       "    }\n",
       "\n",
       "    .dataframe tbody tr th {\n",
       "        vertical-align: top;\n",
       "    }\n",
       "\n",
       "    .dataframe thead th {\n",
       "        text-align: right;\n",
       "    }\n",
       "</style>\n",
       "<table border=\"1\" class=\"dataframe\">\n",
       "  <thead>\n",
       "    <tr style=\"text-align: right;\">\n",
       "      <th></th>\n",
       "      <th>mapped_status</th>\n",
       "      <th>provider</th>\n",
       "      <th>tracking_id</th>\n",
       "    </tr>\n",
       "  </thead>\n",
       "  <tbody>\n",
       "    <tr>\n",
       "      <th>696108</th>\n",
       "      <td>Doručeno</td>\n",
       "      <td>ČESKÁ POŠTA</td>\n",
       "      <td>1882069</td>\n",
       "    </tr>\n",
       "    <tr>\n",
       "      <th>696095</th>\n",
       "      <td>Doručeno</td>\n",
       "      <td>ČESKÁ POŠTA</td>\n",
       "      <td>1882062</td>\n",
       "    </tr>\n",
       "    <tr>\n",
       "      <th>696077</th>\n",
       "      <td>Doručeno</td>\n",
       "      <td>ČESKÁ POŠTA</td>\n",
       "      <td>1881635</td>\n",
       "    </tr>\n",
       "    <tr>\n",
       "      <th>696066</th>\n",
       "      <td>Doručeno</td>\n",
       "      <td>ČESKÁ POŠTA</td>\n",
       "      <td>1881631</td>\n",
       "    </tr>\n",
       "    <tr>\n",
       "      <th>696041</th>\n",
       "      <td>Doručeno</td>\n",
       "      <td>ČESKÁ POŠTA</td>\n",
       "      <td>1877604</td>\n",
       "    </tr>\n",
       "  </tbody>\n",
       "</table>\n",
       "</div>"
      ],
      "text/plain": [
       "       mapped_status     provider  tracking_id\n",
       "696108      Doručeno  ČESKÁ POŠTA      1882069\n",
       "696095      Doručeno  ČESKÁ POŠTA      1882062\n",
       "696077      Doručeno  ČESKÁ POŠTA      1881635\n",
       "696066      Doručeno  ČESKÁ POŠTA      1881631\n",
       "696041      Doručeno  ČESKÁ POŠTA      1877604"
      ]
     },
     "execution_count": 57,
     "metadata": {},
     "output_type": "execute_result"
    }
   ],
   "source": [
    "dupDf[[\"mapped_status\", \"provider\", \"tracking_id\"]][(dupDf.mapped_status == 'Doručeno') | (dupDf.mapped_status == 'Stornováno')].head()"
   ]
  },
  {
   "cell_type": "code",
   "execution_count": 59,
   "metadata": {},
   "outputs": [
    {
     "data": {
      "text/plain": [
       "696514   2018-03-01 00:01:01\n",
       "523201   2018-03-01 00:02:00\n",
       "524076   2018-03-01 00:02:00\n",
       "523200   2018-03-01 00:02:00\n",
       "524071   2018-03-01 00:02:00\n",
       "524070   2018-03-01 00:02:00\n",
       "524064   2018-03-01 00:02:00\n",
       "696518   2018-03-01 00:06:43\n",
       "696533   2018-03-01 00:07:42\n",
       "696575   2018-03-01 00:12:48\n",
       "Name: date, dtype: datetime64[ns]"
      ]
     },
     "execution_count": 59,
     "metadata": {},
     "output_type": "execute_result"
    }
   ],
   "source": [
    "dupDf.sort_values('date').date.head(10)"
   ]
  },
  {
   "cell_type": "code",
   "execution_count": 62,
   "metadata": {},
   "outputs": [
    {
     "data": {
      "text/html": [
       "<div>\n",
       "<style scoped>\n",
       "    .dataframe tbody tr th:only-of-type {\n",
       "        vertical-align: middle;\n",
       "    }\n",
       "\n",
       "    .dataframe tbody tr th {\n",
       "        vertical-align: top;\n",
       "    }\n",
       "\n",
       "    .dataframe thead th {\n",
       "        text-align: right;\n",
       "    }\n",
       "</style>\n",
       "<table border=\"1\" class=\"dataframe\">\n",
       "  <thead>\n",
       "    <tr style=\"text-align: right;\">\n",
       "      <th></th>\n",
       "      <th>provider</th>\n",
       "      <th>date</th>\n",
       "    </tr>\n",
       "  </thead>\n",
       "  <tbody>\n",
       "    <tr>\n",
       "      <th>696119</th>\n",
       "      <td>ČESKÁ POŠTA</td>\n",
       "      <td>2018-04-30 07:14:00</td>\n",
       "    </tr>\n",
       "    <tr>\n",
       "      <th>696117</th>\n",
       "      <td>ČESKÁ POŠTA</td>\n",
       "      <td>2018-04-30 07:14:00</td>\n",
       "    </tr>\n",
       "    <tr>\n",
       "      <th>696114</th>\n",
       "      <td>ČESKÁ POŠTA</td>\n",
       "      <td>2018-04-30 07:14:00</td>\n",
       "    </tr>\n",
       "    <tr>\n",
       "      <th>696112</th>\n",
       "      <td>ČESKÁ POŠTA</td>\n",
       "      <td>2018-04-30 07:14:00</td>\n",
       "    </tr>\n",
       "    <tr>\n",
       "      <th>696110</th>\n",
       "      <td>ČESKÁ POŠTA</td>\n",
       "      <td>2018-04-30 07:14:00</td>\n",
       "    </tr>\n",
       "  </tbody>\n",
       "</table>\n",
       "</div>"
      ],
      "text/plain": [
       "           provider                date\n",
       "696119  ČESKÁ POŠTA 2018-04-30 07:14:00\n",
       "696117  ČESKÁ POŠTA 2018-04-30 07:14:00\n",
       "696114  ČESKÁ POŠTA 2018-04-30 07:14:00\n",
       "696112  ČESKÁ POŠTA 2018-04-30 07:14:00\n",
       "696110  ČESKÁ POŠTA 2018-04-30 07:14:00"
      ]
     },
     "execution_count": 62,
     "metadata": {},
     "output_type": "execute_result"
    }
   ],
   "source": [
    "dupDf[[\"provider\", \"date\"]][(dupDf.day.between(23, 30)) & (dupDf[\"mapped_status\"] == 'Převzato dopravcem')].head()"
   ]
  },
  {
   "cell_type": "code",
   "execution_count": 63,
   "metadata": {},
   "outputs": [
    {
     "data": {
      "text/html": [
       "<div>\n",
       "<style scoped>\n",
       "    .dataframe tbody tr th:only-of-type {\n",
       "        vertical-align: middle;\n",
       "    }\n",
       "\n",
       "    .dataframe tbody tr th {\n",
       "        vertical-align: top;\n",
       "    }\n",
       "\n",
       "    .dataframe thead th {\n",
       "        text-align: right;\n",
       "    }\n",
       "</style>\n",
       "<table border=\"1\" class=\"dataframe\">\n",
       "  <thead>\n",
       "    <tr style=\"text-align: right;\">\n",
       "      <th></th>\n",
       "      <th>provider</th>\n",
       "      <th>mapped_status</th>\n",
       "    </tr>\n",
       "  </thead>\n",
       "  <tbody>\n",
       "    <tr>\n",
       "      <th>696119</th>\n",
       "      <td>ČESKÁ POŠTA</td>\n",
       "      <td>Převzato dopravcem</td>\n",
       "    </tr>\n",
       "    <tr>\n",
       "      <th>696118</th>\n",
       "      <td>ČESKÁ POŠTA</td>\n",
       "      <td>Na cestě k příjemci</td>\n",
       "    </tr>\n",
       "    <tr>\n",
       "      <th>696115</th>\n",
       "      <td>ČESKÁ POŠTA</td>\n",
       "      <td>Na cestě k příjemci</td>\n",
       "    </tr>\n",
       "    <tr>\n",
       "      <th>696116</th>\n",
       "      <td>ČESKÁ POŠTA</td>\n",
       "      <td>Na cestě k příjemci</td>\n",
       "    </tr>\n",
       "    <tr>\n",
       "      <th>696117</th>\n",
       "      <td>ČESKÁ POŠTA</td>\n",
       "      <td>Převzato dopravcem</td>\n",
       "    </tr>\n",
       "  </tbody>\n",
       "</table>\n",
       "</div>"
      ],
      "text/plain": [
       "           provider        mapped_status\n",
       "696119  ČESKÁ POŠTA   Převzato dopravcem\n",
       "696118  ČESKÁ POŠTA  Na cestě k příjemci\n",
       "696115  ČESKÁ POŠTA  Na cestě k příjemci\n",
       "696116  ČESKÁ POŠTA  Na cestě k příjemci\n",
       "696117  ČESKÁ POŠTA   Převzato dopravcem"
      ]
     },
     "execution_count": 63,
     "metadata": {},
     "output_type": "execute_result"
    }
   ],
   "source": [
    "dupDf[[\"provider\", \"mapped_status\"]][dupDf[\"mapped_status\"].isin(['Převzato dopravcem', 'Stornováno', 'Na cestě k příjemci'])].head()"
   ]
  },
  {
   "cell_type": "code",
   "execution_count": 65,
   "metadata": {},
   "outputs": [
    {
     "data": {
      "text/plain": [
       "696119    Řádně podaná zásilka - do rozhodné doby\n",
       "696117    Řádně podaná zásilka - do rozhodné doby\n",
       "696114    Řádně podaná zásilka - do rozhodné doby\n",
       "696112    Řádně podaná zásilka - do rozhodné doby\n",
       "696110    Řádně podaná zásilka - do rozhodné doby\n",
       "Name: status, dtype: object"
      ]
     },
     "execution_count": 65,
     "metadata": {},
     "output_type": "execute_result"
    }
   ],
   "source": [
    "dupDf[\"status\"][dupDf[\"status\"].str.len() > 30].head()"
   ]
  },
  {
   "cell_type": "code",
   "execution_count": 66,
   "metadata": {},
   "outputs": [
    {
     "data": {
      "text/plain": [
       "696119    Řádně podaná zásilka - do rozhodné doby\n",
       "696117    Řádně podaná zásilka - do rozhodné doby\n",
       "696114    Řádně podaná zásilka - do rozhodné doby\n",
       "696112    Řádně podaná zásilka - do rozhodné doby\n",
       "696110    Řádně podaná zásilka - do rozhodné doby\n",
       "Name: status, dtype: object"
      ]
     },
     "execution_count": 66,
     "metadata": {},
     "output_type": "execute_result"
    }
   ],
   "source": [
    "dupDf[\"status\"][dupDf[\"status\"].str.contains('-')].head()"
   ]
  },
  {
   "cell_type": "code",
   "execution_count": 75,
   "metadata": {},
   "outputs": [
    {
     "data": {
      "text/plain": [
       "696119    Řádně podaná zásilka * do rozhodné doby\n",
       "696117    Řádně podaná zásilka * do rozhodné doby\n",
       "696114    Řádně podaná zásilka * do rozhodné doby\n",
       "696112    Řádně podaná zásilka * do rozhodné doby\n",
       "696110    Řádně podaná zásilka * do rozhodné doby\n",
       "Name: status, dtype: object"
      ]
     },
     "execution_count": 75,
     "metadata": {},
     "output_type": "execute_result"
    }
   ],
   "source": [
    "dupDf[\"status\"][dupDf[\"status\"].str.contains('-')].str.replace('-', '*').head()"
   ]
  },
  {
   "cell_type": "code",
   "execution_count": 69,
   "metadata": {},
   "outputs": [],
   "source": [
    "onlyDelivered = dupDf[[\"provider\", \"tracking_id\", \"month\"]][dupDf.mapped_status == 'Doručeno']"
   ]
  },
  {
   "cell_type": "code",
   "execution_count": 70,
   "metadata": {},
   "outputs": [
    {
     "data": {
      "text/html": [
       "<div>\n",
       "<style scoped>\n",
       "    .dataframe tbody tr th:only-of-type {\n",
       "        vertical-align: middle;\n",
       "    }\n",
       "\n",
       "    .dataframe tbody tr th {\n",
       "        vertical-align: top;\n",
       "    }\n",
       "\n",
       "    .dataframe thead th {\n",
       "        text-align: right;\n",
       "    }\n",
       "</style>\n",
       "<table border=\"1\" class=\"dataframe\">\n",
       "  <thead>\n",
       "    <tr style=\"text-align: right;\">\n",
       "      <th></th>\n",
       "      <th>provider</th>\n",
       "      <th>tracking_id</th>\n",
       "      <th>month</th>\n",
       "    </tr>\n",
       "  </thead>\n",
       "  <tbody>\n",
       "    <tr>\n",
       "      <th>0</th>\n",
       "      <td>PPL</td>\n",
       "      <td>1415857</td>\n",
       "      <td>3</td>\n",
       "    </tr>\n",
       "    <tr>\n",
       "      <th>520229</th>\n",
       "      <td>ČESKÁ POŠTA</td>\n",
       "      <td>1430907</td>\n",
       "      <td>4</td>\n",
       "    </tr>\n",
       "    <tr>\n",
       "      <th>520235</th>\n",
       "      <td>ČESKÁ POŠTA</td>\n",
       "      <td>1431420</td>\n",
       "      <td>4</td>\n",
       "    </tr>\n",
       "    <tr>\n",
       "      <th>520282</th>\n",
       "      <td>ČESKÁ POŠTA</td>\n",
       "      <td>1539546</td>\n",
       "      <td>4</td>\n",
       "    </tr>\n",
       "    <tr>\n",
       "      <th>520299</th>\n",
       "      <td>ČESKÁ POŠTA</td>\n",
       "      <td>1557881</td>\n",
       "      <td>4</td>\n",
       "    </tr>\n",
       "  </tbody>\n",
       "</table>\n",
       "</div>"
      ],
      "text/plain": [
       "           provider  tracking_id  month\n",
       "0               PPL      1415857      3\n",
       "520229  ČESKÁ POŠTA      1430907      4\n",
       "520235  ČESKÁ POŠTA      1431420      4\n",
       "520282  ČESKÁ POŠTA      1539546      4\n",
       "520299  ČESKÁ POŠTA      1557881      4"
      ]
     },
     "execution_count": 70,
     "metadata": {},
     "output_type": "execute_result"
    }
   ],
   "source": [
    "onlyDelivered.sort_values(by='tracking_id').head()"
   ]
  },
  {
   "cell_type": "markdown",
   "metadata": {},
   "source": [
    "<h2>Pivotné tabuľky</h2>"
   ]
  },
  {
   "cell_type": "code",
   "execution_count": 76,
   "metadata": {},
   "outputs": [],
   "source": [
    "pivot = pd.pivot_table(onlyDelivered, index='provider', columns='month', values='tracking_id', aggfunc='count', margins=True)"
   ]
  },
  {
   "cell_type": "code",
   "execution_count": 77,
   "metadata": {},
   "outputs": [
    {
     "data": {
      "text/html": [
       "<div>\n",
       "<style scoped>\n",
       "    .dataframe tbody tr th:only-of-type {\n",
       "        vertical-align: middle;\n",
       "    }\n",
       "\n",
       "    .dataframe tbody tr th {\n",
       "        vertical-align: top;\n",
       "    }\n",
       "\n",
       "    .dataframe thead th {\n",
       "        text-align: right;\n",
       "    }\n",
       "</style>\n",
       "<table border=\"1\" class=\"dataframe\">\n",
       "  <thead>\n",
       "    <tr style=\"text-align: right;\">\n",
       "      <th>month</th>\n",
       "      <th>3</th>\n",
       "      <th>4</th>\n",
       "      <th>All</th>\n",
       "    </tr>\n",
       "    <tr>\n",
       "      <th>provider</th>\n",
       "      <th></th>\n",
       "      <th></th>\n",
       "      <th></th>\n",
       "    </tr>\n",
       "  </thead>\n",
       "  <tbody>\n",
       "    <tr>\n",
       "      <th>GEIS</th>\n",
       "      <td>2308</td>\n",
       "      <td>2793</td>\n",
       "      <td>5101</td>\n",
       "    </tr>\n",
       "    <tr>\n",
       "      <th>PPL</th>\n",
       "      <td>54060</td>\n",
       "      <td>50096</td>\n",
       "      <td>104156</td>\n",
       "    </tr>\n",
       "    <tr>\n",
       "      <th>ČESKÁ POŠTA</th>\n",
       "      <td>15308</td>\n",
       "      <td>15275</td>\n",
       "      <td>30583</td>\n",
       "    </tr>\n",
       "    <tr>\n",
       "      <th>All</th>\n",
       "      <td>71676</td>\n",
       "      <td>68164</td>\n",
       "      <td>139840</td>\n",
       "    </tr>\n",
       "  </tbody>\n",
       "</table>\n",
       "</div>"
      ],
      "text/plain": [
       "month            3      4     All\n",
       "provider                         \n",
       "GEIS          2308   2793    5101\n",
       "PPL          54060  50096  104156\n",
       "ČESKÁ POŠTA  15308  15275   30583\n",
       "All          71676  68164  139840"
      ]
     },
     "execution_count": 77,
     "metadata": {},
     "output_type": "execute_result"
    }
   ],
   "source": [
    "pivot"
   ]
  },
  {
   "cell_type": "code",
   "execution_count": 80,
   "metadata": {},
   "outputs": [],
   "source": [
    "def highlight_max(s):\n",
    "    is_max = s >= 50000\n",
    "    return ['background-color: #8dc832' if v else '' for v in is_max]"
   ]
  },
  {
   "cell_type": "code",
   "execution_count": 79,
   "metadata": {},
   "outputs": [
    {
     "data": {
      "text/html": [
       "<style  type=\"text/css\" >\n",
       "    #T_7cd3add0_53a8_11e8_a69c_6c4008b919d4row1_col0 {\n",
       "            background-color:  #8dc832;\n",
       "        }    #T_7cd3add0_53a8_11e8_a69c_6c4008b919d4row1_col1 {\n",
       "            background-color:  #8dc832;\n",
       "        }    #T_7cd3add0_53a8_11e8_a69c_6c4008b919d4row1_col2 {\n",
       "            background-color:  #8dc832;\n",
       "        }</style>  \n",
       "<table id=\"T_7cd3add0_53a8_11e8_a69c_6c4008b919d4\" > \n",
       "<thead>    <tr> \n",
       "        <th class=\"index_name level0\" >month</th> \n",
       "        <th class=\"col_heading level0 col0\" >3</th> \n",
       "        <th class=\"col_heading level0 col1\" >4</th> \n",
       "        <th class=\"col_heading level0 col2\" >All</th> \n",
       "    </tr>    <tr> \n",
       "        <th class=\"index_name level0\" >provider</th> \n",
       "        <th class=\"blank\" ></th> \n",
       "        <th class=\"blank\" ></th> \n",
       "        <th class=\"blank\" ></th> \n",
       "    </tr></thead> \n",
       "<tbody>    <tr> \n",
       "        <th id=\"T_7cd3add0_53a8_11e8_a69c_6c4008b919d4level0_row0\" class=\"row_heading level0 row0\" >GEIS</th> \n",
       "        <td id=\"T_7cd3add0_53a8_11e8_a69c_6c4008b919d4row0_col0\" class=\"data row0 col0\" >2308</td> \n",
       "        <td id=\"T_7cd3add0_53a8_11e8_a69c_6c4008b919d4row0_col1\" class=\"data row0 col1\" >2793</td> \n",
       "        <td id=\"T_7cd3add0_53a8_11e8_a69c_6c4008b919d4row0_col2\" class=\"data row0 col2\" >5101</td> \n",
       "    </tr>    <tr> \n",
       "        <th id=\"T_7cd3add0_53a8_11e8_a69c_6c4008b919d4level0_row1\" class=\"row_heading level0 row1\" >PPL</th> \n",
       "        <td id=\"T_7cd3add0_53a8_11e8_a69c_6c4008b919d4row1_col0\" class=\"data row1 col0\" >54060</td> \n",
       "        <td id=\"T_7cd3add0_53a8_11e8_a69c_6c4008b919d4row1_col1\" class=\"data row1 col1\" >50096</td> \n",
       "        <td id=\"T_7cd3add0_53a8_11e8_a69c_6c4008b919d4row1_col2\" class=\"data row1 col2\" >104156</td> \n",
       "    </tr>    <tr> \n",
       "        <th id=\"T_7cd3add0_53a8_11e8_a69c_6c4008b919d4level0_row2\" class=\"row_heading level0 row2\" >ČESKÁ POŠTA</th> \n",
       "        <td id=\"T_7cd3add0_53a8_11e8_a69c_6c4008b919d4row2_col0\" class=\"data row2 col0\" >15308</td> \n",
       "        <td id=\"T_7cd3add0_53a8_11e8_a69c_6c4008b919d4row2_col1\" class=\"data row2 col1\" >15275</td> \n",
       "        <td id=\"T_7cd3add0_53a8_11e8_a69c_6c4008b919d4row2_col2\" class=\"data row2 col2\" >30583</td> \n",
       "    </tr></tbody> \n",
       "</table> "
      ],
      "text/plain": [
       "<pandas.io.formats.style.Styler at 0x141c13a58>"
      ]
     },
     "execution_count": 79,
     "metadata": {},
     "output_type": "execute_result"
    }
   ],
   "source": [
    "pivot[0:3].style.apply(highlight_maxlight_max)"
   ]
  },
  {
   "cell_type": "code",
   "execution_count": 81,
   "metadata": {},
   "outputs": [],
   "source": [
    "pivot2 = pd.pivot_table(dupDf, index='month', columns=['provider', 'mapped_status'], values=\"tracking_id\", aggfunc='count')"
   ]
  },
  {
   "cell_type": "code",
   "execution_count": 82,
   "metadata": {},
   "outputs": [
    {
     "data": {
      "text/html": [
       "<div>\n",
       "<style scoped>\n",
       "    .dataframe tbody tr th:only-of-type {\n",
       "        vertical-align: middle;\n",
       "    }\n",
       "\n",
       "    .dataframe tbody tr th {\n",
       "        vertical-align: top;\n",
       "    }\n",
       "\n",
       "    .dataframe thead tr th {\n",
       "        text-align: left;\n",
       "    }\n",
       "\n",
       "    .dataframe thead tr:last-of-type th {\n",
       "        text-align: right;\n",
       "    }\n",
       "</style>\n",
       "<table border=\"1\" class=\"dataframe\">\n",
       "  <thead>\n",
       "    <tr>\n",
       "      <th>provider</th>\n",
       "      <th colspan=\"5\" halign=\"left\">GEIS</th>\n",
       "      <th colspan=\"5\" halign=\"left\">PPL</th>\n",
       "      <th colspan=\"5\" halign=\"left\">ČESKÁ POŠTA</th>\n",
       "    </tr>\n",
       "    <tr>\n",
       "      <th>mapped_status</th>\n",
       "      <th>Doručeno</th>\n",
       "      <th>Na cestě k příjemci</th>\n",
       "      <th>Nezadane</th>\n",
       "      <th>Převzato dopravcem</th>\n",
       "      <th>Stornováno</th>\n",
       "      <th>Doručeno</th>\n",
       "      <th>Na cestě k příjemci</th>\n",
       "      <th>Nezadane</th>\n",
       "      <th>Převzato dopravcem</th>\n",
       "      <th>Stornováno</th>\n",
       "      <th>Doručeno</th>\n",
       "      <th>Na cestě k příjemci</th>\n",
       "      <th>Nezadane</th>\n",
       "      <th>Převzato dopravcem</th>\n",
       "      <th>Stornováno</th>\n",
       "    </tr>\n",
       "    <tr>\n",
       "      <th>month</th>\n",
       "      <th></th>\n",
       "      <th></th>\n",
       "      <th></th>\n",
       "      <th></th>\n",
       "      <th></th>\n",
       "      <th></th>\n",
       "      <th></th>\n",
       "      <th></th>\n",
       "      <th></th>\n",
       "      <th></th>\n",
       "      <th></th>\n",
       "      <th></th>\n",
       "      <th></th>\n",
       "      <th></th>\n",
       "      <th></th>\n",
       "    </tr>\n",
       "  </thead>\n",
       "  <tbody>\n",
       "    <tr>\n",
       "      <th>3</th>\n",
       "      <td>2308</td>\n",
       "      <td>2701</td>\n",
       "      <td>2867</td>\n",
       "      <td>6866</td>\n",
       "      <td>69</td>\n",
       "      <td>54060</td>\n",
       "      <td>122265</td>\n",
       "      <td>2950</td>\n",
       "      <td>105969</td>\n",
       "      <td>1485</td>\n",
       "      <td>15308</td>\n",
       "      <td>56432</td>\n",
       "      <td>313</td>\n",
       "      <td>14114</td>\n",
       "      <td>1035</td>\n",
       "    </tr>\n",
       "    <tr>\n",
       "      <th>4</th>\n",
       "      <td>2793</td>\n",
       "      <td>3485</td>\n",
       "      <td>3284</td>\n",
       "      <td>8081</td>\n",
       "      <td>130</td>\n",
       "      <td>50096</td>\n",
       "      <td>115328</td>\n",
       "      <td>3039</td>\n",
       "      <td>63571</td>\n",
       "      <td>1466</td>\n",
       "      <td>15275</td>\n",
       "      <td>58222</td>\n",
       "      <td>306</td>\n",
       "      <td>13808</td>\n",
       "      <td>1078</td>\n",
       "    </tr>\n",
       "  </tbody>\n",
       "</table>\n",
       "</div>"
      ],
      "text/plain": [
       "provider          GEIS                                                  \\\n",
       "mapped_status Doručeno Na cestě k příjemci Nezadane Převzato dopravcem   \n",
       "month                                                                    \n",
       "3                 2308                2701     2867               6866   \n",
       "4                 2793                3485     3284               8081   \n",
       "\n",
       "provider                      PPL                               \\\n",
       "mapped_status Stornováno Doručeno Na cestě k příjemci Nezadane   \n",
       "month                                                            \n",
       "3                     69    54060              122265     2950   \n",
       "4                    130    50096              115328     3039   \n",
       "\n",
       "provider                                    ČESKÁ POŠTA                      \\\n",
       "mapped_status Převzato dopravcem Stornováno    Doručeno Na cestě k příjemci   \n",
       "month                                                                         \n",
       "3                         105969       1485       15308               56432   \n",
       "4                          63571       1466       15275               58222   \n",
       "\n",
       "provider                                              \n",
       "mapped_status Nezadane Převzato dopravcem Stornováno  \n",
       "month                                                 \n",
       "3                  313              14114       1035  \n",
       "4                  306              13808       1078  "
      ]
     },
     "execution_count": 82,
     "metadata": {},
     "output_type": "execute_result"
    }
   ],
   "source": [
    "pivot2"
   ]
  },
  {
   "cell_type": "code",
   "execution_count": 83,
   "metadata": {},
   "outputs": [
    {
     "data": {
      "text/html": [
       "<div>\n",
       "<style scoped>\n",
       "    .dataframe tbody tr th:only-of-type {\n",
       "        vertical-align: middle;\n",
       "    }\n",
       "\n",
       "    .dataframe tbody tr th {\n",
       "        vertical-align: top;\n",
       "    }\n",
       "\n",
       "    .dataframe thead th {\n",
       "        text-align: right;\n",
       "    }\n",
       "</style>\n",
       "<table border=\"1\" class=\"dataframe\">\n",
       "  <thead>\n",
       "    <tr style=\"text-align: right;\">\n",
       "      <th></th>\n",
       "      <th>month</th>\n",
       "      <th>3</th>\n",
       "      <th>4</th>\n",
       "    </tr>\n",
       "    <tr>\n",
       "      <th>provider</th>\n",
       "      <th>mapped_status</th>\n",
       "      <th></th>\n",
       "      <th></th>\n",
       "    </tr>\n",
       "  </thead>\n",
       "  <tbody>\n",
       "    <tr>\n",
       "      <th rowspan=\"5\" valign=\"top\">GEIS</th>\n",
       "      <th>Doručeno</th>\n",
       "      <td>2308</td>\n",
       "      <td>2793</td>\n",
       "    </tr>\n",
       "    <tr>\n",
       "      <th>Na cestě k příjemci</th>\n",
       "      <td>2701</td>\n",
       "      <td>3485</td>\n",
       "    </tr>\n",
       "    <tr>\n",
       "      <th>Nezadane</th>\n",
       "      <td>2867</td>\n",
       "      <td>3284</td>\n",
       "    </tr>\n",
       "    <tr>\n",
       "      <th>Převzato dopravcem</th>\n",
       "      <td>6866</td>\n",
       "      <td>8081</td>\n",
       "    </tr>\n",
       "    <tr>\n",
       "      <th>Stornováno</th>\n",
       "      <td>69</td>\n",
       "      <td>130</td>\n",
       "    </tr>\n",
       "    <tr>\n",
       "      <th rowspan=\"5\" valign=\"top\">PPL</th>\n",
       "      <th>Doručeno</th>\n",
       "      <td>54060</td>\n",
       "      <td>50096</td>\n",
       "    </tr>\n",
       "    <tr>\n",
       "      <th>Na cestě k příjemci</th>\n",
       "      <td>122265</td>\n",
       "      <td>115328</td>\n",
       "    </tr>\n",
       "    <tr>\n",
       "      <th>Nezadane</th>\n",
       "      <td>2950</td>\n",
       "      <td>3039</td>\n",
       "    </tr>\n",
       "    <tr>\n",
       "      <th>Převzato dopravcem</th>\n",
       "      <td>105969</td>\n",
       "      <td>63571</td>\n",
       "    </tr>\n",
       "    <tr>\n",
       "      <th>Stornováno</th>\n",
       "      <td>1485</td>\n",
       "      <td>1466</td>\n",
       "    </tr>\n",
       "    <tr>\n",
       "      <th rowspan=\"5\" valign=\"top\">ČESKÁ POŠTA</th>\n",
       "      <th>Doručeno</th>\n",
       "      <td>15308</td>\n",
       "      <td>15275</td>\n",
       "    </tr>\n",
       "    <tr>\n",
       "      <th>Na cestě k příjemci</th>\n",
       "      <td>56432</td>\n",
       "      <td>58222</td>\n",
       "    </tr>\n",
       "    <tr>\n",
       "      <th>Nezadane</th>\n",
       "      <td>313</td>\n",
       "      <td>306</td>\n",
       "    </tr>\n",
       "    <tr>\n",
       "      <th>Převzato dopravcem</th>\n",
       "      <td>14114</td>\n",
       "      <td>13808</td>\n",
       "    </tr>\n",
       "    <tr>\n",
       "      <th>Stornováno</th>\n",
       "      <td>1035</td>\n",
       "      <td>1078</td>\n",
       "    </tr>\n",
       "  </tbody>\n",
       "</table>\n",
       "</div>"
      ],
      "text/plain": [
       "month                                 3       4\n",
       "provider    mapped_status                      \n",
       "GEIS        Doručeno               2308    2793\n",
       "            Na cestě k příjemci    2701    3485\n",
       "            Nezadane               2867    3284\n",
       "            Převzato dopravcem     6866    8081\n",
       "            Stornováno               69     130\n",
       "PPL         Doručeno              54060   50096\n",
       "            Na cestě k příjemci  122265  115328\n",
       "            Nezadane               2950    3039\n",
       "            Převzato dopravcem   105969   63571\n",
       "            Stornováno             1485    1466\n",
       "ČESKÁ POŠTA Doručeno              15308   15275\n",
       "            Na cestě k příjemci   56432   58222\n",
       "            Nezadane                313     306\n",
       "            Převzato dopravcem    14114   13808\n",
       "            Stornováno             1035    1078"
      ]
     },
     "execution_count": 83,
     "metadata": {},
     "output_type": "execute_result"
    }
   ],
   "source": [
    "pivot2.T"
   ]
  },
  {
   "cell_type": "code",
   "execution_count": null,
   "metadata": {},
   "outputs": [],
   "source": []
  },
  {
   "cell_type": "markdown",
   "metadata": {},
   "source": [
    "<h2>Práca so stringami - textovými reťazcami</h2>\n",
    "\n",
    "<p>Pandas, podobne ako v Pythone nám umožňuje pracovať s textovými reťazcami.</p>\n",
    "\n",
    "<table>\n",
    "<thead>\n",
    "<tr>\n",
    "<th></th>\n",
    "<th></th>\n",
    "<th></th>\n",
    "<th></th>\n",
    "</tr>\n",
    "</thead>\n",
    "<tbody>\n",
    "<tr>\n",
    "<td><code>len()</code></td>\n",
    "<td><code>lower()</code></td>\n",
    "<td><code>translate()</code></td>\n",
    "<td><code>islower()</code></td>\n",
    "</tr>\n",
    "<tr>\n",
    "<td><code>ljust()</code></td>\n",
    "<td><code>upper()</code></td>\n",
    "<td><code>startswith()</code></td>\n",
    "<td><code>isupper()</code></td>\n",
    "</tr>\n",
    "<tr>\n",
    "<td><code>rjust()</code></td>\n",
    "<td><code>find()</code></td>\n",
    "<td><code>endswith()</code></td>\n",
    "<td><code>isnumeric()</code></td>\n",
    "</tr>\n",
    "<tr>\n",
    "<td><code>center()</code></td>\n",
    "<td><code>rfind()</code></td>\n",
    "<td><code>isalnum()</code></td>\n",
    "<td><code>isdecimal()</code></td>\n",
    "</tr>\n",
    "<tr>\n",
    "<td><code>zfill()</code></td>\n",
    "<td><code>index()</code></td>\n",
    "<td><code>isalpha()</code></td>\n",
    "<td><code>split()</code></td>\n",
    "</tr>\n",
    "<tr>\n",
    "<td><code>strip()</code></td>\n",
    "<td><code>rindex()</code></td>\n",
    "<td><code>isdigit()</code></td>\n",
    "<td><code>rsplit()</code></td>\n",
    "</tr>\n",
    "<tr>\n",
    "<td><code>rstrip()</code></td>\n",
    "<td><code>capitalize()</code></td>\n",
    "<td><code>isspace()</code></td>\n",
    "<td><code>partition()</code></td>\n",
    "</tr>\n",
    "<tr>\n",
    "<td><code>lstrip()</code></td>\n",
    "<td><code>swapcase()</code></td>\n",
    "<td><code>istitle()</code></td>\n",
    "<td><code>rpartition()</code></td>\n",
    "</tr>\n",
    "</tbody>\n",
    "</table>"
   ]
  },
  {
   "cell_type": "markdown",
   "metadata": {},
   "source": [
    "<h2>Úloha</h2>\n",
    "\n",
    "<ul>\n",
    "    <li>Z dátového setup dupDf vypíšte všetkých providerov, ktorý začínajú na písmeno <b>P</b>. Pomôcka: Jedná sa o metódu <code>startswith()</code></li>\n",
    "</ul>"
   ]
  },
  {
   "cell_type": "code",
   "execution_count": 84,
   "metadata": {},
   "outputs": [
    {
     "data": {
      "text/plain": [
       "520228    PPL\n",
       "Name: provider, dtype: object"
      ]
     },
     "execution_count": 84,
     "metadata": {},
     "output_type": "execute_result"
    }
   ],
   "source": [
    "dupDf[\"provider\"][dupDf[\"provider\"].str.startswith('P')][:1]"
   ]
  },
  {
   "cell_type": "code",
   "execution_count": 85,
   "metadata": {},
   "outputs": [],
   "source": [
    "dupDf.to_csv('../csv/dupdf.csv', encoding='utf-8')"
   ]
  }
 ],
 "metadata": {
  "kernelspec": {
   "display_name": "Python 3",
   "language": "python",
   "name": "python3"
  },
  "language_info": {
   "codemirror_mode": {
    "name": "ipython",
    "version": 3
   },
   "file_extension": ".py",
   "mimetype": "text/x-python",
   "name": "python",
   "nbconvert_exporter": "python",
   "pygments_lexer": "ipython3",
   "version": "3.6.4"
  }
 },
 "nbformat": 4,
 "nbformat_minor": 2
}
