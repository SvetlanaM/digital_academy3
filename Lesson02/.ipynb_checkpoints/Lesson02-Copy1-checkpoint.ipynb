{
 "cells": [
  {
   "cell_type": "markdown",
   "metadata": {},
   "source": [
    "<h2>Práca na dátovom zadaní</h2>\n",
    "\n",
    "<p>V rámci kurzu budeme pracovať na zadaní, ktoré znie nasledovne:</p>\n",
    "<ul>\n",
    "    <li>Máme rôzne prepravné spoločnosti doručujúce zásielky. Potrebujeme pre naše potreby preveriť stavy zasielané dopravcami, nadväznosť stavov na seba a identifikovať správny flow. Potrebujeme zistiť, ktorý stav chodí od dopravcov najčastejšie ako prvý, aká je postupnosť stavov, aké sú časy medzi stavmi, aké/či nastanú ďalšie stavy za finálnymi stavmi, chýbajúce hlavné stavy.</li>\n",
    "    <li>Potrebujeme vybrať TOP dopravcu, ktorý doručuje najčastajšie, najrýchlejšie, má najmenej storno zásielok a najmenej meškajúcich doručení</li>\n",
    "    <li>Potrebujeme vedieť identifikovať približný predpokladaný dátum doručenia skôr ako k meškaniu dôjde</li>\n",
    "</ul>\n",
    "\n",
    "<p>Pracovať budeme s dopravcami:</p>\n",
    "<ul>\n",
    "    <li>PPL</li>\n",
    "    <li>Česká Pošta</li>\n",
    "    <li>Geis</li>\n",
    "</ul>\n",
    "\n",
    "<img src=\"http://ak6.picdn.net/shutterstock/videos/24830246/thumb/6.jpg\" />"
   ]
  },
  {
   "cell_type": "markdown",
   "metadata": {},
   "source": [
    "<h2>Ako postupovať?</h2>\n",
    "<p>1. V prvom kroku musíme zistiť a vydefinovať, ako má <strong>vyzerať finálny výstup</strong></p>\n",
    "\n",
    "<h3>Identifikácia vyťaženosti dopravcov</h3>\n",
    "<p>Výstup je požadovaný v nasledovnej podobne: <br />\n",
    "    <i>CSV súbor/Tabuľka v pandase/Tableau, kde budeme vedieť identifikovať dopravcu, dátum, číslo zásielky a úspešnosť doručenia alebo naopak meškajúcich zásielok.</i>\n",
    "</p>\n",
    "<br />\n",
    "<p>2. V druhom kroku musíme zistiť, <strong>ako často</strong> chceme mať hodnoty aktualizované a kto s nimi bude pracovať.</p>\n",
    "<p>Aktualizácia dát: <br />\n",
    "    <i>Denne/Real-time. Na výstup pozerá manažér logistiky, ktorý komunikuje s dopravcami a zároveň zákaznícke centru, ktoré potrebujeme informovať užívateľov o stave ich zásielky.</i>\n",
    "</p>\n",
    "<br />\n",
    "\n",
    "<p>3. V treťom kroku musíme zistiť, čo cieľovému používateľovi táto informácia <strong>prinesie</strong> a ako s ňou bude ďalej pracovať.</p>\n",
    "<p>Hodnota informácie a poznatkov: <br />\n",
    "    <i>Na základe výstupov môže manažér poslať podklady dopravcov o nesprávnom mapovaní stavov, nedodržiavaní načítavania stavov kuriérom, indetifikovať spätné procesy pri vrátení zásielky, zlepšiť užívateľskú skúsenosť pri komunikácii s odberateľom zásielky.</i>\n",
    "</p>\n",
    "<br />"
   ]
  },
  {
   "cell_type": "markdown",
   "metadata": {},
   "source": [
    "<h2>Vstupné dáta</h2>\n",
    "<p>Až v tomto kroku zisťujeme, či máme vstupné dáta pre uspokojenie požiadaviek vymenovaných vyššie. Našimi vstupnými dátami sú stavy doručovania zásielok od vyššie uvedených 3 providerov exportnutých z databázy vo formáte CSV za celé obdobie sledovania.</p>"
   ]
  },
  {
   "cell_type": "code",
   "execution_count": 1,
   "metadata": {},
   "outputs": [],
   "source": [
    "import pandas as pd\n",
    "import numpy as np"
   ]
  },
  {
   "cell_type": "code",
   "execution_count": 2,
   "metadata": {},
   "outputs": [],
   "source": [
    "#Import vstupných dát\n"
   ]
  },
  {
   "cell_type": "code",
   "execution_count": 3,
   "metadata": {},
   "outputs": [],
   "source": [
    "#Preskúmanie vstupných dát\n"
   ]
  },
  {
   "cell_type": "markdown",
   "metadata": {},
   "source": [
    "<h2>Úlohy</h2>\n",
    "\n",
    "<ol>\n",
    "    <li>Vypíšte prvých 5 riadkov pre dátový set cpDf a geisDf</li>\n",
    "</ol>"
   ]
  },
  {
   "cell_type": "code",
   "execution_count": null,
   "metadata": {},
   "outputs": [],
   "source": []
  },
  {
   "cell_type": "code",
   "execution_count": null,
   "metadata": {},
   "outputs": [],
   "source": []
  },
  {
   "cell_type": "markdown",
   "metadata": {},
   "source": [
    "<h2>Úlohy</h2>\n",
    "\n",
    "<ol>\n",
    "    <li>Vypíšte za všetky dávoé sety koľko majú riadkov a stĺcov. (Pomôcka: shape)</li>\n",
    "</ol>"
   ]
  },
  {
   "cell_type": "code",
   "execution_count": null,
   "metadata": {},
   "outputs": [],
   "source": []
  },
  {
   "cell_type": "markdown",
   "metadata": {},
   "source": [
    "<h2>Predstavenie dátového setu</h2>\n",
    "\n",
    "<p>Dátový set obsahuje informácie o:\n",
    "<ul>\n",
    "    <li>tracking_id - autoinkrementálne tracking id v databáze</li>\n",
    "    <li>date - dátum stavu</li>\n",
    "    <li>status - stav od dopravcu</li>\n",
    "    <li>mapped_status - náš namapovaný stav zobrazovaný zákazníkovi k danému stavu</li>\n",
    "    <li>provider - názov providera</li>\n",
    "</ul>\n",
    "</p>"
   ]
  },
  {
   "cell_type": "markdown",
   "metadata": {},
   "source": [
    "<h2>Spojenie dátových setov do jedného - UNION/UNION ALL</h2>\n",
    "\n",
    "<p>Z SQL už poznáte príkazy <code>UNION</code> (spojí dátový set bez duplicít) alebo <code>UNION ALL</code> (spojí dátový set vrátane duplicít v danom sete). <br />\n",
    "Na podobnom princípe je možné spájať dateframy aj v pandase.\n",
    "</p>\n",
    "\n",
    "<img src=\"https://1.bp.blogspot.com/-vy4XjCrfocg/V9RMi0yZ0EI/AAAAAAAAAl8/nxZ5vYsElQgPhCTiv92a90q9kxcvPV7gACLcB/s1600/1.gif\" />"
   ]
  },
  {
   "cell_type": "markdown",
   "metadata": {},
   "source": [
    "<h2>Concat a Append</h2>\n",
    "\n",
    "<p>V Pandase je možné spájať dátové sety (dateframy) viacerými spôsobmi. "
   ]
  },
  {
   "cell_type": "code",
   "execution_count": null,
   "metadata": {},
   "outputs": [],
   "source": []
  },
  {
   "cell_type": "code",
   "execution_count": null,
   "metadata": {},
   "outputs": [],
   "source": []
  },
  {
   "cell_type": "code",
   "execution_count": null,
   "metadata": {},
   "outputs": [],
   "source": []
  },
  {
   "cell_type": "markdown",
   "metadata": {},
   "source": [
    "<h3>Na čo si dať pozor?</h3>\n",
    "\n",
    "<p>Pri spájaní dátových setov cez pd.concat sa vytvoria duplicitné indexy, ako vidíme aj v našom príklade. Pre každý dátový set, ktorý sme spájali sa začalo indexovať opäť cez nulu, preto finálny index netvorí číslo 728703 ale číslo menšie. Preto je potrebné pri spájaní dát nastaviť <b>index</b>.</p>"
   ]
  },
  {
   "cell_type": "code",
   "execution_count": null,
   "metadata": {},
   "outputs": [],
   "source": []
  },
  {
   "cell_type": "code",
   "execution_count": null,
   "metadata": {},
   "outputs": [],
   "source": []
  },
  {
   "cell_type": "code",
   "execution_count": null,
   "metadata": {},
   "outputs": [],
   "source": []
  },
  {
   "cell_type": "markdown",
   "metadata": {},
   "source": [
    "<h2>Základný pohľad na dáta</h2>"
   ]
  },
  {
   "cell_type": "markdown",
   "metadata": {},
   "source": [
    "<h2>Úlohy</h2>\n",
    "\n",
    "<ol>\n",
    "    <li>Vypíšte si základne informácie o dátovom sete providerDf, cez .info()</li>\n",
    "</ol>"
   ]
  },
  {
   "cell_type": "code",
   "execution_count": null,
   "metadata": {},
   "outputs": [],
   "source": []
  },
  {
   "cell_type": "markdown",
   "metadata": {},
   "source": [
    "Z vyššie vypísaných informácií vidíme hneď dva hlavné problémy\n",
    "<ul>\n",
    "    <li>stĺpec mapped_status obsahuje nulové/prázdne hodnoty. Musíme ako analytici zistiť, či je to zámerom alebo\n",
    "        treba s tým nejako pracovať a vysporiadať sa.</li>\n",
    "    <li>stĺpec date má dátový typ object, čo je textová hodnota, namiesto dátumu.</li>\n",
    "</ul>"
   ]
  },
  {
   "cell_type": "markdown",
   "metadata": {},
   "source": [
    "<h2>Práca s chýbajúcimi dátami</h2>\n",
    "\n",
    "<p>V praxi sa pomerne často stretávame s tým, že nám v dátovom sete chýbajú určité hodnoty, s ktorými buď potrebujeme pracovať, alebo nepotrebujeme, no mali by sme s chýbajúcimi hodnotami počítať už od začiatku a vedieť, že o dané hodnoty, budú výsledky pri interpretácii dát skreslené. <br /><br />\n",
    "V Pandase, ale aj obecne v dátovej analýze je možné sa vysporiadať rôznymi spôsobmi s chýbajúcimi dátami:\n",
    "    <ul>\n",
    "        <li>Nahradiť ich za iné defaultné hodnoty</li>\n",
    "        <li>Odstrániť všetky riadky s chýbajúcimi dátami z dátového setu</li>\n",
    "        <li>Vyčleniť ich ako prázdne dáta a vykresliť samostatne alebo v rámci daného grafu</li>\n",
    "    </ul>\n",
    "</p>"
   ]
  },
  {
   "cell_type": "markdown",
   "metadata": {},
   "source": [
    "Pandas pracuje s <code>NULL</code> hodnotami dvoma spôsobmi\n",
    "    <ul>\n",
    "        <li>ako <code>NaN</code> hodnota - je vyplenená defaultne Pandasom a znamená \"chýbajúca hodnota\". Je reprezentovaná ako float číslo (desatiné číslo) na pozadí pri práci s dátami.</li>\n",
    "        <li>ako Python <code>None</code> objekt - vychádza defaultne s Pythonu. Je reprezentovaný ako NoneType a nie je možné v Pandase nad ním vykonávať mnoho operácií, ktoré sú defaultne dostupné nad NaN hodnotou, preto je menej odporúčaním prístupom pri práci s prázdnymi hodnotami. </li>\n",
    "    </ul>\n",
    "    \n",
    "    \n",
    "</p>"
   ]
  },
  {
   "cell_type": "markdown",
   "metadata": {},
   "source": [
    "<h2>Operácie s chýbajúci hodnotami v Pandase</h2>\n",
    "\n",
    "<p>Môžeme vykonávať nasledujúce operácie (volať Pandas funkcie)</p>\n",
    "\n",
    "<ul>\n",
    "    <li><code>isnull()</code> - vráti dáta, kde sú chýbajúce hodnoty</li>\n",
    "    <li><code>notnull()</code> - opak isnull(), vráti dáta, kde hodnoty nechýbajú</li>\n",
    "    <li><code>dropna()</code> - vraca dátový set očistený od chýbajúcich dát</li>\n",
    "    <li><code>dropna(axis=1)</code> - odstráni všetky stĺpce, ktoré obsahujú chýbajúce dáta</li>\n",
    "    <li><code>fillna(x)</code> - nahradí všetky chýbajúce dáta a hodnoty , hodnotou x</li>\n",
    "</ul>"
   ]
  },
  {
   "cell_type": "code",
   "execution_count": null,
   "metadata": {},
   "outputs": [],
   "source": []
  },
  {
   "cell_type": "markdown",
   "metadata": {},
   "source": [
    "<h2>Úlohy</h2>\n",
    "\n",
    "<ol>\n",
    "    <li>Vypíšte z dátového setu providerDf informácie o prázdnych hodnotách pomocou <code>.notnull()</code></li>\n",
    "</ol>"
   ]
  },
  {
   "cell_type": "code",
   "execution_count": null,
   "metadata": {},
   "outputs": [],
   "source": []
  },
  {
   "cell_type": "code",
   "execution_count": null,
   "metadata": {},
   "outputs": [],
   "source": []
  },
  {
   "cell_type": "markdown",
   "metadata": {},
   "source": [
    "<h2>Vyplnenie prázdnych hodnôt</h2>"
   ]
  },
  {
   "cell_type": "code",
   "execution_count": null,
   "metadata": {},
   "outputs": [],
   "source": []
  },
  {
   "cell_type": "code",
   "execution_count": null,
   "metadata": {},
   "outputs": [],
   "source": []
  },
  {
   "cell_type": "markdown",
   "metadata": {},
   "source": [
    "<h2>Úlohy</h2>\n",
    "\n",
    "<ol>\n",
    "    <li>Vypíšte si z dátového setu providerDf počet riadkov a stĺpcov cez <code>.shape</code>, ale iba pre hodnoty, ktoré majú v stĺpci mapped_status <code>Nezadane</code></li>\n",
    "</ol>"
   ]
  },
  {
   "cell_type": "code",
   "execution_count": null,
   "metadata": {},
   "outputs": [],
   "source": []
  },
  {
   "cell_type": "markdown",
   "metadata": {},
   "source": [
    "<h2>Mazanie prázdnych hodnôt</h2>"
   ]
  },
  {
   "cell_type": "code",
   "execution_count": null,
   "metadata": {},
   "outputs": [],
   "source": []
  },
  {
   "cell_type": "code",
   "execution_count": null,
   "metadata": {},
   "outputs": [],
   "source": []
  },
  {
   "cell_type": "code",
   "execution_count": null,
   "metadata": {},
   "outputs": [],
   "source": []
  },
  {
   "cell_type": "markdown",
   "metadata": {},
   "source": [
    "<h2>Úprava dátumu</h2>"
   ]
  },
  {
   "cell_type": "code",
   "execution_count": null,
   "metadata": {},
   "outputs": [],
   "source": []
  },
  {
   "cell_type": "code",
   "execution_count": null,
   "metadata": {},
   "outputs": [],
   "source": []
  },
  {
   "cell_type": "markdown",
   "metadata": {},
   "source": [
    "<h2>Triedenie/Zoraďovanie dát</h2>\n",
    "\n",
    "<p>Na zoraďovanie dát je možné využiť pandas funkciu <code>sort_values()</code></p>"
   ]
  },
  {
   "cell_type": "code",
   "execution_count": null,
   "metadata": {},
   "outputs": [],
   "source": []
  },
  {
   "cell_type": "code",
   "execution_count": null,
   "metadata": {},
   "outputs": [],
   "source": []
  },
  {
   "cell_type": "code",
   "execution_count": null,
   "metadata": {},
   "outputs": [],
   "source": []
  },
  {
   "cell_type": "markdown",
   "metadata": {},
   "source": [
    "<h2>Úlohy</h2>\n",
    "\n",
    "<ul>\n",
    "    <li>Zotriedte dáta v dátovom sete providerDf podľa dátumu od najnizšieho, podľa providera podľa abecedy a hodnoty uložte do nového dátového setu s názvom <code>dateProviderDf</code>.</li>\n",
    "    <li>Následne si vypíšte prvých 5 riadkov a iba stĺpce date a provider.</li>\n",
    "</ul>"
   ]
  },
  {
   "cell_type": "code",
   "execution_count": null,
   "metadata": {},
   "outputs": [],
   "source": []
  },
  {
   "cell_type": "markdown",
   "metadata": {},
   "source": [
    "<h2>Úprava názvu statusov</h2>\n",
    "\n",
    "<p>Keď sa pozrieme na dáta v stĺpci status, vidíme, že niektoré začínajú malými písmenami, iné veľkými. Toto správanie, by sme chceli zjednotiť, aby to nevyzeralo v prehľadoch škaredo.</p>"
   ]
  },
  {
   "cell_type": "code",
   "execution_count": null,
   "metadata": {},
   "outputs": [],
   "source": []
  },
  {
   "cell_type": "code",
   "execution_count": null,
   "metadata": {},
   "outputs": [],
   "source": []
  },
  {
   "cell_type": "markdown",
   "metadata": {},
   "source": [
    "Ekvivalentom k tomuto v Pythone by bolo niečo podobné na štýl\n",
    "<br />\n",
    "\n",
    "status = dupDf[\"status\"]<br />\n",
    "for i in status:<br />\n",
    "    dupDf[i][\"status\"] = status.capitalize() <br />\n"
   ]
  },
  {
   "cell_type": "markdown",
   "metadata": {},
   "source": [
    "<h2>Úlohy</h2>\n",
    "\n",
    "<ul>\n",
    "    <li>Na podobnom princípe, upravte stĺpec <code>provider</code> v dátovom sete <code>dupDf</code>, pričom zmente všetky písmena providera na veľké a vypíšte si prvých 5 riadkov data setu.</li>\n",
    "</ul>"
   ]
  },
  {
   "cell_type": "code",
   "execution_count": null,
   "metadata": {},
   "outputs": [],
   "source": []
  },
  {
   "cell_type": "markdown",
   "metadata": {},
   "source": [
    "<h2>Pridanie dátumových stĺpcov</h2>"
   ]
  },
  {
   "cell_type": "code",
   "execution_count": 4,
   "metadata": {},
   "outputs": [],
   "source": [
    "#Stlpce\n"
   ]
  },
  {
   "cell_type": "code",
   "execution_count": 5,
   "metadata": {},
   "outputs": [],
   "source": [
    "#Pridame si nove stplce do datasetu\n"
   ]
  },
  {
   "cell_type": "code",
   "execution_count": null,
   "metadata": {},
   "outputs": [],
   "source": []
  },
  {
   "cell_type": "code",
   "execution_count": null,
   "metadata": {},
   "outputs": [],
   "source": []
  },
  {
   "cell_type": "code",
   "execution_count": null,
   "metadata": {},
   "outputs": [],
   "source": []
  },
  {
   "cell_type": "markdown",
   "metadata": {},
   "source": [
    "<h2>Úlohy</h2>\n",
    "\n",
    "<ul>\n",
    "    <li>Na rovnakom princípe, ako sme upravovali dátum, upravte hodnoty v stĺpci <code>month</code> pomocou <code>.month</code> metódy.</li>\n",
    "</ul>"
   ]
  },
  {
   "cell_type": "code",
   "execution_count": null,
   "metadata": {},
   "outputs": [],
   "source": []
  },
  {
   "cell_type": "markdown",
   "metadata": {},
   "source": [
    "<h2>Opakovanie Pythonu</h2>"
   ]
  },
  {
   "cell_type": "code",
   "execution_count": null,
   "metadata": {},
   "outputs": [],
   "source": []
  },
  {
   "cell_type": "code",
   "execution_count": 6,
   "metadata": {},
   "outputs": [],
   "source": [
    "#Dlzka/Pocet znakov\n"
   ]
  },
  {
   "cell_type": "code",
   "execution_count": 7,
   "metadata": {},
   "outputs": [],
   "source": [
    "#Najdi specificky znak, v nasom pripade najdi t\n"
   ]
  },
  {
   "cell_type": "code",
   "execution_count": null,
   "metadata": {},
   "outputs": [],
   "source": []
  },
  {
   "cell_type": "code",
   "execution_count": null,
   "metadata": {},
   "outputs": [],
   "source": []
  },
  {
   "cell_type": "code",
   "execution_count": 8,
   "metadata": {},
   "outputs": [],
   "source": [
    "#Replace znaku/vyrazu za iny znak\n"
   ]
  },
  {
   "cell_type": "markdown",
   "metadata": {},
   "source": [
    "<h2>Úloha</h2>\n",
    "\n",
    "<ul>\n",
    "    <li>Pomocou <code>.replace()</code> upravte názov providera CESKAPOSTA na ČESKÁ POŠTA</li>\n",
    "</ul>"
   ]
  },
  {
   "cell_type": "code",
   "execution_count": null,
   "metadata": {},
   "outputs": [],
   "source": []
  },
  {
   "cell_type": "markdown",
   "metadata": {},
   "source": [
    "<h2>Agregácie dát v Pandase</h2>\n",
    "\n",
    "<p>Agregačné funkcie, aké poznáme v Pythone sú v Pandase reprezentované nasledovnými hotovými funkciami. <br /><br />\n",
    "    \n",
    "<ul>\n",
    "    <li><code>count()</code> - celkový počet položiek</li>\n",
    "    <li><code>first(), last()</code>\t- prvá alebo posledná položka</li>\n",
    "    <li><code>mean(), median()</code>\t- priemer, medián</li>\n",
    "    <li><code>min(), max()</code>\t- minimálna, maximálna hodnota</li>\n",
    "    <li><code>sum()</code>\t- suma všetkých položiek</li>\n",
    "</ul>"
   ]
  },
  {
   "cell_type": "code",
   "execution_count": 9,
   "metadata": {},
   "outputs": [],
   "source": [
    "#Vypis poctu vsetkých hodnôt vo všetkých stĺpcoch\n"
   ]
  },
  {
   "cell_type": "code",
   "execution_count": 10,
   "metadata": {},
   "outputs": [],
   "source": [
    "#Vypis poctu hodnôt zo stĺpca tracking_id\n"
   ]
  },
  {
   "cell_type": "code",
   "execution_count": 11,
   "metadata": {},
   "outputs": [],
   "source": [
    "#Vypis minimálnej hodnoty, čiže prvého dátumu zo stĺpca date\n"
   ]
  },
  {
   "cell_type": "markdown",
   "metadata": {},
   "source": [
    "<h2>Úlohy</h2>\n",
    "<ul>\n",
    "    <li>Vypíšte z dátového setu dupDf maximálnu hodnotu, čiže posledný dátum zo stĺpca date</li>\n",
    "        <li>Vypíšte z dátového setu dupDf počet tracking_id, kde providerom je iba provider GEIS</li>\n",
    "   </ul>"
   ]
  },
  {
   "cell_type": "code",
   "execution_count": 12,
   "metadata": {},
   "outputs": [],
   "source": [
    "#1\n"
   ]
  },
  {
   "cell_type": "code",
   "execution_count": 13,
   "metadata": {},
   "outputs": [],
   "source": [
    "#2\n"
   ]
  },
  {
   "cell_type": "markdown",
   "metadata": {},
   "source": [
    "<h2>Logické podmienky</h2>"
   ]
  },
  {
   "cell_type": "code",
   "execution_count": null,
   "metadata": {},
   "outputs": [],
   "source": []
  },
  {
   "cell_type": "code",
   "execution_count": null,
   "metadata": {},
   "outputs": [],
   "source": []
  },
  {
   "cell_type": "code",
   "execution_count": null,
   "metadata": {},
   "outputs": [],
   "source": []
  },
  {
   "cell_type": "markdown",
   "metadata": {},
   "source": [
    "<h2>Práca so zgrupovaním</h2>"
   ]
  },
  {
   "cell_type": "code",
   "execution_count": null,
   "metadata": {},
   "outputs": [],
   "source": []
  },
  {
   "cell_type": "markdown",
   "metadata": {},
   "source": [
    "<h2>Úlohy</h2>\n",
    "<ul>\n",
    "    <li>Vypíšte z dátového setu dupDf cez .value_counts() pre providera PPL TOP 3 dni v mesiaci apríl, kedy dorucil najviac zásielok. Informácie o doručení sú v stĺpci mapped_status pod hodnotou Doručeno.</li>\n",
    "   </ul>"
   ]
  },
  {
   "cell_type": "code",
   "execution_count": null,
   "metadata": {},
   "outputs": [],
   "source": []
  },
  {
   "cell_type": "markdown",
   "metadata": {},
   "source": [
    "<h2>Úlohy z SQL do Pandasu</h2>\n",
    "\n",
    "<ul>\n",
    "        <li>Vypíš z datasetu <code>dupDf</code> všetky mapped_status, providera a tracking_id, kde stavy doručenia sú buď <code>Doručeno</code> alebo <code>Stornováno</code>. Alebo sa značí pomocou <code>|</code></li>\n",
    "    <li>Vypíš prvých 10 najmenších dátumov z mesiaca marec cez <code>sort_values</code></li>\n",
    "    <li>Vypíš všetkých providerov a date, kde medzi dnami 23 a 30 , sú zásielky v stave Převzato dopravcem. Pomôcka: ekvivalentom k BETWEEN je .between(prva hodnota, druha hodnota)</li>\n",
    "    <li>Vypíš všetkých providerov a mapped_status, ktoré sú v stavoch Převzato dopravcem, Na cestě k příjemci, Stornováno. Pomôcka: Ekvivalentom k IN je v pandase <code>df.isin()</code></li>\n",
    "    <li>Vypíš všetky statusy zo stlpca status, kde sú dlhšie ako 30 znakov. Tak isto ako pri práci s listami pomocou metódy len(), len treba pristupovať cez str.len(), lebo pracujeme v Pandase.</li>\n",
    "    <li>Vypíš všetky status zo stĺpca status, kde názov obsahuje znak -. Tak isto ako v Pythone, môžeme využiť contains().</li>\n",
    "    <li>Nahraď iba vo výpise všetky znaky - zo stĺpca status, znakom *. Tak isto ako v Pythone je možné využiť replace().</li> \n",
    "</ul>"
   ]
  },
  {
   "cell_type": "code",
   "execution_count": 14,
   "metadata": {},
   "outputs": [],
   "source": [
    "#1"
   ]
  },
  {
   "cell_type": "code",
   "execution_count": 15,
   "metadata": {},
   "outputs": [],
   "source": [
    "#2"
   ]
  },
  {
   "cell_type": "code",
   "execution_count": 16,
   "metadata": {},
   "outputs": [],
   "source": [
    "#3"
   ]
  },
  {
   "cell_type": "code",
   "execution_count": 17,
   "metadata": {},
   "outputs": [],
   "source": [
    "#4"
   ]
  },
  {
   "cell_type": "code",
   "execution_count": 18,
   "metadata": {},
   "outputs": [],
   "source": [
    "#5"
   ]
  },
  {
   "cell_type": "code",
   "execution_count": null,
   "metadata": {},
   "outputs": [],
   "source": []
  },
  {
   "cell_type": "code",
   "execution_count": null,
   "metadata": {},
   "outputs": [],
   "source": []
  },
  {
   "cell_type": "code",
   "execution_count": null,
   "metadata": {},
   "outputs": [],
   "source": []
  },
  {
   "cell_type": "code",
   "execution_count": null,
   "metadata": {},
   "outputs": [],
   "source": []
  },
  {
   "cell_type": "markdown",
   "metadata": {},
   "source": [
    "<h2>Pivotné tabuľky</h2>"
   ]
  },
  {
   "cell_type": "code",
   "execution_count": null,
   "metadata": {},
   "outputs": [],
   "source": []
  },
  {
   "cell_type": "code",
   "execution_count": null,
   "metadata": {},
   "outputs": [],
   "source": []
  },
  {
   "cell_type": "code",
   "execution_count": 19,
   "metadata": {},
   "outputs": [],
   "source": [
    "def highlight_max(s):\n",
    "    is_max = s >= 50000\n",
    "    return ['background-color: #8dc832' if v else '' for v in is_max]"
   ]
  },
  {
   "cell_type": "code",
   "execution_count": null,
   "metadata": {},
   "outputs": [],
   "source": []
  },
  {
   "cell_type": "code",
   "execution_count": null,
   "metadata": {},
   "outputs": [],
   "source": []
  }
 ],
 "metadata": {
  "kernelspec": {
   "display_name": "Python 3",
   "language": "python",
   "name": "python3"
  },
  "language_info": {
   "codemirror_mode": {
    "name": "ipython",
    "version": 3
   },
   "file_extension": ".py",
   "mimetype": "text/x-python",
   "name": "python",
   "nbconvert_exporter": "python",
   "pygments_lexer": "ipython3",
   "version": "3.6.0"
  }
 },
 "nbformat": 4,
 "nbformat_minor": 2
}
